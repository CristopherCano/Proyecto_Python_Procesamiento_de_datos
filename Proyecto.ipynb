{
  "nbformat": 4,
  "nbformat_minor": 0,
  "metadata": {
    "colab": {
      "name": "Untitled2.ipynb",
      "provenance": [],
      "authorship_tag": "ABX9TyOt6wA4RxOHtoFiRMDIHyH5",
      "include_colab_link": true
    },
    "kernelspec": {
      "name": "python3",
      "display_name": "Python 3",
      "language": "python"
    }
  },
  "cells": [
    {
      "cell_type": "markdown",
      "metadata": {
        "id": "view-in-github",
        "colab_type": "text"
      },
      "source": [
        "<a href=\"https://colab.research.google.com/github/CristopherCano/Proyecto_Python_Procesamiento_de_datos/blob/main/Proyecto.ipynb\" target=\"_parent\"><img src=\"https://colab.research.google.com/assets/colab-badge.svg\" alt=\"Open In Colab\"/></a>"
      ]
    },
    {
      "source": [
        "# Proyecto de Procesamiento de Datos con Python - BEDU - Módulo 3\n",
        "## Viajes en Taxis y Ubers en la Zona Metropolitana del Valle de México 2016 - 2017\n",
        "* Eduardo Alán Hernández Villasana\n",
        "* Cristopher Arvizu Cano\n",
        "* David Gil Peralta\n",
        "* José Antonio Aguilar Téllez"
      ],
      "cell_type": "markdown",
      "metadata": {}
    },
    {
      "source": [
        "## Planteamiento del Problema\n",
        "En los últimos años, desde la llegada de aplicaciones para el transporte privado como Uber o Didi, los gremios taxistas de la Zona Metropolitana del Valle de México han protestado en contra de estas aplicaciones, ellos argumentan una competencia desleal y exigen regulaciones hacia estos transportes. Esto no es de extrañarse ya que, con el aumento de la popularidad de estas aplicaciones de transporte, los taxistas están perdiendo clientes y no pueden o quieren modernizarse para poder competir con los automóviles de Uber o Didi que son más modernos. \n",
        "\n",
        "A raíz de este enfrentamiento, han surgido noticias comparando estos dos modelos de transporte privado, sin embargo, muchas de estas noticias están sesgadas por intereses políticos y económicos. Es por esta razón que decidimos analizar datos recopilados tanto en Taxis y Ubers para hacer una comparación entre los dos modelos y aportar nuestros hallazgos estadísticos a la discusión de este problema."
      ],
      "cell_type": "markdown",
      "metadata": {}
    },
    {
      "source": [
        "## Preguntas Clave\n",
        "Durante el desarrollo de este proyecto, se espera responder las siguientes preguntas.\n",
        "\n",
        "* ¿Qué tipo de transporte pasa menos tiempo en el tráfico?\n",
        "* ¿Cuál es la velocidad promedio de cada tipo de transporte?\n",
        "* ¿Qué día de la semana hay mas demanda para cada tipo de transporte?\n",
        "* ¿En qué tipo de transporte recibe más dinero en promedio por viaje?\n",
        "* ¿Desde qué demsarcación territorial o municipio cada tipo de transporte tiene mayor demanda?\n",
        "* ¿Cuál es el destino mas solicitado para cada tipo de transporte?"
      ],
      "cell_type": "markdown",
      "metadata": {}
    },
    {
      "cell_type": "code",
      "metadata": {
        "id": "PevJNVj4PZTZ"
      },
      "source": [
        "# Librerías a usar\n",
        "import pandas as pd\n",
        "import numpy as np"
      ],
      "execution_count": 46,
      "outputs": []
    },
    {
      "source": [
        "## Extracción de datos\n",
        "Se descargará la base de datos desde GitHub."
      ],
      "cell_type": "markdown",
      "metadata": {}
    },
    {
      "cell_type": "code",
      "metadata": {
        "id": "5G4iMYv7Pgue"
      },
      "source": [
        "url = \"https://raw.githubusercontent.com/CristopherCano/Proyecto_Python_Procesamiento_de_datos/main/Data/cdmx_transporte_raw.csv\""
      ],
      "execution_count": 47,
      "outputs": []
    },
    {
      "cell_type": "code",
      "execution_count": 48,
      "metadata": {},
      "outputs": [
        {
          "output_type": "execute_result",
          "data": {
            "text/plain": [
              "                  vendor_id      pickup_datetime     dropoff_datetime  \\\n",
              "id                                                                      \n",
              "1   México DF Taxi de Sitio  2016-09-16 07:14:12  2016-09-18 04:41:40   \n",
              "2      México DF Taxi Libre  2016-09-18 06:16:33  2016-09-18 10:11:43   \n",
              "\n",
              "    pickup_longitude  pickup_latitude  dropoff_longitude  dropoff_latitude  \\\n",
              "id                                                                           \n",
              "1         -99.097369        19.416874         -99.202729         19.430353   \n",
              "2         -99.297148        19.322128         -99.289949         19.326538   \n",
              "\n",
              "   store_and_fwd_flag  trip_duration  dist_meters  wait_sec  \n",
              "id                                                           \n",
              "1                   N         120449        12373       242  \n",
              "2                   N          14110         1700       461  "
            ],
            "text/html": "<div>\n<style scoped>\n    .dataframe tbody tr th:only-of-type {\n        vertical-align: middle;\n    }\n\n    .dataframe tbody tr th {\n        vertical-align: top;\n    }\n\n    .dataframe thead th {\n        text-align: right;\n    }\n</style>\n<table border=\"1\" class=\"dataframe\">\n  <thead>\n    <tr style=\"text-align: right;\">\n      <th></th>\n      <th>vendor_id</th>\n      <th>pickup_datetime</th>\n      <th>dropoff_datetime</th>\n      <th>pickup_longitude</th>\n      <th>pickup_latitude</th>\n      <th>dropoff_longitude</th>\n      <th>dropoff_latitude</th>\n      <th>store_and_fwd_flag</th>\n      <th>trip_duration</th>\n      <th>dist_meters</th>\n      <th>wait_sec</th>\n    </tr>\n    <tr>\n      <th>id</th>\n      <th></th>\n      <th></th>\n      <th></th>\n      <th></th>\n      <th></th>\n      <th></th>\n      <th></th>\n      <th></th>\n      <th></th>\n      <th></th>\n      <th></th>\n    </tr>\n  </thead>\n  <tbody>\n    <tr>\n      <th>1</th>\n      <td>México DF Taxi de Sitio</td>\n      <td>2016-09-16 07:14:12</td>\n      <td>2016-09-18 04:41:40</td>\n      <td>-99.097369</td>\n      <td>19.416874</td>\n      <td>-99.202729</td>\n      <td>19.430353</td>\n      <td>N</td>\n      <td>120449</td>\n      <td>12373</td>\n      <td>242</td>\n    </tr>\n    <tr>\n      <th>2</th>\n      <td>México DF Taxi Libre</td>\n      <td>2016-09-18 06:16:33</td>\n      <td>2016-09-18 10:11:43</td>\n      <td>-99.297148</td>\n      <td>19.322128</td>\n      <td>-99.289949</td>\n      <td>19.326538</td>\n      <td>N</td>\n      <td>14110</td>\n      <td>1700</td>\n      <td>461</td>\n    </tr>\n  </tbody>\n</table>\n</div>"
          },
          "metadata": {},
          "execution_count": 48
        }
      ],
      "source": [
        "data_raw = pd.read_csv(url, index_col=0)\n",
        "data_raw.head(2)"
      ]
    },
    {
      "source": [
        "### Descripción de las Columnas\n",
        "* **id**: Un identificador único para cada viaje.\n",
        "* **vendor_id**: El tipo de transporte en que se realizó el viaje.\n",
        "* **pickup_datetime**: Fecha y Hora en que el viaje inició.\n",
        "* **dropoff_datetime**: Fecha y Hora en que el viaje finalizó.\n",
        "* **pickup_longitude**: Longitud en la que el viaje inició.\n",
        "* **pickup_latitude**: Latitud en la que el viaje inició.\n",
        "* **dropoff_longitude**: Longitud en la que el viaje finalizó.\n",
        "* **dropoff_latitude**: Latitud en la que el viaje finalizó.\n",
        "* **store_and_fwd_flag**: Indica si la información del viaje se almacenó en una memoria y después se envio al servidor por que no tenía conexión a internet o no. Todas las entradas de datos estan en 'N'.\n",
        "* **trip_duration**: Duración del viaje en segundos.\n",
        "* **dist_meters**: Distancia recorrida en el viaje en metros.\n",
        "* **wait_sec**: Tiempo en segundos en el que el automovil estuvo completamente detenido durante el viaje. (Se usará como medición del tráfico.)"
      ],
      "cell_type": "markdown",
      "metadata": {}
    },
    {
      "source": [
        "## Exploración básica de datos\n",
        "### Hallazgos preliminares encontraros "
      ],
      "cell_type": "markdown",
      "metadata": {}
    },
    {
      "source": [
        "1. ¿El conjunto de datos que tengo realmente me sirve para responder algunas de las preguntas que me planteé?"
      ],
      "cell_type": "markdown",
      "metadata": {}
    },
    {
      "cell_type": "code",
      "execution_count": 49,
      "metadata": {},
      "outputs": [
        {
          "output_type": "stream",
          "name": "stdout",
          "text": [
            "2. ¿Qué tamaño tiene mi conjunto de datos? \n número de filas: 12694 \n número de columnas: 11\n"
          ]
        }
      ],
      "source": [
        "tamaño = data_raw.shape\n",
        "print(f'2. ¿Qué tamaño tiene mi conjunto de datos? \\n número de filas: {tamaño[0]} \\n número de columnas: {tamaño[1]}')"
      ]
    },
    {
      "cell_type": "code",
      "execution_count": 50,
      "metadata": {},
      "outputs": [
        {
          "output_type": "stream",
          "name": "stdout",
          "text": [
            "3. ¿Qué columnas tengo y qué información tengo en cada una de esas columnas? \n \n En total tenemos11 columnas \n \n Index(['vendor_id', 'pickup_datetime', 'dropoff_datetime', 'pickup_longitude',\n       'pickup_latitude', 'dropoff_longitude', 'dropoff_latitude',\n       'store_and_fwd_flag', 'trip_duration', 'dist_meters', 'wait_sec'],\n      dtype='object')\n"
          ]
        }
      ],
      "source": [
        "print(f'3. ¿Qué columnas tengo y qué información tengo en cada una de esas columnas? \\n \\n En total tenemos{tamaño[1]} columnas \\n \\n {data_raw.columns}')"
      ]
    },
    {
      "source": [
        "4. Los nombres que tienen mis columnas, ¿son el nombre más apropiado?\n",
        "\n",
        "Podemos observar que algunos nombres como vendor_id o dist_meters no son los más adecuados por lo que tendremos que usar la conveción apropiada que es snake-case y ajustar sus nombres"
      ],
      "cell_type": "markdown",
      "metadata": {}
    },
    {
      "source": [
        "5. ¿Qué tipos de datos tengo en cada columna? ¿Parecen ser el tipo correcto de datos? ¿O es un tipo de datos \"incorrecto\"?\n",
        "\n"
      ],
      "cell_type": "markdown",
      "metadata": {}
    },
    {
      "cell_type": "code",
      "execution_count": 51,
      "metadata": {},
      "outputs": [
        {
          "output_type": "execute_result",
          "data": {
            "text/plain": [
              "vendor_id              object\n",
              "pickup_datetime        object\n",
              "dropoff_datetime       object\n",
              "pickup_longitude      float64\n",
              "pickup_latitude       float64\n",
              "dropoff_longitude     float64\n",
              "dropoff_latitude      float64\n",
              "store_and_fwd_flag     object\n",
              "trip_duration           int64\n",
              "dist_meters             int64\n",
              "wait_sec                int64\n",
              "dtype: object"
            ]
          },
          "metadata": {},
          "execution_count": 51
        }
      ],
      "source": [
        "data_raw.dtypes"
      ]
    },
    {
      "source": [
        "Las fechas aparecen como object por lo que sera necesario transformar esta variable a un formato de fecha mediante padas"
      ],
      "cell_type": "markdown",
      "metadata": {}
    },
    {
      "source": [
        "6. Si selecciono algunas filas al azar y las observo, ¿estoy obteniendo los datos que debería? ¿O hay datos que parecen estar \"sucios\" o \"incorrectos\"?\n"
      ],
      "cell_type": "markdown",
      "metadata": {}
    },
    {
      "cell_type": "code",
      "execution_count": 52,
      "metadata": {},
      "outputs": [
        {
          "output_type": "execute_result",
          "data": {
            "text/plain": [
              "                     vendor_id      pickup_datetime     dropoff_datetime  \\\n",
              "id                                                                         \n",
              "11792     México DF Taxi Libre  2017-07-10 09:34:39  2017-07-10 09:39:21   \n",
              "3739      México DF Taxi Libre  2017-05-08 07:43:06  2017-05-08 07:57:37   \n",
              "2234   México DF Taxi de Sitio  2017-04-14 01:59:51  2017-04-14 02:30:50   \n",
              "2605      México DF Radio Taxi  2016-10-30 10:41:49  2016-10-31 02:09:06   \n",
              "741       México DF Taxi Libre  2016-07-07 06:28:19  2016-07-07 06:35:36   \n",
              "\n",
              "       pickup_longitude  pickup_latitude  dropoff_longitude  dropoff_latitude  \\\n",
              "id                                                                              \n",
              "11792        -99.196463        19.461485         -99.186452         19.457158   \n",
              "3739         -99.213136        19.482802         -99.193726         19.463996   \n",
              "2234         -99.264151        19.330830         -99.232517         19.366740   \n",
              "2605         -99.182057        19.368907         -99.170277         19.399965   \n",
              "741          -99.205022        19.366841         -99.214870         19.354766   \n",
              "\n",
              "      store_and_fwd_flag  trip_duration  dist_meters  wait_sec  \n",
              "id                                                              \n",
              "11792                  N            283         1935        63  \n",
              "3739                   N            871         5665       159  \n",
              "2234                   N           1859        13113        54  \n",
              "2605                   N          55637        11195       979  \n",
              "741                    N            438         2580       110  "
            ],
            "text/html": "<div>\n<style scoped>\n    .dataframe tbody tr th:only-of-type {\n        vertical-align: middle;\n    }\n\n    .dataframe tbody tr th {\n        vertical-align: top;\n    }\n\n    .dataframe thead th {\n        text-align: right;\n    }\n</style>\n<table border=\"1\" class=\"dataframe\">\n  <thead>\n    <tr style=\"text-align: right;\">\n      <th></th>\n      <th>vendor_id</th>\n      <th>pickup_datetime</th>\n      <th>dropoff_datetime</th>\n      <th>pickup_longitude</th>\n      <th>pickup_latitude</th>\n      <th>dropoff_longitude</th>\n      <th>dropoff_latitude</th>\n      <th>store_and_fwd_flag</th>\n      <th>trip_duration</th>\n      <th>dist_meters</th>\n      <th>wait_sec</th>\n    </tr>\n    <tr>\n      <th>id</th>\n      <th></th>\n      <th></th>\n      <th></th>\n      <th></th>\n      <th></th>\n      <th></th>\n      <th></th>\n      <th></th>\n      <th></th>\n      <th></th>\n      <th></th>\n    </tr>\n  </thead>\n  <tbody>\n    <tr>\n      <th>11792</th>\n      <td>México DF Taxi Libre</td>\n      <td>2017-07-10 09:34:39</td>\n      <td>2017-07-10 09:39:21</td>\n      <td>-99.196463</td>\n      <td>19.461485</td>\n      <td>-99.186452</td>\n      <td>19.457158</td>\n      <td>N</td>\n      <td>283</td>\n      <td>1935</td>\n      <td>63</td>\n    </tr>\n    <tr>\n      <th>3739</th>\n      <td>México DF Taxi Libre</td>\n      <td>2017-05-08 07:43:06</td>\n      <td>2017-05-08 07:57:37</td>\n      <td>-99.213136</td>\n      <td>19.482802</td>\n      <td>-99.193726</td>\n      <td>19.463996</td>\n      <td>N</td>\n      <td>871</td>\n      <td>5665</td>\n      <td>159</td>\n    </tr>\n    <tr>\n      <th>2234</th>\n      <td>México DF Taxi de Sitio</td>\n      <td>2017-04-14 01:59:51</td>\n      <td>2017-04-14 02:30:50</td>\n      <td>-99.264151</td>\n      <td>19.330830</td>\n      <td>-99.232517</td>\n      <td>19.366740</td>\n      <td>N</td>\n      <td>1859</td>\n      <td>13113</td>\n      <td>54</td>\n    </tr>\n    <tr>\n      <th>2605</th>\n      <td>México DF Radio Taxi</td>\n      <td>2016-10-30 10:41:49</td>\n      <td>2016-10-31 02:09:06</td>\n      <td>-99.182057</td>\n      <td>19.368907</td>\n      <td>-99.170277</td>\n      <td>19.399965</td>\n      <td>N</td>\n      <td>55637</td>\n      <td>11195</td>\n      <td>979</td>\n    </tr>\n    <tr>\n      <th>741</th>\n      <td>México DF Taxi Libre</td>\n      <td>2016-07-07 06:28:19</td>\n      <td>2016-07-07 06:35:36</td>\n      <td>-99.205022</td>\n      <td>19.366841</td>\n      <td>-99.214870</td>\n      <td>19.354766</td>\n      <td>N</td>\n      <td>438</td>\n      <td>2580</td>\n      <td>110</td>\n    </tr>\n  </tbody>\n</table>\n</div>"
          },
          "metadata": {},
          "execution_count": 52
        }
      ],
      "source": [
        "data_raw.sample(5)"
      ]
    },
    {
      "source": [
        "A continuación observamos los siguiente problemas:\n",
        "* **vendor_id**: Se repite el patrón México DF\n",
        "* **store_and_fwd_flag**: No es significativa esta variable ya que siempre marca \"N\" en cada fila\n",
        "* **trip_duration**: Tenemos duraciones de viaje exageradamente grandes\n",
        "* **dist_meters**: Tenemos distacias de viaje exageradamente grandes\n",
        "* **wait_sec**: Tenemos tiempos de espera de viaje exageradamente grandes"
      ],
      "cell_type": "markdown",
      "metadata": {}
    },
    {
      "source": [
        "## Limpieza de datos y agregaciones"
      ],
      "cell_type": "markdown",
      "metadata": {}
    },
    {
      "cell_type": "code",
      "execution_count": 53,
      "metadata": {},
      "outputs": [],
      "source": [
        "# Aqui va la corrección de nombres de las columnas"
      ]
    },
    {
      "cell_type": "code",
      "execution_count": 54,
      "metadata": {},
      "outputs": [],
      "source": [
        "data_raw_dropped = data_raw.drop(['store_and_fwd_flag'], axis=1)"
      ]
    },
    {
      "cell_type": "code",
      "execution_count": 55,
      "metadata": {},
      "outputs": [],
      "source": [
        " data_raw_dropped['vendor_id'] = data_raw_dropped['vendor_id'].str.replace(\"México DF \",\"\")"
      ]
    },
    {
      "cell_type": "code",
      "execution_count": 56,
      "metadata": {},
      "outputs": [
        {
          "output_type": "execute_result",
          "data": {
            "text/plain": [
              "        vendor_id      pickup_datetime     dropoff_datetime  pickup_longitude  \\\n",
              "id                                                                              \n",
              "1   Taxi de Sitio  2016-09-16 07:14:12  2016-09-18 04:41:40        -99.097369   \n",
              "2      Taxi Libre  2016-09-18 06:16:33  2016-09-18 10:11:43        -99.297148   \n",
              "3      Taxi Libre  2016-09-18 10:11:50  2016-09-18 10:23:11        -99.289603   \n",
              "4      Taxi Libre  2016-09-18 10:23:38  2016-09-18 10:30:53        -99.271161   \n",
              "5      Taxi Libre  2016-09-18 10:44:18  2016-09-18 10:51:40        -99.282761   \n",
              "6      Taxi Libre  2016-09-18 10:58:07  2016-09-18 10:59:46        -99.289712   \n",
              "7      Taxi Libre  2016-09-18 11:00:00  2016-09-18 11:05:45        -99.285391   \n",
              "8      Taxi Libre  2016-09-18 11:08:03  2016-09-18 11:17:06        -99.285891   \n",
              "9      Radio Taxi  2016-09-18 01:06:08  2016-09-18 01:26:34        -99.182346   \n",
              "10  Taxi de Sitio  2016-09-18 03:42:18  2016-09-18 04:11:00        -99.074794   \n",
              "\n",
              "    pickup_latitude  dropoff_longitude  dropoff_latitude  trip_duration  \\\n",
              "id                                                                        \n",
              "1         19.416874         -99.202729         19.430353         120449   \n",
              "2         19.322128         -99.289949         19.326538          14110   \n",
              "3         19.326263         -99.271874         19.328530            681   \n",
              "4         19.328875         -99.279900         19.326256            436   \n",
              "5         19.326944         -99.291705         19.322754            442   \n",
              "6         19.322929         -99.289280         19.325978            100   \n",
              "7         19.326247         -99.282549         19.328117            345   \n",
              "8         19.330022         -99.289828         19.319170            544   \n",
              "9         19.370885         -99.176534         19.341410           1226   \n",
              "10        19.412589         -99.161239         19.381701           1723   \n",
              "\n",
              "    dist_meters  wait_sec  \n",
              "id                         \n",
              "1         12373       242  \n",
              "2          1700       461  \n",
              "3          2848       129  \n",
              "4          1409       106  \n",
              "5          1567        85  \n",
              "6           797        19  \n",
              "7           676       169  \n",
              "8          3771        37  \n",
              "9          5662       572  \n",
              "10        14349       459  "
            ],
            "text/html": "<div>\n<style scoped>\n    .dataframe tbody tr th:only-of-type {\n        vertical-align: middle;\n    }\n\n    .dataframe tbody tr th {\n        vertical-align: top;\n    }\n\n    .dataframe thead th {\n        text-align: right;\n    }\n</style>\n<table border=\"1\" class=\"dataframe\">\n  <thead>\n    <tr style=\"text-align: right;\">\n      <th></th>\n      <th>vendor_id</th>\n      <th>pickup_datetime</th>\n      <th>dropoff_datetime</th>\n      <th>pickup_longitude</th>\n      <th>pickup_latitude</th>\n      <th>dropoff_longitude</th>\n      <th>dropoff_latitude</th>\n      <th>trip_duration</th>\n      <th>dist_meters</th>\n      <th>wait_sec</th>\n    </tr>\n    <tr>\n      <th>id</th>\n      <th></th>\n      <th></th>\n      <th></th>\n      <th></th>\n      <th></th>\n      <th></th>\n      <th></th>\n      <th></th>\n      <th></th>\n      <th></th>\n    </tr>\n  </thead>\n  <tbody>\n    <tr>\n      <th>1</th>\n      <td>Taxi de Sitio</td>\n      <td>2016-09-16 07:14:12</td>\n      <td>2016-09-18 04:41:40</td>\n      <td>-99.097369</td>\n      <td>19.416874</td>\n      <td>-99.202729</td>\n      <td>19.430353</td>\n      <td>120449</td>\n      <td>12373</td>\n      <td>242</td>\n    </tr>\n    <tr>\n      <th>2</th>\n      <td>Taxi Libre</td>\n      <td>2016-09-18 06:16:33</td>\n      <td>2016-09-18 10:11:43</td>\n      <td>-99.297148</td>\n      <td>19.322128</td>\n      <td>-99.289949</td>\n      <td>19.326538</td>\n      <td>14110</td>\n      <td>1700</td>\n      <td>461</td>\n    </tr>\n    <tr>\n      <th>3</th>\n      <td>Taxi Libre</td>\n      <td>2016-09-18 10:11:50</td>\n      <td>2016-09-18 10:23:11</td>\n      <td>-99.289603</td>\n      <td>19.326263</td>\n      <td>-99.271874</td>\n      <td>19.328530</td>\n      <td>681</td>\n      <td>2848</td>\n      <td>129</td>\n    </tr>\n    <tr>\n      <th>4</th>\n      <td>Taxi Libre</td>\n      <td>2016-09-18 10:23:38</td>\n      <td>2016-09-18 10:30:53</td>\n      <td>-99.271161</td>\n      <td>19.328875</td>\n      <td>-99.279900</td>\n      <td>19.326256</td>\n      <td>436</td>\n      <td>1409</td>\n      <td>106</td>\n    </tr>\n    <tr>\n      <th>5</th>\n      <td>Taxi Libre</td>\n      <td>2016-09-18 10:44:18</td>\n      <td>2016-09-18 10:51:40</td>\n      <td>-99.282761</td>\n      <td>19.326944</td>\n      <td>-99.291705</td>\n      <td>19.322754</td>\n      <td>442</td>\n      <td>1567</td>\n      <td>85</td>\n    </tr>\n    <tr>\n      <th>6</th>\n      <td>Taxi Libre</td>\n      <td>2016-09-18 10:58:07</td>\n      <td>2016-09-18 10:59:46</td>\n      <td>-99.289712</td>\n      <td>19.322929</td>\n      <td>-99.289280</td>\n      <td>19.325978</td>\n      <td>100</td>\n      <td>797</td>\n      <td>19</td>\n    </tr>\n    <tr>\n      <th>7</th>\n      <td>Taxi Libre</td>\n      <td>2016-09-18 11:00:00</td>\n      <td>2016-09-18 11:05:45</td>\n      <td>-99.285391</td>\n      <td>19.326247</td>\n      <td>-99.282549</td>\n      <td>19.328117</td>\n      <td>345</td>\n      <td>676</td>\n      <td>169</td>\n    </tr>\n    <tr>\n      <th>8</th>\n      <td>Taxi Libre</td>\n      <td>2016-09-18 11:08:03</td>\n      <td>2016-09-18 11:17:06</td>\n      <td>-99.285891</td>\n      <td>19.330022</td>\n      <td>-99.289828</td>\n      <td>19.319170</td>\n      <td>544</td>\n      <td>3771</td>\n      <td>37</td>\n    </tr>\n    <tr>\n      <th>9</th>\n      <td>Radio Taxi</td>\n      <td>2016-09-18 01:06:08</td>\n      <td>2016-09-18 01:26:34</td>\n      <td>-99.182346</td>\n      <td>19.370885</td>\n      <td>-99.176534</td>\n      <td>19.341410</td>\n      <td>1226</td>\n      <td>5662</td>\n      <td>572</td>\n    </tr>\n    <tr>\n      <th>10</th>\n      <td>Taxi de Sitio</td>\n      <td>2016-09-18 03:42:18</td>\n      <td>2016-09-18 04:11:00</td>\n      <td>-99.074794</td>\n      <td>19.412589</td>\n      <td>-99.161239</td>\n      <td>19.381701</td>\n      <td>1723</td>\n      <td>14349</td>\n      <td>459</td>\n    </tr>\n  </tbody>\n</table>\n</div>"
          },
          "metadata": {},
          "execution_count": 56
        }
      ],
      "source": [
        "data_raw_dropped.head(10)"
      ]
    },
    {
      "cell_type": "code",
      "execution_count": 57,
      "metadata": {},
      "outputs": [
        {
          "output_type": "execute_result",
          "data": {
            "text/plain": [
              "id\n",
              "1   2016-09-16 07:14:12\n",
              "2   2016-09-18 06:16:33\n",
              "3   2016-09-18 10:11:50\n",
              "4   2016-09-18 10:23:38\n",
              "5   2016-09-18 10:44:18\n",
              "Name: pickup_datetime, dtype: datetime64[ns]"
            ]
          },
          "metadata": {},
          "execution_count": 57
        }
      ],
      "source": [
        "data_raw_dropped['pickup_datetime'] = pd.to_datetime(data_raw_dropped['pickup_datetime'], unit = 'ns')\n",
        "data_raw_dropped['pickup_datetime'].head()"
      ]
    },
    {
      "cell_type": "code",
      "execution_count": 58,
      "metadata": {},
      "outputs": [
        {
          "output_type": "execute_result",
          "data": {
            "text/plain": [
              "id\n",
              "1   2016-09-18 04:41:40\n",
              "2   2016-09-18 10:11:43\n",
              "3   2016-09-18 10:23:11\n",
              "4   2016-09-18 10:30:53\n",
              "5   2016-09-18 10:51:40\n",
              "Name: dropoff_datetime, dtype: datetime64[ns]"
            ]
          },
          "metadata": {},
          "execution_count": 58
        }
      ],
      "source": [
        "data_raw_dropped['dropoff_datetime'] = pd.to_datetime(data_raw_dropped['dropoff_datetime'], unit = 'ns')\n",
        "data_raw_dropped['dropoff_datetime'].head()"
      ]
    },
    {
      "cell_type": "code",
      "execution_count": 59,
      "metadata": {},
      "outputs": [
        {
          "output_type": "execute_result",
          "data": {
            "text/plain": [
              "vendor_id                    object\n",
              "pickup_datetime      datetime64[ns]\n",
              "dropoff_datetime     datetime64[ns]\n",
              "pickup_longitude            float64\n",
              "pickup_latitude             float64\n",
              "dropoff_longitude           float64\n",
              "dropoff_latitude            float64\n",
              "trip_duration                 int64\n",
              "dist_meters                   int64\n",
              "wait_sec                      int64\n",
              "dtype: object"
            ]
          },
          "metadata": {},
          "execution_count": 59
        }
      ],
      "source": [
        "data_raw_dropped.dtypes"
      ]
    },
    {
      "source": [
        "### Se han encontrado algunos viajes con velocidades, distacias o diraciones irreales, esto puede ser debido a errores en la recolección de los datos. Posteriormente se eliminatán los outliers de estas columnas.\n",
        "Para hacer el filtrado más facil, se convertiran las distancias de metros a kilómetros, la duración de los viajes de segundos a horas y se deducirán las velocidades en kilómetros por hora."
      ],
      "cell_type": "markdown",
      "metadata": {}
    },
    {
      "cell_type": "code",
      "execution_count": 60,
      "metadata": {},
      "outputs": [],
      "source": [
        "data_filtered = data_raw_dropped.copy()"
      ]
    },
    {
      "source": [
        "Conversión de la duración del viaje de segundos a horas."
      ],
      "cell_type": "markdown",
      "metadata": {}
    },
    {
      "cell_type": "code",
      "execution_count": 61,
      "metadata": {},
      "outputs": [
        {
          "output_type": "execute_result",
          "data": {
            "text/plain": [
              "id\n",
              "1    120449\n",
              "2     14110\n",
              "Name: trip_duration, dtype: int64"
            ]
          },
          "metadata": {},
          "execution_count": 61
        }
      ],
      "source": [
        "data_filtered[\"trip_duration\"].head(2)"
      ]
    },
    {
      "cell_type": "code",
      "execution_count": 62,
      "metadata": {},
      "outputs": [
        {
          "output_type": "execute_result",
          "data": {
            "text/plain": [
              "id\n",
              "1    33.458056\n",
              "2     3.919444\n",
              "Name: trip_duration, dtype: float64"
            ]
          },
          "metadata": {},
          "execution_count": 62
        }
      ],
      "source": [
        "# Como es una operación simple se usará una función anónima.\n",
        "data_filtered[\"trip_duration\"] = data_filtered[\"trip_duration\"].apply(lambda x: x/3600)\n",
        "data_filtered[\"trip_duration\"].head(2)"
      ]
    },
    {
      "source": [
        "Conversión de la distancia recorrida en metros a kilómetros"
      ],
      "cell_type": "markdown",
      "metadata": {}
    },
    {
      "cell_type": "code",
      "execution_count": 63,
      "metadata": {},
      "outputs": [
        {
          "output_type": "execute_result",
          "data": {
            "text/plain": [
              "id\n",
              "1    12373\n",
              "2     1700\n",
              "Name: dist_meters, dtype: int64"
            ]
          },
          "metadata": {},
          "execution_count": 63
        }
      ],
      "source": [
        "data_filtered[\"dist_meters\"].head(2)"
      ]
    },
    {
      "cell_type": "code",
      "execution_count": 64,
      "metadata": {},
      "outputs": [
        {
          "output_type": "execute_result",
          "data": {
            "text/plain": [
              "id\n",
              "1    12.373\n",
              "2     1.700\n",
              "Name: dist_km, dtype: float64"
            ]
          },
          "metadata": {},
          "execution_count": 64
        }
      ],
      "source": [
        "# Como es una operación simple se usará una función anónima.\n",
        "data_filtered[\"dist_km\"] = data_filtered[\"dist_meters\"].apply(lambda x: x/1000)\n",
        "data_filtered[\"dist_km\"].head(2)"
      ]
    },
    {
      "source": [
        "Creación de la columna `speed_km` que contiene la velocidad del viaje."
      ],
      "cell_type": "markdown",
      "metadata": {}
    },
    {
      "cell_type": "code",
      "execution_count": 65,
      "metadata": {},
      "outputs": [
        {
          "output_type": "execute_result",
          "data": {
            "text/plain": [
              "    dist_km  trip_duration   speed_km\n",
              "id                                   \n",
              "1    12.373      33.458056   0.369806\n",
              "2     1.700       3.919444   0.433735\n",
              "3     2.848       0.189167  15.055507\n",
              "4     1.409       0.121111  11.633945\n",
              "5     1.567       0.122778  12.762896"
            ],
            "text/html": "<div>\n<style scoped>\n    .dataframe tbody tr th:only-of-type {\n        vertical-align: middle;\n    }\n\n    .dataframe tbody tr th {\n        vertical-align: top;\n    }\n\n    .dataframe thead th {\n        text-align: right;\n    }\n</style>\n<table border=\"1\" class=\"dataframe\">\n  <thead>\n    <tr style=\"text-align: right;\">\n      <th></th>\n      <th>dist_km</th>\n      <th>trip_duration</th>\n      <th>speed_km</th>\n    </tr>\n    <tr>\n      <th>id</th>\n      <th></th>\n      <th></th>\n      <th></th>\n    </tr>\n  </thead>\n  <tbody>\n    <tr>\n      <th>1</th>\n      <td>12.373</td>\n      <td>33.458056</td>\n      <td>0.369806</td>\n    </tr>\n    <tr>\n      <th>2</th>\n      <td>1.700</td>\n      <td>3.919444</td>\n      <td>0.433735</td>\n    </tr>\n    <tr>\n      <th>3</th>\n      <td>2.848</td>\n      <td>0.189167</td>\n      <td>15.055507</td>\n    </tr>\n    <tr>\n      <th>4</th>\n      <td>1.409</td>\n      <td>0.121111</td>\n      <td>11.633945</td>\n    </tr>\n    <tr>\n      <th>5</th>\n      <td>1.567</td>\n      <td>0.122778</td>\n      <td>12.762896</td>\n    </tr>\n  </tbody>\n</table>\n</div>"
          },
          "metadata": {},
          "execution_count": 65
        }
      ],
      "source": [
        "data_filtered[\"speed_km\"] = data_filtered[\"dist_km\"]/data_filtered[\"trip_duration\"]\n",
        "data_filtered[[\"dist_km\",\"trip_duration\",\"speed_km\"]].head()"
      ]
    },
    {
      "source": [
        "Como se puede ver, hay viajes que duran más de lo anormal, debido al contexto del dataframe, consideramos que se deben de eliminar los viajes con velocidades mayores a 200 km/h y con distancias menores a 500 metros (.5 km). Después se eliminarán outliers con el método del Rango Inter Cuartílico."
      ],
      "cell_type": "markdown",
      "metadata": {}
    },
    {
      "cell_type": "code",
      "execution_count": 66,
      "metadata": {},
      "outputs": [
        {
          "output_type": "execute_result",
          "data": {
            "text/plain": [
              "(11411, 12)"
            ]
          },
          "metadata": {},
          "execution_count": 66
        }
      ],
      "source": [
        "data_filtered = data_filtered[(data_filtered[\"speed_km\"] < 200)  & (data_filtered[\"dist_km\"] > 0.5)]\n",
        "data_filtered.shape"
      ]
    },
    {
      "source": [
        "Eliminación de Outliers de `speed_km`, `dist_km`, `trip_duration`"
      ],
      "cell_type": "markdown",
      "metadata": {}
    },
    {
      "cell_type": "code",
      "execution_count": 67,
      "metadata": {},
      "outputs": [
        {
          "output_type": "stream",
          "name": "stdout",
          "text": [
            "Cuartiles\t\tValor\n25%\t\t 9.185913076398961\n50%\t\t 15.399341021416804\n75%\t\t 20.984072667115985\n\n\nRango Intercuartílico:  11.798159590717024\n"
          ]
        }
      ],
      "source": [
        "Q1 = data_filtered[\"speed_km\"].quantile(0.25)\r\n",
        "Q2 = data_filtered[\"speed_km\"].quantile(0.5)\r\n",
        "Q3 = data_filtered[\"speed_km\"].quantile(0.75)\r\n",
        "IQR_speed = Q3 - Q1\r\n",
        "print (\"Cuartiles\\t\\tValor\")\r\n",
        "print(\"25%\\t\\t\",Q1)\r\n",
        "print(\"50%\\t\\t\",Q2)\r\n",
        "print(\"75%\\t\\t\",Q3)\r\n",
        "print(\"\\n\\nRango Intercuartílico: \",IQR_speed)"
      ]
    },
    {
      "cell_type": "code",
      "execution_count": 68,
      "metadata": {},
      "outputs": [],
      "source": [
        "data_filtered = data_filtered[(data_filtered[\"speed_km\"] >= Q1 - 1.5*IQR_speed) & (data_filtered[\"speed_km\"] <= Q3 + 1.5*IQR_speed)]"
      ]
    },
    {
      "cell_type": "code",
      "execution_count": 69,
      "metadata": {},
      "outputs": [
        {
          "output_type": "stream",
          "name": "stdout",
          "text": [
            "Cuartiles\t\tValor\n25%\t\t 2.35\n50%\t\t 4.428\n75%\t\t 8.7295\n\n\nRango Intercuartílico:  6.3795\n"
          ]
        }
      ],
      "source": [
        "Q1 = data_filtered[\"dist_km\"].quantile(0.25)\n",
        "Q2 = data_filtered[\"dist_km\"].quantile(0.5)\n",
        "Q3 = data_filtered[\"dist_km\"].quantile(0.75)\n",
        "IQR_dist = Q3 - Q1\n",
        "print (\"Cuartiles\\t\\tValor\")\n",
        "print(\"25%\\t\\t\",Q1)\n",
        "print(\"50%\\t\\t\",Q2)\n",
        "print(\"75%\\t\\t\",Q3)\n",
        "print(\"\\n\\nRango Intercuartílico: \",IQR_dist)"
      ]
    },
    {
      "cell_type": "code",
      "execution_count": 70,
      "metadata": {},
      "outputs": [],
      "source": [
        "data_filtered = data_filtered[(data_filtered[\"dist_km\"] >= Q1 - 1.5*IQR_dist) & (data_filtered[\"dist_km\"] <= Q3 + 1.5*IQR_dist)]"
      ]
    },
    {
      "cell_type": "code",
      "execution_count": 71,
      "metadata": {},
      "outputs": [
        {
          "output_type": "stream",
          "name": "stdout",
          "text": [
            "Cuartiles\t\tValor\n25%\t\t 0.15527777777777776\n50%\t\t 0.2936111111111111\n75%\t\t 0.587013888888889\n\n\nRango Intercuartílico:  0.4317361111111112\n"
          ]
        }
      ],
      "source": [
        "Q1 = data_filtered[\"trip_duration\"].quantile(0.25)\n",
        "Q2 = data_filtered[\"trip_duration\"].quantile(0.5)\n",
        "Q3 = data_filtered[\"trip_duration\"].quantile(0.75)\n",
        "IQR_trip_duration = Q3 - Q1\n",
        "print (\"Cuartiles\\t\\tValor\")\n",
        "print(\"25%\\t\\t\",Q1)\n",
        "print(\"50%\\t\\t\",Q2)\n",
        "print(\"75%\\t\\t\",Q3)\n",
        "print(\"\\n\\nRango Intercuartílico: \",IQR_trip_duration)"
      ]
    },
    {
      "cell_type": "code",
      "execution_count": 72,
      "metadata": {},
      "outputs": [],
      "source": [
        "data_filtered = data_filtered[(data_filtered[\"trip_duration\"] >= Q1 - 1.5*IQR_trip_duration) & (data_filtered[\"trip_duration\"] <= Q3 + 1.5*IQR_trip_duration)]"
      ]
    },
    {
      "cell_type": "code",
      "execution_count": 73,
      "metadata": {},
      "outputs": [
        {
          "output_type": "execute_result",
          "data": {
            "text/plain": [
              "(8937, 12)"
            ]
          },
          "metadata": {},
          "execution_count": 73
        }
      ],
      "source": [
        "data_filtered.shape"
      ]
    },
    {
      "source": [
        "## Costos"
      ],
      "cell_type": "markdown",
      "metadata": {}
    },
    {
      "cell_type": "code",
      "execution_count": 74,
      "metadata": {},
      "outputs": [
        {
          "output_type": "execute_result",
          "data": {
            "text/plain": [
              "      Transporte  Banderazo  Tarifa Distancia  Tarifa Tiempo  Tarifa Mínima\n",
              "0     Taxi Libre       8.74              1.07           1.07           8.74\n",
              "1  Taxi de Sitio      13.10              1.30           1.30          13.10\n",
              "2     Radio Taxi      27.60              1.84           1.84          27.60\n",
              "3          UberX       7.00              3.57           1.80          35.00\n",
              "4         UberXL      12.15              6.28           3.15          45.50\n",
              "5      UberBlack      30.00              9.46           3.50          77.00\n",
              "6        UberSUV      40.00             15.00           4.00         150.00"
            ],
            "text/html": "<div>\n<style scoped>\n    .dataframe tbody tr th:only-of-type {\n        vertical-align: middle;\n    }\n\n    .dataframe tbody tr th {\n        vertical-align: top;\n    }\n\n    .dataframe thead th {\n        text-align: right;\n    }\n</style>\n<table border=\"1\" class=\"dataframe\">\n  <thead>\n    <tr style=\"text-align: right;\">\n      <th></th>\n      <th>Transporte</th>\n      <th>Banderazo</th>\n      <th>Tarifa Distancia</th>\n      <th>Tarifa Tiempo</th>\n      <th>Tarifa Mínima</th>\n    </tr>\n  </thead>\n  <tbody>\n    <tr>\n      <th>0</th>\n      <td>Taxi Libre</td>\n      <td>8.74</td>\n      <td>1.07</td>\n      <td>1.07</td>\n      <td>8.74</td>\n    </tr>\n    <tr>\n      <th>1</th>\n      <td>Taxi de Sitio</td>\n      <td>13.10</td>\n      <td>1.30</td>\n      <td>1.30</td>\n      <td>13.10</td>\n    </tr>\n    <tr>\n      <th>2</th>\n      <td>Radio Taxi</td>\n      <td>27.60</td>\n      <td>1.84</td>\n      <td>1.84</td>\n      <td>27.60</td>\n    </tr>\n    <tr>\n      <th>3</th>\n      <td>UberX</td>\n      <td>7.00</td>\n      <td>3.57</td>\n      <td>1.80</td>\n      <td>35.00</td>\n    </tr>\n    <tr>\n      <th>4</th>\n      <td>UberXL</td>\n      <td>12.15</td>\n      <td>6.28</td>\n      <td>3.15</td>\n      <td>45.50</td>\n    </tr>\n    <tr>\n      <th>5</th>\n      <td>UberBlack</td>\n      <td>30.00</td>\n      <td>9.46</td>\n      <td>3.50</td>\n      <td>77.00</td>\n    </tr>\n    <tr>\n      <th>6</th>\n      <td>UberSUV</td>\n      <td>40.00</td>\n      <td>15.00</td>\n      <td>4.00</td>\n      <td>150.00</td>\n    </tr>\n  </tbody>\n</table>\n</div>"
          },
          "metadata": {},
          "execution_count": 74
        }
      ],
      "source": [
        "url_tarifas = \"https://raw.githubusercontent.com/CristopherCano/Proyecto_Python_Procesamiento_de_datos/main/Data/tarifas.json\"\n",
        "\n",
        "tarifas = pd.read_json(url_tarifas)\n",
        "tarifas"
      ]
    },
    {
      "cell_type": "code",
      "execution_count": 75,
      "metadata": {},
      "outputs": [
        {
          "output_type": "execute_result",
          "data": {
            "text/plain": [
              "Transporte           object\n",
              "Banderazo           float64\n",
              "Tarifa Distancia    float64\n",
              "Tarifa Tiempo       float64\n",
              "Tarifa Mínima       float64\n",
              "dtype: object"
            ]
          },
          "metadata": {},
          "execution_count": 75
        }
      ],
      "source": [
        "tarifas.dtypes"
      ]
    },
    {
      "cell_type": "code",
      "execution_count": 76,
      "metadata": {},
      "outputs": [
        {
          "output_type": "execute_result",
          "data": {
            "text/plain": [
              "      transporte  banderazo  tarifa_dist  tarifa_tiempo  tarifa_min\n",
              "0     Taxi Libre       8.74         1.07           1.07        8.74\n",
              "1  Taxi de Sitio      13.10         1.30           1.30       13.10\n",
              "2     Radio Taxi      27.60         1.84           1.84       27.60\n",
              "3          UberX       7.00         3.57           1.80       35.00\n",
              "4         UberXL      12.15         6.28           3.15       45.50\n",
              "5      UberBlack      30.00         9.46           3.50       77.00\n",
              "6        UberSUV      40.00        15.00           4.00      150.00"
            ],
            "text/html": "<div>\n<style scoped>\n    .dataframe tbody tr th:only-of-type {\n        vertical-align: middle;\n    }\n\n    .dataframe tbody tr th {\n        vertical-align: top;\n    }\n\n    .dataframe thead th {\n        text-align: right;\n    }\n</style>\n<table border=\"1\" class=\"dataframe\">\n  <thead>\n    <tr style=\"text-align: right;\">\n      <th></th>\n      <th>transporte</th>\n      <th>banderazo</th>\n      <th>tarifa_dist</th>\n      <th>tarifa_tiempo</th>\n      <th>tarifa_min</th>\n    </tr>\n  </thead>\n  <tbody>\n    <tr>\n      <th>0</th>\n      <td>Taxi Libre</td>\n      <td>8.74</td>\n      <td>1.07</td>\n      <td>1.07</td>\n      <td>8.74</td>\n    </tr>\n    <tr>\n      <th>1</th>\n      <td>Taxi de Sitio</td>\n      <td>13.10</td>\n      <td>1.30</td>\n      <td>1.30</td>\n      <td>13.10</td>\n    </tr>\n    <tr>\n      <th>2</th>\n      <td>Radio Taxi</td>\n      <td>27.60</td>\n      <td>1.84</td>\n      <td>1.84</td>\n      <td>27.60</td>\n    </tr>\n    <tr>\n      <th>3</th>\n      <td>UberX</td>\n      <td>7.00</td>\n      <td>3.57</td>\n      <td>1.80</td>\n      <td>35.00</td>\n    </tr>\n    <tr>\n      <th>4</th>\n      <td>UberXL</td>\n      <td>12.15</td>\n      <td>6.28</td>\n      <td>3.15</td>\n      <td>45.50</td>\n    </tr>\n    <tr>\n      <th>5</th>\n      <td>UberBlack</td>\n      <td>30.00</td>\n      <td>9.46</td>\n      <td>3.50</td>\n      <td>77.00</td>\n    </tr>\n    <tr>\n      <th>6</th>\n      <td>UberSUV</td>\n      <td>40.00</td>\n      <td>15.00</td>\n      <td>4.00</td>\n      <td>150.00</td>\n    </tr>\n  </tbody>\n</table>\n</div>"
          },
          "metadata": {},
          "execution_count": 76
        }
      ],
      "source": [
        "tarifas.columns = [\"transporte\", \"banderazo\", \"tarifa_dist\", \"tarifa_tiempo\", \"tarifa_min\"]\n",
        "tarifas\n"
      ]
    },
    {
      "cell_type": "code",
      "execution_count": 121,
      "metadata": {},
      "outputs": [
        {
          "output_type": "execute_result",
          "data": {
            "text/plain": [
              "          vendor_id  wait_sec  dist_meters  banderazo  tarifa_dist  \\\n",
              "0        Taxi Libre       129         2848       8.74         1.07   \n",
              "1        Taxi Libre       106         1409       8.74         1.07   \n",
              "2        Taxi Libre        85         1567       8.74         1.07   \n",
              "3        Taxi Libre        19          797       8.74         1.07   \n",
              "4        Taxi Libre       169          676       8.74         1.07   \n",
              "...             ...       ...          ...        ...          ...   \n",
              "8932     Taxi Libre       386         7407       8.74         1.07   \n",
              "8933     Taxi Libre        33         2280       8.74         1.07   \n",
              "8934     Radio Taxi       427         8261      27.60         1.84   \n",
              "8935  Taxi de Sitio       115         2498      13.10         1.30   \n",
              "8936     Taxi Libre       228         6051       8.74         1.07   \n",
              "\n",
              "      tarifa_tiempo  tarifa_min  \n",
              "0              1.07        8.74  \n",
              "1              1.07        8.74  \n",
              "2              1.07        8.74  \n",
              "3              1.07        8.74  \n",
              "4              1.07        8.74  \n",
              "...             ...         ...  \n",
              "8932           1.07        8.74  \n",
              "8933           1.07        8.74  \n",
              "8934           1.84       27.60  \n",
              "8935           1.30       13.10  \n",
              "8936           1.07        8.74  \n",
              "\n",
              "[8937 rows x 7 columns]"
            ],
            "text/html": "<div>\n<style scoped>\n    .dataframe tbody tr th:only-of-type {\n        vertical-align: middle;\n    }\n\n    .dataframe tbody tr th {\n        vertical-align: top;\n    }\n\n    .dataframe thead th {\n        text-align: right;\n    }\n</style>\n<table border=\"1\" class=\"dataframe\">\n  <thead>\n    <tr style=\"text-align: right;\">\n      <th></th>\n      <th>vendor_id</th>\n      <th>wait_sec</th>\n      <th>dist_meters</th>\n      <th>banderazo</th>\n      <th>tarifa_dist</th>\n      <th>tarifa_tiempo</th>\n      <th>tarifa_min</th>\n    </tr>\n  </thead>\n  <tbody>\n    <tr>\n      <th>0</th>\n      <td>Taxi Libre</td>\n      <td>129</td>\n      <td>2848</td>\n      <td>8.74</td>\n      <td>1.07</td>\n      <td>1.07</td>\n      <td>8.74</td>\n    </tr>\n    <tr>\n      <th>1</th>\n      <td>Taxi Libre</td>\n      <td>106</td>\n      <td>1409</td>\n      <td>8.74</td>\n      <td>1.07</td>\n      <td>1.07</td>\n      <td>8.74</td>\n    </tr>\n    <tr>\n      <th>2</th>\n      <td>Taxi Libre</td>\n      <td>85</td>\n      <td>1567</td>\n      <td>8.74</td>\n      <td>1.07</td>\n      <td>1.07</td>\n      <td>8.74</td>\n    </tr>\n    <tr>\n      <th>3</th>\n      <td>Taxi Libre</td>\n      <td>19</td>\n      <td>797</td>\n      <td>8.74</td>\n      <td>1.07</td>\n      <td>1.07</td>\n      <td>8.74</td>\n    </tr>\n    <tr>\n      <th>4</th>\n      <td>Taxi Libre</td>\n      <td>169</td>\n      <td>676</td>\n      <td>8.74</td>\n      <td>1.07</td>\n      <td>1.07</td>\n      <td>8.74</td>\n    </tr>\n    <tr>\n      <th>...</th>\n      <td>...</td>\n      <td>...</td>\n      <td>...</td>\n      <td>...</td>\n      <td>...</td>\n      <td>...</td>\n      <td>...</td>\n    </tr>\n    <tr>\n      <th>8932</th>\n      <td>Taxi Libre</td>\n      <td>386</td>\n      <td>7407</td>\n      <td>8.74</td>\n      <td>1.07</td>\n      <td>1.07</td>\n      <td>8.74</td>\n    </tr>\n    <tr>\n      <th>8933</th>\n      <td>Taxi Libre</td>\n      <td>33</td>\n      <td>2280</td>\n      <td>8.74</td>\n      <td>1.07</td>\n      <td>1.07</td>\n      <td>8.74</td>\n    </tr>\n    <tr>\n      <th>8934</th>\n      <td>Radio Taxi</td>\n      <td>427</td>\n      <td>8261</td>\n      <td>27.60</td>\n      <td>1.84</td>\n      <td>1.84</td>\n      <td>27.60</td>\n    </tr>\n    <tr>\n      <th>8935</th>\n      <td>Taxi de Sitio</td>\n      <td>115</td>\n      <td>2498</td>\n      <td>13.10</td>\n      <td>1.30</td>\n      <td>1.30</td>\n      <td>13.10</td>\n    </tr>\n    <tr>\n      <th>8936</th>\n      <td>Taxi Libre</td>\n      <td>228</td>\n      <td>6051</td>\n      <td>8.74</td>\n      <td>1.07</td>\n      <td>1.07</td>\n      <td>8.74</td>\n    </tr>\n  </tbody>\n</table>\n<p>8937 rows × 7 columns</p>\n</div>"
          },
          "metadata": {},
          "execution_count": 121
        }
      ],
      "source": [
        "viajes = data_filtered[[\"vendor_id\", \"wait_sec\", \"dist_meters\"]]\n",
        "\n",
        "costos_viajes = pd.merge(viajes, tarifas, left_on=\"vendor_id\", right_on=\"transporte\", how=\"left\")\n",
        "costos_viajes = costos_viajes.drop(columns=[\"transporte\"])\n",
        "costos_viajes"
      ]
    },
    {
      "cell_type": "code",
      "execution_count": 122,
      "metadata": {},
      "outputs": [
        {
          "output_type": "execute_result",
          "data": {
            "text/plain": [
              "          vendor_id  wait_sec  dist_meters  banderazo  tarifa_dist  \\\n",
              "0        Taxi Libre       129         2848       8.74         1.07   \n",
              "1        Taxi Libre       106         1409       8.74         1.07   \n",
              "2        Taxi Libre        85         1567       8.74         1.07   \n",
              "3        Taxi Libre        19          797       8.74         1.07   \n",
              "4        Taxi Libre       169          676       8.74         1.07   \n",
              "...             ...       ...          ...        ...          ...   \n",
              "8932     Taxi Libre       386         7407       8.74         1.07   \n",
              "8933     Taxi Libre        33         2280       8.74         1.07   \n",
              "8934     Radio Taxi       427         8261      27.60         1.84   \n",
              "8935  Taxi de Sitio       115         2498      13.10         1.30   \n",
              "8936     Taxi Libre       228         6051       8.74         1.07   \n",
              "\n",
              "      tarifa_tiempo  tarifa_min  costo_viaje_sin_min  \n",
              "0              1.07        8.74            23.996773  \n",
              "1              1.07        8.74            17.290964  \n",
              "2              1.07        8.74            17.467871  \n",
              "3              1.07        8.74            12.602938  \n",
              "4              1.07        8.74            15.651724  \n",
              "...             ...         ...                  ...  \n",
              "8932           1.07        8.74            49.620182  \n",
              "8933           1.07        8.74            19.283067  \n",
              "8934           1.84       27.60           105.860516  \n",
              "8935           1.30       13.10            29.411822  \n",
              "8936           1.07        8.74            40.059613  \n",
              "\n",
              "[8937 rows x 8 columns]"
            ],
            "text/html": "<div>\n<style scoped>\n    .dataframe tbody tr th:only-of-type {\n        vertical-align: middle;\n    }\n\n    .dataframe tbody tr th {\n        vertical-align: top;\n    }\n\n    .dataframe thead th {\n        text-align: right;\n    }\n</style>\n<table border=\"1\" class=\"dataframe\">\n  <thead>\n    <tr style=\"text-align: right;\">\n      <th></th>\n      <th>vendor_id</th>\n      <th>wait_sec</th>\n      <th>dist_meters</th>\n      <th>banderazo</th>\n      <th>tarifa_dist</th>\n      <th>tarifa_tiempo</th>\n      <th>tarifa_min</th>\n      <th>costo_viaje_sin_min</th>\n    </tr>\n  </thead>\n  <tbody>\n    <tr>\n      <th>0</th>\n      <td>Taxi Libre</td>\n      <td>129</td>\n      <td>2848</td>\n      <td>8.74</td>\n      <td>1.07</td>\n      <td>1.07</td>\n      <td>8.74</td>\n      <td>23.996773</td>\n    </tr>\n    <tr>\n      <th>1</th>\n      <td>Taxi Libre</td>\n      <td>106</td>\n      <td>1409</td>\n      <td>8.74</td>\n      <td>1.07</td>\n      <td>1.07</td>\n      <td>8.74</td>\n      <td>17.290964</td>\n    </tr>\n    <tr>\n      <th>2</th>\n      <td>Taxi Libre</td>\n      <td>85</td>\n      <td>1567</td>\n      <td>8.74</td>\n      <td>1.07</td>\n      <td>1.07</td>\n      <td>8.74</td>\n      <td>17.467871</td>\n    </tr>\n    <tr>\n      <th>3</th>\n      <td>Taxi Libre</td>\n      <td>19</td>\n      <td>797</td>\n      <td>8.74</td>\n      <td>1.07</td>\n      <td>1.07</td>\n      <td>8.74</td>\n      <td>12.602938</td>\n    </tr>\n    <tr>\n      <th>4</th>\n      <td>Taxi Libre</td>\n      <td>169</td>\n      <td>676</td>\n      <td>8.74</td>\n      <td>1.07</td>\n      <td>1.07</td>\n      <td>8.74</td>\n      <td>15.651724</td>\n    </tr>\n    <tr>\n      <th>...</th>\n      <td>...</td>\n      <td>...</td>\n      <td>...</td>\n      <td>...</td>\n      <td>...</td>\n      <td>...</td>\n      <td>...</td>\n      <td>...</td>\n    </tr>\n    <tr>\n      <th>8932</th>\n      <td>Taxi Libre</td>\n      <td>386</td>\n      <td>7407</td>\n      <td>8.74</td>\n      <td>1.07</td>\n      <td>1.07</td>\n      <td>8.74</td>\n      <td>49.620182</td>\n    </tr>\n    <tr>\n      <th>8933</th>\n      <td>Taxi Libre</td>\n      <td>33</td>\n      <td>2280</td>\n      <td>8.74</td>\n      <td>1.07</td>\n      <td>1.07</td>\n      <td>8.74</td>\n      <td>19.283067</td>\n    </tr>\n    <tr>\n      <th>8934</th>\n      <td>Radio Taxi</td>\n      <td>427</td>\n      <td>8261</td>\n      <td>27.60</td>\n      <td>1.84</td>\n      <td>1.84</td>\n      <td>27.60</td>\n      <td>105.860516</td>\n    </tr>\n    <tr>\n      <th>8935</th>\n      <td>Taxi de Sitio</td>\n      <td>115</td>\n      <td>2498</td>\n      <td>13.10</td>\n      <td>1.30</td>\n      <td>1.30</td>\n      <td>13.10</td>\n      <td>29.411822</td>\n    </tr>\n    <tr>\n      <th>8936</th>\n      <td>Taxi Libre</td>\n      <td>228</td>\n      <td>6051</td>\n      <td>8.74</td>\n      <td>1.07</td>\n      <td>1.07</td>\n      <td>8.74</td>\n      <td>40.059613</td>\n    </tr>\n  </tbody>\n</table>\n<p>8937 rows × 8 columns</p>\n</div>"
          },
          "metadata": {},
          "execution_count": 122
        }
      ],
      "source": [
        "costos_viajes.loc[(costos_viajes[\"vendor_id\"] == \"Taxi Libre\") |\n",
        "                  (costos_viajes[\"vendor_id\"] == \"Taxi de Sitio\") |\n",
        "                  (costos_viajes[\"vendor_id\"] == \"Radio Taxi\"),\n",
        "                  \"costo_viaje_sin_min\"] = (costos_viajes[\"banderazo\"] + \n",
        "                                ((costos_viajes[\"dist_meters\"] / 250) * costos_viajes[\"tarifa_dist\"]) + \n",
        "                                ((costos_viajes[\"wait_sec\"] / 45) * costos_viajes[\"tarifa_tiempo\"]))\n",
        "\n",
        "\n",
        "costos_viajes.loc[(costos_viajes[\"vendor_id\"] == \"UberX\") |\n",
        "                  (costos_viajes[\"vendor_id\"] == \"UberXL\") |\n",
        "                  (costos_viajes[\"vendor_id\"] == \"UberBlack\") |\n",
        "                  (costos_viajes[\"vendor_id\"] == \"UberSUV\"),\n",
        "                  \"costo_viaje_sin_min\"] = (costos_viajes[\"banderazo\"] + \n",
        "                                ((costos_viajes[\"dist_meters\"] / 1000) * costos_viajes[\"tarifa_dist\"]) + \n",
        "                                ((costos_viajes[\"wait_sec\"] / 60) * costos_viajes[\"tarifa_tiempo\"]))\n",
        "\n",
        "costos_viajes"
      ]
    },
    {
      "cell_type": "code",
      "execution_count": 127,
      "metadata": {},
      "outputs": [],
      "source": [
        "costos_viajes[\"costo_viaje_sobre_min\"] = costos_viajes[\"costo_viaje_sin_min\"]\n",
        "\n",
        "costos_viajes.loc[costos_viajes[\"costo_viaje_sobre_min\"] < costos_viajes[\"tarifa_min\"], \"costo_viaje_sobre_min\"] = costos_viajes[\"tarifa_min\"]"
      ]
    },
    {
      "cell_type": "code",
      "execution_count": 128,
      "metadata": {},
      "outputs": [
        {
          "output_type": "execute_result",
          "data": {
            "text/plain": [
              "      vendor_id  wait_sec  dist_meters  banderazo  tarifa_dist  tarifa_tiempo  \\\n",
              "94    UberBlack        40         9061       30.0         9.46            3.5   \n",
              "489   UberBlack        20         2788       30.0         9.46            3.5   \n",
              "1116  UberBlack      3643         1857       30.0         9.46            3.5   \n",
              "1117  UberBlack      4656         4261       30.0         9.46            3.5   \n",
              "1119  UberBlack      5443         3769       30.0         9.46            3.5   \n",
              "2058  UberBlack       207          978       30.0         9.46            3.5   \n",
              "2059  UberBlack        68          594       30.0         9.46            3.5   \n",
              "3375  UberBlack       189         3345       30.0         9.46            3.5   \n",
              "3777  UberBlack      1028        15061       30.0         9.46            3.5   \n",
              "5201  UberBlack       211         7756       30.0         9.46            3.5   \n",
              "6107  UberBlack         2         5533       30.0         9.46            3.5   \n",
              "6212  UberBlack        13        11529       30.0         9.46            3.5   \n",
              "\n",
              "      tarifa_min  costo_viaje_sin_min  costo_viaje_sobre_min  \n",
              "94          77.0           118.050393             118.050393  \n",
              "489         77.0            57.541147              77.000000  \n",
              "1116        77.0           260.075553             260.075553  \n",
              "1117        77.0           341.909060             341.909060  \n",
              "1119        77.0           383.163073             383.163073  \n",
              "2058        77.0            51.326880              77.000000  \n",
              "2059        77.0            39.585907              77.000000  \n",
              "3375        77.0            72.668700              77.000000  \n",
              "3777        77.0           232.443727             232.443727  \n",
              "5201        77.0           115.680093             115.680093  \n",
              "6107        77.0            82.458847              82.458847  \n",
              "6212        77.0           139.822673             139.822673  "
            ],
            "text/html": "<div>\n<style scoped>\n    .dataframe tbody tr th:only-of-type {\n        vertical-align: middle;\n    }\n\n    .dataframe tbody tr th {\n        vertical-align: top;\n    }\n\n    .dataframe thead th {\n        text-align: right;\n    }\n</style>\n<table border=\"1\" class=\"dataframe\">\n  <thead>\n    <tr style=\"text-align: right;\">\n      <th></th>\n      <th>vendor_id</th>\n      <th>wait_sec</th>\n      <th>dist_meters</th>\n      <th>banderazo</th>\n      <th>tarifa_dist</th>\n      <th>tarifa_tiempo</th>\n      <th>tarifa_min</th>\n      <th>costo_viaje_sin_min</th>\n      <th>costo_viaje_sobre_min</th>\n    </tr>\n  </thead>\n  <tbody>\n    <tr>\n      <th>94</th>\n      <td>UberBlack</td>\n      <td>40</td>\n      <td>9061</td>\n      <td>30.0</td>\n      <td>9.46</td>\n      <td>3.5</td>\n      <td>77.0</td>\n      <td>118.050393</td>\n      <td>118.050393</td>\n    </tr>\n    <tr>\n      <th>489</th>\n      <td>UberBlack</td>\n      <td>20</td>\n      <td>2788</td>\n      <td>30.0</td>\n      <td>9.46</td>\n      <td>3.5</td>\n      <td>77.0</td>\n      <td>57.541147</td>\n      <td>77.000000</td>\n    </tr>\n    <tr>\n      <th>1116</th>\n      <td>UberBlack</td>\n      <td>3643</td>\n      <td>1857</td>\n      <td>30.0</td>\n      <td>9.46</td>\n      <td>3.5</td>\n      <td>77.0</td>\n      <td>260.075553</td>\n      <td>260.075553</td>\n    </tr>\n    <tr>\n      <th>1117</th>\n      <td>UberBlack</td>\n      <td>4656</td>\n      <td>4261</td>\n      <td>30.0</td>\n      <td>9.46</td>\n      <td>3.5</td>\n      <td>77.0</td>\n      <td>341.909060</td>\n      <td>341.909060</td>\n    </tr>\n    <tr>\n      <th>1119</th>\n      <td>UberBlack</td>\n      <td>5443</td>\n      <td>3769</td>\n      <td>30.0</td>\n      <td>9.46</td>\n      <td>3.5</td>\n      <td>77.0</td>\n      <td>383.163073</td>\n      <td>383.163073</td>\n    </tr>\n    <tr>\n      <th>2058</th>\n      <td>UberBlack</td>\n      <td>207</td>\n      <td>978</td>\n      <td>30.0</td>\n      <td>9.46</td>\n      <td>3.5</td>\n      <td>77.0</td>\n      <td>51.326880</td>\n      <td>77.000000</td>\n    </tr>\n    <tr>\n      <th>2059</th>\n      <td>UberBlack</td>\n      <td>68</td>\n      <td>594</td>\n      <td>30.0</td>\n      <td>9.46</td>\n      <td>3.5</td>\n      <td>77.0</td>\n      <td>39.585907</td>\n      <td>77.000000</td>\n    </tr>\n    <tr>\n      <th>3375</th>\n      <td>UberBlack</td>\n      <td>189</td>\n      <td>3345</td>\n      <td>30.0</td>\n      <td>9.46</td>\n      <td>3.5</td>\n      <td>77.0</td>\n      <td>72.668700</td>\n      <td>77.000000</td>\n    </tr>\n    <tr>\n      <th>3777</th>\n      <td>UberBlack</td>\n      <td>1028</td>\n      <td>15061</td>\n      <td>30.0</td>\n      <td>9.46</td>\n      <td>3.5</td>\n      <td>77.0</td>\n      <td>232.443727</td>\n      <td>232.443727</td>\n    </tr>\n    <tr>\n      <th>5201</th>\n      <td>UberBlack</td>\n      <td>211</td>\n      <td>7756</td>\n      <td>30.0</td>\n      <td>9.46</td>\n      <td>3.5</td>\n      <td>77.0</td>\n      <td>115.680093</td>\n      <td>115.680093</td>\n    </tr>\n    <tr>\n      <th>6107</th>\n      <td>UberBlack</td>\n      <td>2</td>\n      <td>5533</td>\n      <td>30.0</td>\n      <td>9.46</td>\n      <td>3.5</td>\n      <td>77.0</td>\n      <td>82.458847</td>\n      <td>82.458847</td>\n    </tr>\n    <tr>\n      <th>6212</th>\n      <td>UberBlack</td>\n      <td>13</td>\n      <td>11529</td>\n      <td>30.0</td>\n      <td>9.46</td>\n      <td>3.5</td>\n      <td>77.0</td>\n      <td>139.822673</td>\n      <td>139.822673</td>\n    </tr>\n  </tbody>\n</table>\n</div>"
          },
          "metadata": {},
          "execution_count": 128
        }
      ],
      "source": [
        "costos_viajes[costos_viajes[\"vendor_id\"] == \"UberBlack\"]"
      ]
    },
    {
      "cell_type": "code",
      "execution_count": null,
      "metadata": {},
      "outputs": [],
      "source": []
    }
  ]
}