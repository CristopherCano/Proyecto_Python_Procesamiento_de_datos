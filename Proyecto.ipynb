{
  "nbformat": 4,
  "nbformat_minor": 0,
  "metadata": {
    "colab": {
      "name": "Proyecto.ipynb",
      "provenance": [],
      "collapsed_sections": [],
      "toc_visible": true
    },
    "kernelspec": {
      "name": "python3",
      "display_name": "Python 3.9.0 64-bit",
      "metadata": {
        "interpreter": {
          "hash": "1f65e174391277f634e70871feaa21300658cb740b5dabfc689c4c43dbc10e3e"
        }
      }
    }
  },
  "cells": [
    {
      "cell_type": "markdown",
      "metadata": {
        "id": "view-in-github"
      },
      "source": [
        "<a href=\"https://colab.research.google.com/github/CristopherCano/Proyecto_Python_Procesamiento_de_datos/blob/main/Proyecto.ipynb\" target=\"_parent\"><img src=\"https://colab.research.google.com/assets/colab-badge.svg\" alt=\"Open In Colab\"/></a>"
      ]
    },
    {
      "cell_type": "markdown",
      "metadata": {
        "id": "Xvw20LBISSvn"
      },
      "source": [
        "# Proyecto de Procesamiento de Datos con Python - BEDU - Módulo 3\n",
        "## Viajes en Taxis y Ubers en la Zona Metropolitana del Valle de México 2016 - 2017\n",
        "* Eduardo Alán Hernández Villasana\n",
        "* Cristopher Arvizu Cano\n",
        "* David Gil Peralta\n",
        "* José Antonio Aguilar Téllez"
      ]
    },
    {
      "cell_type": "markdown",
      "metadata": {
        "id": "wQaiYiUoSSvo"
      },
      "source": [
        "# 1.Planteamiento del Problema\n",
        "En los últimos años, desde la llegada de aplicaciones para el transporte privado como Uber o Didi, los gremios taxistas de la Zona Metropolitana del Valle de México han protestado en contra de estas aplicaciones, ellos argumentan una competencia desleal y exigen regulaciones hacia estos transportes. Esto no es de extrañarse ya que, con el aumento de la popularidad de estas aplicaciones de transporte, los taxistas están perdiendo clientes y no pueden o quieren modernizarse para poder competir con los automóviles de Uber o Didi que son más modernos. \n",
        "\n",
        "A raíz de este enfrentamiento, han surgido noticias comparando estos dos modelos de transporte privado, sin embargo, muchas de estas noticias están sesgadas por intereses políticos y económicos. Es por esta razón que decidimos analizar datos recopilados tanto en Taxis y Ubers para hacer una comparación entre los dos modelos y aportar nuestros hallazgos estadísticos a la discusión de este problema."
      ]
    },
    {
      "cell_type": "markdown",
      "metadata": {
        "id": "oi0SByLcSSvp"
      },
      "source": [
        "## Preguntas Clave\n",
        "Durante el desarrollo de este proyecto, se espera responder las siguientes preguntas.\n",
        "\n",
        "* ¿Qué tipo de transporte pasa menos tiempo en el tráfico?\n",
        "* ¿Cuál es la velocidad promedio de cada tipo de transporte?\n",
        "* ¿Qué día de la semana hay mas demanda para cada tipo de transporte?\n",
        "* ¿En qué tipo de transporte recibe más dinero en promedio por viaje?\n",
        "* ¿Desde qué demsarcación territorial o municipio cada tipo de transporte tiene mayor demanda?\n",
        "* ¿Cuál es el destino mas solicitado para cada tipo de transporte?"
      ]
    },
    {
      "cell_type": "code",
      "metadata": {
        "id": "PevJNVj4PZTZ"
      },
      "source": [
        "# Librerías a usar\n",
        "import pandas as pd\n",
        "import numpy as np\n",
        "import datetime as dt"
      ],
      "execution_count": null,
      "outputs": []
    },
    {
      "cell_type": "markdown",
      "metadata": {
        "id": "F9rrBxPpSSvq"
      },
      "source": [
        "# 2.Extracción de datos\n",
        "Se decidió usar una base de datos que contenga datos tanto de transportes *Uber* y *Taxis* comunes, se encontró una base de datos con estas características en el sitio kaggle.com. Estos datos fueron recolectados por *EC Taximeter* usando su aplicación movil, ellos recolectaron datos de viajes en Ubers y Taxis de la Ciudad de México de junio de 2016 a julio de 2017.\n",
        "Se descargará la base de datos desde GitHub."
      ]
    },
    {
      "cell_type": "code",
      "metadata": {
        "id": "5G4iMYv7Pgue"
      },
      "source": [
        "url = \"https://raw.githubusercontent.com/CristopherCano/Proyecto_Python_Procesamiento_de_datos/main/Data/cdmx_transporte_raw.csv\""
      ],
      "execution_count": null,
      "outputs": []
    },
    {
      "cell_type": "code",
      "metadata": {
        "colab": {
          "base_uri": "https://localhost:8080/",
          "height": 213
        },
        "id": "k5ApBhnoSSvr",
        "outputId": "f2b27e66-74e7-4bfe-bc49-01a52939adfe"
      },
      "source": [
        "data_raw = pd.read_csv(url, index_col=0)\n",
        "data_raw.head(2)"
      ],
      "execution_count": null,
      "outputs": [
        {
          "output_type": "execute_result",
          "data": {
            "text/html": [
              "<div>\n",
              "<style scoped>\n",
              "    .dataframe tbody tr th:only-of-type {\n",
              "        vertical-align: middle;\n",
              "    }\n",
              "\n",
              "    .dataframe tbody tr th {\n",
              "        vertical-align: top;\n",
              "    }\n",
              "\n",
              "    .dataframe thead th {\n",
              "        text-align: right;\n",
              "    }\n",
              "</style>\n",
              "<table border=\"1\" class=\"dataframe\">\n",
              "  <thead>\n",
              "    <tr style=\"text-align: right;\">\n",
              "      <th></th>\n",
              "      <th>vendor_id</th>\n",
              "      <th>pickup_datetime</th>\n",
              "      <th>dropoff_datetime</th>\n",
              "      <th>pickup_longitude</th>\n",
              "      <th>pickup_latitude</th>\n",
              "      <th>dropoff_longitude</th>\n",
              "      <th>dropoff_latitude</th>\n",
              "      <th>store_and_fwd_flag</th>\n",
              "      <th>trip_duration</th>\n",
              "      <th>dist_meters</th>\n",
              "      <th>wait_sec</th>\n",
              "    </tr>\n",
              "    <tr>\n",
              "      <th>id</th>\n",
              "      <th></th>\n",
              "      <th></th>\n",
              "      <th></th>\n",
              "      <th></th>\n",
              "      <th></th>\n",
              "      <th></th>\n",
              "      <th></th>\n",
              "      <th></th>\n",
              "      <th></th>\n",
              "      <th></th>\n",
              "      <th></th>\n",
              "    </tr>\n",
              "  </thead>\n",
              "  <tbody>\n",
              "    <tr>\n",
              "      <th>1</th>\n",
              "      <td>México DF Taxi de Sitio</td>\n",
              "      <td>2016-09-16 07:14:12</td>\n",
              "      <td>2016-09-18 04:41:40</td>\n",
              "      <td>-99.097369</td>\n",
              "      <td>19.416874</td>\n",
              "      <td>-99.202729</td>\n",
              "      <td>19.430353</td>\n",
              "      <td>N</td>\n",
              "      <td>120449</td>\n",
              "      <td>12373</td>\n",
              "      <td>242</td>\n",
              "    </tr>\n",
              "    <tr>\n",
              "      <th>2</th>\n",
              "      <td>México DF Taxi Libre</td>\n",
              "      <td>2016-09-18 06:16:33</td>\n",
              "      <td>2016-09-18 10:11:43</td>\n",
              "      <td>-99.297148</td>\n",
              "      <td>19.322128</td>\n",
              "      <td>-99.289949</td>\n",
              "      <td>19.326538</td>\n",
              "      <td>N</td>\n",
              "      <td>14110</td>\n",
              "      <td>1700</td>\n",
              "      <td>461</td>\n",
              "    </tr>\n",
              "  </tbody>\n",
              "</table>\n",
              "</div>"
            ],
            "text/plain": [
              "                  vendor_id      pickup_datetime  ... dist_meters  wait_sec\n",
              "id                                                ...                      \n",
              "1   México DF Taxi de Sitio  2016-09-16 07:14:12  ...       12373       242\n",
              "2      México DF Taxi Libre  2016-09-18 06:16:33  ...        1700       461\n",
              "\n",
              "[2 rows x 11 columns]"
            ]
          },
          "metadata": {
            "tags": []
          },
          "execution_count": 181
        }
      ]
    },
    {
      "cell_type": "markdown",
      "metadata": {
        "id": "qgWk5JIPSSvs"
      },
      "source": [
        "### Descripción de las Columnas\n",
        "* **id**: Un identificador único para cada viaje.\n",
        "* **vendor_id**: El tipo de transporte en que se realizó el viaje.\n",
        "* **pickup_datetime**: Fecha y Hora en que el viaje inició.\n",
        "* **dropoff_datetime**: Fecha y Hora en que el viaje finalizó.\n",
        "* **pickup_longitude**: Longitud en la que el viaje inició.\n",
        "* **pickup_latitude**: Latitud en la que el viaje inició.\n",
        "* **dropoff_longitude**: Longitud en la que el viaje finalizó.\n",
        "* **dropoff_latitude**: Latitud en la que el viaje finalizó.\n",
        "* **store_and_fwd_flag**: Indica si la información del viaje se almacenó en una memoria y después se envio al servidor por que no tenía conexión a internet o no. Todas las entradas de datos estan en 'N'.\n",
        "* **trip_duration**: Duración del viaje en segundos.\n",
        "* **dist_meters**: Distancia recorrida en el viaje en metros.\n",
        "* **wait_sec**: Tiempo en segundos en el que el automovil estuvo completamente detenido durante el viaje. (Se usará como medición del tráfico.)"
      ]
    },
    {
      "cell_type": "markdown",
      "metadata": {
        "id": "jiUTQYH0SSvt"
      },
      "source": [
        "## Exploración básica de datos\n",
        " "
      ]
    },
    {
      "cell_type": "markdown",
      "metadata": {
        "id": "jbScBpLgOi8Y"
      },
      "source": [
        "OBJETIVO \r\n",
        "\r\n",
        "- Leer nuestro dataset en un `DataFrame` de `pandas`.\r\n",
        "- Realizar Análisis Exploratorio de Datos básico para conocer algunas de las características de nuestro conjunto de datos.\r\n",
        "\r\n",
        "DESARROLLO\r\n",
        "\r\n",
        "En esta sección vamos a empezar a analizar nuestro conjunto de datos usando pandas.\r\n",
        "\r\n",
        "Algunas de las preguntas que estamos intentando responder en esta exploración son las siguientes:\r\n",
        "\r\n",
        "1. ¿El conjunto de datos que tengo realmente me sirve para responder algunas de las preguntas que me planteé?\r\n",
        "2. ¿Qué tamaño tiene mi conjunto de datos? ¿Serán datos suficientes?\r\n",
        "3. ¿Qué columnas tengo y qué información tengo en cada una de esas columnas?\r\n",
        "4. Los nombres que tienen mis columnas, ¿son el nombre más apropiado?\r\n",
        "4. ¿Qué tipos de datos tengo en cada columna? ¿Parecen ser el tipo correcto de datos? ¿O es un tipo de datos \"incorrecto\"?\r\n",
        "5. Si selecciono algunas filas al azar y las observo, ¿estoy obteniendo los datos que debería? ¿O hay datos que parecen estar \"sucios\" o \"incorrectos\"?"
      ]
    },
    {
      "cell_type": "markdown",
      "metadata": {
        "id": "ubBU_6kGSSvt"
      },
      "source": [
        "1. ¿El conjunto de datos que tengo realmente me sirve para responder algunas de las preguntas que me planteé?"
      ]
    },
    {
      "cell_type": "code",
      "metadata": {
        "colab": {
          "base_uri": "https://localhost:8080/"
        },
        "id": "q8_g0oMfSSvt",
        "outputId": "cf75fee6-ee84-44cc-e1a6-2c8fac59fb1f"
      },
      "source": [
        "tamaño = data_raw.shape\n",
        "print(f'2. ¿Qué tamaño tiene mi conjunto de datos? \\n número de filas: {tamaño[0]} \\n número de columnas: {tamaño[1]}')"
      ],
      "execution_count": null,
      "outputs": [
        {
          "output_type": "stream",
          "text": [
            "2. ¿Qué tamaño tiene mi conjunto de datos? \n",
            " número de filas: 12694 \n",
            " número de columnas: 11\n"
          ],
          "name": "stdout"
        }
      ]
    },
    {
      "cell_type": "code",
      "metadata": {
        "colab": {
          "base_uri": "https://localhost:8080/"
        },
        "id": "hEeqIbB4SSvu",
        "outputId": "d9e14433-0c46-49cb-f482-731fda144a08"
      },
      "source": [
        "print(f'3. ¿Qué columnas tengo y qué información tengo en cada una de esas columnas? \\n \\n En total tenemos{tamaño[1]} columnas \\n \\n {data_raw.columns}')"
      ],
      "execution_count": null,
      "outputs": [
        {
          "output_type": "stream",
          "text": [
            "3. ¿Qué columnas tengo y qué información tengo en cada una de esas columnas? \n",
            " \n",
            " En total tenemos11 columnas \n",
            " \n",
            " Index(['vendor_id', 'pickup_datetime', 'dropoff_datetime', 'pickup_longitude',\n",
            "       'pickup_latitude', 'dropoff_longitude', 'dropoff_latitude',\n",
            "       'store_and_fwd_flag', 'trip_duration', 'dist_meters', 'wait_sec'],\n",
            "      dtype='object')\n"
          ],
          "name": "stdout"
        }
      ]
    },
    {
      "cell_type": "markdown",
      "metadata": {
        "id": "CFEUWZXfSSvu"
      },
      "source": [
        "4. Los nombres que tienen mis columnas, ¿son el nombre más apropiado?\n",
        "\n",
        "Podemos observar que algunos nombres como vendor_id o dist_meters no son los más adecuados por lo que tendremos que usar la conveción apropiada que es snake-case y ajustar sus nombres"
      ]
    },
    {
      "cell_type": "markdown",
      "metadata": {
        "id": "z36qq-5eSSvv"
      },
      "source": [
        "5. ¿Qué tipos de datos tengo en cada columna? ¿Parecen ser el tipo correcto de datos? ¿O es un tipo de datos \"incorrecto\"?\n",
        "\n"
      ]
    },
    {
      "cell_type": "code",
      "metadata": {
        "colab": {
          "base_uri": "https://localhost:8080/"
        },
        "id": "Wg1-2FnWSSvv",
        "outputId": "5246d976-811d-4c90-d768-0c248470de61"
      },
      "source": [
        "data_raw.dtypes"
      ],
      "execution_count": null,
      "outputs": [
        {
          "output_type": "execute_result",
          "data": {
            "text/plain": [
              "vendor_id              object\n",
              "pickup_datetime        object\n",
              "dropoff_datetime       object\n",
              "pickup_longitude      float64\n",
              "pickup_latitude       float64\n",
              "dropoff_longitude     float64\n",
              "dropoff_latitude      float64\n",
              "store_and_fwd_flag     object\n",
              "trip_duration           int64\n",
              "dist_meters             int64\n",
              "wait_sec                int64\n",
              "dtype: object"
            ]
          },
          "metadata": {
            "tags": []
          },
          "execution_count": 184
        }
      ]
    },
    {
      "cell_type": "markdown",
      "metadata": {
        "id": "4q0rp5h1SSvv"
      },
      "source": [
        "Las fechas aparecen como object por lo que sera necesario transformar esta variable a un formato de fecha mediante padas"
      ]
    },
    {
      "cell_type": "markdown",
      "metadata": {
        "id": "UGwSeXfLSSvw"
      },
      "source": [
        "6. Si selecciono algunas filas al azar y las observo, ¿estoy obteniendo los datos que debería? ¿O hay datos que parecen estar \"sucios\" o \"incorrectos\"?\n"
      ]
    },
    {
      "cell_type": "code",
      "metadata": {
        "colab": {
          "base_uri": "https://localhost:8080/",
          "height": 340
        },
        "id": "U82UTdW5SSvw",
        "outputId": "54209398-db13-4e3d-bf88-74a32a11b008"
      },
      "source": [
        "data_raw.sample(5)"
      ],
      "execution_count": null,
      "outputs": [
        {
          "output_type": "execute_result",
          "data": {
            "text/html": [
              "<div>\n",
              "<style scoped>\n",
              "    .dataframe tbody tr th:only-of-type {\n",
              "        vertical-align: middle;\n",
              "    }\n",
              "\n",
              "    .dataframe tbody tr th {\n",
              "        vertical-align: top;\n",
              "    }\n",
              "\n",
              "    .dataframe thead th {\n",
              "        text-align: right;\n",
              "    }\n",
              "</style>\n",
              "<table border=\"1\" class=\"dataframe\">\n",
              "  <thead>\n",
              "    <tr style=\"text-align: right;\">\n",
              "      <th></th>\n",
              "      <th>vendor_id</th>\n",
              "      <th>pickup_datetime</th>\n",
              "      <th>dropoff_datetime</th>\n",
              "      <th>pickup_longitude</th>\n",
              "      <th>pickup_latitude</th>\n",
              "      <th>dropoff_longitude</th>\n",
              "      <th>dropoff_latitude</th>\n",
              "      <th>store_and_fwd_flag</th>\n",
              "      <th>trip_duration</th>\n",
              "      <th>dist_meters</th>\n",
              "      <th>wait_sec</th>\n",
              "    </tr>\n",
              "    <tr>\n",
              "      <th>id</th>\n",
              "      <th></th>\n",
              "      <th></th>\n",
              "      <th></th>\n",
              "      <th></th>\n",
              "      <th></th>\n",
              "      <th></th>\n",
              "      <th></th>\n",
              "      <th></th>\n",
              "      <th></th>\n",
              "      <th></th>\n",
              "      <th></th>\n",
              "    </tr>\n",
              "  </thead>\n",
              "  <tbody>\n",
              "    <tr>\n",
              "      <th>9082</th>\n",
              "      <td>México DF Taxi Libre</td>\n",
              "      <td>2017-01-17 10:21:10</td>\n",
              "      <td>2017-01-17 10:46:38</td>\n",
              "      <td>-99.068458</td>\n",
              "      <td>19.330774</td>\n",
              "      <td>-99.085482</td>\n",
              "      <td>19.382532</td>\n",
              "      <td>N</td>\n",
              "      <td>1529</td>\n",
              "      <td>8345</td>\n",
              "      <td>536</td>\n",
              "    </tr>\n",
              "    <tr>\n",
              "      <th>2372</th>\n",
              "      <td>México DF Taxi Libre</td>\n",
              "      <td>2017-04-18 10:43:49</td>\n",
              "      <td>2017-04-18 11:19:57</td>\n",
              "      <td>-99.121888</td>\n",
              "      <td>19.408144</td>\n",
              "      <td>-99.219631</td>\n",
              "      <td>19.415787</td>\n",
              "      <td>N</td>\n",
              "      <td>2169</td>\n",
              "      <td>16175</td>\n",
              "      <td>553</td>\n",
              "    </tr>\n",
              "    <tr>\n",
              "      <th>5191</th>\n",
              "      <td>México DF Taxi Libre</td>\n",
              "      <td>2017-06-13 03:28:46</td>\n",
              "      <td>2017-06-13 03:40:24</td>\n",
              "      <td>-99.196089</td>\n",
              "      <td>19.461315</td>\n",
              "      <td>-99.181378</td>\n",
              "      <td>19.447197</td>\n",
              "      <td>N</td>\n",
              "      <td>699</td>\n",
              "      <td>3080</td>\n",
              "      <td>308</td>\n",
              "    </tr>\n",
              "    <tr>\n",
              "      <th>1231</th>\n",
              "      <td>México DF Taxi Libre</td>\n",
              "      <td>2017-03-14 09:51:25</td>\n",
              "      <td>2017-03-14 10:09:08</td>\n",
              "      <td>-99.251659</td>\n",
              "      <td>19.305254</td>\n",
              "      <td>-99.239157</td>\n",
              "      <td>19.317197</td>\n",
              "      <td>N</td>\n",
              "      <td>1063</td>\n",
              "      <td>3079</td>\n",
              "      <td>457</td>\n",
              "    </tr>\n",
              "    <tr>\n",
              "      <th>10770</th>\n",
              "      <td>México DF Radio Taxi</td>\n",
              "      <td>2017-06-27 12:14:05</td>\n",
              "      <td>2017-06-27 12:21:59</td>\n",
              "      <td>-99.164418</td>\n",
              "      <td>19.417229</td>\n",
              "      <td>-99.155408</td>\n",
              "      <td>19.440062</td>\n",
              "      <td>N</td>\n",
              "      <td>474</td>\n",
              "      <td>2960</td>\n",
              "      <td>233</td>\n",
              "    </tr>\n",
              "  </tbody>\n",
              "</table>\n",
              "</div>"
            ],
            "text/plain": [
              "                  vendor_id      pickup_datetime  ... dist_meters  wait_sec\n",
              "id                                                ...                      \n",
              "9082   México DF Taxi Libre  2017-01-17 10:21:10  ...        8345       536\n",
              "2372   México DF Taxi Libre  2017-04-18 10:43:49  ...       16175       553\n",
              "5191   México DF Taxi Libre  2017-06-13 03:28:46  ...        3080       308\n",
              "1231   México DF Taxi Libre  2017-03-14 09:51:25  ...        3079       457\n",
              "10770  México DF Radio Taxi  2017-06-27 12:14:05  ...        2960       233\n",
              "\n",
              "[5 rows x 11 columns]"
            ]
          },
          "metadata": {
            "tags": []
          },
          "execution_count": 185
        }
      ]
    },
    {
      "cell_type": "code",
      "metadata": {
        "id": "1PkN2dbGtlWw"
      },
      "source": [
        "### Mi función summary\r\n",
        "def summary(nombre):\r\n",
        "  minimo = data_raw[nombre].min()\r\n",
        "  Q1 = data_raw[nombre].quantile(0.25)\r\n",
        "  median = data_raw[nombre].median()\r\n",
        "  mean = data_raw[nombre].mean()\r\n",
        "  Q2 = data_raw[nombre].quantile(0.5)\r\n",
        "  Q3 = data_raw[nombre].quantile(0.75)\r\n",
        "  maximo = data_raw[nombre].max()\r\n",
        "  IQR = Q3 - Q1\r\n",
        "  resumen = {'minimo': minimo, 'Q1': Q1, 'mediana':median,'Q2':Q2,'Q3':Q3,'max':maximo,'IQR':IQR, 'media':mean}\r\n",
        "  return resumen"
      ],
      "execution_count": null,
      "outputs": []
    },
    {
      "cell_type": "markdown",
      "metadata": {
        "id": "F6TETavasuSp"
      },
      "source": [
        "#### Trip duration"
      ]
    },
    {
      "cell_type": "code",
      "metadata": {
        "colab": {
          "base_uri": "https://localhost:8080/"
        },
        "id": "Tqm1G5PjsthK",
        "outputId": "030bf8a3-735c-4a79-fb58-e99eb3f76a8b"
      },
      "source": [
        "print('trip_dutario_seconds_resumen')\r\n",
        "trip_dutario_seconds_resumen = summary('trip_duration')\r\n",
        "trip_dutario_seconds_resumen"
      ],
      "execution_count": null,
      "outputs": [
        {
          "output_type": "stream",
          "text": [
            "trip_dutario_seconds_resumen\n"
          ],
          "name": "stdout"
        },
        {
          "output_type": "execute_result",
          "data": {
            "text/plain": [
              "{'IQR': 1884.75,\n",
              " 'Q1': 484.0,\n",
              " 'Q2': 1033.5,\n",
              " 'Q3': 2368.75,\n",
              " 'max': 16570949,\n",
              " 'media': 22983.77138805735,\n",
              " 'mediana': 1033.5,\n",
              " 'minimo': 2}"
            ]
          },
          "metadata": {
            "tags": []
          },
          "execution_count": 316
        }
      ]
    },
    {
      "cell_type": "code",
      "metadata": {
        "colab": {
          "base_uri": "https://localhost:8080/"
        },
        "id": "CAAg4s1CuknM",
        "outputId": "3427f696-7cda-42ed-f60d-ac149847159a"
      },
      "source": [
        "#Conversion a dia trip_duration\r\n",
        "print('duración del viaje maximo en min')\r\n",
        "trip_dutario_seconds_resumen['max']/(60)"
      ],
      "execution_count": null,
      "outputs": [
        {
          "output_type": "stream",
          "text": [
            "duración del viaje maximo en min\n"
          ],
          "name": "stdout"
        },
        {
          "output_type": "execute_result",
          "data": {
            "text/plain": [
              "276182.48333333334"
            ]
          },
          "metadata": {
            "tags": []
          },
          "execution_count": 317
        }
      ]
    },
    {
      "cell_type": "markdown",
      "metadata": {
        "id": "--48YPcJtX78"
      },
      "source": [
        "#### dist_meters"
      ]
    },
    {
      "cell_type": "code",
      "metadata": {
        "colab": {
          "base_uri": "https://localhost:8080/"
        },
        "id": "iPVwI98vsrQu",
        "outputId": "eca34e2f-f8d7-4c83-939f-a1b6f64870bb"
      },
      "source": [
        "print('dist_meters_resumen')\r\n",
        "dist_meters_resumen = summary('dist_meters')\r\n",
        "dist_meters_resumen"
      ],
      "execution_count": null,
      "outputs": [
        {
          "output_type": "stream",
          "text": [
            "dist_meters_resumen\n"
          ],
          "name": "stdout"
        },
        {
          "output_type": "execute_result",
          "data": {
            "text/plain": [
              "{'IQR': 6490.0,\n",
              " 'Q1': 1775.0,\n",
              " 'Q2': 3948.0,\n",
              " 'Q3': 8265.0,\n",
              " 'max': 802537,\n",
              " 'mediana': 3948.0,\n",
              " 'minimo': 21}"
            ]
          },
          "metadata": {
            "tags": []
          },
          "execution_count": 189
        }
      ]
    },
    {
      "cell_type": "code",
      "metadata": {
        "colab": {
          "base_uri": "https://localhost:8080/"
        },
        "id": "SrJhVcfuvNCQ",
        "outputId": "861f22fe-a457-4dc2-b89b-701d1fc12f87"
      },
      "source": [
        "# Coversión de dist_meters en km \r\n",
        "print('distacia maxima rrecorrida en km')\r\n",
        "dist_meters_resumen['max']/(1000)"
      ],
      "execution_count": null,
      "outputs": [
        {
          "output_type": "stream",
          "text": [
            "distacia maxima rrecorrida en km\n"
          ],
          "name": "stdout"
        },
        {
          "output_type": "execute_result",
          "data": {
            "text/plain": [
              "802.537"
            ]
          },
          "metadata": {
            "tags": []
          },
          "execution_count": 190
        }
      ]
    },
    {
      "cell_type": "markdown",
      "metadata": {
        "id": "9oIg-pNqtcSc"
      },
      "source": [
        "#### wait_sec"
      ]
    },
    {
      "cell_type": "code",
      "metadata": {
        "colab": {
          "base_uri": "https://localhost:8080/"
        },
        "id": "9souhr_DtfDq",
        "outputId": "e6403cb9-2040-4e89-d55e-87ce4580f21e"
      },
      "source": [
        "print('wait_sec_resumen')\r\n",
        "wait_sec_resumen = summary('wait_sec')\r\n",
        "wait_sec_resumen"
      ],
      "execution_count": null,
      "outputs": [
        {
          "output_type": "stream",
          "text": [
            "wait_sec_resumen\n"
          ],
          "name": "stdout"
        },
        {
          "output_type": "execute_result",
          "data": {
            "text/plain": [
              "{'IQR': 502.0,\n",
              " 'Q1': 89.0,\n",
              " 'Q2': 234.0,\n",
              " 'Q3': 591.0,\n",
              " 'max': 4429346278,\n",
              " 'media': 1161269.6217110446,\n",
              " 'mediana': 234.0,\n",
              " 'minimo': 0}"
            ]
          },
          "metadata": {
            "tags": []
          },
          "execution_count": 318
        }
      ]
    },
    {
      "cell_type": "code",
      "metadata": {
        "colab": {
          "base_uri": "https://localhost:8080/"
        },
        "id": "8ArEVeO7va3-",
        "outputId": "2f00fd88-9a02-4ac8-e0a4-f98255853da3"
      },
      "source": [
        "# Conversión wait_sec a dias \r\n",
        "print('tiempo de espera en minutos')\r\n",
        "wait_sec_resumen['max']/(60)"
      ],
      "execution_count": null,
      "outputs": [
        {
          "output_type": "stream",
          "text": [
            "tiempo de espera en minutos\n"
          ],
          "name": "stdout"
        },
        {
          "output_type": "execute_result",
          "data": {
            "text/plain": [
              "73822437.96666667"
            ]
          },
          "metadata": {
            "tags": []
          },
          "execution_count": 319
        }
      ]
    },
    {
      "cell_type": "markdown",
      "metadata": {
        "id": "LzyBwL7ntK3V"
      },
      "source": [
        "## Hallazgos preliminares encontraros"
      ]
    },
    {
      "cell_type": "markdown",
      "metadata": {
        "id": "HQtVVoEPsVA0"
      },
      "source": [
        "Columnas que tienen valores atípicos: \r\n",
        "\r\n",
        "- trip_duration,\r\n",
        "- dist_meters, \r\n",
        "- wait_sec. \r\n",
        "\r\n",
        "Sus valores máximos son extremadamente altos, por ejemplo:\r\n",
        "\r\n",
        "- El valor máximo de duración del viaje es ~ 276,182 min, esta cantidad equivale a un viaje de 191 dias, lo cuál es poco confiable.\r\n",
        "- El valor máximo de distancia del viaje es ~ 802.54 km, esto equivaldría a un viaje de la CDMX a Monterrey.\r\n",
        "- El timpo máximo de espera del viaje es 73,822,437 min, lo que no puede ser cierto para ningún viaje\r\n"
      ]
    },
    {
      "cell_type": "markdown",
      "metadata": {
        "id": "fqLH9jf6SSvw"
      },
      "source": [
        "A continuación observamos los siguiente problemas:\n",
        "* **vendor_id**: Se repite el patrón México DF\n",
        "* **store_and_fwd_flag**: No es significativa esta variable ya que siempre marca \"N\" en cada fila\n",
        "* **trip_duration**: Tenemos duraciones de viaje exageradamente grandes\n",
        "* **dist_meters**: Tenemos distacias de viaje exageradamente grandes\n",
        "* **wait_sec**: Tenemos tiempos de espera de viaje exageradamente grandes"
      ]
    },
    {
      "cell_type": "markdown",
      "metadata": {
        "id": "aLBXrAMQSSvx"
      },
      "source": [
        "#3.Limpieza de datos y agregaciones"
      ]
    },
    {
      "cell_type": "markdown",
      "metadata": {
        "id": "fr6iGgcFMJRT"
      },
      "source": [
        "OBJETIVO \r\n",
        "\r\n",
        "- Limpiar nuestro dataset de `NaNs`.\r\n",
        "- Reindexar si es necesario\r\n",
        "- Renombrar columnas si es necesario\r\n",
        "- Experimentar la aplicación de agregaciones para explorar nuestro dataset\r\n",
        "\r\n",
        "DESARROLLO\r\n",
        "- Eliminar datos atipicos\r\n",
        "- Limpia del dataset de manera que no quede ningún `NaN`.\r\n",
        "- Renombrar columnas"
      ]
    },
    {
      "cell_type": "code",
      "metadata": {
        "id": "mueTM0FOSSvx",
        "colab": {
          "base_uri": "https://localhost:8080/",
          "height": 340
        },
        "outputId": "1208fd14-82bc-41ae-b3ea-8904732e09c0"
      },
      "source": [
        "# Aqui va la corrección de nombres de las columnas\r\n",
        "nuevos_nombres = {'vendor_id':'tipo_transporte'}\r\n",
        "data_raw2 = data_raw.rename(columns=nuevos_nombres)\r\n",
        "data_raw2.head()"
      ],
      "execution_count": null,
      "outputs": [
        {
          "output_type": "execute_result",
          "data": {
            "text/html": [
              "<div>\n",
              "<style scoped>\n",
              "    .dataframe tbody tr th:only-of-type {\n",
              "        vertical-align: middle;\n",
              "    }\n",
              "\n",
              "    .dataframe tbody tr th {\n",
              "        vertical-align: top;\n",
              "    }\n",
              "\n",
              "    .dataframe thead th {\n",
              "        text-align: right;\n",
              "    }\n",
              "</style>\n",
              "<table border=\"1\" class=\"dataframe\">\n",
              "  <thead>\n",
              "    <tr style=\"text-align: right;\">\n",
              "      <th></th>\n",
              "      <th>tipo_transporte</th>\n",
              "      <th>pickup_datetime</th>\n",
              "      <th>dropoff_datetime</th>\n",
              "      <th>pickup_longitude</th>\n",
              "      <th>pickup_latitude</th>\n",
              "      <th>dropoff_longitude</th>\n",
              "      <th>dropoff_latitude</th>\n",
              "      <th>store_and_fwd_flag</th>\n",
              "      <th>trip_duration</th>\n",
              "      <th>dist_meters</th>\n",
              "      <th>wait_sec</th>\n",
              "    </tr>\n",
              "    <tr>\n",
              "      <th>id</th>\n",
              "      <th></th>\n",
              "      <th></th>\n",
              "      <th></th>\n",
              "      <th></th>\n",
              "      <th></th>\n",
              "      <th></th>\n",
              "      <th></th>\n",
              "      <th></th>\n",
              "      <th></th>\n",
              "      <th></th>\n",
              "      <th></th>\n",
              "    </tr>\n",
              "  </thead>\n",
              "  <tbody>\n",
              "    <tr>\n",
              "      <th>1</th>\n",
              "      <td>México DF Taxi de Sitio</td>\n",
              "      <td>2016-09-16 07:14:12</td>\n",
              "      <td>2016-09-18 04:41:40</td>\n",
              "      <td>-99.097369</td>\n",
              "      <td>19.416874</td>\n",
              "      <td>-99.202729</td>\n",
              "      <td>19.430353</td>\n",
              "      <td>N</td>\n",
              "      <td>120449</td>\n",
              "      <td>12373</td>\n",
              "      <td>242</td>\n",
              "    </tr>\n",
              "    <tr>\n",
              "      <th>2</th>\n",
              "      <td>México DF Taxi Libre</td>\n",
              "      <td>2016-09-18 06:16:33</td>\n",
              "      <td>2016-09-18 10:11:43</td>\n",
              "      <td>-99.297148</td>\n",
              "      <td>19.322128</td>\n",
              "      <td>-99.289949</td>\n",
              "      <td>19.326538</td>\n",
              "      <td>N</td>\n",
              "      <td>14110</td>\n",
              "      <td>1700</td>\n",
              "      <td>461</td>\n",
              "    </tr>\n",
              "    <tr>\n",
              "      <th>3</th>\n",
              "      <td>México DF Taxi Libre</td>\n",
              "      <td>2016-09-18 10:11:50</td>\n",
              "      <td>2016-09-18 10:23:11</td>\n",
              "      <td>-99.289603</td>\n",
              "      <td>19.326263</td>\n",
              "      <td>-99.271874</td>\n",
              "      <td>19.328530</td>\n",
              "      <td>N</td>\n",
              "      <td>681</td>\n",
              "      <td>2848</td>\n",
              "      <td>129</td>\n",
              "    </tr>\n",
              "    <tr>\n",
              "      <th>4</th>\n",
              "      <td>México DF Taxi Libre</td>\n",
              "      <td>2016-09-18 10:23:38</td>\n",
              "      <td>2016-09-18 10:30:53</td>\n",
              "      <td>-99.271161</td>\n",
              "      <td>19.328875</td>\n",
              "      <td>-99.279900</td>\n",
              "      <td>19.326256</td>\n",
              "      <td>N</td>\n",
              "      <td>436</td>\n",
              "      <td>1409</td>\n",
              "      <td>106</td>\n",
              "    </tr>\n",
              "    <tr>\n",
              "      <th>5</th>\n",
              "      <td>México DF Taxi Libre</td>\n",
              "      <td>2016-09-18 10:44:18</td>\n",
              "      <td>2016-09-18 10:51:40</td>\n",
              "      <td>-99.282761</td>\n",
              "      <td>19.326944</td>\n",
              "      <td>-99.291705</td>\n",
              "      <td>19.322754</td>\n",
              "      <td>N</td>\n",
              "      <td>442</td>\n",
              "      <td>1567</td>\n",
              "      <td>85</td>\n",
              "    </tr>\n",
              "  </tbody>\n",
              "</table>\n",
              "</div>"
            ],
            "text/plain": [
              "            tipo_transporte      pickup_datetime  ... dist_meters  wait_sec\n",
              "id                                                ...                      \n",
              "1   México DF Taxi de Sitio  2016-09-16 07:14:12  ...       12373       242\n",
              "2      México DF Taxi Libre  2016-09-18 06:16:33  ...        1700       461\n",
              "3      México DF Taxi Libre  2016-09-18 10:11:50  ...        2848       129\n",
              "4      México DF Taxi Libre  2016-09-18 10:23:38  ...        1409       106\n",
              "5      México DF Taxi Libre  2016-09-18 10:44:18  ...        1567        85\n",
              "\n",
              "[5 rows x 11 columns]"
            ]
          },
          "metadata": {
            "tags": []
          },
          "execution_count": 193
        }
      ]
    },
    {
      "cell_type": "markdown",
      "metadata": {
        "id": "Gd2AHJj8NnwM"
      },
      "source": [
        "### Chequeo NaN's"
      ]
    },
    {
      "cell_type": "code",
      "metadata": {
        "colab": {
          "base_uri": "https://localhost:8080/"
        },
        "id": "bdWHOI96NQRf",
        "outputId": "c9628f77-ed63-41ae-f89b-815268ea1bc1"
      },
      "source": [
        "data_raw2.isna().sum(axis=0)"
      ],
      "execution_count": null,
      "outputs": [
        {
          "output_type": "execute_result",
          "data": {
            "text/plain": [
              "tipo_transporte       0\n",
              "pickup_datetime       0\n",
              "dropoff_datetime      0\n",
              "pickup_longitude      0\n",
              "pickup_latitude       0\n",
              "dropoff_longitude     0\n",
              "dropoff_latitude      0\n",
              "store_and_fwd_flag    0\n",
              "trip_duration         0\n",
              "dist_meters           0\n",
              "wait_sec              0\n",
              "dtype: int64"
            ]
          },
          "metadata": {
            "tags": []
          },
          "execution_count": 194
        }
      ]
    },
    {
      "cell_type": "markdown",
      "metadata": {
        "id": "JstS_bboN2Yn"
      },
      "source": [
        "Se revisio la prosible existencia de datos nulos o NaN pero no se encontro este problema."
      ]
    },
    {
      "cell_type": "markdown",
      "metadata": {
        "id": "6A-I_0E2wMXi"
      },
      "source": [
        "### Eliminación de columnas"
      ]
    },
    {
      "cell_type": "markdown",
      "metadata": {
        "id": "MWZNcEt4M0TD"
      },
      "source": [
        "`store_and_fwd_flag`: Es una columna que tiene un unico valor y no muestra ser relevante para un futuro uso por lo que se decide droppear esta columna"
      ]
    },
    {
      "cell_type": "code",
      "metadata": {
        "id": "Hfd0hS0oSSvx"
      },
      "source": [
        "data_raw_dropped = data_raw2.drop(['store_and_fwd_flag'], axis=1)"
      ],
      "execution_count": null,
      "outputs": []
    },
    {
      "cell_type": "code",
      "metadata": {
        "id": "_KW5TFDZSSvx"
      },
      "source": [
        " data_raw_dropped['tipo_transporte'] = data_raw_dropped['tipo_transporte'].str.replace(\"México DF \",\"\")"
      ],
      "execution_count": null,
      "outputs": []
    },
    {
      "cell_type": "code",
      "metadata": {
        "colab": {
          "base_uri": "https://localhost:8080/",
          "height": 580
        },
        "id": "U1IruTWkSSvy",
        "outputId": "f1e82a78-9888-45a8-dbae-f27fdbb0d351"
      },
      "source": [
        "data_raw_dropped.head(10)"
      ],
      "execution_count": null,
      "outputs": [
        {
          "output_type": "execute_result",
          "data": {
            "text/html": [
              "<div>\n",
              "<style scoped>\n",
              "    .dataframe tbody tr th:only-of-type {\n",
              "        vertical-align: middle;\n",
              "    }\n",
              "\n",
              "    .dataframe tbody tr th {\n",
              "        vertical-align: top;\n",
              "    }\n",
              "\n",
              "    .dataframe thead th {\n",
              "        text-align: right;\n",
              "    }\n",
              "</style>\n",
              "<table border=\"1\" class=\"dataframe\">\n",
              "  <thead>\n",
              "    <tr style=\"text-align: right;\">\n",
              "      <th></th>\n",
              "      <th>tipo_transporte</th>\n",
              "      <th>pickup_datetime</th>\n",
              "      <th>dropoff_datetime</th>\n",
              "      <th>pickup_longitude</th>\n",
              "      <th>pickup_latitude</th>\n",
              "      <th>dropoff_longitude</th>\n",
              "      <th>dropoff_latitude</th>\n",
              "      <th>trip_duration</th>\n",
              "      <th>dist_meters</th>\n",
              "      <th>wait_sec</th>\n",
              "    </tr>\n",
              "    <tr>\n",
              "      <th>id</th>\n",
              "      <th></th>\n",
              "      <th></th>\n",
              "      <th></th>\n",
              "      <th></th>\n",
              "      <th></th>\n",
              "      <th></th>\n",
              "      <th></th>\n",
              "      <th></th>\n",
              "      <th></th>\n",
              "      <th></th>\n",
              "    </tr>\n",
              "  </thead>\n",
              "  <tbody>\n",
              "    <tr>\n",
              "      <th>1</th>\n",
              "      <td>Taxi de Sitio</td>\n",
              "      <td>2016-09-16 07:14:12</td>\n",
              "      <td>2016-09-18 04:41:40</td>\n",
              "      <td>-99.097369</td>\n",
              "      <td>19.416874</td>\n",
              "      <td>-99.202729</td>\n",
              "      <td>19.430353</td>\n",
              "      <td>120449</td>\n",
              "      <td>12373</td>\n",
              "      <td>242</td>\n",
              "    </tr>\n",
              "    <tr>\n",
              "      <th>2</th>\n",
              "      <td>Taxi Libre</td>\n",
              "      <td>2016-09-18 06:16:33</td>\n",
              "      <td>2016-09-18 10:11:43</td>\n",
              "      <td>-99.297148</td>\n",
              "      <td>19.322128</td>\n",
              "      <td>-99.289949</td>\n",
              "      <td>19.326538</td>\n",
              "      <td>14110</td>\n",
              "      <td>1700</td>\n",
              "      <td>461</td>\n",
              "    </tr>\n",
              "    <tr>\n",
              "      <th>3</th>\n",
              "      <td>Taxi Libre</td>\n",
              "      <td>2016-09-18 10:11:50</td>\n",
              "      <td>2016-09-18 10:23:11</td>\n",
              "      <td>-99.289603</td>\n",
              "      <td>19.326263</td>\n",
              "      <td>-99.271874</td>\n",
              "      <td>19.328530</td>\n",
              "      <td>681</td>\n",
              "      <td>2848</td>\n",
              "      <td>129</td>\n",
              "    </tr>\n",
              "    <tr>\n",
              "      <th>4</th>\n",
              "      <td>Taxi Libre</td>\n",
              "      <td>2016-09-18 10:23:38</td>\n",
              "      <td>2016-09-18 10:30:53</td>\n",
              "      <td>-99.271161</td>\n",
              "      <td>19.328875</td>\n",
              "      <td>-99.279900</td>\n",
              "      <td>19.326256</td>\n",
              "      <td>436</td>\n",
              "      <td>1409</td>\n",
              "      <td>106</td>\n",
              "    </tr>\n",
              "    <tr>\n",
              "      <th>5</th>\n",
              "      <td>Taxi Libre</td>\n",
              "      <td>2016-09-18 10:44:18</td>\n",
              "      <td>2016-09-18 10:51:40</td>\n",
              "      <td>-99.282761</td>\n",
              "      <td>19.326944</td>\n",
              "      <td>-99.291705</td>\n",
              "      <td>19.322754</td>\n",
              "      <td>442</td>\n",
              "      <td>1567</td>\n",
              "      <td>85</td>\n",
              "    </tr>\n",
              "    <tr>\n",
              "      <th>6</th>\n",
              "      <td>Taxi Libre</td>\n",
              "      <td>2016-09-18 10:58:07</td>\n",
              "      <td>2016-09-18 10:59:46</td>\n",
              "      <td>-99.289712</td>\n",
              "      <td>19.322929</td>\n",
              "      <td>-99.289280</td>\n",
              "      <td>19.325978</td>\n",
              "      <td>100</td>\n",
              "      <td>797</td>\n",
              "      <td>19</td>\n",
              "    </tr>\n",
              "    <tr>\n",
              "      <th>7</th>\n",
              "      <td>Taxi Libre</td>\n",
              "      <td>2016-09-18 11:00:00</td>\n",
              "      <td>2016-09-18 11:05:45</td>\n",
              "      <td>-99.285391</td>\n",
              "      <td>19.326247</td>\n",
              "      <td>-99.282549</td>\n",
              "      <td>19.328117</td>\n",
              "      <td>345</td>\n",
              "      <td>676</td>\n",
              "      <td>169</td>\n",
              "    </tr>\n",
              "    <tr>\n",
              "      <th>8</th>\n",
              "      <td>Taxi Libre</td>\n",
              "      <td>2016-09-18 11:08:03</td>\n",
              "      <td>2016-09-18 11:17:06</td>\n",
              "      <td>-99.285891</td>\n",
              "      <td>19.330022</td>\n",
              "      <td>-99.289828</td>\n",
              "      <td>19.319170</td>\n",
              "      <td>544</td>\n",
              "      <td>3771</td>\n",
              "      <td>37</td>\n",
              "    </tr>\n",
              "    <tr>\n",
              "      <th>9</th>\n",
              "      <td>Radio Taxi</td>\n",
              "      <td>2016-09-18 01:06:08</td>\n",
              "      <td>2016-09-18 01:26:34</td>\n",
              "      <td>-99.182346</td>\n",
              "      <td>19.370885</td>\n",
              "      <td>-99.176534</td>\n",
              "      <td>19.341410</td>\n",
              "      <td>1226</td>\n",
              "      <td>5662</td>\n",
              "      <td>572</td>\n",
              "    </tr>\n",
              "    <tr>\n",
              "      <th>10</th>\n",
              "      <td>Taxi de Sitio</td>\n",
              "      <td>2016-09-18 03:42:18</td>\n",
              "      <td>2016-09-18 04:11:00</td>\n",
              "      <td>-99.074794</td>\n",
              "      <td>19.412589</td>\n",
              "      <td>-99.161239</td>\n",
              "      <td>19.381701</td>\n",
              "      <td>1723</td>\n",
              "      <td>14349</td>\n",
              "      <td>459</td>\n",
              "    </tr>\n",
              "  </tbody>\n",
              "</table>\n",
              "</div>"
            ],
            "text/plain": [
              "   tipo_transporte      pickup_datetime  ... dist_meters  wait_sec\n",
              "id                                       ...                      \n",
              "1    Taxi de Sitio  2016-09-16 07:14:12  ...       12373       242\n",
              "2       Taxi Libre  2016-09-18 06:16:33  ...        1700       461\n",
              "3       Taxi Libre  2016-09-18 10:11:50  ...        2848       129\n",
              "4       Taxi Libre  2016-09-18 10:23:38  ...        1409       106\n",
              "5       Taxi Libre  2016-09-18 10:44:18  ...        1567        85\n",
              "6       Taxi Libre  2016-09-18 10:58:07  ...         797        19\n",
              "7       Taxi Libre  2016-09-18 11:00:00  ...         676       169\n",
              "8       Taxi Libre  2016-09-18 11:08:03  ...        3771        37\n",
              "9       Radio Taxi  2016-09-18 01:06:08  ...        5662       572\n",
              "10   Taxi de Sitio  2016-09-18 03:42:18  ...       14349       459\n",
              "\n",
              "[10 rows x 10 columns]"
            ]
          },
          "metadata": {
            "tags": []
          },
          "execution_count": 197
        }
      ]
    },
    {
      "cell_type": "markdown",
      "metadata": {
        "id": "CYIlLoArwU54"
      },
      "source": [
        "### Casting fechas\r\n",
        "En la exploración de datos se observó que las columnas `pickup_datetime` y `dropoff_datetime` son strings, como se planea usar las fechas de los viajes se cambiará el tipo de dato de dichas columnas a `datetime`."
      ]
    },
    {
      "cell_type": "code",
      "metadata": {
        "colab": {
          "base_uri": "https://localhost:8080/"
        },
        "id": "vPSXa43qSSvy",
        "outputId": "63d7c23f-68b2-45c9-84fb-c858eb20333b"
      },
      "source": [
        "data_raw_dropped['pickup_datetime'] = pd.to_datetime(data_raw_dropped['pickup_datetime'], unit = 'ns')\n",
        "data_raw_dropped['pickup_datetime'].head()"
      ],
      "execution_count": null,
      "outputs": [
        {
          "output_type": "execute_result",
          "data": {
            "text/plain": [
              "id\n",
              "1   2016-09-16 07:14:12\n",
              "2   2016-09-18 06:16:33\n",
              "3   2016-09-18 10:11:50\n",
              "4   2016-09-18 10:23:38\n",
              "5   2016-09-18 10:44:18\n",
              "Name: pickup_datetime, dtype: datetime64[ns]"
            ]
          },
          "metadata": {
            "tags": []
          },
          "execution_count": 198
        }
      ]
    },
    {
      "cell_type": "code",
      "metadata": {
        "colab": {
          "base_uri": "https://localhost:8080/"
        },
        "id": "56YEaL8aSSvz",
        "outputId": "90fb2e47-e241-43d1-ab5b-cd18382014fb"
      },
      "source": [
        "data_raw_dropped['dropoff_datetime'] = pd.to_datetime(data_raw_dropped['dropoff_datetime'], unit = 'ns')\n",
        "data_raw_dropped['dropoff_datetime'].head()"
      ],
      "execution_count": null,
      "outputs": [
        {
          "output_type": "execute_result",
          "data": {
            "text/plain": [
              "id\n",
              "1   2016-09-18 04:41:40\n",
              "2   2016-09-18 10:11:43\n",
              "3   2016-09-18 10:23:11\n",
              "4   2016-09-18 10:30:53\n",
              "5   2016-09-18 10:51:40\n",
              "Name: dropoff_datetime, dtype: datetime64[ns]"
            ]
          },
          "metadata": {
            "tags": []
          },
          "execution_count": 199
        }
      ]
    },
    {
      "cell_type": "code",
      "metadata": {
        "colab": {
          "base_uri": "https://localhost:8080/"
        },
        "id": "0eNPPcbLSSvz",
        "outputId": "89171996-253f-4269-d890-107aba12d42a"
      },
      "source": [
        "data_raw_dropped.dtypes"
      ],
      "execution_count": null,
      "outputs": [
        {
          "output_type": "execute_result",
          "data": {
            "text/plain": [
              "tipo_transporte              object\n",
              "pickup_datetime      datetime64[ns]\n",
              "dropoff_datetime     datetime64[ns]\n",
              "pickup_longitude            float64\n",
              "pickup_latitude             float64\n",
              "dropoff_longitude           float64\n",
              "dropoff_latitude            float64\n",
              "trip_duration                 int64\n",
              "dist_meters                   int64\n",
              "wait_sec                      int64\n",
              "dtype: object"
            ]
          },
          "metadata": {
            "tags": []
          },
          "execution_count": 200
        }
      ]
    },
    {
      "cell_type": "markdown",
      "metadata": {
        "id": "hiJ4Zf-Rw6Sg"
      },
      "source": [
        "### Conversión de unidades\r\n",
        "Las columnas `dist_meters` y `trip_duration` estan en metros y segundos respectivamente. Se prevee que se vayan a ocupar en kilómetros y horas para análisis posteriores, por eso se les someterá a una transformación usando el método `apply`. Como la conversión de unidades es una operación matemática simple, se usarán funciones anónimas *`lambda`*"
      ]
    },
    {
      "cell_type": "code",
      "metadata": {
        "id": "IVqNiAyNSSv0"
      },
      "source": [
        "data_filtered = data_raw_dropped.copy()"
      ],
      "execution_count": null,
      "outputs": []
    },
    {
      "cell_type": "markdown",
      "metadata": {
        "id": "xCAwDB_FSSv0"
      },
      "source": [
        "Conversión de la duración del viaje de segundos a horas."
      ]
    },
    {
      "cell_type": "code",
      "metadata": {
        "colab": {
          "base_uri": "https://localhost:8080/"
        },
        "id": "WEZajNYqSSv0",
        "outputId": "8dfe92d6-f14d-4992-8742-637a729c5413"
      },
      "source": [
        "data_filtered[\"trip_duration\"].head(2)"
      ],
      "execution_count": null,
      "outputs": [
        {
          "output_type": "execute_result",
          "data": {
            "text/plain": [
              "id\n",
              "1    120449\n",
              "2     14110\n",
              "Name: trip_duration, dtype: int64"
            ]
          },
          "metadata": {
            "tags": []
          },
          "execution_count": 202
        }
      ]
    },
    {
      "cell_type": "code",
      "metadata": {
        "colab": {
          "base_uri": "https://localhost:8080/"
        },
        "id": "YWBxlVcySSv1",
        "outputId": "0ea219fe-e638-49d7-9f32-d6c82f25d60b"
      },
      "source": [
        "# Como es una operación simple se usará una función anónima.\n",
        "data_filtered[\"trip_duration\"] = data_filtered[\"trip_duration\"].apply(lambda x: x/3600)\n",
        "data_filtered[\"trip_duration\"].head(2)"
      ],
      "execution_count": null,
      "outputs": [
        {
          "output_type": "execute_result",
          "data": {
            "text/plain": [
              "id\n",
              "1    33.458056\n",
              "2     3.919444\n",
              "Name: trip_duration, dtype: float64"
            ]
          },
          "metadata": {
            "tags": []
          },
          "execution_count": 203
        }
      ]
    },
    {
      "cell_type": "markdown",
      "metadata": {
        "id": "HeBQe7BISSv1"
      },
      "source": [
        "Conversión de la distancia recorrida en metros a kilómetros"
      ]
    },
    {
      "cell_type": "code",
      "metadata": {
        "colab": {
          "base_uri": "https://localhost:8080/"
        },
        "id": "tBc0k7sLSSv1",
        "outputId": "0e7ce097-9611-4dbd-9b6e-2dd90c34115e"
      },
      "source": [
        "data_filtered[\"dist_meters\"].head(2)"
      ],
      "execution_count": null,
      "outputs": [
        {
          "output_type": "execute_result",
          "data": {
            "text/plain": [
              "id\n",
              "1    12373\n",
              "2     1700\n",
              "Name: dist_meters, dtype: int64"
            ]
          },
          "metadata": {
            "tags": []
          },
          "execution_count": 204
        }
      ]
    },
    {
      "cell_type": "code",
      "metadata": {
        "colab": {
          "base_uri": "https://localhost:8080/"
        },
        "id": "5RB40LKxSSv2",
        "outputId": "bd61b47a-0722-4eb6-cedf-f756e8794c8b"
      },
      "source": [
        "# Como es una operación simple se usará una función anónima.\n",
        "data_filtered[\"dist_km\"] = data_filtered[\"dist_meters\"].apply(lambda x: x/1000)\n",
        "data_filtered[\"dist_km\"].head(2)"
      ],
      "execution_count": null,
      "outputs": [
        {
          "output_type": "execute_result",
          "data": {
            "text/plain": [
              "id\n",
              "1    12.373\n",
              "2     1.700\n",
              "Name: dist_km, dtype: float64"
            ]
          },
          "metadata": {
            "tags": []
          },
          "execution_count": 205
        }
      ]
    },
    {
      "cell_type": "markdown",
      "metadata": {
        "id": "-PCsBeP6SSv2"
      },
      "source": [
        "Creación de la columna `speed_km` que contiene la velocidad del viaje."
      ]
    },
    {
      "cell_type": "code",
      "metadata": {
        "colab": {
          "base_uri": "https://localhost:8080/",
          "height": 235
        },
        "id": "2IJP_Q6YSSv2",
        "outputId": "d548258a-a727-458d-9bba-446e2de7c25c"
      },
      "source": [
        "data_filtered[\"speed_km\"] = data_filtered[\"dist_km\"]/data_filtered[\"trip_duration\"]\n",
        "data_filtered[[\"dist_km\",\"trip_duration\",\"speed_km\"]].head()"
      ],
      "execution_count": null,
      "outputs": [
        {
          "output_type": "execute_result",
          "data": {
            "text/html": [
              "<div>\n",
              "<style scoped>\n",
              "    .dataframe tbody tr th:only-of-type {\n",
              "        vertical-align: middle;\n",
              "    }\n",
              "\n",
              "    .dataframe tbody tr th {\n",
              "        vertical-align: top;\n",
              "    }\n",
              "\n",
              "    .dataframe thead th {\n",
              "        text-align: right;\n",
              "    }\n",
              "</style>\n",
              "<table border=\"1\" class=\"dataframe\">\n",
              "  <thead>\n",
              "    <tr style=\"text-align: right;\">\n",
              "      <th></th>\n",
              "      <th>dist_km</th>\n",
              "      <th>trip_duration</th>\n",
              "      <th>speed_km</th>\n",
              "    </tr>\n",
              "    <tr>\n",
              "      <th>id</th>\n",
              "      <th></th>\n",
              "      <th></th>\n",
              "      <th></th>\n",
              "    </tr>\n",
              "  </thead>\n",
              "  <tbody>\n",
              "    <tr>\n",
              "      <th>1</th>\n",
              "      <td>12.373</td>\n",
              "      <td>33.458056</td>\n",
              "      <td>0.369806</td>\n",
              "    </tr>\n",
              "    <tr>\n",
              "      <th>2</th>\n",
              "      <td>1.700</td>\n",
              "      <td>3.919444</td>\n",
              "      <td>0.433735</td>\n",
              "    </tr>\n",
              "    <tr>\n",
              "      <th>3</th>\n",
              "      <td>2.848</td>\n",
              "      <td>0.189167</td>\n",
              "      <td>15.055507</td>\n",
              "    </tr>\n",
              "    <tr>\n",
              "      <th>4</th>\n",
              "      <td>1.409</td>\n",
              "      <td>0.121111</td>\n",
              "      <td>11.633945</td>\n",
              "    </tr>\n",
              "    <tr>\n",
              "      <th>5</th>\n",
              "      <td>1.567</td>\n",
              "      <td>0.122778</td>\n",
              "      <td>12.762896</td>\n",
              "    </tr>\n",
              "  </tbody>\n",
              "</table>\n",
              "</div>"
            ],
            "text/plain": [
              "    dist_km  trip_duration   speed_km\n",
              "id                                   \n",
              "1    12.373      33.458056   0.369806\n",
              "2     1.700       3.919444   0.433735\n",
              "3     2.848       0.189167  15.055507\n",
              "4     1.409       0.121111  11.633945\n",
              "5     1.567       0.122778  12.762896"
            ]
          },
          "metadata": {
            "tags": []
          },
          "execution_count": 206
        }
      ]
    },
    {
      "cell_type": "markdown",
      "metadata": {
        "id": "gkdwOhL2SSv3"
      },
      "source": [
        "Como se puede ver, hay viajes que duran más de lo anormal, debido al contexto del dataframe, consideramos que se deben de eliminar los viajes con velocidades mayores a 200 km/h y con distancias menores a 500 metros (.5 km). Después se eliminarán outliers con el método del Rango Inter Cuartílico."
      ]
    },
    {
      "cell_type": "markdown",
      "metadata": {
        "id": "SDMMjEpIxJs1"
      },
      "source": [
        "### Eliminación de outlayers\r\n",
        "En la exploración básica de los datos, se observó que hay datos irreales en `trip_duration`, `dist_meters` y en la velocidad. Se decidió hacer un filtro para eliminar los *outliers* usando el método del **Rango Inter Cuartílico (IQR)**. Este método se aplicará a las columnas `wait_sec`, `speed_km`, `dist_km` y `trip_duration`."
      ]
    },
    {
      "cell_type": "code",
      "metadata": {
        "id": "FxpVUU3vSSv3"
      },
      "source": [
        "data_filtered = data_filtered[(data_filtered[\"speed_km\"] < 200)  & (data_filtered[\"dist_km\"] > 0.5)]"
      ],
      "execution_count": null,
      "outputs": []
    },
    {
      "cell_type": "code",
      "metadata": {
        "colab": {
          "base_uri": "https://localhost:8080/"
        },
        "id": "sexZaNt8yAeh",
        "outputId": "bbfe6e42-8fe5-42be-b089-1e0914c5a296"
      },
      "source": [
        "Q1 = data_filtered['wait_sec'].quantile(0.25)\r\n",
        "Q2 = data_filtered['wait_sec'].quantile(0.5)\r\n",
        "Q3 = data_filtered['wait_sec'].quantile(0.75)\r\n",
        "IQR_trip_duration = Q3 - Q1\r\n",
        "print (\"Cuartiles\\t\\tValor\")\r\n",
        "print(\"25%\\t\\t\",Q1)\r\n",
        "print(\"50%\\t\\t\",Q2)\r\n",
        "print(\"75%\\t\\t\",Q3)\r\n",
        "print(\"\\n\\nRango Intercuartílico: \",IQR_trip_duration)"
      ],
      "execution_count": null,
      "outputs": [
        {
          "output_type": "stream",
          "text": [
            "Cuartiles\t\tValor\n",
            "25%\t\t 105.0\n",
            "50%\t\t 259.0\n",
            "75%\t\t 623.0\n",
            "\n",
            "\n",
            "Rango Intercuartílico:  518.0\n"
          ],
          "name": "stdout"
        }
      ]
    },
    {
      "cell_type": "code",
      "metadata": {
        "id": "Jzp9uPiLyDkL"
      },
      "source": [
        "data_filtered = data_filtered[(data_filtered[\"wait_sec\"] >= Q1 - 1.5*IQR_trip_duration) & (data_filtered[\"wait_sec\"] <= Q3 + 1.5*IQR_trip_duration)]"
      ],
      "execution_count": null,
      "outputs": []
    },
    {
      "cell_type": "code",
      "metadata": {
        "colab": {
          "base_uri": "https://localhost:8080/"
        },
        "id": "atjl_x4pyIif",
        "outputId": "390b5084-698b-4a81-b943-3739e0f7544e"
      },
      "source": [
        "data_filtered.shape"
      ],
      "execution_count": null,
      "outputs": [
        {
          "output_type": "execute_result",
          "data": {
            "text/plain": [
              "(10142, 12)"
            ]
          },
          "metadata": {
            "tags": []
          },
          "execution_count": 210
        }
      ]
    },
    {
      "cell_type": "markdown",
      "metadata": {
        "id": "pdYgUW12SSv4"
      },
      "source": [
        "#### `speed_km`"
      ]
    },
    {
      "cell_type": "code",
      "metadata": {
        "colab": {
          "base_uri": "https://localhost:8080/"
        },
        "id": "gE5R0wMlSSv4",
        "outputId": "1e4e78d6-966c-4ec4-957a-fa78b773c6d7"
      },
      "source": [
        "Q1 = data_filtered[\"speed_km\"].quantile(0.25)\r\n",
        "Q2 = data_filtered[\"speed_km\"].quantile(0.5)\r\n",
        "Q3 = data_filtered[\"speed_km\"].quantile(0.75)\r\n",
        "IQR_speed = Q3 - Q1\r\n",
        "print (\"Cuartiles\\t\\tValor\")\r\n",
        "print(\"25%\\t\\t\",Q1)\r\n",
        "print(\"50%\\t\\t\",Q2)\r\n",
        "print(\"75%\\t\\t\",Q3)\r\n",
        "print(\"\\n\\nRango Intercuartílico: \",IQR_speed)"
      ],
      "execution_count": null,
      "outputs": [
        {
          "output_type": "stream",
          "text": [
            "Cuartiles\t\tValor\n",
            "25%\t\t 10.638143978293026\n",
            "50%\t\t 16.13962025316456\n",
            "75%\t\t 21.655161064969338\n",
            "\n",
            "\n",
            "Rango Intercuartílico:  11.017017086676312\n"
          ],
          "name": "stdout"
        }
      ]
    },
    {
      "cell_type": "code",
      "metadata": {
        "id": "blYeZV_ySSv5"
      },
      "source": [
        "data_filtered = data_filtered[(data_filtered[\"speed_km\"] >= Q1 - 1.5*IQR_speed) & (data_filtered[\"speed_km\"] <= Q3 + 1.5*IQR_speed)]"
      ],
      "execution_count": null,
      "outputs": []
    },
    {
      "cell_type": "markdown",
      "metadata": {
        "id": "XDpbJwU-xusH"
      },
      "source": [
        ""
      ]
    },
    {
      "cell_type": "markdown",
      "metadata": {
        "id": "OMZjHAS3xvGD"
      },
      "source": [
        "#### `dist_km`"
      ]
    },
    {
      "cell_type": "code",
      "metadata": {
        "colab": {
          "base_uri": "https://localhost:8080/"
        },
        "id": "tJsIIDb7SSv5",
        "outputId": "1127defc-134c-4e83-ea5d-68810a769217"
      },
      "source": [
        "Q1 = data_filtered[\"dist_km\"].quantile(0.25)\n",
        "Q2 = data_filtered[\"dist_km\"].quantile(0.5)\n",
        "Q3 = data_filtered[\"dist_km\"].quantile(0.75)\n",
        "IQR_dist = Q3 - Q1\n",
        "print (\"Cuartiles\\t\\tValor\")\n",
        "print(\"25%\\t\\t\",Q1)\n",
        "print(\"50%\\t\\t\",Q2)\n",
        "print(\"75%\\t\\t\",Q3)\n",
        "print(\"\\n\\nRango Intercuartílico: \",IQR_dist)"
      ],
      "execution_count": null,
      "outputs": [
        {
          "output_type": "stream",
          "text": [
            "Cuartiles\t\tValor\n",
            "25%\t\t 2.241\n",
            "50%\t\t 4.125\n",
            "75%\t\t 7.744\n",
            "\n",
            "\n",
            "Rango Intercuartílico:  5.503\n"
          ],
          "name": "stdout"
        }
      ]
    },
    {
      "cell_type": "code",
      "metadata": {
        "id": "7IMQmcdCSSv5"
      },
      "source": [
        "data_filtered = data_filtered[(data_filtered[\"dist_km\"] >= Q1 - 1.5*IQR_dist) & (data_filtered[\"dist_km\"] <= Q3 + 1.5*IQR_dist)]"
      ],
      "execution_count": null,
      "outputs": []
    },
    {
      "cell_type": "markdown",
      "metadata": {
        "id": "isp47xrex6kf"
      },
      "source": [
        "#### `trip_duration`"
      ]
    },
    {
      "cell_type": "code",
      "metadata": {
        "colab": {
          "base_uri": "https://localhost:8080/"
        },
        "id": "4NVDxuWpSSv6",
        "outputId": "6a427bbd-5612-41e0-9c41-1f28d24e0744"
      },
      "source": [
        "Q1 = data_filtered[\"trip_duration\"].quantile(0.25)\n",
        "Q2 = data_filtered[\"trip_duration\"].quantile(0.5)\n",
        "Q3 = data_filtered[\"trip_duration\"].quantile(0.75)\n",
        "IQR_trip_duration = Q3 - Q1\n",
        "print (\"Cuartiles\\t\\tValor\")\n",
        "print(\"25%\\t\\t\",Q1)\n",
        "print(\"50%\\t\\t\",Q2)\n",
        "print(\"75%\\t\\t\",Q3)\n",
        "print(\"\\n\\nRango Intercuartílico: \",IQR_trip_duration)"
      ],
      "execution_count": null,
      "outputs": [
        {
          "output_type": "stream",
          "text": [
            "Cuartiles\t\tValor\n",
            "25%\t\t 0.1461111111111111\n",
            "50%\t\t 0.2598611111111111\n",
            "75%\t\t 0.4639583333333333\n",
            "\n",
            "\n",
            "Rango Intercuartílico:  0.31784722222222217\n"
          ],
          "name": "stdout"
        }
      ]
    },
    {
      "cell_type": "code",
      "metadata": {
        "id": "JLmbkZ_fSSv6"
      },
      "source": [
        "data_filtered = data_filtered[(data_filtered[\"trip_duration\"] >= Q1 - 1.5*IQR_trip_duration) & (data_filtered[\"trip_duration\"] <= Q3 + 1.5*IQR_trip_duration)]"
      ],
      "execution_count": null,
      "outputs": []
    },
    {
      "cell_type": "markdown",
      "metadata": {
        "id": "1YKeYik-yCwr"
      },
      "source": [
        "#### `wait_sec`"
      ]
    },
    {
      "cell_type": "code",
      "metadata": {
        "colab": {
          "base_uri": "https://localhost:8080/"
        },
        "id": "hCJoGV6DywIx",
        "outputId": "6a53e5bc-c181-483e-8e64-b7dd52be1ce6"
      },
      "source": [
        "Q1 = data_filtered['wait_sec'].quantile(0.25)\r\n",
        "Q2 = data_filtered['wait_sec'].quantile(0.5)\r\n",
        "Q3 = data_filtered['wait_sec'].quantile(0.75)\r\n",
        "IQR_trip_duration = Q3 - Q1\r\n",
        "print (\"Cuartiles\\t\\tValor\")\r\n",
        "print(\"25%\\t\\t\",Q1)\r\n",
        "print(\"50%\\t\\t\",Q2)\r\n",
        "print(\"75%\\t\\t\",Q3)\r\n",
        "print(\"\\n\\nRango Intercuartílico: \",IQR_trip_duration)"
      ],
      "execution_count": null,
      "outputs": [
        {
          "output_type": "stream",
          "text": [
            "Cuartiles\t\tValor\n",
            "25%\t\t 91.0\n",
            "50%\t\t 205.0\n",
            "75%\t\t 415.0\n",
            "\n",
            "\n",
            "Rango Intercuartílico:  324.0\n"
          ],
          "name": "stdout"
        }
      ]
    },
    {
      "cell_type": "code",
      "metadata": {
        "id": "uerIWwXjyyZD"
      },
      "source": [
        "data_filtered = data_filtered[(data_filtered[\"wait_sec\"] >= Q1 - 1.5*IQR_trip_duration) & (data_filtered[\"wait_sec\"] <= Q3 + 1.5*IQR_trip_duration)]"
      ],
      "execution_count": null,
      "outputs": []
    },
    {
      "cell_type": "markdown",
      "metadata": {
        "id": "NGH1bsez9JQD"
      },
      "source": [
        "#### Resumen posterior a eliminación de *outliers*\r\n",
        "Después de el proceso de eliminación de los *outliers* se obtienen un resumen de los cuartiles y otros parámetros estadísticos para las columnas `wait_sec`, `speed_km`, `dist_km` y `trip_duration`.."
      ]
    },
    {
      "cell_type": "code",
      "metadata": {
        "id": "THcr0JjIyzpk"
      },
      "source": [
        "def summary(nombre):\r\n",
        "  minimo = data_filtered[nombre].min()\r\n",
        "  Q1 = data_filtered[nombre].quantile(0.25)\r\n",
        "  median = data_filtered[nombre].median()\r\n",
        "  mean = data_filtered[nombre].mean()\r\n",
        "  Q2 = data_filtered[nombre].quantile(0.5)\r\n",
        "  Q3 = data_filtered[nombre].quantile(0.75)\r\n",
        "  maximo = data_filtered[nombre].max()\r\n",
        "  IQR = Q3 - Q1\r\n",
        "  resumen = {'minimo': round(minimo,3), 'Q1': round(Q1,3), 'mediana':round(median,3),'Q2':round(Q2),'Q3':round(Q3,3),'max':round(maximo,3),'IQR':round(IQR,3), 'meadi':mean}\r\n",
        "\r\n",
        "  return resumen"
      ],
      "execution_count": null,
      "outputs": []
    },
    {
      "cell_type": "code",
      "metadata": {
        "colab": {
          "base_uri": "https://localhost:8080/"
        },
        "id": "sGLAJSAhzYYo",
        "outputId": "8c9f749d-1119-4cac-c797-a40a366e74d4"
      },
      "source": [
        "print('velocidad del vaije en km')\r\n",
        "speed_km = summary('speed_km')\r\n",
        "speed_km_max = speed_km['max']\r\n",
        "speed_km"
      ],
      "execution_count": null,
      "outputs": [
        {
          "output_type": "stream",
          "text": [
            "velocidad del vaije en km\n"
          ],
          "name": "stdout"
        },
        {
          "output_type": "execute_result",
          "data": {
            "text/plain": [
              "{'IQR': 8.648,\n",
              " 'Q1': 12.963,\n",
              " 'Q2': 17,\n",
              " 'Q3': 21.61,\n",
              " 'max': 38.126,\n",
              " 'meadi': 17.61683396408097,\n",
              " 'mediana': 17.045,\n",
              " 'minimo': 0.737}"
            ]
          },
          "metadata": {
            "tags": []
          },
          "execution_count": 321
        }
      ]
    },
    {
      "cell_type": "code",
      "metadata": {
        "colab": {
          "base_uri": "https://localhost:8080/"
        },
        "id": "W9zGplzs3AdJ",
        "outputId": "4ab5362d-ff0a-427a-e956-41aca1f65276"
      },
      "source": [
        "print(f'velocidad máxima del viaje: {speed_km_max} km/h')"
      ],
      "execution_count": null,
      "outputs": [
        {
          "output_type": "stream",
          "text": [
            "velocidad máxima del viaje: 38.126 km/h\n"
          ],
          "name": "stdout"
        }
      ]
    },
    {
      "cell_type": "code",
      "metadata": {
        "colab": {
          "base_uri": "https://localhost:8080/"
        },
        "id": "5yHPhKVEzd-a",
        "outputId": "6677cabc-43e2-4f97-a2d7-b07c98b84d73"
      },
      "source": [
        "print('distancia del viaje en km')\r\n",
        "dist_km = summary('dist_km')\r\n",
        "dist_km_max = dist_km['max']\r\n",
        "dist_km"
      ],
      "execution_count": null,
      "outputs": [
        {
          "output_type": "stream",
          "text": [
            "distancia del viaje en km\n"
          ],
          "name": "stdout"
        },
        {
          "output_type": "execute_result",
          "data": {
            "text/plain": [
              "{'IQR': 3.991,\n",
              " 'Q1': 1.97,\n",
              " 'Q2': 3,\n",
              " 'Q3': 5.961,\n",
              " 'max': 15.998,\n",
              " 'meadi': 4.418055941307483,\n",
              " 'mediana': 3.448,\n",
              " 'minimo': 0.501}"
            ]
          },
          "metadata": {
            "tags": []
          },
          "execution_count": 323
        }
      ]
    },
    {
      "cell_type": "code",
      "metadata": {
        "colab": {
          "base_uri": "https://localhost:8080/"
        },
        "id": "fMBCfTEo2vIt",
        "outputId": "f4095657-d35a-488b-94ec-a866cd60efc1"
      },
      "source": [
        "print(f'distancia máxima del viaje: {dist_km_max} km')"
      ],
      "execution_count": null,
      "outputs": [
        {
          "output_type": "stream",
          "text": [
            "distancia máxima del viaje: 15.998 km\n"
          ],
          "name": "stdout"
        }
      ]
    },
    {
      "cell_type": "code",
      "metadata": {
        "colab": {
          "base_uri": "https://localhost:8080/"
        },
        "id": "vMbG2QEyzgu6",
        "outputId": "b70e341a-9951-4478-d629-ba74ac05846b"
      },
      "source": [
        "print('duración del viaje en horas')\r\n",
        "trip_duration = summary('trip_duration')\r\n",
        "trip_duration_max = trip_duration['max']\r\n",
        "trip_duration"
      ],
      "execution_count": null,
      "outputs": [
        {
          "output_type": "stream",
          "text": [
            "duración del viaje en horas\n"
          ],
          "name": "stdout"
        },
        {
          "output_type": "execute_result",
          "data": {
            "text/plain": [
              "{'IQR': 0.221,\n",
              " 'Q1': 0.131,\n",
              " 'Q2': 0,\n",
              " 'Q3': 0.353,\n",
              " 'max': 0.94,\n",
              " 'meadi': 0.2616091677948092,\n",
              " 'mediana': 0.219,\n",
              " 'minimo': 0.014}"
            ]
          },
          "metadata": {
            "tags": []
          },
          "execution_count": 325
        }
      ]
    },
    {
      "cell_type": "code",
      "metadata": {
        "colab": {
          "base_uri": "https://localhost:8080/"
        },
        "id": "0cPb2v6u1BIi",
        "outputId": "3dedeca4-1388-4e23-845e-74cc4002b5c3"
      },
      "source": [
        "print(f'duración máxima del viaje: {trip_duration_max*60} min')"
      ],
      "execution_count": null,
      "outputs": [
        {
          "output_type": "stream",
          "text": [
            "duración máxima del viaje: 56.4 min\n"
          ],
          "name": "stdout"
        }
      ]
    },
    {
      "cell_type": "code",
      "metadata": {
        "colab": {
          "base_uri": "https://localhost:8080/"
        },
        "id": "2EwpNkXXy156",
        "outputId": "67d834bd-3044-48c7-c9da-8b8f8723350b"
      },
      "source": [
        "print('tiempo de espera en segundos')\r\n",
        "wait_sec_clean = summary('wait_sec')\r\n",
        "wait_sec_clean_max = wait_sec_clean['max']\r\n",
        "wait_sec_clean\r\n"
      ],
      "execution_count": null,
      "outputs": [
        {
          "output_type": "stream",
          "text": [
            "tiempo de espera en segundos\n"
          ],
          "name": "stdout"
        },
        {
          "output_type": "execute_result",
          "data": {
            "text/plain": [
              "{'IQR': 277.0,\n",
              " 'Q1': 86.0,\n",
              " 'Q2': 190,\n",
              " 'Q3': 363.0,\n",
              " 'max': 901,\n",
              " 'meadi': 252.61194812000525,\n",
              " 'mediana': 190.0,\n",
              " 'minimo': 0}"
            ]
          },
          "metadata": {
            "tags": []
          },
          "execution_count": 327
        }
      ]
    },
    {
      "cell_type": "code",
      "metadata": {
        "colab": {
          "base_uri": "https://localhost:8080/"
        },
        "id": "Vozedtdu1NtV",
        "outputId": "a3ede9ff-f1f7-4b93-e6ff-571368c8f6f2"
      },
      "source": [
        "print(f'tiempo máximo de espera: {round(wait_sec_clean_max/60,3)} min')"
      ],
      "execution_count": null,
      "outputs": [
        {
          "output_type": "stream",
          "text": [
            "tiempo máximo de espera: 15.017 min\n"
          ],
          "name": "stdout"
        }
      ]
    },
    {
      "cell_type": "code",
      "metadata": {
        "colab": {
          "base_uri": "https://localhost:8080/"
        },
        "id": "o3v6imiJSSv6",
        "outputId": "8fc4d3dc-2881-49a3-e331-af6cccabd514"
      },
      "source": [
        "data_filtered.shape"
      ],
      "execution_count": null,
      "outputs": [
        {
          "output_type": "execute_result",
          "data": {
            "text/plain": [
              "(7633, 14)"
            ]
          },
          "metadata": {
            "tags": []
          },
          "execution_count": 329
        }
      ]
    },
    {
      "cell_type": "markdown",
      "metadata": {
        "id": "tPL2DZbCyxuL"
      },
      "source": [
        "### Resultados limpieza "
      ]
    },
    {
      "cell_type": "markdown",
      "metadata": {
        "id": "Enb8zjNQzBZY"
      },
      "source": [
        "Con la limpieza mediante cuartiles, nos ayudo a detectar outlayers, obtuvimos mejores resultados.\r\n",
        "\r\n",
        "- El valor máximo de duración del viaje es ~ 57 min.\r\n",
        "- El valor máximo de distancia del viaje es ~ 16 km.\r\n",
        "- El timpo máximo de espera del viaje es 15 min.\r\n",
        "- La velocidad máxima del viaje es ~ 38.126 km/h\r\n",
        "\r\n",
        "Estos valores ya son más utiles para trabajar con ellos."
      ]
    },
    {
      "cell_type": "markdown",
      "metadata": {
        "id": "DU9U4hsXCPDP"
      },
      "source": [
        "# 4.Api GeoNames\r\n",
        "\r\n",
        "OBJETIVO \r\n",
        "\r\n",
        "- Practicar el uso de APIs y peticiones HTTP.\r\n",
        "- Automatizar procesos de exploración y limpieza mediante la creación de funciones\r\n",
        "\r\n",
        "DESARROLLO\r\n",
        "\r\n",
        "1. Utilización de la API [GeoNames](http://www.geonames.org/export/web-services.html#findNearbyPostalCodes)\r\n",
        "2. Crear una cuenta si es necesario.\r\n",
        "3. Leer la documentación.\r\n",
        "4. Realizar algunas peticiones de prueba.\r\n",
        "5. Automatiza el proceso de realizar peticiones para obtener un dataset considerablemente grande.\r\n",
        "6. Explora y limpia tu dataset.\r\n",
        "\r\n",
        "\r\n",
        "\r\n",
        "\r\n",
        "\r\n",
        "Conversión de coordenadas de el inicio y el fin de los viajes a el nómbre del municipio.\r\n",
        "**Para realizar un análisis con respecto a las demarcaciones territoriales o municipios y los viaje es necesario localizar por las demarcaciones territoriales o municipios del inicio y fin de cada viaje.**"
      ]
    },
    {
      "cell_type": "markdown",
      "metadata": {
        "id": "nJSY4WNC4E3t"
      },
      "source": [
        "### Reverse Geocoding"
      ]
    },
    {
      "cell_type": "markdown",
      "metadata": {
        "id": "4MR7Udcz41Es"
      },
      "source": [
        "```Reverse Geocoding``` es el proceso de encontrar una dirección, una calle, u alguna infromación a partir del par longitud/latitud. Esta tarea se puede llevar a cabo mediante\r\n",
        "el uso de la Api GeoNames la cual ofrece un aplio rango de herramientas para esta tarea.\r\n",
        "Para usar la Api, se necesita crear un *username*, sin embargo, las peticiones por hora están limitadas a 1000 por hora. Como se tienen que procesar cerca de 8000 datos, se dieron de alta 9 usuarios para alternar las peticiones y así recortar el tiempo del procesamiento de las longitudes y latitudes de los viajes."
      ]
    },
    {
      "cell_type": "markdown",
      "metadata": {
        "id": "fXqv4Vxf-4Wp"
      },
      "source": [
        "#### Función de petición **GET**\r\n",
        "Se define una función para hacer una petición tipo **GET** a la Api, esta función se usará junto con el método `apply`"
      ]
    },
    {
      "cell_type": "markdown",
      "metadata": {
        "id": "1t6z29lLfFRr"
      },
      "source": [
        "**Ejemplo de petición a la Api**"
      ]
    },
    {
      "cell_type": "code",
      "metadata": {
        "id": "kbJ_hCTyfElc"
      },
      "source": [
        "import requests as rq\r\n",
        "import time\r\n",
        "\r\n",
        "username=\"alanVillasana\"\r\n",
        "lat=\"19.434102\"\r\n",
        "lng=\"-99.085797\"\r\n",
        "maxRows=\"1\"\r\n",
        "style=\"MEDIUM\"\r\n",
        "radius=\"10\"\r\n",
        "url_api = \"http://api.geonames.org/findNearbyPostalCodesJSON\""
      ],
      "execution_count": null,
      "outputs": []
    },
    {
      "cell_type": "code",
      "metadata": {
        "colab": {
          "base_uri": "https://localhost:8080/",
          "height": 35
        },
        "id": "mwmqulGZfL_9",
        "outputId": "40263760-fda9-48c8-d9b7-13871a857293"
      },
      "source": [
        "endpoint = url_api+\"?&username=\"+username+\"&lat=\"+lat+\"&lng=\"+lng+\"&maxRows=\"+maxRows+\"&style=\"+style+\"&radius=\"+radius\r\n",
        "endpoint"
      ],
      "execution_count": null,
      "outputs": [
        {
          "output_type": "execute_result",
          "data": {
            "application/vnd.google.colaboratory.intrinsic+json": {
              "type": "string"
            },
            "text/plain": [
              "'http://api.geonames.org/findNearbyPostalCodesJSON?&username=alanVillasana&lat=19.434102&lng=-99.085797&maxRows=1&style=MEDIUM&radius=10'"
            ]
          },
          "metadata": {
            "tags": []
          },
          "execution_count": 230
        }
      ]
    },
    {
      "cell_type": "markdown",
      "metadata": {
        "id": "1_GkQmGQgPnY"
      },
      "source": [
        "Ejemplo del uso de GeoNames"
      ]
    },
    {
      "cell_type": "code",
      "metadata": {
        "colab": {
          "base_uri": "https://localhost:8080/"
        },
        "id": "EJp2LtxLfakD",
        "outputId": "d59aac48-c9ac-4d50-eebf-f83c337db4a1"
      },
      "source": [
        "r = rq.get(endpoint)\r\n",
        "result = r.json()['postalCodes'][0]\r\n",
        "print (result[\"adminName2\"])"
      ],
      "execution_count": null,
      "outputs": [
        {
          "output_type": "stream",
          "text": [
            "Venustiano Carranza\n"
          ],
          "name": "stdout"
        }
      ]
    },
    {
      "cell_type": "code",
      "metadata": {
        "id": "OYBtqGqFCQEO"
      },
      "source": [
        "\r\n",
        "def get_location_by_coo (coordenates):\r\n",
        "    import requests as rq\r\n",
        "    import time\r\n",
        "    global i\r\n",
        "    coordenates = coordenates.split(\",\") #como las coordenadas se pasan concatenadas se tienen que separar\r\n",
        "    lat = coordenates[0].strip()\r\n",
        "    lng = coordenates[1].strip()\r\n",
        "    usernames = [\"beduProyect1\",\"beduProyect2\",\"beduProyect3\",\"beduProyect4\",\"beduProyect5\",\"beduProyect6\",\"alanVillasana\",\"cristophercano\",\"dgil\"]\r\n",
        "    # Debido a que la API solo deja hacer 1000 peticiones por usuario cada hora, se dieron de alta 9 usuarios para poder \r\n",
        "    # obtener el nombre del municipio o dearcacion territorial de la ZMVM en una sola ejecución. Ya que si usaramos solamente\r\n",
        "    # un usuario de la API se tardaría aproximadamente 8 horas para poder completar las peticiones necesarias.\r\n",
        "    username = usernames[i%9]\r\n",
        "    maxRows=\"1\"\r\n",
        "    style=\"MEDIUM\"\r\n",
        "    radius=\"10\"\r\n",
        "    url = \"http://api.geonames.org/findNearbyPostalCodesJSON\"\r\n",
        "    time.sleep(0.05)\r\n",
        "    endpoint = url+\"?&username=\"+username+\"&lat=\"+lat+\"&lng=\"+lng+\"&maxRows=\"+maxRows+\"&style=\"+style+\"&radius=\"+radius\r\n",
        "    r = rq.get(endpoint)\r\n",
        "    print (\"\\r\",i,\" \",username, end=\"\")\r\n",
        "    i = i+1\r\n",
        "    result = r.json()['postalCodes'][0]\r\n",
        "    \r\n",
        "\r\n",
        "    return result['adminName2']"
      ],
      "execution_count": null,
      "outputs": []
    },
    {
      "cell_type": "markdown",
      "metadata": {
        "id": "z_h_W4onCeLU"
      },
      "source": [
        "Se define la funcion  `get_location_by_name` para poder usar el método `aply` en el data frame.\r\n",
        "Esta función hará una petició *GET* a la api de **GeoNames**, le enviará de parámetro las coordenadas de la locación y regresará el municiío o demarcación territorial correspondiente a las coordenadas."
      ]
    },
    {
      "cell_type": "markdown",
      "metadata": {
        "id": "WQ4MYQj_FIRR"
      },
      "source": [
        "#### Concatenación de latitud y longitud.\r\n",
        "Se crearán dos columnas temporales que contendran el string concatenado de la latitud y longitud del inicio y final de los viajes."
      ]
    },
    {
      "cell_type": "code",
      "metadata": {
        "id": "rVwLvF_IHPUb"
      },
      "source": [
        "data_filtered[\"pickup_coordenates\"] = data_filtered[\"pickup_latitude\"].astype(str)+\",\"+data_filtered[\"pickup_longitude\"].astype(str)\r\n",
        "data_filtered[\"dropoff_coordenates\"] = data_filtered[\"dropoff_latitude\"].astype(str)+\",\"+data_filtered[\"dropoff_longitude\"].astype(str)"
      ],
      "execution_count": null,
      "outputs": []
    },
    {
      "cell_type": "code",
      "metadata": {
        "colab": {
          "base_uri": "https://localhost:8080/"
        },
        "id": "YHbGyUzbPN2o",
        "outputId": "2abef4f1-e6f2-46cc-a1af-841031298715"
      },
      "source": [
        "data_filtered[\"dropoff_coordenates\"].head(2)"
      ],
      "execution_count": null,
      "outputs": [
        {
          "output_type": "execute_result",
          "data": {
            "text/plain": [
              "id\n",
              "3    19.328530308412198,-99.2718736003419\n",
              "4      19.3262558086244,-99.2798998325071\n",
              "Name: dropoff_coordenates, dtype: object"
            ]
          },
          "metadata": {
            "tags": []
          },
          "execution_count": 234
        }
      ]
    },
    {
      "cell_type": "markdown",
      "metadata": {
        "id": "nmUB_MGM_WiM"
      },
      "source": [
        "#### Proceso de conversión de coordenadas\r\n",
        "**Los bloques de código siguientes ocupan mucho tiempo de ejecución debido a la cantidad de llamadas que tiene que hacer a la API de GeoNames, por esto recomendamos que si se quiere ejecutar se haga con 1 hora de separación entre los dos bloques de código.**\r\n",
        "\\\r\n",
        "Al final de esta sección se guardará un archivo csv con los resultados, para que no se tengan que ejecutar los bloques de código, solo leer el archivo."
      ]
    },
    {
      "cell_type": "code",
      "metadata": {
        "id": "TzXn1o23H7rK"
      },
      "source": [
        "i = 0\r\n",
        "data_filtered[\"pickup_location\"] = data_filtered[\"pickup_coordenates\"].apply(get_location_by_coo)"
      ],
      "execution_count": null,
      "outputs": []
    },
    {
      "cell_type": "code",
      "metadata": {
        "id": "pbQODh_nLux6"
      },
      "source": [
        "i = 0\r\n",
        "#data_filtered[\"dropoff_location\"] = data_filtered[\"dropoff_coordenates\"].apply(get_location_by_coo)"
      ],
      "execution_count": null,
      "outputs": []
    },
    {
      "cell_type": "code",
      "metadata": {
        "id": "N2-VOrQ1Xl6V",
        "colab": {
          "base_uri": "https://localhost:8080/",
          "height": 340
        },
        "outputId": "51aa1dae-f812-4c8b-f980-b562530be40b"
      },
      "source": [
        "data_filtered.sample(5)"
      ],
      "execution_count": null,
      "outputs": [
        {
          "output_type": "execute_result",
          "data": {
            "text/html": [
              "<div>\n",
              "<style scoped>\n",
              "    .dataframe tbody tr th:only-of-type {\n",
              "        vertical-align: middle;\n",
              "    }\n",
              "\n",
              "    .dataframe tbody tr th {\n",
              "        vertical-align: top;\n",
              "    }\n",
              "\n",
              "    .dataframe thead th {\n",
              "        text-align: right;\n",
              "    }\n",
              "</style>\n",
              "<table border=\"1\" class=\"dataframe\">\n",
              "  <thead>\n",
              "    <tr style=\"text-align: right;\">\n",
              "      <th></th>\n",
              "      <th>tipo_transporte</th>\n",
              "      <th>pickup_datetime</th>\n",
              "      <th>dropoff_datetime</th>\n",
              "      <th>pickup_longitude</th>\n",
              "      <th>pickup_latitude</th>\n",
              "      <th>dropoff_longitude</th>\n",
              "      <th>dropoff_latitude</th>\n",
              "      <th>trip_duration</th>\n",
              "      <th>dist_meters</th>\n",
              "      <th>wait_sec</th>\n",
              "      <th>dist_km</th>\n",
              "      <th>speed_km</th>\n",
              "      <th>pickup_coordenates</th>\n",
              "      <th>dropoff_coordenates</th>\n",
              "    </tr>\n",
              "    <tr>\n",
              "      <th>id</th>\n",
              "      <th></th>\n",
              "      <th></th>\n",
              "      <th></th>\n",
              "      <th></th>\n",
              "      <th></th>\n",
              "      <th></th>\n",
              "      <th></th>\n",
              "      <th></th>\n",
              "      <th></th>\n",
              "      <th></th>\n",
              "      <th></th>\n",
              "      <th></th>\n",
              "      <th></th>\n",
              "      <th></th>\n",
              "    </tr>\n",
              "  </thead>\n",
              "  <tbody>\n",
              "    <tr>\n",
              "      <th>11461</th>\n",
              "      <td>Taxi Libre</td>\n",
              "      <td>2017-07-05 10:21:22</td>\n",
              "      <td>2017-07-05 10:39:18</td>\n",
              "      <td>-99.196493</td>\n",
              "      <td>19.461894</td>\n",
              "      <td>-99.196294</td>\n",
              "      <td>19.461592</td>\n",
              "      <td>0.298889</td>\n",
              "      <td>7976</td>\n",
              "      <td>215</td>\n",
              "      <td>7.976</td>\n",
              "      <td>26.685502</td>\n",
              "      <td>19.4618941211885,-99.196493024654</td>\n",
              "      <td>19.46159196,-99.19629416</td>\n",
              "    </tr>\n",
              "    <tr>\n",
              "      <th>3978</th>\n",
              "      <td>Taxi Libre</td>\n",
              "      <td>2017-05-12 12:33:27</td>\n",
              "      <td>2017-05-12 12:55:39</td>\n",
              "      <td>-99.197505</td>\n",
              "      <td>19.461992</td>\n",
              "      <td>-99.195871</td>\n",
              "      <td>19.461522</td>\n",
              "      <td>0.370278</td>\n",
              "      <td>4829</td>\n",
              "      <td>538</td>\n",
              "      <td>4.829</td>\n",
              "      <td>13.041560</td>\n",
              "      <td>19.4619924735365,-99.1975049787427</td>\n",
              "      <td>19.4615224476789,-99.1958710530103</td>\n",
              "    </tr>\n",
              "    <tr>\n",
              "      <th>8684</th>\n",
              "      <td>Taxi Libre</td>\n",
              "      <td>2016-07-15 08:03:37</td>\n",
              "      <td>2016-07-15 08:10:52</td>\n",
              "      <td>-99.203432</td>\n",
              "      <td>19.380484</td>\n",
              "      <td>-99.207125</td>\n",
              "      <td>19.373369</td>\n",
              "      <td>0.121111</td>\n",
              "      <td>1540</td>\n",
              "      <td>89</td>\n",
              "      <td>1.540</td>\n",
              "      <td>12.715596</td>\n",
              "      <td>19.3804843056338,-99.20343231382842</td>\n",
              "      <td>19.37336914,-99.20712498</td>\n",
              "    </tr>\n",
              "    <tr>\n",
              "      <th>8813</th>\n",
              "      <td>Taxi Libre</td>\n",
              "      <td>2017-05-24 10:17:38</td>\n",
              "      <td>2017-05-24 10:22:19</td>\n",
              "      <td>-99.197337</td>\n",
              "      <td>19.461514</td>\n",
              "      <td>-99.185196</td>\n",
              "      <td>19.458702</td>\n",
              "      <td>0.078056</td>\n",
              "      <td>1738</td>\n",
              "      <td>56</td>\n",
              "      <td>1.738</td>\n",
              "      <td>22.266192</td>\n",
              "      <td>19.461513851377198,-99.1973366350477</td>\n",
              "      <td>19.4587021517078,-99.1851960647948</td>\n",
              "    </tr>\n",
              "    <tr>\n",
              "      <th>12309</th>\n",
              "      <td>Taxi de Sitio</td>\n",
              "      <td>2017-04-07 03:51:40</td>\n",
              "      <td>2017-04-07 04:01:46</td>\n",
              "      <td>-99.169860</td>\n",
              "      <td>19.281138</td>\n",
              "      <td>-99.160823</td>\n",
              "      <td>19.272655</td>\n",
              "      <td>0.168333</td>\n",
              "      <td>3331</td>\n",
              "      <td>125</td>\n",
              "      <td>3.331</td>\n",
              "      <td>19.788119</td>\n",
              "      <td>19.2811377008547,-99.1698604781513</td>\n",
              "      <td>19.27265466,-99.16082266</td>\n",
              "    </tr>\n",
              "  </tbody>\n",
              "</table>\n",
              "</div>"
            ],
            "text/plain": [
              "      tipo_transporte  ...                 dropoff_coordenates\n",
              "id                     ...                                    \n",
              "11461      Taxi Libre  ...            19.46159196,-99.19629416\n",
              "3978       Taxi Libre  ...  19.4615224476789,-99.1958710530103\n",
              "8684       Taxi Libre  ...            19.37336914,-99.20712498\n",
              "8813       Taxi Libre  ...  19.4587021517078,-99.1851960647948\n",
              "12309   Taxi de Sitio  ...            19.27265466,-99.16082266\n",
              "\n",
              "[5 rows x 14 columns]"
            ]
          },
          "metadata": {
            "tags": []
          },
          "execution_count": 237
        }
      ]
    },
    {
      "cell_type": "code",
      "metadata": {
        "id": "ERUmkf6qXuXD",
        "colab": {
          "base_uri": "https://localhost:8080/"
        },
        "outputId": "2b02efd3-c6b7-4d70-aeac-fc9ad22fb5ef"
      },
      "source": [
        "#data_filtered = data_filtered.drop(columns = [\"pickup_coordenates\", \"dropoff_coordenates\"], axis = 1)\r\n",
        "data_filtered.dtypes"
      ],
      "execution_count": null,
      "outputs": [
        {
          "output_type": "execute_result",
          "data": {
            "text/plain": [
              "tipo_transporte                object\n",
              "pickup_datetime        datetime64[ns]\n",
              "dropoff_datetime       datetime64[ns]\n",
              "pickup_longitude              float64\n",
              "pickup_latitude               float64\n",
              "dropoff_longitude             float64\n",
              "dropoff_latitude              float64\n",
              "trip_duration                 float64\n",
              "dist_meters                     int64\n",
              "wait_sec                        int64\n",
              "dist_km                       float64\n",
              "speed_km                      float64\n",
              "pickup_coordenates             object\n",
              "dropoff_coordenates            object\n",
              "dtype: object"
            ]
          },
          "metadata": {
            "tags": []
          },
          "execution_count": 238
        }
      ]
    },
    {
      "cell_type": "code",
      "metadata": {
        "id": "w77ystkAX5mb",
        "colab": {
          "base_uri": "https://localhost:8080/"
        },
        "outputId": "d5540686-83fa-4328-8c4f-d1f76126cbac"
      },
      "source": [
        "data_filtered.shape"
      ],
      "execution_count": null,
      "outputs": [
        {
          "output_type": "execute_result",
          "data": {
            "text/plain": [
              "(7633, 14)"
            ]
          },
          "metadata": {
            "tags": []
          },
          "execution_count": 239
        }
      ]
    },
    {
      "cell_type": "markdown",
      "metadata": {
        "id": "MBvBp9zDapdC"
      },
      "source": [
        "## Eliminación de viajes fuera de la Zona Metropolitana del Valle de México\r\n",
        "Se encontraron viajes que son fuera de la Zona Metropolitana del Valle de México *(ZMVM)*, como este análisis es solamente de la ZMVM se eliminarán los viajes que se realizaron fuera de esta."
      ]
    },
    {
      "cell_type": "markdown",
      "metadata": {
        "id": "YAgYatoH0gmF"
      },
      "source": [
        "Se define una lista (`ZMVM`) con los municipios y demarcaciones territoriales que conforman la **Zona Metropolitana del Valle de México.** "
      ]
    },
    {
      "cell_type": "code",
      "metadata": {
        "id": "mLzbLXWAvDDS"
      },
      "source": [
        "ZMVM = ['Acolman',\r\n",
        " 'Atizapán de Zaragoza',\r\n",
        " 'Azcapotzalco',\r\n",
        " 'Benito Juárez',\r\n",
        " 'Chalco',\r\n",
        " 'Chimalhuacán',\r\n",
        " 'Coacalco de Berriozábal',\r\n",
        " 'Cocotitlán',\r\n",
        " 'Coyoacán',\r\n",
        " 'Cuajimalpa de Morelos',\r\n",
        " 'Cuauhtémoc',\r\n",
        " 'Cuautitlán',\r\n",
        " 'Cuautitlán Izcalli',\r\n",
        " 'Ecatepec de Morelos',\r\n",
        " 'Gustavo A. Madero',\r\n",
        " 'Huixquilucan',\r\n",
        " 'Ixtapaluca',\r\n",
        " 'Iztacalco',\r\n",
        " 'Iztapalapa',\r\n",
        " 'La Magdalena Contreras',\r\n",
        " 'La Paz',\r\n",
        " 'Miguel Hidalgo',\r\n",
        " 'Milpa Alta',\r\n",
        " 'Naucalpan de Juárez',\r\n",
        " 'Nezahualcóyotl',\r\n",
        " 'Tecámac',\r\n",
        " 'Tizayuca',\r\n",
        " 'Tlalnepantla de Baz',\r\n",
        " 'Tlalpan',\r\n",
        " 'Tláhuac',\r\n",
        " 'Tultepec',\r\n",
        " 'Tultitlán',\r\n",
        " 'Valle de Chalco Solidaridad',\r\n",
        " 'Venustiano Carranza',\r\n",
        " 'Xochimilco',\r\n",
        " 'Álvaro Obregón']"
      ],
      "execution_count": null,
      "outputs": []
    },
    {
      "cell_type": "code",
      "metadata": {
        "id": "ooqz9DzA0_HW"
      },
      "source": [
        "#data_locaciones = data_filtered[(data_filtered[\"pickup_location\"].isin(ZMVM))\r\n",
        "#                            & (data_filtered[\"dropoff_location\"].isin (ZMVM))]"
      ],
      "execution_count": null,
      "outputs": []
    },
    {
      "cell_type": "code",
      "metadata": {
        "id": "r6scG6G32m6A"
      },
      "source": [
        "#data_locaciones.shape"
      ],
      "execution_count": null,
      "outputs": []
    },
    {
      "cell_type": "markdown",
      "metadata": {
        "id": "Heu9DsDGAU9W"
      },
      "source": [
        "### Exportación de DataFrame resultante."
      ]
    },
    {
      "cell_type": "code",
      "metadata": {
        "id": "_---mZeT4FhP"
      },
      "source": [
        "#data_locaciones.to_csv(\"cdmx_transporte_location.csv\")"
      ],
      "execution_count": null,
      "outputs": []
    },
    {
      "cell_type": "code",
      "metadata": {
        "id": "X1BDL95gph9t",
        "colab": {
          "base_uri": "https://localhost:8080/",
          "height": 309
        },
        "outputId": "dde069b8-15e1-431f-99b3-94906522da29"
      },
      "source": [
        "url = 'https://raw.githubusercontent.com/CristopherCano/Proyecto_Python_Procesamiento_de_datos/main/Data/cdmx_transporte_location.csv'\r\n",
        "data_municipios = pd.read_csv(url)\r\n",
        "data_municipios['pickup_datetime'] = pd.to_datetime(data_municipios['pickup_datetime'], unit = 'ns')\r\n",
        "data_municipios['dropoff_datetime'] = pd.to_datetime(data_municipios['dropoff_datetime'], unit = 'ns')\r\n",
        "data_municipios.head()"
      ],
      "execution_count": null,
      "outputs": [
        {
          "output_type": "execute_result",
          "data": {
            "text/html": [
              "<div>\n",
              "<style scoped>\n",
              "    .dataframe tbody tr th:only-of-type {\n",
              "        vertical-align: middle;\n",
              "    }\n",
              "\n",
              "    .dataframe tbody tr th {\n",
              "        vertical-align: top;\n",
              "    }\n",
              "\n",
              "    .dataframe thead th {\n",
              "        text-align: right;\n",
              "    }\n",
              "</style>\n",
              "<table border=\"1\" class=\"dataframe\">\n",
              "  <thead>\n",
              "    <tr style=\"text-align: right;\">\n",
              "      <th></th>\n",
              "      <th>id</th>\n",
              "      <th>tipo_transporte</th>\n",
              "      <th>pickup_datetime</th>\n",
              "      <th>dropoff_datetime</th>\n",
              "      <th>pickup_longitude</th>\n",
              "      <th>pickup_latitude</th>\n",
              "      <th>dropoff_longitude</th>\n",
              "      <th>dropoff_latitude</th>\n",
              "      <th>trip_duration</th>\n",
              "      <th>dist_meters</th>\n",
              "      <th>wait_sec</th>\n",
              "      <th>dist_km</th>\n",
              "      <th>speed_km</th>\n",
              "      <th>pickup_location</th>\n",
              "      <th>dropoff_location</th>\n",
              "    </tr>\n",
              "  </thead>\n",
              "  <tbody>\n",
              "    <tr>\n",
              "      <th>0</th>\n",
              "      <td>3</td>\n",
              "      <td>Taxi Libre</td>\n",
              "      <td>2016-09-18 10:11:50</td>\n",
              "      <td>2016-09-18 10:23:11</td>\n",
              "      <td>-99.289603</td>\n",
              "      <td>19.326263</td>\n",
              "      <td>-99.271874</td>\n",
              "      <td>19.328530</td>\n",
              "      <td>0.189167</td>\n",
              "      <td>2848</td>\n",
              "      <td>129</td>\n",
              "      <td>2.848</td>\n",
              "      <td>15.055507</td>\n",
              "      <td>Cuajimalpa de Morelos</td>\n",
              "      <td>Álvaro Obregón</td>\n",
              "    </tr>\n",
              "    <tr>\n",
              "      <th>1</th>\n",
              "      <td>4</td>\n",
              "      <td>Taxi Libre</td>\n",
              "      <td>2016-09-18 10:23:38</td>\n",
              "      <td>2016-09-18 10:30:53</td>\n",
              "      <td>-99.271161</td>\n",
              "      <td>19.328875</td>\n",
              "      <td>-99.279900</td>\n",
              "      <td>19.326256</td>\n",
              "      <td>0.121111</td>\n",
              "      <td>1409</td>\n",
              "      <td>106</td>\n",
              "      <td>1.409</td>\n",
              "      <td>11.633945</td>\n",
              "      <td>Álvaro Obregón</td>\n",
              "      <td>Álvaro Obregón</td>\n",
              "    </tr>\n",
              "    <tr>\n",
              "      <th>2</th>\n",
              "      <td>5</td>\n",
              "      <td>Taxi Libre</td>\n",
              "      <td>2016-09-18 10:44:18</td>\n",
              "      <td>2016-09-18 10:51:40</td>\n",
              "      <td>-99.282761</td>\n",
              "      <td>19.326944</td>\n",
              "      <td>-99.291705</td>\n",
              "      <td>19.322754</td>\n",
              "      <td>0.122778</td>\n",
              "      <td>1567</td>\n",
              "      <td>85</td>\n",
              "      <td>1.567</td>\n",
              "      <td>12.762896</td>\n",
              "      <td>Álvaro Obregón</td>\n",
              "      <td>Cuajimalpa de Morelos</td>\n",
              "    </tr>\n",
              "    <tr>\n",
              "      <th>3</th>\n",
              "      <td>6</td>\n",
              "      <td>Taxi Libre</td>\n",
              "      <td>2016-09-18 10:58:07</td>\n",
              "      <td>2016-09-18 10:59:46</td>\n",
              "      <td>-99.289712</td>\n",
              "      <td>19.322929</td>\n",
              "      <td>-99.289280</td>\n",
              "      <td>19.325978</td>\n",
              "      <td>0.027778</td>\n",
              "      <td>797</td>\n",
              "      <td>19</td>\n",
              "      <td>0.797</td>\n",
              "      <td>28.692000</td>\n",
              "      <td>Cuajimalpa de Morelos</td>\n",
              "      <td>Cuajimalpa de Morelos</td>\n",
              "    </tr>\n",
              "    <tr>\n",
              "      <th>4</th>\n",
              "      <td>7</td>\n",
              "      <td>Taxi Libre</td>\n",
              "      <td>2016-09-18 11:00:00</td>\n",
              "      <td>2016-09-18 11:05:45</td>\n",
              "      <td>-99.285391</td>\n",
              "      <td>19.326247</td>\n",
              "      <td>-99.282549</td>\n",
              "      <td>19.328117</td>\n",
              "      <td>0.095833</td>\n",
              "      <td>676</td>\n",
              "      <td>169</td>\n",
              "      <td>0.676</td>\n",
              "      <td>7.053913</td>\n",
              "      <td>Álvaro Obregón</td>\n",
              "      <td>Álvaro Obregón</td>\n",
              "    </tr>\n",
              "  </tbody>\n",
              "</table>\n",
              "</div>"
            ],
            "text/plain": [
              "   id tipo_transporte  ...        pickup_location       dropoff_location\n",
              "0   3      Taxi Libre  ...  Cuajimalpa de Morelos         Álvaro Obregón\n",
              "1   4      Taxi Libre  ...         Álvaro Obregón         Álvaro Obregón\n",
              "2   5      Taxi Libre  ...         Álvaro Obregón  Cuajimalpa de Morelos\n",
              "3   6      Taxi Libre  ...  Cuajimalpa de Morelos  Cuajimalpa de Morelos\n",
              "4   7      Taxi Libre  ...         Álvaro Obregón         Álvaro Obregón\n",
              "\n",
              "[5 rows x 15 columns]"
            ]
          },
          "metadata": {
            "tags": []
          },
          "execution_count": 244
        }
      ]
    },
    {
      "cell_type": "code",
      "metadata": {
        "colab": {
          "base_uri": "https://localhost:8080/"
        },
        "id": "3IbhSZNuKTlL",
        "outputId": "b1d10988-4f0d-4fea-a174-df1d4a971045"
      },
      "source": [
        "data_municipios = data_municipios.set_index(keys = [\"id\"])\r\n",
        "data_municipios.shape"
      ],
      "execution_count": null,
      "outputs": [
        {
          "output_type": "execute_result",
          "data": {
            "text/plain": [
              "(7626, 14)"
            ]
          },
          "metadata": {
            "tags": []
          },
          "execution_count": 245
        }
      ]
    },
    {
      "cell_type": "markdown",
      "metadata": {
        "id": "CyJn322ATSSw"
      },
      "source": [
        "# 5.Tarifas y Costos"
      ]
    },
    {
      "cell_type": "markdown",
      "metadata": {
        "id": "QOByxk9z6o64"
      },
      "source": [
        "### Tarifas\r\n",
        "\r\n",
        "**Descripción**\r\n",
        "\r\n",
        "El archivo ```tarifas.json``` contiene los datos de tarifas relacionadas al desglose del costo total de un viaje realizado dentro del rango de fechas utilizadas en la base de datos principal (2016-2017).\r\n",
        "Las columnas son las siguientes\r\n",
        "\r\n",
        "- ```Transporte```: Tipo de Taxi o Uber \r\n",
        "- ```banderazo```: Tarifa inicial del tipo de transporte.\r\n",
        "- ```tarifa_dist```: Tarifa que se agrega cada cierta distancia avanzada. (250mts. para Taxis, 1km. para Uber)\r\n",
        "- ```tarifa_ tiempo```: Tarifa que se agrega cada cierto tiempo transcurrido. (45seg. para Taxis, 1min. para Uber)\r\n",
        "- ```tarifa_min```: Costo final que será aplicado en caso de que el monto calculado no supere esta cantidad.\r\n",
        "\r\n",
        "Las tarifas relacionadas a los Taxis están reguladas por la Secretaría de Movilidad de la Ciudad de México, éstas se publican regularmente en la Gaceta Oficial, que es el órgano del Gobierno de la Ciudad de México, que tiene como finalidad publicar todas aquellas disposiciones emanadas de autoridad competente que tengan aplicación en el ámbito de la CDMX y están disponibles para su consulta en Internet.\r\n",
        "\r\n",
        "Las tarifas de Uber se consiguieron al consultar múltiples páginas de Internet que brindaban información acerca de ello, se hizo una comparación general de toda la información y se seleccionó aquella que concordara con la mayoría. En su app y sitio web, Uber muestra el desglose de tarifas, sin embargo, éstas son actuales y no se adaptan a las fechas de nuestra base de datos. También se intentó acceder a una API para la consulta de costos, pero a pesar de generar una cuenta, no se contaban con los permisos necesarios para las consultas de información."
      ]
    },
    {
      "cell_type": "code",
      "metadata": {
        "colab": {
          "base_uri": "https://localhost:8080/",
          "height": 266
        },
        "id": "tLeFAADHTUpz",
        "outputId": "e52dca8b-42fa-4af6-da47-538480990487"
      },
      "source": [
        "#Link del archivo JSON en el repositorio\r\n",
        "url_tarifas = \"https://raw.githubusercontent.com/CristopherCano/Proyecto_Python_Procesamiento_de_datos/main/Data/tarifas.json\"\r\n",
        "\r\n",
        "#Lectura de archivo JSON a DataFrame\r\n",
        "tarifas = pd.read_json(url_tarifas)\r\n",
        "\r\n",
        "tarifas"
      ],
      "execution_count": null,
      "outputs": [
        {
          "output_type": "execute_result",
          "data": {
            "text/html": [
              "<div>\n",
              "<style scoped>\n",
              "    .dataframe tbody tr th:only-of-type {\n",
              "        vertical-align: middle;\n",
              "    }\n",
              "\n",
              "    .dataframe tbody tr th {\n",
              "        vertical-align: top;\n",
              "    }\n",
              "\n",
              "    .dataframe thead th {\n",
              "        text-align: right;\n",
              "    }\n",
              "</style>\n",
              "<table border=\"1\" class=\"dataframe\">\n",
              "  <thead>\n",
              "    <tr style=\"text-align: right;\">\n",
              "      <th></th>\n",
              "      <th>Transporte</th>\n",
              "      <th>Banderazo</th>\n",
              "      <th>Tarifa Distancia</th>\n",
              "      <th>Tarifa Tiempo</th>\n",
              "      <th>Tarifa Mínima</th>\n",
              "    </tr>\n",
              "  </thead>\n",
              "  <tbody>\n",
              "    <tr>\n",
              "      <th>0</th>\n",
              "      <td>Taxi Libre</td>\n",
              "      <td>8.74</td>\n",
              "      <td>1.07</td>\n",
              "      <td>1.07</td>\n",
              "      <td>8.74</td>\n",
              "    </tr>\n",
              "    <tr>\n",
              "      <th>1</th>\n",
              "      <td>Taxi de Sitio</td>\n",
              "      <td>13.10</td>\n",
              "      <td>1.30</td>\n",
              "      <td>1.30</td>\n",
              "      <td>13.10</td>\n",
              "    </tr>\n",
              "    <tr>\n",
              "      <th>2</th>\n",
              "      <td>Radio Taxi</td>\n",
              "      <td>27.60</td>\n",
              "      <td>1.84</td>\n",
              "      <td>1.84</td>\n",
              "      <td>27.60</td>\n",
              "    </tr>\n",
              "    <tr>\n",
              "      <th>3</th>\n",
              "      <td>UberX</td>\n",
              "      <td>7.00</td>\n",
              "      <td>3.57</td>\n",
              "      <td>1.80</td>\n",
              "      <td>35.00</td>\n",
              "    </tr>\n",
              "    <tr>\n",
              "      <th>4</th>\n",
              "      <td>UberXL</td>\n",
              "      <td>12.15</td>\n",
              "      <td>6.28</td>\n",
              "      <td>3.15</td>\n",
              "      <td>45.50</td>\n",
              "    </tr>\n",
              "    <tr>\n",
              "      <th>5</th>\n",
              "      <td>UberBlack</td>\n",
              "      <td>30.00</td>\n",
              "      <td>9.46</td>\n",
              "      <td>3.50</td>\n",
              "      <td>77.00</td>\n",
              "    </tr>\n",
              "    <tr>\n",
              "      <th>6</th>\n",
              "      <td>UberSUV</td>\n",
              "      <td>40.00</td>\n",
              "      <td>15.00</td>\n",
              "      <td>4.00</td>\n",
              "      <td>150.00</td>\n",
              "    </tr>\n",
              "  </tbody>\n",
              "</table>\n",
              "</div>"
            ],
            "text/plain": [
              "      Transporte  Banderazo  Tarifa Distancia  Tarifa Tiempo  Tarifa Mínima\n",
              "0     Taxi Libre       8.74              1.07           1.07           8.74\n",
              "1  Taxi de Sitio      13.10              1.30           1.30          13.10\n",
              "2     Radio Taxi      27.60              1.84           1.84          27.60\n",
              "3          UberX       7.00              3.57           1.80          35.00\n",
              "4         UberXL      12.15              6.28           3.15          45.50\n",
              "5      UberBlack      30.00              9.46           3.50          77.00\n",
              "6        UberSUV      40.00             15.00           4.00         150.00"
            ]
          },
          "metadata": {
            "tags": []
          },
          "execution_count": 246
        }
      ]
    },
    {
      "cell_type": "code",
      "metadata": {
        "colab": {
          "base_uri": "https://localhost:8080/"
        },
        "id": "P_oNFOVGTVXU",
        "outputId": "2fba8dff-2b38-4bdf-aecd-19a0703a7d32"
      },
      "source": [
        "#Se revisa que las variables tengan los formatos correctos\r\n",
        "tarifas.dtypes"
      ],
      "execution_count": null,
      "outputs": [
        {
          "output_type": "execute_result",
          "data": {
            "text/plain": [
              "Transporte           object\n",
              "Banderazo           float64\n",
              "Tarifa Distancia    float64\n",
              "Tarifa Tiempo       float64\n",
              "Tarifa Mínima       float64\n",
              "dtype: object"
            ]
          },
          "metadata": {
            "tags": []
          },
          "execution_count": 247
        }
      ]
    },
    {
      "cell_type": "code",
      "metadata": {
        "colab": {
          "base_uri": "https://localhost:8080/",
          "height": 266
        },
        "id": "9JKGKsHtVNka",
        "outputId": "3439040b-52be-4964-de94-5f0a70a3ba69"
      },
      "source": [
        "#Se corrigen los nombres de las columnas para seguir la convención snake_case\r\n",
        "tarifas.columns = [\"transporte\", \"banderazo\", \"tarifa_dist\", \"tarifa_tiempo\", \"tarifa_min\"]\r\n",
        "\r\n",
        "tarifas"
      ],
      "execution_count": null,
      "outputs": [
        {
          "output_type": "execute_result",
          "data": {
            "text/html": [
              "<div>\n",
              "<style scoped>\n",
              "    .dataframe tbody tr th:only-of-type {\n",
              "        vertical-align: middle;\n",
              "    }\n",
              "\n",
              "    .dataframe tbody tr th {\n",
              "        vertical-align: top;\n",
              "    }\n",
              "\n",
              "    .dataframe thead th {\n",
              "        text-align: right;\n",
              "    }\n",
              "</style>\n",
              "<table border=\"1\" class=\"dataframe\">\n",
              "  <thead>\n",
              "    <tr style=\"text-align: right;\">\n",
              "      <th></th>\n",
              "      <th>transporte</th>\n",
              "      <th>banderazo</th>\n",
              "      <th>tarifa_dist</th>\n",
              "      <th>tarifa_tiempo</th>\n",
              "      <th>tarifa_min</th>\n",
              "    </tr>\n",
              "  </thead>\n",
              "  <tbody>\n",
              "    <tr>\n",
              "      <th>0</th>\n",
              "      <td>Taxi Libre</td>\n",
              "      <td>8.74</td>\n",
              "      <td>1.07</td>\n",
              "      <td>1.07</td>\n",
              "      <td>8.74</td>\n",
              "    </tr>\n",
              "    <tr>\n",
              "      <th>1</th>\n",
              "      <td>Taxi de Sitio</td>\n",
              "      <td>13.10</td>\n",
              "      <td>1.30</td>\n",
              "      <td>1.30</td>\n",
              "      <td>13.10</td>\n",
              "    </tr>\n",
              "    <tr>\n",
              "      <th>2</th>\n",
              "      <td>Radio Taxi</td>\n",
              "      <td>27.60</td>\n",
              "      <td>1.84</td>\n",
              "      <td>1.84</td>\n",
              "      <td>27.60</td>\n",
              "    </tr>\n",
              "    <tr>\n",
              "      <th>3</th>\n",
              "      <td>UberX</td>\n",
              "      <td>7.00</td>\n",
              "      <td>3.57</td>\n",
              "      <td>1.80</td>\n",
              "      <td>35.00</td>\n",
              "    </tr>\n",
              "    <tr>\n",
              "      <th>4</th>\n",
              "      <td>UberXL</td>\n",
              "      <td>12.15</td>\n",
              "      <td>6.28</td>\n",
              "      <td>3.15</td>\n",
              "      <td>45.50</td>\n",
              "    </tr>\n",
              "    <tr>\n",
              "      <th>5</th>\n",
              "      <td>UberBlack</td>\n",
              "      <td>30.00</td>\n",
              "      <td>9.46</td>\n",
              "      <td>3.50</td>\n",
              "      <td>77.00</td>\n",
              "    </tr>\n",
              "    <tr>\n",
              "      <th>6</th>\n",
              "      <td>UberSUV</td>\n",
              "      <td>40.00</td>\n",
              "      <td>15.00</td>\n",
              "      <td>4.00</td>\n",
              "      <td>150.00</td>\n",
              "    </tr>\n",
              "  </tbody>\n",
              "</table>\n",
              "</div>"
            ],
            "text/plain": [
              "      transporte  banderazo  tarifa_dist  tarifa_tiempo  tarifa_min\n",
              "0     Taxi Libre       8.74         1.07           1.07        8.74\n",
              "1  Taxi de Sitio      13.10         1.30           1.30       13.10\n",
              "2     Radio Taxi      27.60         1.84           1.84       27.60\n",
              "3          UberX       7.00         3.57           1.80       35.00\n",
              "4         UberXL      12.15         6.28           3.15       45.50\n",
              "5      UberBlack      30.00         9.46           3.50       77.00\n",
              "6        UberSUV      40.00        15.00           4.00      150.00"
            ]
          },
          "metadata": {
            "tags": []
          },
          "execution_count": 248
        }
      ]
    },
    {
      "cell_type": "code",
      "metadata": {
        "colab": {
          "base_uri": "https://localhost:8080/",
          "height": 419
        },
        "id": "32mfhEO6VOa7",
        "outputId": "398fa304-01c6-4001-ce34-f1444949d88a"
      },
      "source": [
        "#Se crea un subDataFrame que contenga las columnas de interés para calcular costos del viaje\r\n",
        "viajes = data_municipios[[\"tipo_transporte\", \"wait_sec\", \"dist_meters\", \"pickup_datetime\"]]\r\n",
        "\r\n",
        "#Se une el subDataFrame con el JSON en un mismo DataFrame\r\n",
        "#La variable en común será \"tipo_transporte\" y \"transporte\" que contienen las categorías de Taxi y Uber\r\n",
        "#how=\"left\" es para mantener todas las filas del subDataFrame y se trabajen sobre ellas\r\n",
        "costos_viajes = pd.merge(viajes, tarifas, left_on=\"tipo_transporte\", right_on=\"transporte\", how=\"left\")\r\n",
        "\r\n",
        "#Se elimina la columna transporte ya que es la misma que \"tipo_transporte\"\r\n",
        "costos_viajes = costos_viajes.drop(columns=[\"transporte\"])\r\n",
        "\r\n",
        "costos_viajes"
      ],
      "execution_count": null,
      "outputs": [
        {
          "output_type": "execute_result",
          "data": {
            "text/html": [
              "<div>\n",
              "<style scoped>\n",
              "    .dataframe tbody tr th:only-of-type {\n",
              "        vertical-align: middle;\n",
              "    }\n",
              "\n",
              "    .dataframe tbody tr th {\n",
              "        vertical-align: top;\n",
              "    }\n",
              "\n",
              "    .dataframe thead th {\n",
              "        text-align: right;\n",
              "    }\n",
              "</style>\n",
              "<table border=\"1\" class=\"dataframe\">\n",
              "  <thead>\n",
              "    <tr style=\"text-align: right;\">\n",
              "      <th></th>\n",
              "      <th>tipo_transporte</th>\n",
              "      <th>wait_sec</th>\n",
              "      <th>dist_meters</th>\n",
              "      <th>pickup_datetime</th>\n",
              "      <th>banderazo</th>\n",
              "      <th>tarifa_dist</th>\n",
              "      <th>tarifa_tiempo</th>\n",
              "      <th>tarifa_min</th>\n",
              "    </tr>\n",
              "  </thead>\n",
              "  <tbody>\n",
              "    <tr>\n",
              "      <th>0</th>\n",
              "      <td>Taxi Libre</td>\n",
              "      <td>129</td>\n",
              "      <td>2848</td>\n",
              "      <td>2016-09-18 10:11:50</td>\n",
              "      <td>8.74</td>\n",
              "      <td>1.07</td>\n",
              "      <td>1.07</td>\n",
              "      <td>8.74</td>\n",
              "    </tr>\n",
              "    <tr>\n",
              "      <th>1</th>\n",
              "      <td>Taxi Libre</td>\n",
              "      <td>106</td>\n",
              "      <td>1409</td>\n",
              "      <td>2016-09-18 10:23:38</td>\n",
              "      <td>8.74</td>\n",
              "      <td>1.07</td>\n",
              "      <td>1.07</td>\n",
              "      <td>8.74</td>\n",
              "    </tr>\n",
              "    <tr>\n",
              "      <th>2</th>\n",
              "      <td>Taxi Libre</td>\n",
              "      <td>85</td>\n",
              "      <td>1567</td>\n",
              "      <td>2016-09-18 10:44:18</td>\n",
              "      <td>8.74</td>\n",
              "      <td>1.07</td>\n",
              "      <td>1.07</td>\n",
              "      <td>8.74</td>\n",
              "    </tr>\n",
              "    <tr>\n",
              "      <th>3</th>\n",
              "      <td>Taxi Libre</td>\n",
              "      <td>19</td>\n",
              "      <td>797</td>\n",
              "      <td>2016-09-18 10:58:07</td>\n",
              "      <td>8.74</td>\n",
              "      <td>1.07</td>\n",
              "      <td>1.07</td>\n",
              "      <td>8.74</td>\n",
              "    </tr>\n",
              "    <tr>\n",
              "      <th>4</th>\n",
              "      <td>Taxi Libre</td>\n",
              "      <td>169</td>\n",
              "      <td>676</td>\n",
              "      <td>2016-09-18 11:00:00</td>\n",
              "      <td>8.74</td>\n",
              "      <td>1.07</td>\n",
              "      <td>1.07</td>\n",
              "      <td>8.74</td>\n",
              "    </tr>\n",
              "    <tr>\n",
              "      <th>...</th>\n",
              "      <td>...</td>\n",
              "      <td>...</td>\n",
              "      <td>...</td>\n",
              "      <td>...</td>\n",
              "      <td>...</td>\n",
              "      <td>...</td>\n",
              "      <td>...</td>\n",
              "      <td>...</td>\n",
              "    </tr>\n",
              "    <tr>\n",
              "      <th>7621</th>\n",
              "      <td>Taxi de Sitio</td>\n",
              "      <td>150</td>\n",
              "      <td>4908</td>\n",
              "      <td>2016-10-27 04:52:10</td>\n",
              "      <td>13.10</td>\n",
              "      <td>1.30</td>\n",
              "      <td>1.30</td>\n",
              "      <td>13.10</td>\n",
              "    </tr>\n",
              "    <tr>\n",
              "      <th>7622</th>\n",
              "      <td>Taxi Libre</td>\n",
              "      <td>386</td>\n",
              "      <td>7407</td>\n",
              "      <td>2016-10-27 05:02:26</td>\n",
              "      <td>8.74</td>\n",
              "      <td>1.07</td>\n",
              "      <td>1.07</td>\n",
              "      <td>8.74</td>\n",
              "    </tr>\n",
              "    <tr>\n",
              "      <th>7623</th>\n",
              "      <td>Taxi Libre</td>\n",
              "      <td>33</td>\n",
              "      <td>2280</td>\n",
              "      <td>2016-10-27 08:11:10</td>\n",
              "      <td>8.74</td>\n",
              "      <td>1.07</td>\n",
              "      <td>1.07</td>\n",
              "      <td>8.74</td>\n",
              "    </tr>\n",
              "    <tr>\n",
              "      <th>7624</th>\n",
              "      <td>Taxi de Sitio</td>\n",
              "      <td>115</td>\n",
              "      <td>2498</td>\n",
              "      <td>2016-10-27 10:53:15</td>\n",
              "      <td>13.10</td>\n",
              "      <td>1.30</td>\n",
              "      <td>1.30</td>\n",
              "      <td>13.10</td>\n",
              "    </tr>\n",
              "    <tr>\n",
              "      <th>7625</th>\n",
              "      <td>Taxi Libre</td>\n",
              "      <td>228</td>\n",
              "      <td>6051</td>\n",
              "      <td>2016-10-27 11:19:44</td>\n",
              "      <td>8.74</td>\n",
              "      <td>1.07</td>\n",
              "      <td>1.07</td>\n",
              "      <td>8.74</td>\n",
              "    </tr>\n",
              "  </tbody>\n",
              "</table>\n",
              "<p>7626 rows × 8 columns</p>\n",
              "</div>"
            ],
            "text/plain": [
              "     tipo_transporte  wait_sec  ...  tarifa_tiempo tarifa_min\n",
              "0         Taxi Libre       129  ...           1.07       8.74\n",
              "1         Taxi Libre       106  ...           1.07       8.74\n",
              "2         Taxi Libre        85  ...           1.07       8.74\n",
              "3         Taxi Libre        19  ...           1.07       8.74\n",
              "4         Taxi Libre       169  ...           1.07       8.74\n",
              "...              ...       ...  ...            ...        ...\n",
              "7621   Taxi de Sitio       150  ...           1.30      13.10\n",
              "7622      Taxi Libre       386  ...           1.07       8.74\n",
              "7623      Taxi Libre        33  ...           1.07       8.74\n",
              "7624   Taxi de Sitio       115  ...           1.30      13.10\n",
              "7625      Taxi Libre       228  ...           1.07       8.74\n",
              "\n",
              "[7626 rows x 8 columns]"
            ]
          },
          "metadata": {
            "tags": []
          },
          "execution_count": 249
        }
      ]
    },
    {
      "cell_type": "markdown",
      "metadata": {
        "id": "Rf5n36KZ7VO5"
      },
      "source": [
        "### Costos\r\n",
        "\r\n",
        "Se calculan los costos totales de cada viaje. \r\n",
        "\r\n",
        "Formula para calcular el Costo Total del viaje:\r\n",
        "\r\n",
        "\r\n",
        "$Costo Viaje = TarifaBase + (Tarifa Distancia * Distancia Recorrida) + (Tarifa Tiempo * Tiempo Espera )$\r\n",
        "\r\n",
        "\r\n",
        "Es importante recordar que cada categoría Uber/Taxi maneja diferentes unidades de distancia y de tiempo. \r\n",
        "\r\n",
        "Para Uber es 1km y 1min y para Taxi son 250mts. y 45seg. por lo que se debe de dividir la distancia y el tiempo de espera total para obtener las unidades correctas\r\n",
        "\r\n",
        "*Tiempo Espera se entiende como el tiempo en el que el automóvil estuvo detenido, por ejemplo semáforo o tráfico.*\r\n"
      ]
    },
    {
      "cell_type": "code",
      "metadata": {
        "colab": {
          "base_uri": "https://localhost:8080/",
          "height": 419
        },
        "id": "BloipavPVR27",
        "outputId": "d97dc778-26c3-4958-c0f3-2bfcdaf80a25"
      },
      "source": [
        "#Las filas que contengan los valores de la cateogría de Taxi en \"tipo_transporte\" utilizarán los valores pertinentes\r\n",
        "#para el correcto cálculo del Costo Viaje\r\n",
        "costos_viajes.loc[(costos_viajes[\"tipo_transporte\"] == \"Taxi Libre\") |\r\n",
        "                  (costos_viajes[\"tipo_transporte\"] == \"Taxi de Sitio\") |\r\n",
        "                  (costos_viajes[\"tipo_transporte\"] == \"Radio Taxi\"),\r\n",
        "                  \"costo_viaje_sin_min\"] = (costos_viajes[\"banderazo\"] + \r\n",
        "                                ((costos_viajes[\"dist_meters\"] / 250) * costos_viajes[\"tarifa_dist\"]) + \r\n",
        "                                ((costos_viajes[\"wait_sec\"] / 45) * costos_viajes[\"tarifa_tiempo\"]))\r\n",
        "\r\n",
        "#Las filas que contengan los valores de la cateogría de Uber en \"tipo_transporte\" utilizarán los valores pertinentes\r\n",
        "#para el correcto cálculo del Costo Viaje\r\n",
        "costos_viajes.loc[(costos_viajes[\"tipo_transporte\"] == \"UberX\") |\r\n",
        "                  (costos_viajes[\"tipo_transporte\"] == \"UberXL\") |\r\n",
        "                  (costos_viajes[\"tipo_transporte\"] == \"UberBlack\") |\r\n",
        "                  (costos_viajes[\"tipo_transporte\"] == \"UberSUV\"),\r\n",
        "                  \"costo_viaje_sin_min\"] = (costos_viajes[\"banderazo\"] + \r\n",
        "                                ((costos_viajes[\"dist_meters\"] / 1000) * costos_viajes[\"tarifa_dist\"]) + \r\n",
        "                                ((costos_viajes[\"wait_sec\"] / 60) * costos_viajes[\"tarifa_tiempo\"]))\r\n",
        "\r\n",
        "costos_viajes\r\n",
        "\r\n",
        "#Con los valores arrojados, se puede corroborar que las nuevas columnas son correctas"
      ],
      "execution_count": null,
      "outputs": [
        {
          "output_type": "execute_result",
          "data": {
            "text/html": [
              "<div>\n",
              "<style scoped>\n",
              "    .dataframe tbody tr th:only-of-type {\n",
              "        vertical-align: middle;\n",
              "    }\n",
              "\n",
              "    .dataframe tbody tr th {\n",
              "        vertical-align: top;\n",
              "    }\n",
              "\n",
              "    .dataframe thead th {\n",
              "        text-align: right;\n",
              "    }\n",
              "</style>\n",
              "<table border=\"1\" class=\"dataframe\">\n",
              "  <thead>\n",
              "    <tr style=\"text-align: right;\">\n",
              "      <th></th>\n",
              "      <th>tipo_transporte</th>\n",
              "      <th>wait_sec</th>\n",
              "      <th>dist_meters</th>\n",
              "      <th>pickup_datetime</th>\n",
              "      <th>banderazo</th>\n",
              "      <th>tarifa_dist</th>\n",
              "      <th>tarifa_tiempo</th>\n",
              "      <th>tarifa_min</th>\n",
              "      <th>costo_viaje_sin_min</th>\n",
              "    </tr>\n",
              "  </thead>\n",
              "  <tbody>\n",
              "    <tr>\n",
              "      <th>0</th>\n",
              "      <td>Taxi Libre</td>\n",
              "      <td>129</td>\n",
              "      <td>2848</td>\n",
              "      <td>2016-09-18 10:11:50</td>\n",
              "      <td>8.74</td>\n",
              "      <td>1.07</td>\n",
              "      <td>1.07</td>\n",
              "      <td>8.74</td>\n",
              "      <td>23.996773</td>\n",
              "    </tr>\n",
              "    <tr>\n",
              "      <th>1</th>\n",
              "      <td>Taxi Libre</td>\n",
              "      <td>106</td>\n",
              "      <td>1409</td>\n",
              "      <td>2016-09-18 10:23:38</td>\n",
              "      <td>8.74</td>\n",
              "      <td>1.07</td>\n",
              "      <td>1.07</td>\n",
              "      <td>8.74</td>\n",
              "      <td>17.290964</td>\n",
              "    </tr>\n",
              "    <tr>\n",
              "      <th>2</th>\n",
              "      <td>Taxi Libre</td>\n",
              "      <td>85</td>\n",
              "      <td>1567</td>\n",
              "      <td>2016-09-18 10:44:18</td>\n",
              "      <td>8.74</td>\n",
              "      <td>1.07</td>\n",
              "      <td>1.07</td>\n",
              "      <td>8.74</td>\n",
              "      <td>17.467871</td>\n",
              "    </tr>\n",
              "    <tr>\n",
              "      <th>3</th>\n",
              "      <td>Taxi Libre</td>\n",
              "      <td>19</td>\n",
              "      <td>797</td>\n",
              "      <td>2016-09-18 10:58:07</td>\n",
              "      <td>8.74</td>\n",
              "      <td>1.07</td>\n",
              "      <td>1.07</td>\n",
              "      <td>8.74</td>\n",
              "      <td>12.602938</td>\n",
              "    </tr>\n",
              "    <tr>\n",
              "      <th>4</th>\n",
              "      <td>Taxi Libre</td>\n",
              "      <td>169</td>\n",
              "      <td>676</td>\n",
              "      <td>2016-09-18 11:00:00</td>\n",
              "      <td>8.74</td>\n",
              "      <td>1.07</td>\n",
              "      <td>1.07</td>\n",
              "      <td>8.74</td>\n",
              "      <td>15.651724</td>\n",
              "    </tr>\n",
              "    <tr>\n",
              "      <th>...</th>\n",
              "      <td>...</td>\n",
              "      <td>...</td>\n",
              "      <td>...</td>\n",
              "      <td>...</td>\n",
              "      <td>...</td>\n",
              "      <td>...</td>\n",
              "      <td>...</td>\n",
              "      <td>...</td>\n",
              "      <td>...</td>\n",
              "    </tr>\n",
              "    <tr>\n",
              "      <th>7621</th>\n",
              "      <td>Taxi de Sitio</td>\n",
              "      <td>150</td>\n",
              "      <td>4908</td>\n",
              "      <td>2016-10-27 04:52:10</td>\n",
              "      <td>13.10</td>\n",
              "      <td>1.30</td>\n",
              "      <td>1.30</td>\n",
              "      <td>13.10</td>\n",
              "      <td>42.954933</td>\n",
              "    </tr>\n",
              "    <tr>\n",
              "      <th>7622</th>\n",
              "      <td>Taxi Libre</td>\n",
              "      <td>386</td>\n",
              "      <td>7407</td>\n",
              "      <td>2016-10-27 05:02:26</td>\n",
              "      <td>8.74</td>\n",
              "      <td>1.07</td>\n",
              "      <td>1.07</td>\n",
              "      <td>8.74</td>\n",
              "      <td>49.620182</td>\n",
              "    </tr>\n",
              "    <tr>\n",
              "      <th>7623</th>\n",
              "      <td>Taxi Libre</td>\n",
              "      <td>33</td>\n",
              "      <td>2280</td>\n",
              "      <td>2016-10-27 08:11:10</td>\n",
              "      <td>8.74</td>\n",
              "      <td>1.07</td>\n",
              "      <td>1.07</td>\n",
              "      <td>8.74</td>\n",
              "      <td>19.283067</td>\n",
              "    </tr>\n",
              "    <tr>\n",
              "      <th>7624</th>\n",
              "      <td>Taxi de Sitio</td>\n",
              "      <td>115</td>\n",
              "      <td>2498</td>\n",
              "      <td>2016-10-27 10:53:15</td>\n",
              "      <td>13.10</td>\n",
              "      <td>1.30</td>\n",
              "      <td>1.30</td>\n",
              "      <td>13.10</td>\n",
              "      <td>29.411822</td>\n",
              "    </tr>\n",
              "    <tr>\n",
              "      <th>7625</th>\n",
              "      <td>Taxi Libre</td>\n",
              "      <td>228</td>\n",
              "      <td>6051</td>\n",
              "      <td>2016-10-27 11:19:44</td>\n",
              "      <td>8.74</td>\n",
              "      <td>1.07</td>\n",
              "      <td>1.07</td>\n",
              "      <td>8.74</td>\n",
              "      <td>40.059613</td>\n",
              "    </tr>\n",
              "  </tbody>\n",
              "</table>\n",
              "<p>7626 rows × 9 columns</p>\n",
              "</div>"
            ],
            "text/plain": [
              "     tipo_transporte  wait_sec  ...  tarifa_min costo_viaje_sin_min\n",
              "0         Taxi Libre       129  ...        8.74           23.996773\n",
              "1         Taxi Libre       106  ...        8.74           17.290964\n",
              "2         Taxi Libre        85  ...        8.74           17.467871\n",
              "3         Taxi Libre        19  ...        8.74           12.602938\n",
              "4         Taxi Libre       169  ...        8.74           15.651724\n",
              "...              ...       ...  ...         ...                 ...\n",
              "7621   Taxi de Sitio       150  ...       13.10           42.954933\n",
              "7622      Taxi Libre       386  ...        8.74           49.620182\n",
              "7623      Taxi Libre        33  ...        8.74           19.283067\n",
              "7624   Taxi de Sitio       115  ...       13.10           29.411822\n",
              "7625      Taxi Libre       228  ...        8.74           40.059613\n",
              "\n",
              "[7626 rows x 9 columns]"
            ]
          },
          "metadata": {
            "tags": []
          },
          "execution_count": 250
        }
      ]
    },
    {
      "cell_type": "markdown",
      "metadata": {
        "id": "Dtzq5fiQ-rhv"
      },
      "source": [
        "### Aplicación de Tarifa Mínima\r\n",
        "\r\n",
        "Sin importar que la distancia o el tiempo recorrido sean muy pequeños, existe una Tarifa Mínima para que esta sea aplicada. \r\n",
        "\r\n",
        "Es decir, si el costo total del viaje era de \\$5 y la tarifa mínima es de \\$20, el monto que deberá pagar el pasajero será de $20.\r\n"
      ]
    },
    {
      "cell_type": "code",
      "metadata": {
        "id": "uT7wQlbwVah6",
        "colab": {
          "base_uri": "https://localhost:8080/",
          "height": 609
        },
        "outputId": "78132902-25b0-4166-cbbc-3b3d61672498"
      },
      "source": [
        "#Se duplica la columna del Costo Viaje calculado\r\n",
        "costos_viajes[\"costo_viaje_sobre_min\"] = costos_viajes[\"costo_viaje_sin_min\"]\r\n",
        "\r\n",
        "#En la columna duplicada se aplica código\r\n",
        "#Si el Costo Viaje es menor a la Tarifa Mínima, Tarifa Mínima sustituye el valor de esa fila en la nueva columna\r\n",
        "costos_viajes.loc[costos_viajes[\"costo_viaje_sobre_min\"] < costos_viajes[\"tarifa_min\"], \"costo_viaje_sobre_min\"] = costos_viajes[\"tarifa_min\"]\r\n",
        "\r\n",
        "costos_viajes\r\n",
        "\r\n",
        "#Con los valores arrojados, se puede corroborar que las nuevas columnas son correctas"
      ],
      "execution_count": null,
      "outputs": [
        {
          "output_type": "execute_result",
          "data": {
            "text/html": [
              "<div>\n",
              "<style scoped>\n",
              "    .dataframe tbody tr th:only-of-type {\n",
              "        vertical-align: middle;\n",
              "    }\n",
              "\n",
              "    .dataframe tbody tr th {\n",
              "        vertical-align: top;\n",
              "    }\n",
              "\n",
              "    .dataframe thead th {\n",
              "        text-align: right;\n",
              "    }\n",
              "</style>\n",
              "<table border=\"1\" class=\"dataframe\">\n",
              "  <thead>\n",
              "    <tr style=\"text-align: right;\">\n",
              "      <th></th>\n",
              "      <th>tipo_transporte</th>\n",
              "      <th>wait_sec</th>\n",
              "      <th>dist_meters</th>\n",
              "      <th>pickup_datetime</th>\n",
              "      <th>banderazo</th>\n",
              "      <th>tarifa_dist</th>\n",
              "      <th>tarifa_tiempo</th>\n",
              "      <th>tarifa_min</th>\n",
              "      <th>costo_viaje_sin_min</th>\n",
              "      <th>costo_viaje_sobre_min</th>\n",
              "    </tr>\n",
              "  </thead>\n",
              "  <tbody>\n",
              "    <tr>\n",
              "      <th>0</th>\n",
              "      <td>Taxi Libre</td>\n",
              "      <td>129</td>\n",
              "      <td>2848</td>\n",
              "      <td>2016-09-18 10:11:50</td>\n",
              "      <td>8.74</td>\n",
              "      <td>1.07</td>\n",
              "      <td>1.07</td>\n",
              "      <td>8.74</td>\n",
              "      <td>23.996773</td>\n",
              "      <td>23.996773</td>\n",
              "    </tr>\n",
              "    <tr>\n",
              "      <th>1</th>\n",
              "      <td>Taxi Libre</td>\n",
              "      <td>106</td>\n",
              "      <td>1409</td>\n",
              "      <td>2016-09-18 10:23:38</td>\n",
              "      <td>8.74</td>\n",
              "      <td>1.07</td>\n",
              "      <td>1.07</td>\n",
              "      <td>8.74</td>\n",
              "      <td>17.290964</td>\n",
              "      <td>17.290964</td>\n",
              "    </tr>\n",
              "    <tr>\n",
              "      <th>2</th>\n",
              "      <td>Taxi Libre</td>\n",
              "      <td>85</td>\n",
              "      <td>1567</td>\n",
              "      <td>2016-09-18 10:44:18</td>\n",
              "      <td>8.74</td>\n",
              "      <td>1.07</td>\n",
              "      <td>1.07</td>\n",
              "      <td>8.74</td>\n",
              "      <td>17.467871</td>\n",
              "      <td>17.467871</td>\n",
              "    </tr>\n",
              "    <tr>\n",
              "      <th>3</th>\n",
              "      <td>Taxi Libre</td>\n",
              "      <td>19</td>\n",
              "      <td>797</td>\n",
              "      <td>2016-09-18 10:58:07</td>\n",
              "      <td>8.74</td>\n",
              "      <td>1.07</td>\n",
              "      <td>1.07</td>\n",
              "      <td>8.74</td>\n",
              "      <td>12.602938</td>\n",
              "      <td>12.602938</td>\n",
              "    </tr>\n",
              "    <tr>\n",
              "      <th>4</th>\n",
              "      <td>Taxi Libre</td>\n",
              "      <td>169</td>\n",
              "      <td>676</td>\n",
              "      <td>2016-09-18 11:00:00</td>\n",
              "      <td>8.74</td>\n",
              "      <td>1.07</td>\n",
              "      <td>1.07</td>\n",
              "      <td>8.74</td>\n",
              "      <td>15.651724</td>\n",
              "      <td>15.651724</td>\n",
              "    </tr>\n",
              "    <tr>\n",
              "      <th>...</th>\n",
              "      <td>...</td>\n",
              "      <td>...</td>\n",
              "      <td>...</td>\n",
              "      <td>...</td>\n",
              "      <td>...</td>\n",
              "      <td>...</td>\n",
              "      <td>...</td>\n",
              "      <td>...</td>\n",
              "      <td>...</td>\n",
              "      <td>...</td>\n",
              "    </tr>\n",
              "    <tr>\n",
              "      <th>7621</th>\n",
              "      <td>Taxi de Sitio</td>\n",
              "      <td>150</td>\n",
              "      <td>4908</td>\n",
              "      <td>2016-10-27 04:52:10</td>\n",
              "      <td>13.10</td>\n",
              "      <td>1.30</td>\n",
              "      <td>1.30</td>\n",
              "      <td>13.10</td>\n",
              "      <td>42.954933</td>\n",
              "      <td>42.954933</td>\n",
              "    </tr>\n",
              "    <tr>\n",
              "      <th>7622</th>\n",
              "      <td>Taxi Libre</td>\n",
              "      <td>386</td>\n",
              "      <td>7407</td>\n",
              "      <td>2016-10-27 05:02:26</td>\n",
              "      <td>8.74</td>\n",
              "      <td>1.07</td>\n",
              "      <td>1.07</td>\n",
              "      <td>8.74</td>\n",
              "      <td>49.620182</td>\n",
              "      <td>49.620182</td>\n",
              "    </tr>\n",
              "    <tr>\n",
              "      <th>7623</th>\n",
              "      <td>Taxi Libre</td>\n",
              "      <td>33</td>\n",
              "      <td>2280</td>\n",
              "      <td>2016-10-27 08:11:10</td>\n",
              "      <td>8.74</td>\n",
              "      <td>1.07</td>\n",
              "      <td>1.07</td>\n",
              "      <td>8.74</td>\n",
              "      <td>19.283067</td>\n",
              "      <td>19.283067</td>\n",
              "    </tr>\n",
              "    <tr>\n",
              "      <th>7624</th>\n",
              "      <td>Taxi de Sitio</td>\n",
              "      <td>115</td>\n",
              "      <td>2498</td>\n",
              "      <td>2016-10-27 10:53:15</td>\n",
              "      <td>13.10</td>\n",
              "      <td>1.30</td>\n",
              "      <td>1.30</td>\n",
              "      <td>13.10</td>\n",
              "      <td>29.411822</td>\n",
              "      <td>29.411822</td>\n",
              "    </tr>\n",
              "    <tr>\n",
              "      <th>7625</th>\n",
              "      <td>Taxi Libre</td>\n",
              "      <td>228</td>\n",
              "      <td>6051</td>\n",
              "      <td>2016-10-27 11:19:44</td>\n",
              "      <td>8.74</td>\n",
              "      <td>1.07</td>\n",
              "      <td>1.07</td>\n",
              "      <td>8.74</td>\n",
              "      <td>40.059613</td>\n",
              "      <td>40.059613</td>\n",
              "    </tr>\n",
              "  </tbody>\n",
              "</table>\n",
              "<p>7626 rows × 10 columns</p>\n",
              "</div>"
            ],
            "text/plain": [
              "     tipo_transporte  wait_sec  ...  costo_viaje_sin_min costo_viaje_sobre_min\n",
              "0         Taxi Libre       129  ...            23.996773             23.996773\n",
              "1         Taxi Libre       106  ...            17.290964             17.290964\n",
              "2         Taxi Libre        85  ...            17.467871             17.467871\n",
              "3         Taxi Libre        19  ...            12.602938             12.602938\n",
              "4         Taxi Libre       169  ...            15.651724             15.651724\n",
              "...              ...       ...  ...                  ...                   ...\n",
              "7621   Taxi de Sitio       150  ...            42.954933             42.954933\n",
              "7622      Taxi Libre       386  ...            49.620182             49.620182\n",
              "7623      Taxi Libre        33  ...            19.283067             19.283067\n",
              "7624   Taxi de Sitio       115  ...            29.411822             29.411822\n",
              "7625      Taxi Libre       228  ...            40.059613             40.059613\n",
              "\n",
              "[7626 rows x 10 columns]"
            ]
          },
          "metadata": {
            "tags": []
          },
          "execution_count": 251
        }
      ]
    },
    {
      "cell_type": "markdown",
      "metadata": {
        "id": "73pQvp_LBfmO"
      },
      "source": [
        "### Agrupaciones por mes, días y horas\r\n",
        "\r\n",
        "Para poder obtener algunos estadísticos se separa la fecha en Hora, Día y Mes\r\n",
        "\r\n",
        "Con ésto, podremos obtener el promedio por categoría (Uber/Taxi) por Hora del día, Día del Mes o Mes del Año. De esta manera podemos saber a qué Hora/Día/Mes le conviene trabajar al conductor."
      ]
    },
    {
      "cell_type": "markdown",
      "metadata": {
        "id": "LXrflQP0CtSf"
      },
      "source": [
        "#### Separación de Fecha en Hora, Día, Mes"
      ]
    },
    {
      "cell_type": "code",
      "metadata": {
        "colab": {
          "base_uri": "https://localhost:8080/",
          "height": 609
        },
        "id": "Bs8HOafCel9f",
        "outputId": "a97fe9c3-2c66-4ba8-8733-c50b5957393e"
      },
      "source": [
        "#Se obtiene la columna Hora\r\n",
        "costos_viajes[\"hora\"] = costos_viajes[\"pickup_datetime\"].apply(lambda x: x.strftime(\"%I\"))\r\n",
        "\r\n",
        "#Se obtiene la columna Día\r\n",
        "costos_viajes[\"dia\"] = costos_viajes[\"pickup_datetime\"].apply(lambda x: x.strftime(\"%A\"))\r\n",
        "\r\n",
        "#Se obtiene la columna Mes\r\n",
        "costos_viajes[\"mes\"] = costos_viajes[\"pickup_datetime\"].apply(lambda x: x.strftime(\"%B\"))\r\n",
        "\r\n",
        "costos_viajes\r\n",
        "\r\n",
        "#Con los valores arrojados, se puede corroborar que las nuevas columnas son correctas"
      ],
      "execution_count": null,
      "outputs": [
        {
          "output_type": "execute_result",
          "data": {
            "text/html": [
              "<div>\n",
              "<style scoped>\n",
              "    .dataframe tbody tr th:only-of-type {\n",
              "        vertical-align: middle;\n",
              "    }\n",
              "\n",
              "    .dataframe tbody tr th {\n",
              "        vertical-align: top;\n",
              "    }\n",
              "\n",
              "    .dataframe thead th {\n",
              "        text-align: right;\n",
              "    }\n",
              "</style>\n",
              "<table border=\"1\" class=\"dataframe\">\n",
              "  <thead>\n",
              "    <tr style=\"text-align: right;\">\n",
              "      <th></th>\n",
              "      <th>tipo_transporte</th>\n",
              "      <th>wait_sec</th>\n",
              "      <th>dist_meters</th>\n",
              "      <th>pickup_datetime</th>\n",
              "      <th>banderazo</th>\n",
              "      <th>tarifa_dist</th>\n",
              "      <th>tarifa_tiempo</th>\n",
              "      <th>tarifa_min</th>\n",
              "      <th>costo_viaje_sin_min</th>\n",
              "      <th>costo_viaje_sobre_min</th>\n",
              "      <th>hora</th>\n",
              "      <th>dia</th>\n",
              "      <th>mes</th>\n",
              "    </tr>\n",
              "  </thead>\n",
              "  <tbody>\n",
              "    <tr>\n",
              "      <th>0</th>\n",
              "      <td>Taxi Libre</td>\n",
              "      <td>129</td>\n",
              "      <td>2848</td>\n",
              "      <td>2016-09-18 10:11:50</td>\n",
              "      <td>8.74</td>\n",
              "      <td>1.07</td>\n",
              "      <td>1.07</td>\n",
              "      <td>8.74</td>\n",
              "      <td>23.996773</td>\n",
              "      <td>23.996773</td>\n",
              "      <td>10</td>\n",
              "      <td>Sunday</td>\n",
              "      <td>September</td>\n",
              "    </tr>\n",
              "    <tr>\n",
              "      <th>1</th>\n",
              "      <td>Taxi Libre</td>\n",
              "      <td>106</td>\n",
              "      <td>1409</td>\n",
              "      <td>2016-09-18 10:23:38</td>\n",
              "      <td>8.74</td>\n",
              "      <td>1.07</td>\n",
              "      <td>1.07</td>\n",
              "      <td>8.74</td>\n",
              "      <td>17.290964</td>\n",
              "      <td>17.290964</td>\n",
              "      <td>10</td>\n",
              "      <td>Sunday</td>\n",
              "      <td>September</td>\n",
              "    </tr>\n",
              "    <tr>\n",
              "      <th>2</th>\n",
              "      <td>Taxi Libre</td>\n",
              "      <td>85</td>\n",
              "      <td>1567</td>\n",
              "      <td>2016-09-18 10:44:18</td>\n",
              "      <td>8.74</td>\n",
              "      <td>1.07</td>\n",
              "      <td>1.07</td>\n",
              "      <td>8.74</td>\n",
              "      <td>17.467871</td>\n",
              "      <td>17.467871</td>\n",
              "      <td>10</td>\n",
              "      <td>Sunday</td>\n",
              "      <td>September</td>\n",
              "    </tr>\n",
              "    <tr>\n",
              "      <th>3</th>\n",
              "      <td>Taxi Libre</td>\n",
              "      <td>19</td>\n",
              "      <td>797</td>\n",
              "      <td>2016-09-18 10:58:07</td>\n",
              "      <td>8.74</td>\n",
              "      <td>1.07</td>\n",
              "      <td>1.07</td>\n",
              "      <td>8.74</td>\n",
              "      <td>12.602938</td>\n",
              "      <td>12.602938</td>\n",
              "      <td>10</td>\n",
              "      <td>Sunday</td>\n",
              "      <td>September</td>\n",
              "    </tr>\n",
              "    <tr>\n",
              "      <th>4</th>\n",
              "      <td>Taxi Libre</td>\n",
              "      <td>169</td>\n",
              "      <td>676</td>\n",
              "      <td>2016-09-18 11:00:00</td>\n",
              "      <td>8.74</td>\n",
              "      <td>1.07</td>\n",
              "      <td>1.07</td>\n",
              "      <td>8.74</td>\n",
              "      <td>15.651724</td>\n",
              "      <td>15.651724</td>\n",
              "      <td>11</td>\n",
              "      <td>Sunday</td>\n",
              "      <td>September</td>\n",
              "    </tr>\n",
              "    <tr>\n",
              "      <th>...</th>\n",
              "      <td>...</td>\n",
              "      <td>...</td>\n",
              "      <td>...</td>\n",
              "      <td>...</td>\n",
              "      <td>...</td>\n",
              "      <td>...</td>\n",
              "      <td>...</td>\n",
              "      <td>...</td>\n",
              "      <td>...</td>\n",
              "      <td>...</td>\n",
              "      <td>...</td>\n",
              "      <td>...</td>\n",
              "      <td>...</td>\n",
              "    </tr>\n",
              "    <tr>\n",
              "      <th>7621</th>\n",
              "      <td>Taxi de Sitio</td>\n",
              "      <td>150</td>\n",
              "      <td>4908</td>\n",
              "      <td>2016-10-27 04:52:10</td>\n",
              "      <td>13.10</td>\n",
              "      <td>1.30</td>\n",
              "      <td>1.30</td>\n",
              "      <td>13.10</td>\n",
              "      <td>42.954933</td>\n",
              "      <td>42.954933</td>\n",
              "      <td>04</td>\n",
              "      <td>Thursday</td>\n",
              "      <td>October</td>\n",
              "    </tr>\n",
              "    <tr>\n",
              "      <th>7622</th>\n",
              "      <td>Taxi Libre</td>\n",
              "      <td>386</td>\n",
              "      <td>7407</td>\n",
              "      <td>2016-10-27 05:02:26</td>\n",
              "      <td>8.74</td>\n",
              "      <td>1.07</td>\n",
              "      <td>1.07</td>\n",
              "      <td>8.74</td>\n",
              "      <td>49.620182</td>\n",
              "      <td>49.620182</td>\n",
              "      <td>05</td>\n",
              "      <td>Thursday</td>\n",
              "      <td>October</td>\n",
              "    </tr>\n",
              "    <tr>\n",
              "      <th>7623</th>\n",
              "      <td>Taxi Libre</td>\n",
              "      <td>33</td>\n",
              "      <td>2280</td>\n",
              "      <td>2016-10-27 08:11:10</td>\n",
              "      <td>8.74</td>\n",
              "      <td>1.07</td>\n",
              "      <td>1.07</td>\n",
              "      <td>8.74</td>\n",
              "      <td>19.283067</td>\n",
              "      <td>19.283067</td>\n",
              "      <td>08</td>\n",
              "      <td>Thursday</td>\n",
              "      <td>October</td>\n",
              "    </tr>\n",
              "    <tr>\n",
              "      <th>7624</th>\n",
              "      <td>Taxi de Sitio</td>\n",
              "      <td>115</td>\n",
              "      <td>2498</td>\n",
              "      <td>2016-10-27 10:53:15</td>\n",
              "      <td>13.10</td>\n",
              "      <td>1.30</td>\n",
              "      <td>1.30</td>\n",
              "      <td>13.10</td>\n",
              "      <td>29.411822</td>\n",
              "      <td>29.411822</td>\n",
              "      <td>10</td>\n",
              "      <td>Thursday</td>\n",
              "      <td>October</td>\n",
              "    </tr>\n",
              "    <tr>\n",
              "      <th>7625</th>\n",
              "      <td>Taxi Libre</td>\n",
              "      <td>228</td>\n",
              "      <td>6051</td>\n",
              "      <td>2016-10-27 11:19:44</td>\n",
              "      <td>8.74</td>\n",
              "      <td>1.07</td>\n",
              "      <td>1.07</td>\n",
              "      <td>8.74</td>\n",
              "      <td>40.059613</td>\n",
              "      <td>40.059613</td>\n",
              "      <td>11</td>\n",
              "      <td>Thursday</td>\n",
              "      <td>October</td>\n",
              "    </tr>\n",
              "  </tbody>\n",
              "</table>\n",
              "<p>7626 rows × 13 columns</p>\n",
              "</div>"
            ],
            "text/plain": [
              "     tipo_transporte  wait_sec  dist_meters  ... hora       dia        mes\n",
              "0         Taxi Libre       129         2848  ...   10    Sunday  September\n",
              "1         Taxi Libre       106         1409  ...   10    Sunday  September\n",
              "2         Taxi Libre        85         1567  ...   10    Sunday  September\n",
              "3         Taxi Libre        19          797  ...   10    Sunday  September\n",
              "4         Taxi Libre       169          676  ...   11    Sunday  September\n",
              "...              ...       ...          ...  ...  ...       ...        ...\n",
              "7621   Taxi de Sitio       150         4908  ...   04  Thursday    October\n",
              "7622      Taxi Libre       386         7407  ...   05  Thursday    October\n",
              "7623      Taxi Libre        33         2280  ...   08  Thursday    October\n",
              "7624   Taxi de Sitio       115         2498  ...   10  Thursday    October\n",
              "7625      Taxi Libre       228         6051  ...   11  Thursday    October\n",
              "\n",
              "[7626 rows x 13 columns]"
            ]
          },
          "metadata": {
            "tags": []
          },
          "execution_count": 252
        }
      ]
    },
    {
      "cell_type": "markdown",
      "metadata": {
        "id": "ysl8gAIIGd7C"
      },
      "source": [
        "#### Resultados"
      ]
    },
    {
      "cell_type": "code",
      "metadata": {
        "colab": {
          "base_uri": "https://localhost:8080/"
        },
        "id": "fQB2zyAkDuzR",
        "outputId": "e356737d-6554-4ed5-ac20-c8ec2a1459ae"
      },
      "source": [
        "#Se agrupa por categoría (Uber/Taxi) y se obtiene el promedio del Costo Viaje\r\n",
        "costos_viajes.groupby(\"tipo_transporte\")[\"costo_viaje_sobre_min\"].mean()"
      ],
      "execution_count": null,
      "outputs": [
        {
          "output_type": "execute_result",
          "data": {
            "text/plain": [
              "tipo_transporte\n",
              "Radio Taxi        80.020915\n",
              "Taxi Libre        31.785366\n",
              "Taxi de Sitio     46.209170\n",
              "UberBlack         89.169905\n",
              "UberSUV          159.087059\n",
              "UberX             39.451198\n",
              "UberXL            70.983620\n",
              "Name: costo_viaje_sobre_min, dtype: float64"
            ]
          },
          "metadata": {
            "tags": []
          },
          "execution_count": 253
        }
      ]
    },
    {
      "cell_type": "markdown",
      "metadata": {
        "id": "qGoUlBhmFfUK"
      },
      "source": [
        "* Si se comparan Taxi Libre y UberX que son su equivalencia en su categoría, se observa que el costo es menor en Taxi Libre\r\n",
        "\r\n",
        "* En este caso, si la información es para un conductor de transporte, a él le convendría trabajar para Uber. Sin emabrgo, también se deben tomar en cuenta las comisiones que van dirigidas hacia la aplicación.\r\n",
        "\r\n",
        "* Si la información es para un usuario de transporte, le conviene usar Taxi Libre ya que pagará menos.\r\n",
        "\r\n",
        "* Estos precios son promedio y son sólo aproximaciones. Como se puede observar en la fórmula para obtener el Costo Viaje dependen de las variables de la distancia recorrida y el tiempo de espera."
      ]
    },
    {
      "cell_type": "code",
      "metadata": {
        "colab": {
          "base_uri": "https://localhost:8080/",
          "height": 1000
        },
        "id": "NjftnM7PmU_n",
        "outputId": "c6a7b89f-cd80-47aa-c80f-02bb41e72cef"
      },
      "source": [
        "#Se agrupa por categoría (Uber/Taxi) y Hora del viaje y se obtiene el promedio del Costo Viaje\r\n",
        "var = costos_viajes.groupby([\"tipo_transporte\",\"hora\"], as_index=False)[\"costo_viaje_sobre_min\"].mean()\r\n",
        "\r\n",
        "#Código para imprimir el resultado completo y no sólo el principio y final de las filas\r\n",
        "pd.set_option('display.max_rows', var.shape[0]+1)\r\n",
        "\r\n",
        "#Se imprimen los valores realizando un sort. \r\n",
        "#El primer valor por categoría contiene el promedio más alto\r\n",
        "#Por lo tanto conviene trabajar a esa hora\r\n",
        "var.sort_values([\"tipo_transporte\", \"costo_viaje_sobre_min\"], ascending=[True, False])"
      ],
      "execution_count": null,
      "outputs": [
        {
          "output_type": "execute_result",
          "data": {
            "text/html": [
              "<div>\n",
              "<style scoped>\n",
              "    .dataframe tbody tr th:only-of-type {\n",
              "        vertical-align: middle;\n",
              "    }\n",
              "\n",
              "    .dataframe tbody tr th {\n",
              "        vertical-align: top;\n",
              "    }\n",
              "\n",
              "    .dataframe thead th {\n",
              "        text-align: right;\n",
              "    }\n",
              "</style>\n",
              "<table border=\"1\" class=\"dataframe\">\n",
              "  <thead>\n",
              "    <tr style=\"text-align: right;\">\n",
              "      <th></th>\n",
              "      <th>tipo_transporte</th>\n",
              "      <th>hora</th>\n",
              "      <th>costo_viaje_sobre_min</th>\n",
              "    </tr>\n",
              "  </thead>\n",
              "  <tbody>\n",
              "    <tr>\n",
              "      <th>10</th>\n",
              "      <td>Radio Taxi</td>\n",
              "      <td>11</td>\n",
              "      <td>86.518513</td>\n",
              "    </tr>\n",
              "    <tr>\n",
              "      <th>8</th>\n",
              "      <td>Radio Taxi</td>\n",
              "      <td>09</td>\n",
              "      <td>85.423986</td>\n",
              "    </tr>\n",
              "    <tr>\n",
              "      <th>5</th>\n",
              "      <td>Radio Taxi</td>\n",
              "      <td>06</td>\n",
              "      <td>85.160701</td>\n",
              "    </tr>\n",
              "    <tr>\n",
              "      <th>7</th>\n",
              "      <td>Radio Taxi</td>\n",
              "      <td>08</td>\n",
              "      <td>84.501886</td>\n",
              "    </tr>\n",
              "    <tr>\n",
              "      <th>11</th>\n",
              "      <td>Radio Taxi</td>\n",
              "      <td>12</td>\n",
              "      <td>82.566377</td>\n",
              "    </tr>\n",
              "    <tr>\n",
              "      <th>4</th>\n",
              "      <td>Radio Taxi</td>\n",
              "      <td>05</td>\n",
              "      <td>80.646574</td>\n",
              "    </tr>\n",
              "    <tr>\n",
              "      <th>0</th>\n",
              "      <td>Radio Taxi</td>\n",
              "      <td>01</td>\n",
              "      <td>79.095401</td>\n",
              "    </tr>\n",
              "    <tr>\n",
              "      <th>9</th>\n",
              "      <td>Radio Taxi</td>\n",
              "      <td>10</td>\n",
              "      <td>77.742263</td>\n",
              "    </tr>\n",
              "    <tr>\n",
              "      <th>1</th>\n",
              "      <td>Radio Taxi</td>\n",
              "      <td>02</td>\n",
              "      <td>77.617503</td>\n",
              "    </tr>\n",
              "    <tr>\n",
              "      <th>6</th>\n",
              "      <td>Radio Taxi</td>\n",
              "      <td>07</td>\n",
              "      <td>73.762984</td>\n",
              "    </tr>\n",
              "    <tr>\n",
              "      <th>2</th>\n",
              "      <td>Radio Taxi</td>\n",
              "      <td>03</td>\n",
              "      <td>73.412043</td>\n",
              "    </tr>\n",
              "    <tr>\n",
              "      <th>3</th>\n",
              "      <td>Radio Taxi</td>\n",
              "      <td>04</td>\n",
              "      <td>71.363882</td>\n",
              "    </tr>\n",
              "    <tr>\n",
              "      <th>20</th>\n",
              "      <td>Taxi Libre</td>\n",
              "      <td>09</td>\n",
              "      <td>32.385515</td>\n",
              "    </tr>\n",
              "    <tr>\n",
              "      <th>21</th>\n",
              "      <td>Taxi Libre</td>\n",
              "      <td>10</td>\n",
              "      <td>32.237111</td>\n",
              "    </tr>\n",
              "    <tr>\n",
              "      <th>19</th>\n",
              "      <td>Taxi Libre</td>\n",
              "      <td>08</td>\n",
              "      <td>32.196116</td>\n",
              "    </tr>\n",
              "    <tr>\n",
              "      <th>18</th>\n",
              "      <td>Taxi Libre</td>\n",
              "      <td>07</td>\n",
              "      <td>32.188618</td>\n",
              "    </tr>\n",
              "    <tr>\n",
              "      <th>17</th>\n",
              "      <td>Taxi Libre</td>\n",
              "      <td>06</td>\n",
              "      <td>32.041593</td>\n",
              "    </tr>\n",
              "    <tr>\n",
              "      <th>14</th>\n",
              "      <td>Taxi Libre</td>\n",
              "      <td>03</td>\n",
              "      <td>31.977779</td>\n",
              "    </tr>\n",
              "    <tr>\n",
              "      <th>22</th>\n",
              "      <td>Taxi Libre</td>\n",
              "      <td>11</td>\n",
              "      <td>31.560099</td>\n",
              "    </tr>\n",
              "    <tr>\n",
              "      <th>23</th>\n",
              "      <td>Taxi Libre</td>\n",
              "      <td>12</td>\n",
              "      <td>31.285184</td>\n",
              "    </tr>\n",
              "    <tr>\n",
              "      <th>16</th>\n",
              "      <td>Taxi Libre</td>\n",
              "      <td>05</td>\n",
              "      <td>31.277751</td>\n",
              "    </tr>\n",
              "    <tr>\n",
              "      <th>12</th>\n",
              "      <td>Taxi Libre</td>\n",
              "      <td>01</td>\n",
              "      <td>31.241739</td>\n",
              "    </tr>\n",
              "    <tr>\n",
              "      <th>15</th>\n",
              "      <td>Taxi Libre</td>\n",
              "      <td>04</td>\n",
              "      <td>30.986883</td>\n",
              "    </tr>\n",
              "    <tr>\n",
              "      <th>13</th>\n",
              "      <td>Taxi Libre</td>\n",
              "      <td>02</td>\n",
              "      <td>30.974993</td>\n",
              "    </tr>\n",
              "    <tr>\n",
              "      <th>31</th>\n",
              "      <td>Taxi de Sitio</td>\n",
              "      <td>08</td>\n",
              "      <td>48.827872</td>\n",
              "    </tr>\n",
              "    <tr>\n",
              "      <th>34</th>\n",
              "      <td>Taxi de Sitio</td>\n",
              "      <td>11</td>\n",
              "      <td>48.737054</td>\n",
              "    </tr>\n",
              "    <tr>\n",
              "      <th>33</th>\n",
              "      <td>Taxi de Sitio</td>\n",
              "      <td>10</td>\n",
              "      <td>48.394477</td>\n",
              "    </tr>\n",
              "    <tr>\n",
              "      <th>30</th>\n",
              "      <td>Taxi de Sitio</td>\n",
              "      <td>07</td>\n",
              "      <td>47.895308</td>\n",
              "    </tr>\n",
              "    <tr>\n",
              "      <th>35</th>\n",
              "      <td>Taxi de Sitio</td>\n",
              "      <td>12</td>\n",
              "      <td>47.370316</td>\n",
              "    </tr>\n",
              "    <tr>\n",
              "      <th>25</th>\n",
              "      <td>Taxi de Sitio</td>\n",
              "      <td>02</td>\n",
              "      <td>47.011967</td>\n",
              "    </tr>\n",
              "    <tr>\n",
              "      <th>29</th>\n",
              "      <td>Taxi de Sitio</td>\n",
              "      <td>06</td>\n",
              "      <td>45.817328</td>\n",
              "    </tr>\n",
              "    <tr>\n",
              "      <th>32</th>\n",
              "      <td>Taxi de Sitio</td>\n",
              "      <td>09</td>\n",
              "      <td>45.798434</td>\n",
              "    </tr>\n",
              "    <tr>\n",
              "      <th>26</th>\n",
              "      <td>Taxi de Sitio</td>\n",
              "      <td>03</td>\n",
              "      <td>45.104828</td>\n",
              "    </tr>\n",
              "    <tr>\n",
              "      <th>28</th>\n",
              "      <td>Taxi de Sitio</td>\n",
              "      <td>05</td>\n",
              "      <td>44.164094</td>\n",
              "    </tr>\n",
              "    <tr>\n",
              "      <th>27</th>\n",
              "      <td>Taxi de Sitio</td>\n",
              "      <td>04</td>\n",
              "      <td>43.424911</td>\n",
              "    </tr>\n",
              "    <tr>\n",
              "      <th>24</th>\n",
              "      <td>Taxi de Sitio</td>\n",
              "      <td>01</td>\n",
              "      <td>39.120402</td>\n",
              "    </tr>\n",
              "    <tr>\n",
              "      <th>37</th>\n",
              "      <td>UberBlack</td>\n",
              "      <td>04</td>\n",
              "      <td>97.525197</td>\n",
              "    </tr>\n",
              "    <tr>\n",
              "      <th>39</th>\n",
              "      <td>UberBlack</td>\n",
              "      <td>07</td>\n",
              "      <td>96.340047</td>\n",
              "    </tr>\n",
              "    <tr>\n",
              "      <th>40</th>\n",
              "      <td>UberBlack</td>\n",
              "      <td>09</td>\n",
              "      <td>82.458847</td>\n",
              "    </tr>\n",
              "    <tr>\n",
              "      <th>36</th>\n",
              "      <td>UberBlack</td>\n",
              "      <td>02</td>\n",
              "      <td>77.000000</td>\n",
              "    </tr>\n",
              "    <tr>\n",
              "      <th>38</th>\n",
              "      <td>UberBlack</td>\n",
              "      <td>06</td>\n",
              "      <td>77.000000</td>\n",
              "    </tr>\n",
              "    <tr>\n",
              "      <th>42</th>\n",
              "      <td>UberSUV</td>\n",
              "      <td>02</td>\n",
              "      <td>208.368333</td>\n",
              "    </tr>\n",
              "    <tr>\n",
              "      <th>48</th>\n",
              "      <td>UberSUV</td>\n",
              "      <td>09</td>\n",
              "      <td>179.805000</td>\n",
              "    </tr>\n",
              "    <tr>\n",
              "      <th>43</th>\n",
              "      <td>UberSUV</td>\n",
              "      <td>03</td>\n",
              "      <td>169.658333</td>\n",
              "    </tr>\n",
              "    <tr>\n",
              "      <th>45</th>\n",
              "      <td>UberSUV</td>\n",
              "      <td>05</td>\n",
              "      <td>160.318333</td>\n",
              "    </tr>\n",
              "    <tr>\n",
              "      <th>46</th>\n",
              "      <td>UberSUV</td>\n",
              "      <td>07</td>\n",
              "      <td>158.335833</td>\n",
              "    </tr>\n",
              "    <tr>\n",
              "      <th>41</th>\n",
              "      <td>UberSUV</td>\n",
              "      <td>01</td>\n",
              "      <td>150.000000</td>\n",
              "    </tr>\n",
              "    <tr>\n",
              "      <th>44</th>\n",
              "      <td>UberSUV</td>\n",
              "      <td>04</td>\n",
              "      <td>150.000000</td>\n",
              "    </tr>\n",
              "    <tr>\n",
              "      <th>47</th>\n",
              "      <td>UberSUV</td>\n",
              "      <td>08</td>\n",
              "      <td>150.000000</td>\n",
              "    </tr>\n",
              "    <tr>\n",
              "      <th>49</th>\n",
              "      <td>UberSUV</td>\n",
              "      <td>10</td>\n",
              "      <td>150.000000</td>\n",
              "    </tr>\n",
              "    <tr>\n",
              "      <th>50</th>\n",
              "      <td>UberSUV</td>\n",
              "      <td>11</td>\n",
              "      <td>150.000000</td>\n",
              "    </tr>\n",
              "    <tr>\n",
              "      <th>51</th>\n",
              "      <td>UberSUV</td>\n",
              "      <td>12</td>\n",
              "      <td>150.000000</td>\n",
              "    </tr>\n",
              "    <tr>\n",
              "      <th>61</th>\n",
              "      <td>UberX</td>\n",
              "      <td>10</td>\n",
              "      <td>46.231298</td>\n",
              "    </tr>\n",
              "    <tr>\n",
              "      <th>55</th>\n",
              "      <td>UberX</td>\n",
              "      <td>04</td>\n",
              "      <td>46.032493</td>\n",
              "    </tr>\n",
              "    <tr>\n",
              "      <th>52</th>\n",
              "      <td>UberX</td>\n",
              "      <td>01</td>\n",
              "      <td>43.703017</td>\n",
              "    </tr>\n",
              "    <tr>\n",
              "      <th>59</th>\n",
              "      <td>UberX</td>\n",
              "      <td>08</td>\n",
              "      <td>40.330078</td>\n",
              "    </tr>\n",
              "    <tr>\n",
              "      <th>57</th>\n",
              "      <td>UberX</td>\n",
              "      <td>06</td>\n",
              "      <td>38.849309</td>\n",
              "    </tr>\n",
              "    <tr>\n",
              "      <th>60</th>\n",
              "      <td>UberX</td>\n",
              "      <td>09</td>\n",
              "      <td>38.567003</td>\n",
              "    </tr>\n",
              "    <tr>\n",
              "      <th>53</th>\n",
              "      <td>UberX</td>\n",
              "      <td>02</td>\n",
              "      <td>37.464377</td>\n",
              "    </tr>\n",
              "    <tr>\n",
              "      <th>58</th>\n",
              "      <td>UberX</td>\n",
              "      <td>07</td>\n",
              "      <td>36.666497</td>\n",
              "    </tr>\n",
              "    <tr>\n",
              "      <th>54</th>\n",
              "      <td>UberX</td>\n",
              "      <td>03</td>\n",
              "      <td>35.000000</td>\n",
              "    </tr>\n",
              "    <tr>\n",
              "      <th>56</th>\n",
              "      <td>UberX</td>\n",
              "      <td>05</td>\n",
              "      <td>35.000000</td>\n",
              "    </tr>\n",
              "    <tr>\n",
              "      <th>62</th>\n",
              "      <td>UberX</td>\n",
              "      <td>11</td>\n",
              "      <td>35.000000</td>\n",
              "    </tr>\n",
              "    <tr>\n",
              "      <th>63</th>\n",
              "      <td>UberX</td>\n",
              "      <td>12</td>\n",
              "      <td>35.000000</td>\n",
              "    </tr>\n",
              "    <tr>\n",
              "      <th>65</th>\n",
              "      <td>UberXL</td>\n",
              "      <td>03</td>\n",
              "      <td>139.105300</td>\n",
              "    </tr>\n",
              "    <tr>\n",
              "      <th>64</th>\n",
              "      <td>UberXL</td>\n",
              "      <td>01</td>\n",
              "      <td>104.919180</td>\n",
              "    </tr>\n",
              "    <tr>\n",
              "      <th>66</th>\n",
              "      <td>UberXL</td>\n",
              "      <td>06</td>\n",
              "      <td>92.065760</td>\n",
              "    </tr>\n",
              "    <tr>\n",
              "      <th>71</th>\n",
              "      <td>UberXL</td>\n",
              "      <td>12</td>\n",
              "      <td>80.309307</td>\n",
              "    </tr>\n",
              "    <tr>\n",
              "      <th>68</th>\n",
              "      <td>UberXL</td>\n",
              "      <td>09</td>\n",
              "      <td>67.327885</td>\n",
              "    </tr>\n",
              "    <tr>\n",
              "      <th>69</th>\n",
              "      <td>UberXL</td>\n",
              "      <td>10</td>\n",
              "      <td>67.030267</td>\n",
              "    </tr>\n",
              "    <tr>\n",
              "      <th>70</th>\n",
              "      <td>UberXL</td>\n",
              "      <td>11</td>\n",
              "      <td>56.174504</td>\n",
              "    </tr>\n",
              "    <tr>\n",
              "      <th>67</th>\n",
              "      <td>UberXL</td>\n",
              "      <td>07</td>\n",
              "      <td>51.240457</td>\n",
              "    </tr>\n",
              "  </tbody>\n",
              "</table>\n",
              "</div>"
            ],
            "text/plain": [
              "   tipo_transporte hora  costo_viaje_sobre_min\n",
              "10      Radio Taxi   11              86.518513\n",
              "8       Radio Taxi   09              85.423986\n",
              "5       Radio Taxi   06              85.160701\n",
              "7       Radio Taxi   08              84.501886\n",
              "11      Radio Taxi   12              82.566377\n",
              "4       Radio Taxi   05              80.646574\n",
              "0       Radio Taxi   01              79.095401\n",
              "9       Radio Taxi   10              77.742263\n",
              "1       Radio Taxi   02              77.617503\n",
              "6       Radio Taxi   07              73.762984\n",
              "2       Radio Taxi   03              73.412043\n",
              "3       Radio Taxi   04              71.363882\n",
              "20      Taxi Libre   09              32.385515\n",
              "21      Taxi Libre   10              32.237111\n",
              "19      Taxi Libre   08              32.196116\n",
              "18      Taxi Libre   07              32.188618\n",
              "17      Taxi Libre   06              32.041593\n",
              "14      Taxi Libre   03              31.977779\n",
              "22      Taxi Libre   11              31.560099\n",
              "23      Taxi Libre   12              31.285184\n",
              "16      Taxi Libre   05              31.277751\n",
              "12      Taxi Libre   01              31.241739\n",
              "15      Taxi Libre   04              30.986883\n",
              "13      Taxi Libre   02              30.974993\n",
              "31   Taxi de Sitio   08              48.827872\n",
              "34   Taxi de Sitio   11              48.737054\n",
              "33   Taxi de Sitio   10              48.394477\n",
              "30   Taxi de Sitio   07              47.895308\n",
              "35   Taxi de Sitio   12              47.370316\n",
              "25   Taxi de Sitio   02              47.011967\n",
              "29   Taxi de Sitio   06              45.817328\n",
              "32   Taxi de Sitio   09              45.798434\n",
              "26   Taxi de Sitio   03              45.104828\n",
              "28   Taxi de Sitio   05              44.164094\n",
              "27   Taxi de Sitio   04              43.424911\n",
              "24   Taxi de Sitio   01              39.120402\n",
              "37       UberBlack   04              97.525197\n",
              "39       UberBlack   07              96.340047\n",
              "40       UberBlack   09              82.458847\n",
              "36       UberBlack   02              77.000000\n",
              "38       UberBlack   06              77.000000\n",
              "42         UberSUV   02             208.368333\n",
              "48         UberSUV   09             179.805000\n",
              "43         UberSUV   03             169.658333\n",
              "45         UberSUV   05             160.318333\n",
              "46         UberSUV   07             158.335833\n",
              "41         UberSUV   01             150.000000\n",
              "44         UberSUV   04             150.000000\n",
              "47         UberSUV   08             150.000000\n",
              "49         UberSUV   10             150.000000\n",
              "50         UberSUV   11             150.000000\n",
              "51         UberSUV   12             150.000000\n",
              "61           UberX   10              46.231298\n",
              "55           UberX   04              46.032493\n",
              "52           UberX   01              43.703017\n",
              "59           UberX   08              40.330078\n",
              "57           UberX   06              38.849309\n",
              "60           UberX   09              38.567003\n",
              "53           UberX   02              37.464377\n",
              "58           UberX   07              36.666497\n",
              "54           UberX   03              35.000000\n",
              "56           UberX   05              35.000000\n",
              "62           UberX   11              35.000000\n",
              "63           UberX   12              35.000000\n",
              "65          UberXL   03             139.105300\n",
              "64          UberXL   01             104.919180\n",
              "66          UberXL   06              92.065760\n",
              "71          UberXL   12              80.309307\n",
              "68          UberXL   09              67.327885\n",
              "69          UberXL   10              67.030267\n",
              "70          UberXL   11              56.174504\n",
              "67          UberXL   07              51.240457"
            ]
          },
          "metadata": {
            "tags": []
          },
          "execution_count": 254
        }
      ]
    },
    {
      "cell_type": "code",
      "metadata": {
        "colab": {
          "base_uri": "https://localhost:8080/",
          "height": 1000
        },
        "id": "tSTmWD9I5ZwI",
        "outputId": "aee8be9e-1afc-4df4-8483-81f8fcbbbfcf"
      },
      "source": [
        "#Se agrupa por categoría (Uber/Taxi) y Día del viaje y se obtiene el promedio del Costo Viaje\r\n",
        "var = costos_viajes.groupby([\"tipo_transporte\",\"dia\"], as_index=False)[\"costo_viaje_sobre_min\"].mean()\r\n",
        "\r\n",
        "#Se imprimen los valores realizando un sort. \r\n",
        "#El primer valor por categoría contiene el promedio más alto\r\n",
        "#Por lo tanto conviene trabajar en ese día\r\n",
        "var.sort_values([\"tipo_transporte\", \"costo_viaje_sobre_min\"], ascending=[True, False])"
      ],
      "execution_count": null,
      "outputs": [
        {
          "output_type": "execute_result",
          "data": {
            "text/html": [
              "<div>\n",
              "<style scoped>\n",
              "    .dataframe tbody tr th:only-of-type {\n",
              "        vertical-align: middle;\n",
              "    }\n",
              "\n",
              "    .dataframe tbody tr th {\n",
              "        vertical-align: top;\n",
              "    }\n",
              "\n",
              "    .dataframe thead th {\n",
              "        text-align: right;\n",
              "    }\n",
              "</style>\n",
              "<table border=\"1\" class=\"dataframe\">\n",
              "  <thead>\n",
              "    <tr style=\"text-align: right;\">\n",
              "      <th></th>\n",
              "      <th>tipo_transporte</th>\n",
              "      <th>dia</th>\n",
              "      <th>costo_viaje_sobre_min</th>\n",
              "    </tr>\n",
              "  </thead>\n",
              "  <tbody>\n",
              "    <tr>\n",
              "      <th>2</th>\n",
              "      <td>Radio Taxi</td>\n",
              "      <td>Saturday</td>\n",
              "      <td>84.871787</td>\n",
              "    </tr>\n",
              "    <tr>\n",
              "      <th>4</th>\n",
              "      <td>Radio Taxi</td>\n",
              "      <td>Thursday</td>\n",
              "      <td>83.143862</td>\n",
              "    </tr>\n",
              "    <tr>\n",
              "      <th>3</th>\n",
              "      <td>Radio Taxi</td>\n",
              "      <td>Sunday</td>\n",
              "      <td>80.395321</td>\n",
              "    </tr>\n",
              "    <tr>\n",
              "      <th>1</th>\n",
              "      <td>Radio Taxi</td>\n",
              "      <td>Monday</td>\n",
              "      <td>79.783677</td>\n",
              "    </tr>\n",
              "    <tr>\n",
              "      <th>0</th>\n",
              "      <td>Radio Taxi</td>\n",
              "      <td>Friday</td>\n",
              "      <td>79.162651</td>\n",
              "    </tr>\n",
              "    <tr>\n",
              "      <th>5</th>\n",
              "      <td>Radio Taxi</td>\n",
              "      <td>Tuesday</td>\n",
              "      <td>76.756291</td>\n",
              "    </tr>\n",
              "    <tr>\n",
              "      <th>6</th>\n",
              "      <td>Radio Taxi</td>\n",
              "      <td>Wednesday</td>\n",
              "      <td>76.006537</td>\n",
              "    </tr>\n",
              "    <tr>\n",
              "      <th>10</th>\n",
              "      <td>Taxi Libre</td>\n",
              "      <td>Sunday</td>\n",
              "      <td>33.477931</td>\n",
              "    </tr>\n",
              "    <tr>\n",
              "      <th>9</th>\n",
              "      <td>Taxi Libre</td>\n",
              "      <td>Saturday</td>\n",
              "      <td>32.863114</td>\n",
              "    </tr>\n",
              "    <tr>\n",
              "      <th>11</th>\n",
              "      <td>Taxi Libre</td>\n",
              "      <td>Thursday</td>\n",
              "      <td>32.341755</td>\n",
              "    </tr>\n",
              "    <tr>\n",
              "      <th>12</th>\n",
              "      <td>Taxi Libre</td>\n",
              "      <td>Tuesday</td>\n",
              "      <td>32.109185</td>\n",
              "    </tr>\n",
              "    <tr>\n",
              "      <th>7</th>\n",
              "      <td>Taxi Libre</td>\n",
              "      <td>Friday</td>\n",
              "      <td>31.650438</td>\n",
              "    </tr>\n",
              "    <tr>\n",
              "      <th>8</th>\n",
              "      <td>Taxi Libre</td>\n",
              "      <td>Monday</td>\n",
              "      <td>31.043615</td>\n",
              "    </tr>\n",
              "    <tr>\n",
              "      <th>13</th>\n",
              "      <td>Taxi Libre</td>\n",
              "      <td>Wednesday</td>\n",
              "      <td>30.348454</td>\n",
              "    </tr>\n",
              "    <tr>\n",
              "      <th>16</th>\n",
              "      <td>Taxi de Sitio</td>\n",
              "      <td>Saturday</td>\n",
              "      <td>49.032463</td>\n",
              "    </tr>\n",
              "    <tr>\n",
              "      <th>17</th>\n",
              "      <td>Taxi de Sitio</td>\n",
              "      <td>Sunday</td>\n",
              "      <td>47.430204</td>\n",
              "    </tr>\n",
              "    <tr>\n",
              "      <th>14</th>\n",
              "      <td>Taxi de Sitio</td>\n",
              "      <td>Friday</td>\n",
              "      <td>47.280789</td>\n",
              "    </tr>\n",
              "    <tr>\n",
              "      <th>20</th>\n",
              "      <td>Taxi de Sitio</td>\n",
              "      <td>Wednesday</td>\n",
              "      <td>45.995420</td>\n",
              "    </tr>\n",
              "    <tr>\n",
              "      <th>19</th>\n",
              "      <td>Taxi de Sitio</td>\n",
              "      <td>Tuesday</td>\n",
              "      <td>45.925495</td>\n",
              "    </tr>\n",
              "    <tr>\n",
              "      <th>18</th>\n",
              "      <td>Taxi de Sitio</td>\n",
              "      <td>Thursday</td>\n",
              "      <td>45.576628</td>\n",
              "    </tr>\n",
              "    <tr>\n",
              "      <th>15</th>\n",
              "      <td>Taxi de Sitio</td>\n",
              "      <td>Monday</td>\n",
              "      <td>42.318480</td>\n",
              "    </tr>\n",
              "    <tr>\n",
              "      <th>21</th>\n",
              "      <td>UberBlack</td>\n",
              "      <td>Saturday</td>\n",
              "      <td>118.050393</td>\n",
              "    </tr>\n",
              "    <tr>\n",
              "      <th>24</th>\n",
              "      <td>UberBlack</td>\n",
              "      <td>Tuesday</td>\n",
              "      <td>96.340047</td>\n",
              "    </tr>\n",
              "    <tr>\n",
              "      <th>23</th>\n",
              "      <td>UberBlack</td>\n",
              "      <td>Thursday</td>\n",
              "      <td>78.819616</td>\n",
              "    </tr>\n",
              "    <tr>\n",
              "      <th>22</th>\n",
              "      <td>UberBlack</td>\n",
              "      <td>Sunday</td>\n",
              "      <td>77.000000</td>\n",
              "    </tr>\n",
              "    <tr>\n",
              "      <th>26</th>\n",
              "      <td>UberSUV</td>\n",
              "      <td>Monday</td>\n",
              "      <td>169.456111</td>\n",
              "    </tr>\n",
              "    <tr>\n",
              "      <th>28</th>\n",
              "      <td>UberSUV</td>\n",
              "      <td>Sunday</td>\n",
              "      <td>167.280417</td>\n",
              "    </tr>\n",
              "    <tr>\n",
              "      <th>30</th>\n",
              "      <td>UberSUV</td>\n",
              "      <td>Wednesday</td>\n",
              "      <td>158.335833</td>\n",
              "    </tr>\n",
              "    <tr>\n",
              "      <th>27</th>\n",
              "      <td>UberSUV</td>\n",
              "      <td>Saturday</td>\n",
              "      <td>153.439444</td>\n",
              "    </tr>\n",
              "    <tr>\n",
              "      <th>25</th>\n",
              "      <td>UberSUV</td>\n",
              "      <td>Friday</td>\n",
              "      <td>150.000000</td>\n",
              "    </tr>\n",
              "    <tr>\n",
              "      <th>29</th>\n",
              "      <td>UberSUV</td>\n",
              "      <td>Thursday</td>\n",
              "      <td>150.000000</td>\n",
              "    </tr>\n",
              "    <tr>\n",
              "      <th>34</th>\n",
              "      <td>UberX</td>\n",
              "      <td>Sunday</td>\n",
              "      <td>44.180493</td>\n",
              "    </tr>\n",
              "    <tr>\n",
              "      <th>37</th>\n",
              "      <td>UberX</td>\n",
              "      <td>Wednesday</td>\n",
              "      <td>43.991464</td>\n",
              "    </tr>\n",
              "    <tr>\n",
              "      <th>31</th>\n",
              "      <td>UberX</td>\n",
              "      <td>Friday</td>\n",
              "      <td>39.596638</td>\n",
              "    </tr>\n",
              "    <tr>\n",
              "      <th>33</th>\n",
              "      <td>UberX</td>\n",
              "      <td>Saturday</td>\n",
              "      <td>38.920305</td>\n",
              "    </tr>\n",
              "    <tr>\n",
              "      <th>35</th>\n",
              "      <td>UberX</td>\n",
              "      <td>Thursday</td>\n",
              "      <td>37.413254</td>\n",
              "    </tr>\n",
              "    <tr>\n",
              "      <th>32</th>\n",
              "      <td>UberX</td>\n",
              "      <td>Monday</td>\n",
              "      <td>37.407606</td>\n",
              "    </tr>\n",
              "    <tr>\n",
              "      <th>36</th>\n",
              "      <td>UberX</td>\n",
              "      <td>Tuesday</td>\n",
              "      <td>35.391422</td>\n",
              "    </tr>\n",
              "    <tr>\n",
              "      <th>44</th>\n",
              "      <td>UberXL</td>\n",
              "      <td>Wednesday</td>\n",
              "      <td>91.608913</td>\n",
              "    </tr>\n",
              "    <tr>\n",
              "      <th>40</th>\n",
              "      <td>UberXL</td>\n",
              "      <td>Saturday</td>\n",
              "      <td>79.367460</td>\n",
              "    </tr>\n",
              "    <tr>\n",
              "      <th>41</th>\n",
              "      <td>UberXL</td>\n",
              "      <td>Sunday</td>\n",
              "      <td>79.078340</td>\n",
              "    </tr>\n",
              "    <tr>\n",
              "      <th>38</th>\n",
              "      <td>UberXL</td>\n",
              "      <td>Friday</td>\n",
              "      <td>78.889607</td>\n",
              "    </tr>\n",
              "    <tr>\n",
              "      <th>43</th>\n",
              "      <td>UberXL</td>\n",
              "      <td>Tuesday</td>\n",
              "      <td>64.471530</td>\n",
              "    </tr>\n",
              "    <tr>\n",
              "      <th>42</th>\n",
              "      <td>UberXL</td>\n",
              "      <td>Thursday</td>\n",
              "      <td>60.957300</td>\n",
              "    </tr>\n",
              "    <tr>\n",
              "      <th>39</th>\n",
              "      <td>UberXL</td>\n",
              "      <td>Monday</td>\n",
              "      <td>45.500000</td>\n",
              "    </tr>\n",
              "  </tbody>\n",
              "</table>\n",
              "</div>"
            ],
            "text/plain": [
              "   tipo_transporte        dia  costo_viaje_sobre_min\n",
              "2       Radio Taxi   Saturday              84.871787\n",
              "4       Radio Taxi   Thursday              83.143862\n",
              "3       Radio Taxi     Sunday              80.395321\n",
              "1       Radio Taxi     Monday              79.783677\n",
              "0       Radio Taxi     Friday              79.162651\n",
              "5       Radio Taxi    Tuesday              76.756291\n",
              "6       Radio Taxi  Wednesday              76.006537\n",
              "10      Taxi Libre     Sunday              33.477931\n",
              "9       Taxi Libre   Saturday              32.863114\n",
              "11      Taxi Libre   Thursday              32.341755\n",
              "12      Taxi Libre    Tuesday              32.109185\n",
              "7       Taxi Libre     Friday              31.650438\n",
              "8       Taxi Libre     Monday              31.043615\n",
              "13      Taxi Libre  Wednesday              30.348454\n",
              "16   Taxi de Sitio   Saturday              49.032463\n",
              "17   Taxi de Sitio     Sunday              47.430204\n",
              "14   Taxi de Sitio     Friday              47.280789\n",
              "20   Taxi de Sitio  Wednesday              45.995420\n",
              "19   Taxi de Sitio    Tuesday              45.925495\n",
              "18   Taxi de Sitio   Thursday              45.576628\n",
              "15   Taxi de Sitio     Monday              42.318480\n",
              "21       UberBlack   Saturday             118.050393\n",
              "24       UberBlack    Tuesday              96.340047\n",
              "23       UberBlack   Thursday              78.819616\n",
              "22       UberBlack     Sunday              77.000000\n",
              "26         UberSUV     Monday             169.456111\n",
              "28         UberSUV     Sunday             167.280417\n",
              "30         UberSUV  Wednesday             158.335833\n",
              "27         UberSUV   Saturday             153.439444\n",
              "25         UberSUV     Friday             150.000000\n",
              "29         UberSUV   Thursday             150.000000\n",
              "34           UberX     Sunday              44.180493\n",
              "37           UberX  Wednesday              43.991464\n",
              "31           UberX     Friday              39.596638\n",
              "33           UberX   Saturday              38.920305\n",
              "35           UberX   Thursday              37.413254\n",
              "32           UberX     Monday              37.407606\n",
              "36           UberX    Tuesday              35.391422\n",
              "44          UberXL  Wednesday              91.608913\n",
              "40          UberXL   Saturday              79.367460\n",
              "41          UberXL     Sunday              79.078340\n",
              "38          UberXL     Friday              78.889607\n",
              "43          UberXL    Tuesday              64.471530\n",
              "42          UberXL   Thursday              60.957300\n",
              "39          UberXL     Monday              45.500000"
            ]
          },
          "metadata": {
            "tags": []
          },
          "execution_count": 255
        }
      ]
    },
    {
      "cell_type": "code",
      "metadata": {
        "colab": {
          "base_uri": "https://localhost:8080/",
          "height": 1000
        },
        "id": "bfQ95QUX5aQD",
        "outputId": "40071d26-82b9-4408-b062-5eaee3a0d218"
      },
      "source": [
        "#Se agrupa por categoría (Uber/Taxi) y Mes del viaje y se obtiene el promedio del Costo Viaje\r\n",
        "var = costos_viajes.groupby([\"tipo_transporte\",\"mes\"], as_index=False)[\"costo_viaje_sobre_min\"].mean()\r\n",
        "\r\n",
        "##Se imprimen los valores realizando un sort. \r\n",
        "#El primer valor por categoría contiene el promedio más alto\r\n",
        "#Por lo tanto conviene trabajar en ese mes\r\n",
        "var.sort_values([\"tipo_transporte\", \"costo_viaje_sobre_min\"], ascending=[True, False])"
      ],
      "execution_count": null,
      "outputs": [
        {
          "output_type": "execute_result",
          "data": {
            "text/html": [
              "<div>\n",
              "<style scoped>\n",
              "    .dataframe tbody tr th:only-of-type {\n",
              "        vertical-align: middle;\n",
              "    }\n",
              "\n",
              "    .dataframe tbody tr th {\n",
              "        vertical-align: top;\n",
              "    }\n",
              "\n",
              "    .dataframe thead th {\n",
              "        text-align: right;\n",
              "    }\n",
              "</style>\n",
              "<table border=\"1\" class=\"dataframe\">\n",
              "  <thead>\n",
              "    <tr style=\"text-align: right;\">\n",
              "      <th></th>\n",
              "      <th>tipo_transporte</th>\n",
              "      <th>mes</th>\n",
              "      <th>costo_viaje_sobre_min</th>\n",
              "    </tr>\n",
              "  </thead>\n",
              "  <tbody>\n",
              "    <tr>\n",
              "      <th>4</th>\n",
              "      <td>Radio Taxi</td>\n",
              "      <td>January</td>\n",
              "      <td>90.719291</td>\n",
              "    </tr>\n",
              "    <tr>\n",
              "      <th>11</th>\n",
              "      <td>Radio Taxi</td>\n",
              "      <td>September</td>\n",
              "      <td>85.535372</td>\n",
              "    </tr>\n",
              "    <tr>\n",
              "      <th>2</th>\n",
              "      <td>Radio Taxi</td>\n",
              "      <td>December</td>\n",
              "      <td>84.648883</td>\n",
              "    </tr>\n",
              "    <tr>\n",
              "      <th>1</th>\n",
              "      <td>Radio Taxi</td>\n",
              "      <td>August</td>\n",
              "      <td>83.926571</td>\n",
              "    </tr>\n",
              "    <tr>\n",
              "      <th>3</th>\n",
              "      <td>Radio Taxi</td>\n",
              "      <td>February</td>\n",
              "      <td>83.721159</td>\n",
              "    </tr>\n",
              "    <tr>\n",
              "      <th>9</th>\n",
              "      <td>Radio Taxi</td>\n",
              "      <td>November</td>\n",
              "      <td>82.262140</td>\n",
              "    </tr>\n",
              "    <tr>\n",
              "      <th>7</th>\n",
              "      <td>Radio Taxi</td>\n",
              "      <td>March</td>\n",
              "      <td>81.953751</td>\n",
              "    </tr>\n",
              "    <tr>\n",
              "      <th>5</th>\n",
              "      <td>Radio Taxi</td>\n",
              "      <td>July</td>\n",
              "      <td>80.319438</td>\n",
              "    </tr>\n",
              "    <tr>\n",
              "      <th>10</th>\n",
              "      <td>Radio Taxi</td>\n",
              "      <td>October</td>\n",
              "      <td>77.673058</td>\n",
              "    </tr>\n",
              "    <tr>\n",
              "      <th>6</th>\n",
              "      <td>Radio Taxi</td>\n",
              "      <td>June</td>\n",
              "      <td>72.566968</td>\n",
              "    </tr>\n",
              "    <tr>\n",
              "      <th>0</th>\n",
              "      <td>Radio Taxi</td>\n",
              "      <td>April</td>\n",
              "      <td>67.891226</td>\n",
              "    </tr>\n",
              "    <tr>\n",
              "      <th>8</th>\n",
              "      <td>Radio Taxi</td>\n",
              "      <td>May</td>\n",
              "      <td>60.901075</td>\n",
              "    </tr>\n",
              "    <tr>\n",
              "      <th>12</th>\n",
              "      <td>Taxi Libre</td>\n",
              "      <td>April</td>\n",
              "      <td>34.293074</td>\n",
              "    </tr>\n",
              "    <tr>\n",
              "      <th>13</th>\n",
              "      <td>Taxi Libre</td>\n",
              "      <td>August</td>\n",
              "      <td>33.457026</td>\n",
              "    </tr>\n",
              "    <tr>\n",
              "      <th>14</th>\n",
              "      <td>Taxi Libre</td>\n",
              "      <td>December</td>\n",
              "      <td>32.916580</td>\n",
              "    </tr>\n",
              "    <tr>\n",
              "      <th>19</th>\n",
              "      <td>Taxi Libre</td>\n",
              "      <td>March</td>\n",
              "      <td>32.677279</td>\n",
              "    </tr>\n",
              "    <tr>\n",
              "      <th>20</th>\n",
              "      <td>Taxi Libre</td>\n",
              "      <td>May</td>\n",
              "      <td>32.404176</td>\n",
              "    </tr>\n",
              "    <tr>\n",
              "      <th>21</th>\n",
              "      <td>Taxi Libre</td>\n",
              "      <td>November</td>\n",
              "      <td>32.305947</td>\n",
              "    </tr>\n",
              "    <tr>\n",
              "      <th>22</th>\n",
              "      <td>Taxi Libre</td>\n",
              "      <td>October</td>\n",
              "      <td>32.103473</td>\n",
              "    </tr>\n",
              "    <tr>\n",
              "      <th>17</th>\n",
              "      <td>Taxi Libre</td>\n",
              "      <td>July</td>\n",
              "      <td>31.929255</td>\n",
              "    </tr>\n",
              "    <tr>\n",
              "      <th>15</th>\n",
              "      <td>Taxi Libre</td>\n",
              "      <td>February</td>\n",
              "      <td>31.782826</td>\n",
              "    </tr>\n",
              "    <tr>\n",
              "      <th>23</th>\n",
              "      <td>Taxi Libre</td>\n",
              "      <td>September</td>\n",
              "      <td>31.765211</td>\n",
              "    </tr>\n",
              "    <tr>\n",
              "      <th>18</th>\n",
              "      <td>Taxi Libre</td>\n",
              "      <td>June</td>\n",
              "      <td>30.156133</td>\n",
              "    </tr>\n",
              "    <tr>\n",
              "      <th>16</th>\n",
              "      <td>Taxi Libre</td>\n",
              "      <td>January</td>\n",
              "      <td>29.074431</td>\n",
              "    </tr>\n",
              "    <tr>\n",
              "      <th>31</th>\n",
              "      <td>Taxi de Sitio</td>\n",
              "      <td>March</td>\n",
              "      <td>54.460758</td>\n",
              "    </tr>\n",
              "    <tr>\n",
              "      <th>32</th>\n",
              "      <td>Taxi de Sitio</td>\n",
              "      <td>May</td>\n",
              "      <td>52.213093</td>\n",
              "    </tr>\n",
              "    <tr>\n",
              "      <th>24</th>\n",
              "      <td>Taxi de Sitio</td>\n",
              "      <td>April</td>\n",
              "      <td>51.423405</td>\n",
              "    </tr>\n",
              "    <tr>\n",
              "      <th>26</th>\n",
              "      <td>Taxi de Sitio</td>\n",
              "      <td>December</td>\n",
              "      <td>51.055083</td>\n",
              "    </tr>\n",
              "    <tr>\n",
              "      <th>33</th>\n",
              "      <td>Taxi de Sitio</td>\n",
              "      <td>November</td>\n",
              "      <td>50.626636</td>\n",
              "    </tr>\n",
              "    <tr>\n",
              "      <th>28</th>\n",
              "      <td>Taxi de Sitio</td>\n",
              "      <td>January</td>\n",
              "      <td>50.588917</td>\n",
              "    </tr>\n",
              "    <tr>\n",
              "      <th>27</th>\n",
              "      <td>Taxi de Sitio</td>\n",
              "      <td>February</td>\n",
              "      <td>46.100890</td>\n",
              "    </tr>\n",
              "    <tr>\n",
              "      <th>29</th>\n",
              "      <td>Taxi de Sitio</td>\n",
              "      <td>July</td>\n",
              "      <td>44.355752</td>\n",
              "    </tr>\n",
              "    <tr>\n",
              "      <th>34</th>\n",
              "      <td>Taxi de Sitio</td>\n",
              "      <td>October</td>\n",
              "      <td>43.346313</td>\n",
              "    </tr>\n",
              "    <tr>\n",
              "      <th>30</th>\n",
              "      <td>Taxi de Sitio</td>\n",
              "      <td>June</td>\n",
              "      <td>42.155477</td>\n",
              "    </tr>\n",
              "    <tr>\n",
              "      <th>35</th>\n",
              "      <td>Taxi de Sitio</td>\n",
              "      <td>September</td>\n",
              "      <td>39.575463</td>\n",
              "    </tr>\n",
              "    <tr>\n",
              "      <th>25</th>\n",
              "      <td>Taxi de Sitio</td>\n",
              "      <td>August</td>\n",
              "      <td>38.169721</td>\n",
              "    </tr>\n",
              "    <tr>\n",
              "      <th>36</th>\n",
              "      <td>UberBlack</td>\n",
              "      <td>April</td>\n",
              "      <td>118.050393</td>\n",
              "    </tr>\n",
              "    <tr>\n",
              "      <th>38</th>\n",
              "      <td>UberBlack</td>\n",
              "      <td>February</td>\n",
              "      <td>115.680093</td>\n",
              "    </tr>\n",
              "    <tr>\n",
              "      <th>41</th>\n",
              "      <td>UberBlack</td>\n",
              "      <td>May</td>\n",
              "      <td>82.458847</td>\n",
              "    </tr>\n",
              "    <tr>\n",
              "      <th>37</th>\n",
              "      <td>UberBlack</td>\n",
              "      <td>December</td>\n",
              "      <td>77.000000</td>\n",
              "    </tr>\n",
              "    <tr>\n",
              "      <th>39</th>\n",
              "      <td>UberBlack</td>\n",
              "      <td>July</td>\n",
              "      <td>77.000000</td>\n",
              "    </tr>\n",
              "    <tr>\n",
              "      <th>40</th>\n",
              "      <td>UberBlack</td>\n",
              "      <td>June</td>\n",
              "      <td>77.000000</td>\n",
              "    </tr>\n",
              "    <tr>\n",
              "      <th>44</th>\n",
              "      <td>UberSUV</td>\n",
              "      <td>January</td>\n",
              "      <td>208.368333</td>\n",
              "    </tr>\n",
              "    <tr>\n",
              "      <th>45</th>\n",
              "      <td>UberSUV</td>\n",
              "      <td>July</td>\n",
              "      <td>163.730238</td>\n",
              "    </tr>\n",
              "    <tr>\n",
              "      <th>42</th>\n",
              "      <td>UberSUV</td>\n",
              "      <td>April</td>\n",
              "      <td>150.000000</td>\n",
              "    </tr>\n",
              "    <tr>\n",
              "      <th>43</th>\n",
              "      <td>UberSUV</td>\n",
              "      <td>February</td>\n",
              "      <td>150.000000</td>\n",
              "    </tr>\n",
              "    <tr>\n",
              "      <th>46</th>\n",
              "      <td>UberSUV</td>\n",
              "      <td>June</td>\n",
              "      <td>150.000000</td>\n",
              "    </tr>\n",
              "    <tr>\n",
              "      <th>47</th>\n",
              "      <td>UberSUV</td>\n",
              "      <td>March</td>\n",
              "      <td>150.000000</td>\n",
              "    </tr>\n",
              "    <tr>\n",
              "      <th>48</th>\n",
              "      <td>UberSUV</td>\n",
              "      <td>May</td>\n",
              "      <td>150.000000</td>\n",
              "    </tr>\n",
              "    <tr>\n",
              "      <th>49</th>\n",
              "      <td>UberSUV</td>\n",
              "      <td>September</td>\n",
              "      <td>150.000000</td>\n",
              "    </tr>\n",
              "    <tr>\n",
              "      <th>52</th>\n",
              "      <td>UberX</td>\n",
              "      <td>February</td>\n",
              "      <td>44.194183</td>\n",
              "    </tr>\n",
              "    <tr>\n",
              "      <th>50</th>\n",
              "      <td>UberX</td>\n",
              "      <td>April</td>\n",
              "      <td>44.175862</td>\n",
              "    </tr>\n",
              "    <tr>\n",
              "      <th>60</th>\n",
              "      <td>UberX</td>\n",
              "      <td>September</td>\n",
              "      <td>42.566598</td>\n",
              "    </tr>\n",
              "    <tr>\n",
              "      <th>53</th>\n",
              "      <td>UberX</td>\n",
              "      <td>January</td>\n",
              "      <td>40.880658</td>\n",
              "    </tr>\n",
              "    <tr>\n",
              "      <th>56</th>\n",
              "      <td>UberX</td>\n",
              "      <td>March</td>\n",
              "      <td>39.756003</td>\n",
              "    </tr>\n",
              "    <tr>\n",
              "      <th>57</th>\n",
              "      <td>UberX</td>\n",
              "      <td>May</td>\n",
              "      <td>39.124016</td>\n",
              "    </tr>\n",
              "    <tr>\n",
              "      <th>59</th>\n",
              "      <td>UberX</td>\n",
              "      <td>October</td>\n",
              "      <td>37.947092</td>\n",
              "    </tr>\n",
              "    <tr>\n",
              "      <th>58</th>\n",
              "      <td>UberX</td>\n",
              "      <td>November</td>\n",
              "      <td>36.483417</td>\n",
              "    </tr>\n",
              "    <tr>\n",
              "      <th>55</th>\n",
              "      <td>UberX</td>\n",
              "      <td>June</td>\n",
              "      <td>35.978218</td>\n",
              "    </tr>\n",
              "    <tr>\n",
              "      <th>51</th>\n",
              "      <td>UberX</td>\n",
              "      <td>December</td>\n",
              "      <td>35.146009</td>\n",
              "    </tr>\n",
              "    <tr>\n",
              "      <th>54</th>\n",
              "      <td>UberX</td>\n",
              "      <td>July</td>\n",
              "      <td>35.000000</td>\n",
              "    </tr>\n",
              "    <tr>\n",
              "      <th>67</th>\n",
              "      <td>UberXL</td>\n",
              "      <td>March</td>\n",
              "      <td>98.172040</td>\n",
              "    </tr>\n",
              "    <tr>\n",
              "      <th>61</th>\n",
              "      <td>UberXL</td>\n",
              "      <td>April</td>\n",
              "      <td>88.629500</td>\n",
              "    </tr>\n",
              "    <tr>\n",
              "      <th>65</th>\n",
              "      <td>UberXL</td>\n",
              "      <td>July</td>\n",
              "      <td>81.756940</td>\n",
              "    </tr>\n",
              "    <tr>\n",
              "      <th>69</th>\n",
              "      <td>UberXL</td>\n",
              "      <td>October</td>\n",
              "      <td>78.319707</td>\n",
              "    </tr>\n",
              "    <tr>\n",
              "      <th>66</th>\n",
              "      <td>UberXL</td>\n",
              "      <td>June</td>\n",
              "      <td>77.500705</td>\n",
              "    </tr>\n",
              "    <tr>\n",
              "      <th>62</th>\n",
              "      <td>UberXL</td>\n",
              "      <td>December</td>\n",
              "      <td>63.334940</td>\n",
              "    </tr>\n",
              "    <tr>\n",
              "      <th>64</th>\n",
              "      <td>UberXL</td>\n",
              "      <td>January</td>\n",
              "      <td>55.743020</td>\n",
              "    </tr>\n",
              "    <tr>\n",
              "      <th>63</th>\n",
              "      <td>UberXL</td>\n",
              "      <td>February</td>\n",
              "      <td>45.500000</td>\n",
              "    </tr>\n",
              "    <tr>\n",
              "      <th>68</th>\n",
              "      <td>UberXL</td>\n",
              "      <td>May</td>\n",
              "      <td>45.500000</td>\n",
              "    </tr>\n",
              "  </tbody>\n",
              "</table>\n",
              "</div>"
            ],
            "text/plain": [
              "   tipo_transporte        mes  costo_viaje_sobre_min\n",
              "4       Radio Taxi    January              90.719291\n",
              "11      Radio Taxi  September              85.535372\n",
              "2       Radio Taxi   December              84.648883\n",
              "1       Radio Taxi     August              83.926571\n",
              "3       Radio Taxi   February              83.721159\n",
              "9       Radio Taxi   November              82.262140\n",
              "7       Radio Taxi      March              81.953751\n",
              "5       Radio Taxi       July              80.319438\n",
              "10      Radio Taxi    October              77.673058\n",
              "6       Radio Taxi       June              72.566968\n",
              "0       Radio Taxi      April              67.891226\n",
              "8       Radio Taxi        May              60.901075\n",
              "12      Taxi Libre      April              34.293074\n",
              "13      Taxi Libre     August              33.457026\n",
              "14      Taxi Libre   December              32.916580\n",
              "19      Taxi Libre      March              32.677279\n",
              "20      Taxi Libre        May              32.404176\n",
              "21      Taxi Libre   November              32.305947\n",
              "22      Taxi Libre    October              32.103473\n",
              "17      Taxi Libre       July              31.929255\n",
              "15      Taxi Libre   February              31.782826\n",
              "23      Taxi Libre  September              31.765211\n",
              "18      Taxi Libre       June              30.156133\n",
              "16      Taxi Libre    January              29.074431\n",
              "31   Taxi de Sitio      March              54.460758\n",
              "32   Taxi de Sitio        May              52.213093\n",
              "24   Taxi de Sitio      April              51.423405\n",
              "26   Taxi de Sitio   December              51.055083\n",
              "33   Taxi de Sitio   November              50.626636\n",
              "28   Taxi de Sitio    January              50.588917\n",
              "27   Taxi de Sitio   February              46.100890\n",
              "29   Taxi de Sitio       July              44.355752\n",
              "34   Taxi de Sitio    October              43.346313\n",
              "30   Taxi de Sitio       June              42.155477\n",
              "35   Taxi de Sitio  September              39.575463\n",
              "25   Taxi de Sitio     August              38.169721\n",
              "36       UberBlack      April             118.050393\n",
              "38       UberBlack   February             115.680093\n",
              "41       UberBlack        May              82.458847\n",
              "37       UberBlack   December              77.000000\n",
              "39       UberBlack       July              77.000000\n",
              "40       UberBlack       June              77.000000\n",
              "44         UberSUV    January             208.368333\n",
              "45         UberSUV       July             163.730238\n",
              "42         UberSUV      April             150.000000\n",
              "43         UberSUV   February             150.000000\n",
              "46         UberSUV       June             150.000000\n",
              "47         UberSUV      March             150.000000\n",
              "48         UberSUV        May             150.000000\n",
              "49         UberSUV  September             150.000000\n",
              "52           UberX   February              44.194183\n",
              "50           UberX      April              44.175862\n",
              "60           UberX  September              42.566598\n",
              "53           UberX    January              40.880658\n",
              "56           UberX      March              39.756003\n",
              "57           UberX        May              39.124016\n",
              "59           UberX    October              37.947092\n",
              "58           UberX   November              36.483417\n",
              "55           UberX       June              35.978218\n",
              "51           UberX   December              35.146009\n",
              "54           UberX       July              35.000000\n",
              "67          UberXL      March              98.172040\n",
              "61          UberXL      April              88.629500\n",
              "65          UberXL       July              81.756940\n",
              "69          UberXL    October              78.319707\n",
              "66          UberXL       June              77.500705\n",
              "62          UberXL   December              63.334940\n",
              "64          UberXL    January              55.743020\n",
              "63          UberXL   February              45.500000\n",
              "68          UberXL        May              45.500000"
            ]
          },
          "metadata": {
            "tags": []
          },
          "execution_count": 256
        }
      ]
    },
    {
      "cell_type": "code",
      "metadata": {
        "id": "GMzID6rm-6ot"
      },
      "source": [
        "new_columns = [\"banderazo\",\"tarifa_dist\",\"tarifa_tiempo\",\"tarifa_min\",\"costo_viaje_sin_min\",\"costo_viaje_sobre_min\"]"
      ],
      "execution_count": null,
      "outputs": []
    },
    {
      "cell_type": "code",
      "metadata": {
        "id": "TLSkMZC99zmH"
      },
      "source": [
        "data_costos = pd.concat([data_filtered.reset_index(),costos_viajes[new_columns].reset_index()], axis = 1)\r\n",
        "data_costos = data_costos.drop(columns = [\"index\"], axis = 1).set_index(\"id\")"
      ],
      "execution_count": null,
      "outputs": []
    },
    {
      "cell_type": "code",
      "metadata": {
        "colab": {
          "base_uri": "https://localhost:8080/"
        },
        "id": "9NJFh5ZnAj9Z",
        "outputId": "7fa0af1f-6a4e-4861-a55a-563c2d18cdc6"
      },
      "source": [
        "data_costos.dtypes"
      ],
      "execution_count": null,
      "outputs": [
        {
          "output_type": "execute_result",
          "data": {
            "text/plain": [
              "tipo_transporte                  object\n",
              "pickup_datetime          datetime64[ns]\n",
              "dropoff_datetime         datetime64[ns]\n",
              "pickup_longitude                float64\n",
              "pickup_latitude                 float64\n",
              "dropoff_longitude               float64\n",
              "dropoff_latitude                float64\n",
              "trip_duration                   float64\n",
              "dist_meters                       int64\n",
              "wait_sec                          int64\n",
              "dist_km                         float64\n",
              "speed_km                        float64\n",
              "pickup_coordenates               object\n",
              "dropoff_coordenates              object\n",
              "banderazo                       float64\n",
              "tarifa_dist                     float64\n",
              "tarifa_tiempo                   float64\n",
              "tarifa_min                      float64\n",
              "costo_viaje_sin_min             float64\n",
              "costo_viaje_sobre_min           float64\n",
              "dtype: object"
            ]
          },
          "metadata": {
            "tags": []
          },
          "execution_count": 259
        }
      ]
    },
    {
      "cell_type": "code",
      "metadata": {
        "colab": {
          "base_uri": "https://localhost:8080/"
        },
        "id": "f9EsIXwaxu2j",
        "outputId": "203fb050-268c-4a11-b8b1-1856894fb5bf"
      },
      "source": [
        "data_costos.shape"
      ],
      "execution_count": null,
      "outputs": [
        {
          "output_type": "execute_result",
          "data": {
            "text/plain": [
              "(7633, 20)"
            ]
          },
          "metadata": {
            "tags": []
          },
          "execution_count": 260
        }
      ]
    },
    {
      "cell_type": "markdown",
      "metadata": {
        "id": "UmgsIQJMLAfK"
      },
      "source": [
        "El data frame `data_costos` ha pasado por el proceso de limpieza y procesamiento de algunas columnas, se considera que está listo para cualquier análisis o modelado que se requiera hacer.\r\n",
        "El data frame se guardará en un archivo *csv* para su utilización en otros proyectos."
      ]
    },
    {
      "cell_type": "code",
      "metadata": {
        "id": "pEEAtIIrLAE5"
      },
      "source": [
        "data_costos.to_csv(\"cdmx_transporte.csv\")"
      ],
      "execution_count": null,
      "outputs": []
    },
    {
      "cell_type": "markdown",
      "metadata": {
        "id": "AGhPqjtTrONa"
      },
      "source": [
        "# 6.Análisis Exploratorio"
      ]
    },
    {
      "cell_type": "markdown",
      "metadata": {
        "id": "X3xvQ9zVRS4z"
      },
      "source": [
        "OBJETIVO\r\n",
        "\r\n",
        "- Realizar filtraciones para obtener conjuntos de datos.\r\n",
        "- Reordenar datos para ver el conjunto desde diferentes perspectivas.\r\n",
        "\r\n",
        "DESARROLLO\r\n",
        "\r\n",
        "Ha llegado el momento de aplicar técnicas comunes de procesamiento de datos a nuestro conjunto de datos. Para este momento nuestro conjunto de datos ya ha sido limpiado previamente de `NaNs`. Se realizo previamente un exploración extensivamente del dataset y se conocen su información. El dataset esté bien indexado y tiene nombres coherentes y comprensibles para las columnas.\r\n",
        "\r\n",
        "Para aplicar en nuestro dataset lo que vimos en esta las ultimas sesiones, realizamos las siguientes acciones:\r\n",
        "\r\n",
        "1. Checa que todos tus datos tengan el tipo de dato correcto. Si no es así, usa casting para convertir tus datos al tipo de dato correcto (recuerda que tipos de dato como `datetime64` se guardan como strings cuando están en archivos .csv, así que tendrás que convertirlos al tipo de dato apropiado cada vez que importes tu archivo.)\r\n",
        "2. Si tienes columnas de texto, asegúrate de que todas tengan el formato correcto. Si no es así, utiliza las técnicas de manipulación de `strings` para darles el formato que necesitas.\r\n",
        "3. Si consideras que alguna de tus columnas sería más clara si los datos tuvieran otro formato o representación usa `map` para transformar los datos de esa columna.\r\n",
        "4. Si crees que es posible generar nuevas columnas útiles a partir de las columnas que ya tienes, usa `apply` para generar nuevos datos a partir de los que tienes y añádelos a tu dataset.\r\n",
        "5. Con el fin de responder algunas de las preguntas que te planteaste acerca de tu dataset, usa filtros y sorting para crear nuevos subconjuntos y reordenamientos que sean más adecuados para responder tus preguntas. Primero comienza intentando responder las preguntas que te planteaste al principio, pero después puedes solamente explorar para ver si encuentras otras preguntas que no te habías planteado anteriormente.\r\n"
      ]
    },
    {
      "cell_type": "code",
      "metadata": {
        "id": "7TaXjaOCkiQN",
        "colab": {
          "base_uri": "https://localhost:8080/",
          "height": 340
        },
        "outputId": "3c46f7d8-095d-4301-a1ea-1adbc7bedbf3"
      },
      "source": [
        "#mun = data_costos.copy()\r\n",
        "url = 'https://raw.githubusercontent.com/CristopherCano/Proyecto_Python_Procesamiento_de_datos/main/Data/cdmx_transporte.csv'\r\n",
        "mun = pd.read_csv(url, index_col=0)\r\n",
        "mun.head()"
      ],
      "execution_count": null,
      "outputs": [
        {
          "output_type": "execute_result",
          "data": {
            "text/html": [
              "<div>\n",
              "<style scoped>\n",
              "    .dataframe tbody tr th:only-of-type {\n",
              "        vertical-align: middle;\n",
              "    }\n",
              "\n",
              "    .dataframe tbody tr th {\n",
              "        vertical-align: top;\n",
              "    }\n",
              "\n",
              "    .dataframe thead th {\n",
              "        text-align: right;\n",
              "    }\n",
              "</style>\n",
              "<table border=\"1\" class=\"dataframe\">\n",
              "  <thead>\n",
              "    <tr style=\"text-align: right;\">\n",
              "      <th></th>\n",
              "      <th>tipo_transporte</th>\n",
              "      <th>pickup_datetime</th>\n",
              "      <th>dropoff_datetime</th>\n",
              "      <th>pickup_longitude</th>\n",
              "      <th>pickup_latitude</th>\n",
              "      <th>dropoff_longitude</th>\n",
              "      <th>dropoff_latitude</th>\n",
              "      <th>trip_duration</th>\n",
              "      <th>dist_meters</th>\n",
              "      <th>wait_sec</th>\n",
              "      <th>dist_km</th>\n",
              "      <th>speed_km</th>\n",
              "      <th>pickup_location</th>\n",
              "      <th>dropoff_location</th>\n",
              "      <th>banderazo</th>\n",
              "      <th>tarifa_dist</th>\n",
              "      <th>tarifa_tiempo</th>\n",
              "      <th>tarifa_min</th>\n",
              "      <th>costo_viaje_sin_min</th>\n",
              "      <th>costo_viaje_sobre_min</th>\n",
              "    </tr>\n",
              "    <tr>\n",
              "      <th>id</th>\n",
              "      <th></th>\n",
              "      <th></th>\n",
              "      <th></th>\n",
              "      <th></th>\n",
              "      <th></th>\n",
              "      <th></th>\n",
              "      <th></th>\n",
              "      <th></th>\n",
              "      <th></th>\n",
              "      <th></th>\n",
              "      <th></th>\n",
              "      <th></th>\n",
              "      <th></th>\n",
              "      <th></th>\n",
              "      <th></th>\n",
              "      <th></th>\n",
              "      <th></th>\n",
              "      <th></th>\n",
              "      <th></th>\n",
              "      <th></th>\n",
              "    </tr>\n",
              "  </thead>\n",
              "  <tbody>\n",
              "    <tr>\n",
              "      <th>3</th>\n",
              "      <td>Taxi Libre</td>\n",
              "      <td>2016-09-18 10:11:50</td>\n",
              "      <td>2016-09-18 10:23:11</td>\n",
              "      <td>-99.289603</td>\n",
              "      <td>19.326263</td>\n",
              "      <td>-99.271874</td>\n",
              "      <td>19.328530</td>\n",
              "      <td>0.189167</td>\n",
              "      <td>2848</td>\n",
              "      <td>129</td>\n",
              "      <td>2.848</td>\n",
              "      <td>15.055507</td>\n",
              "      <td>Cuajimalpa de Morelos</td>\n",
              "      <td>Álvaro Obregón</td>\n",
              "      <td>8.74</td>\n",
              "      <td>1.07</td>\n",
              "      <td>1.07</td>\n",
              "      <td>8.74</td>\n",
              "      <td>23.996773</td>\n",
              "      <td>23.996773</td>\n",
              "    </tr>\n",
              "    <tr>\n",
              "      <th>4</th>\n",
              "      <td>Taxi Libre</td>\n",
              "      <td>2016-09-18 10:23:38</td>\n",
              "      <td>2016-09-18 10:30:53</td>\n",
              "      <td>-99.271161</td>\n",
              "      <td>19.328875</td>\n",
              "      <td>-99.279900</td>\n",
              "      <td>19.326256</td>\n",
              "      <td>0.121111</td>\n",
              "      <td>1409</td>\n",
              "      <td>106</td>\n",
              "      <td>1.409</td>\n",
              "      <td>11.633945</td>\n",
              "      <td>Álvaro Obregón</td>\n",
              "      <td>Álvaro Obregón</td>\n",
              "      <td>8.74</td>\n",
              "      <td>1.07</td>\n",
              "      <td>1.07</td>\n",
              "      <td>8.74</td>\n",
              "      <td>17.290964</td>\n",
              "      <td>17.290964</td>\n",
              "    </tr>\n",
              "    <tr>\n",
              "      <th>5</th>\n",
              "      <td>Taxi Libre</td>\n",
              "      <td>2016-09-18 10:44:18</td>\n",
              "      <td>2016-09-18 10:51:40</td>\n",
              "      <td>-99.282761</td>\n",
              "      <td>19.326944</td>\n",
              "      <td>-99.291705</td>\n",
              "      <td>19.322754</td>\n",
              "      <td>0.122778</td>\n",
              "      <td>1567</td>\n",
              "      <td>85</td>\n",
              "      <td>1.567</td>\n",
              "      <td>12.762896</td>\n",
              "      <td>Álvaro Obregón</td>\n",
              "      <td>Cuajimalpa de Morelos</td>\n",
              "      <td>8.74</td>\n",
              "      <td>1.07</td>\n",
              "      <td>1.07</td>\n",
              "      <td>8.74</td>\n",
              "      <td>17.467871</td>\n",
              "      <td>17.467871</td>\n",
              "    </tr>\n",
              "    <tr>\n",
              "      <th>6</th>\n",
              "      <td>Taxi Libre</td>\n",
              "      <td>2016-09-18 10:58:07</td>\n",
              "      <td>2016-09-18 10:59:46</td>\n",
              "      <td>-99.289712</td>\n",
              "      <td>19.322929</td>\n",
              "      <td>-99.289280</td>\n",
              "      <td>19.325978</td>\n",
              "      <td>0.027778</td>\n",
              "      <td>797</td>\n",
              "      <td>19</td>\n",
              "      <td>0.797</td>\n",
              "      <td>28.692000</td>\n",
              "      <td>Cuajimalpa de Morelos</td>\n",
              "      <td>Cuajimalpa de Morelos</td>\n",
              "      <td>8.74</td>\n",
              "      <td>1.07</td>\n",
              "      <td>1.07</td>\n",
              "      <td>8.74</td>\n",
              "      <td>12.602938</td>\n",
              "      <td>12.602938</td>\n",
              "    </tr>\n",
              "    <tr>\n",
              "      <th>7</th>\n",
              "      <td>Taxi Libre</td>\n",
              "      <td>2016-09-18 11:00:00</td>\n",
              "      <td>2016-09-18 11:05:45</td>\n",
              "      <td>-99.285391</td>\n",
              "      <td>19.326247</td>\n",
              "      <td>-99.282549</td>\n",
              "      <td>19.328117</td>\n",
              "      <td>0.095833</td>\n",
              "      <td>676</td>\n",
              "      <td>169</td>\n",
              "      <td>0.676</td>\n",
              "      <td>7.053913</td>\n",
              "      <td>Álvaro Obregón</td>\n",
              "      <td>Álvaro Obregón</td>\n",
              "      <td>8.74</td>\n",
              "      <td>1.07</td>\n",
              "      <td>1.07</td>\n",
              "      <td>8.74</td>\n",
              "      <td>15.651724</td>\n",
              "      <td>15.651724</td>\n",
              "    </tr>\n",
              "  </tbody>\n",
              "</table>\n",
              "</div>"
            ],
            "text/plain": [
              "   tipo_transporte  ... costo_viaje_sobre_min\n",
              "id                  ...                      \n",
              "3       Taxi Libre  ...             23.996773\n",
              "4       Taxi Libre  ...             17.290964\n",
              "5       Taxi Libre  ...             17.467871\n",
              "6       Taxi Libre  ...             12.602938\n",
              "7       Taxi Libre  ...             15.651724\n",
              "\n",
              "[5 rows x 20 columns]"
            ]
          },
          "metadata": {
            "tags": []
          },
          "execution_count": 262
        }
      ]
    },
    {
      "cell_type": "markdown",
      "metadata": {
        "id": "evRBYOBJ-6Lc"
      },
      "source": [
        "### Clasificando los viajes"
      ]
    },
    {
      "cell_type": "code",
      "metadata": {
        "id": "ZfN3IyJZ-5Zl"
      },
      "source": [
        "def summary(nombre):\r\n",
        "  minimo = mun[nombre].min()\r\n",
        "  Q1 = mun[nombre].quantile(0.25)\r\n",
        "  median = mun[nombre].median()\r\n",
        "  mean = mun[nombre].mean()\r\n",
        "  Q2 = mun[nombre].quantile(0.5)\r\n",
        "  Q3 = mun[nombre].quantile(0.75)\r\n",
        "  maximo = mun[nombre].max()\r\n",
        "  IQR = Q3 - Q1\r\n",
        "  resumen = {'minimo': minimo, 'Q1': Q1, 'mediana':median,'Q2':Q2,'Q3':Q3,'max':maximo,'IQR':IQR}\r\n",
        "  return resumen\r\n"
      ],
      "execution_count": null,
      "outputs": []
    },
    {
      "cell_type": "code",
      "metadata": {
        "colab": {
          "base_uri": "https://localhost:8080/"
        },
        "id": "5HmyT2Uz_UpP",
        "outputId": "b55d66e5-f190-46b8-e5ba-d7efd906024f"
      },
      "source": [
        "cuartiles_dist = summary('dist_km')\r\n",
        "cuartiles_dist"
      ],
      "execution_count": null,
      "outputs": [
        {
          "output_type": "execute_result",
          "data": {
            "text/plain": [
              "{'IQR': 3.9910000000000005,\n",
              " 'Q1': 1.97,\n",
              " 'Q2': 3.448,\n",
              " 'Q3': 5.961,\n",
              " 'max': 15.998,\n",
              " 'mediana': 3.448,\n",
              " 'minimo': 0.501}"
            ]
          },
          "metadata": {
            "tags": []
          },
          "execution_count": 264
        }
      ]
    },
    {
      "cell_type": "code",
      "metadata": {
        "id": "JaFO1Mfk_cBa"
      },
      "source": [
        "def classificar_viajes(distancia, cuartiles):\r\n",
        "  x = distancia\r\n",
        "  Q1 = cuartiles['Q1']\r\n",
        "  Q3 = cuartiles['Q2']\r\n",
        "\r\n",
        "  if x < Q1:\r\n",
        "    resultado = 'corto'\r\n",
        "    return resultado\r\n",
        "  elif Q1 < x < Q3:\r\n",
        "    resultado = 'mediano'\r\n",
        "    return resultado\r\n",
        "  elif Q3 < x:\r\n",
        "    resultado = 'largo'\r\n",
        "    return resultado"
      ],
      "execution_count": null,
      "outputs": []
    },
    {
      "cell_type": "code",
      "metadata": {
        "id": "YmHlJIyJ_c-c"
      },
      "source": [
        "dist_km_col = mun['dist_km']"
      ],
      "execution_count": null,
      "outputs": []
    },
    {
      "cell_type": "code",
      "metadata": {
        "colab": {
          "base_uri": "https://localhost:8080/"
        },
        "id": "yYIU4Z4J_oRk",
        "outputId": "35e4de6c-6610-4bf2-be71-d31acb91c65e"
      },
      "source": [
        "dist_km_col.apply(classificar_viajes, args=(cuartiles_dist,))"
      ],
      "execution_count": null,
      "outputs": [
        {
          "output_type": "execute_result",
          "data": {
            "text/plain": [
              "id\n",
              "3        mediano\n",
              "4          corto\n",
              "5          corto\n",
              "6          corto\n",
              "7          corto\n",
              "          ...   \n",
              "12686      largo\n",
              "12687      largo\n",
              "12688    mediano\n",
              "12691    mediano\n",
              "12692      largo\n",
              "Name: dist_km, Length: 7633, dtype: object"
            ]
          },
          "metadata": {
            "tags": []
          },
          "execution_count": 267
        }
      ]
    },
    {
      "cell_type": "code",
      "metadata": {
        "colab": {
          "base_uri": "https://localhost:8080/",
          "height": 340
        },
        "id": "nJgJcZCF_u1w",
        "outputId": "c7ae5aa9-aef4-4f40-c685-bb49e394b0d0"
      },
      "source": [
        "mun['viaje'] = dist_km_col.apply(classificar_viajes, args=(cuartiles_dist,))\r\n",
        "mun.head()"
      ],
      "execution_count": null,
      "outputs": [
        {
          "output_type": "execute_result",
          "data": {
            "text/html": [
              "<div>\n",
              "<style scoped>\n",
              "    .dataframe tbody tr th:only-of-type {\n",
              "        vertical-align: middle;\n",
              "    }\n",
              "\n",
              "    .dataframe tbody tr th {\n",
              "        vertical-align: top;\n",
              "    }\n",
              "\n",
              "    .dataframe thead th {\n",
              "        text-align: right;\n",
              "    }\n",
              "</style>\n",
              "<table border=\"1\" class=\"dataframe\">\n",
              "  <thead>\n",
              "    <tr style=\"text-align: right;\">\n",
              "      <th></th>\n",
              "      <th>tipo_transporte</th>\n",
              "      <th>pickup_datetime</th>\n",
              "      <th>dropoff_datetime</th>\n",
              "      <th>pickup_longitude</th>\n",
              "      <th>pickup_latitude</th>\n",
              "      <th>dropoff_longitude</th>\n",
              "      <th>dropoff_latitude</th>\n",
              "      <th>trip_duration</th>\n",
              "      <th>dist_meters</th>\n",
              "      <th>wait_sec</th>\n",
              "      <th>dist_km</th>\n",
              "      <th>speed_km</th>\n",
              "      <th>pickup_location</th>\n",
              "      <th>dropoff_location</th>\n",
              "      <th>banderazo</th>\n",
              "      <th>tarifa_dist</th>\n",
              "      <th>tarifa_tiempo</th>\n",
              "      <th>tarifa_min</th>\n",
              "      <th>costo_viaje_sin_min</th>\n",
              "      <th>costo_viaje_sobre_min</th>\n",
              "      <th>viaje</th>\n",
              "    </tr>\n",
              "    <tr>\n",
              "      <th>id</th>\n",
              "      <th></th>\n",
              "      <th></th>\n",
              "      <th></th>\n",
              "      <th></th>\n",
              "      <th></th>\n",
              "      <th></th>\n",
              "      <th></th>\n",
              "      <th></th>\n",
              "      <th></th>\n",
              "      <th></th>\n",
              "      <th></th>\n",
              "      <th></th>\n",
              "      <th></th>\n",
              "      <th></th>\n",
              "      <th></th>\n",
              "      <th></th>\n",
              "      <th></th>\n",
              "      <th></th>\n",
              "      <th></th>\n",
              "      <th></th>\n",
              "      <th></th>\n",
              "    </tr>\n",
              "  </thead>\n",
              "  <tbody>\n",
              "    <tr>\n",
              "      <th>3</th>\n",
              "      <td>Taxi Libre</td>\n",
              "      <td>2016-09-18 10:11:50</td>\n",
              "      <td>2016-09-18 10:23:11</td>\n",
              "      <td>-99.289603</td>\n",
              "      <td>19.326263</td>\n",
              "      <td>-99.271874</td>\n",
              "      <td>19.328530</td>\n",
              "      <td>0.189167</td>\n",
              "      <td>2848</td>\n",
              "      <td>129</td>\n",
              "      <td>2.848</td>\n",
              "      <td>15.055507</td>\n",
              "      <td>Cuajimalpa de Morelos</td>\n",
              "      <td>Álvaro Obregón</td>\n",
              "      <td>8.74</td>\n",
              "      <td>1.07</td>\n",
              "      <td>1.07</td>\n",
              "      <td>8.74</td>\n",
              "      <td>23.996773</td>\n",
              "      <td>23.996773</td>\n",
              "      <td>mediano</td>\n",
              "    </tr>\n",
              "    <tr>\n",
              "      <th>4</th>\n",
              "      <td>Taxi Libre</td>\n",
              "      <td>2016-09-18 10:23:38</td>\n",
              "      <td>2016-09-18 10:30:53</td>\n",
              "      <td>-99.271161</td>\n",
              "      <td>19.328875</td>\n",
              "      <td>-99.279900</td>\n",
              "      <td>19.326256</td>\n",
              "      <td>0.121111</td>\n",
              "      <td>1409</td>\n",
              "      <td>106</td>\n",
              "      <td>1.409</td>\n",
              "      <td>11.633945</td>\n",
              "      <td>Álvaro Obregón</td>\n",
              "      <td>Álvaro Obregón</td>\n",
              "      <td>8.74</td>\n",
              "      <td>1.07</td>\n",
              "      <td>1.07</td>\n",
              "      <td>8.74</td>\n",
              "      <td>17.290964</td>\n",
              "      <td>17.290964</td>\n",
              "      <td>corto</td>\n",
              "    </tr>\n",
              "    <tr>\n",
              "      <th>5</th>\n",
              "      <td>Taxi Libre</td>\n",
              "      <td>2016-09-18 10:44:18</td>\n",
              "      <td>2016-09-18 10:51:40</td>\n",
              "      <td>-99.282761</td>\n",
              "      <td>19.326944</td>\n",
              "      <td>-99.291705</td>\n",
              "      <td>19.322754</td>\n",
              "      <td>0.122778</td>\n",
              "      <td>1567</td>\n",
              "      <td>85</td>\n",
              "      <td>1.567</td>\n",
              "      <td>12.762896</td>\n",
              "      <td>Álvaro Obregón</td>\n",
              "      <td>Cuajimalpa de Morelos</td>\n",
              "      <td>8.74</td>\n",
              "      <td>1.07</td>\n",
              "      <td>1.07</td>\n",
              "      <td>8.74</td>\n",
              "      <td>17.467871</td>\n",
              "      <td>17.467871</td>\n",
              "      <td>corto</td>\n",
              "    </tr>\n",
              "    <tr>\n",
              "      <th>6</th>\n",
              "      <td>Taxi Libre</td>\n",
              "      <td>2016-09-18 10:58:07</td>\n",
              "      <td>2016-09-18 10:59:46</td>\n",
              "      <td>-99.289712</td>\n",
              "      <td>19.322929</td>\n",
              "      <td>-99.289280</td>\n",
              "      <td>19.325978</td>\n",
              "      <td>0.027778</td>\n",
              "      <td>797</td>\n",
              "      <td>19</td>\n",
              "      <td>0.797</td>\n",
              "      <td>28.692000</td>\n",
              "      <td>Cuajimalpa de Morelos</td>\n",
              "      <td>Cuajimalpa de Morelos</td>\n",
              "      <td>8.74</td>\n",
              "      <td>1.07</td>\n",
              "      <td>1.07</td>\n",
              "      <td>8.74</td>\n",
              "      <td>12.602938</td>\n",
              "      <td>12.602938</td>\n",
              "      <td>corto</td>\n",
              "    </tr>\n",
              "    <tr>\n",
              "      <th>7</th>\n",
              "      <td>Taxi Libre</td>\n",
              "      <td>2016-09-18 11:00:00</td>\n",
              "      <td>2016-09-18 11:05:45</td>\n",
              "      <td>-99.285391</td>\n",
              "      <td>19.326247</td>\n",
              "      <td>-99.282549</td>\n",
              "      <td>19.328117</td>\n",
              "      <td>0.095833</td>\n",
              "      <td>676</td>\n",
              "      <td>169</td>\n",
              "      <td>0.676</td>\n",
              "      <td>7.053913</td>\n",
              "      <td>Álvaro Obregón</td>\n",
              "      <td>Álvaro Obregón</td>\n",
              "      <td>8.74</td>\n",
              "      <td>1.07</td>\n",
              "      <td>1.07</td>\n",
              "      <td>8.74</td>\n",
              "      <td>15.651724</td>\n",
              "      <td>15.651724</td>\n",
              "      <td>corto</td>\n",
              "    </tr>\n",
              "  </tbody>\n",
              "</table>\n",
              "</div>"
            ],
            "text/plain": [
              "   tipo_transporte      pickup_datetime  ... costo_viaje_sobre_min    viaje\n",
              "id                                       ...                               \n",
              "3       Taxi Libre  2016-09-18 10:11:50  ...             23.996773  mediano\n",
              "4       Taxi Libre  2016-09-18 10:23:38  ...             17.290964    corto\n",
              "5       Taxi Libre  2016-09-18 10:44:18  ...             17.467871    corto\n",
              "6       Taxi Libre  2016-09-18 10:58:07  ...             12.602938    corto\n",
              "7       Taxi Libre  2016-09-18 11:00:00  ...             15.651724    corto\n",
              "\n",
              "[5 rows x 21 columns]"
            ]
          },
          "metadata": {
            "tags": []
          },
          "execution_count": 268
        }
      ]
    },
    {
      "cell_type": "markdown",
      "metadata": {
        "id": "ZF42e1FbA1cw"
      },
      "source": [
        "Moda de los viajes por tipo de transporte y viaje"
      ]
    },
    {
      "cell_type": "code",
      "metadata": {
        "colab": {
          "base_uri": "https://localhost:8080/",
          "height": 419
        },
        "id": "eI54_TeMAzTL",
        "outputId": "6b35c99e-ef32-450b-c810-1bbac9323fdb"
      },
      "source": [
        "df_viajes_o = mun.groupby(['tipo_transporte','viaje'])['pickup_location'].value_counts().rename('suma')\r\n",
        "df_viajes_o = df_viajes_o.reset_index()\r\n",
        "df_viajes_o.sort_values('suma', ascending=False)"
      ],
      "execution_count": null,
      "outputs": [
        {
          "output_type": "execute_result",
          "data": {
            "text/html": [
              "<div>\n",
              "<style scoped>\n",
              "    .dataframe tbody tr th:only-of-type {\n",
              "        vertical-align: middle;\n",
              "    }\n",
              "\n",
              "    .dataframe tbody tr th {\n",
              "        vertical-align: top;\n",
              "    }\n",
              "\n",
              "    .dataframe thead th {\n",
              "        text-align: right;\n",
              "    }\n",
              "</style>\n",
              "<table border=\"1\" class=\"dataframe\">\n",
              "  <thead>\n",
              "    <tr style=\"text-align: right;\">\n",
              "      <th></th>\n",
              "      <th>tipo_transporte</th>\n",
              "      <th>viaje</th>\n",
              "      <th>pickup_location</th>\n",
              "      <th>suma</th>\n",
              "    </tr>\n",
              "  </thead>\n",
              "  <tbody>\n",
              "    <tr>\n",
              "      <th>65</th>\n",
              "      <td>Taxi Libre</td>\n",
              "      <td>largo</td>\n",
              "      <td>Iztapalapa</td>\n",
              "      <td>587</td>\n",
              "    </tr>\n",
              "    <tr>\n",
              "      <th>66</th>\n",
              "      <td>Taxi Libre</td>\n",
              "      <td>largo</td>\n",
              "      <td>Álvaro Obregón</td>\n",
              "      <td>342</td>\n",
              "    </tr>\n",
              "    <tr>\n",
              "      <th>93</th>\n",
              "      <td>Taxi Libre</td>\n",
              "      <td>mediano</td>\n",
              "      <td>Iztapalapa</td>\n",
              "      <td>333</td>\n",
              "    </tr>\n",
              "    <tr>\n",
              "      <th>67</th>\n",
              "      <td>Taxi Libre</td>\n",
              "      <td>largo</td>\n",
              "      <td>Miguel Hidalgo</td>\n",
              "      <td>319</td>\n",
              "    </tr>\n",
              "    <tr>\n",
              "      <th>13</th>\n",
              "      <td>Radio Taxi</td>\n",
              "      <td>largo</td>\n",
              "      <td>Benito Juárez</td>\n",
              "      <td>283</td>\n",
              "    </tr>\n",
              "    <tr>\n",
              "      <th>...</th>\n",
              "      <td>...</td>\n",
              "      <td>...</td>\n",
              "      <td>...</td>\n",
              "      <td>...</td>\n",
              "    </tr>\n",
              "    <tr>\n",
              "      <th>176</th>\n",
              "      <td>UberBlack</td>\n",
              "      <td>largo</td>\n",
              "      <td>Querétaro</td>\n",
              "      <td>1</td>\n",
              "    </tr>\n",
              "    <tr>\n",
              "      <th>175</th>\n",
              "      <td>UberBlack</td>\n",
              "      <td>corto</td>\n",
              "      <td>Miguel Hidalgo</td>\n",
              "      <td>1</td>\n",
              "    </tr>\n",
              "    <tr>\n",
              "      <th>174</th>\n",
              "      <td>UberBlack</td>\n",
              "      <td>corto</td>\n",
              "      <td>Benito Juárez</td>\n",
              "      <td>1</td>\n",
              "    </tr>\n",
              "    <tr>\n",
              "      <th>173</th>\n",
              "      <td>Taxi de Sitio</td>\n",
              "      <td>mediano</td>\n",
              "      <td>Tláhuac</td>\n",
              "      <td>1</td>\n",
              "    </tr>\n",
              "    <tr>\n",
              "      <th>254</th>\n",
              "      <td>UberXL</td>\n",
              "      <td>mediano</td>\n",
              "      <td>Tláhuac</td>\n",
              "      <td>1</td>\n",
              "    </tr>\n",
              "  </tbody>\n",
              "</table>\n",
              "<p>255 rows × 4 columns</p>\n",
              "</div>"
            ],
            "text/plain": [
              "    tipo_transporte    viaje pickup_location  suma\n",
              "65       Taxi Libre    largo      Iztapalapa   587\n",
              "66       Taxi Libre    largo  Álvaro Obregón   342\n",
              "93       Taxi Libre  mediano      Iztapalapa   333\n",
              "67       Taxi Libre    largo  Miguel Hidalgo   319\n",
              "13       Radio Taxi    largo   Benito Juárez   283\n",
              "..              ...      ...             ...   ...\n",
              "176       UberBlack    largo       Querétaro     1\n",
              "175       UberBlack    corto  Miguel Hidalgo     1\n",
              "174       UberBlack    corto   Benito Juárez     1\n",
              "173   Taxi de Sitio  mediano         Tláhuac     1\n",
              "254          UberXL  mediano         Tláhuac     1\n",
              "\n",
              "[255 rows x 4 columns]"
            ]
          },
          "metadata": {
            "tags": []
          },
          "execution_count": 269
        }
      ]
    },
    {
      "cell_type": "markdown",
      "metadata": {
        "id": "aTTSWJLGEsAM"
      },
      "source": [
        "**Para la distancia en km** \\\r\n",
        "viaje corto:     x < primer cuartil \\\r\n",
        "viaje mediano:   primer cuartil < x < tercer cuartil \\\r\n",
        "viaje largo:     tercer cuartil < x"
      ]
    },
    {
      "cell_type": "code",
      "metadata": {
        "colab": {
          "base_uri": "https://localhost:8080/"
        },
        "id": "976R4JJOH2EA",
        "outputId": "e4e48fe3-cd90-4128-d3ad-ed2f7f249438"
      },
      "source": [
        "cuartiles_dist"
      ],
      "execution_count": null,
      "outputs": [
        {
          "output_type": "execute_result",
          "data": {
            "text/plain": [
              "{'IQR': 3.9910000000000005,\n",
              " 'Q1': 1.97,\n",
              " 'Q2': 3.448,\n",
              " 'Q3': 5.961,\n",
              " 'max': 15.998,\n",
              " 'mediana': 3.448,\n",
              " 'minimo': 0.501}"
            ]
          },
          "metadata": {
            "tags": []
          },
          "execution_count": 270
        }
      ]
    },
    {
      "cell_type": "code",
      "metadata": {
        "colab": {
          "base_uri": "https://localhost:8080/",
          "height": 1000
        },
        "id": "vUHwVgfWBBRJ",
        "outputId": "2ad99699-182b-4593-f5f1-2252dbbbc88c"
      },
      "source": [
        "df_viajes_o.groupby('pickup_location')[['viaje','tipo_transporte']].agg(pd.Series.mode)"
      ],
      "execution_count": null,
      "outputs": [
        {
          "output_type": "execute_result",
          "data": {
            "text/html": [
              "<div>\n",
              "<style scoped>\n",
              "    .dataframe tbody tr th:only-of-type {\n",
              "        vertical-align: middle;\n",
              "    }\n",
              "\n",
              "    .dataframe tbody tr th {\n",
              "        vertical-align: top;\n",
              "    }\n",
              "\n",
              "    .dataframe thead th {\n",
              "        text-align: right;\n",
              "    }\n",
              "</style>\n",
              "<table border=\"1\" class=\"dataframe\">\n",
              "  <thead>\n",
              "    <tr style=\"text-align: right;\">\n",
              "      <th></th>\n",
              "      <th>viaje</th>\n",
              "      <th>tipo_transporte</th>\n",
              "    </tr>\n",
              "    <tr>\n",
              "      <th>pickup_location</th>\n",
              "      <th></th>\n",
              "      <th></th>\n",
              "    </tr>\n",
              "  </thead>\n",
              "  <tbody>\n",
              "    <tr>\n",
              "      <th>Acolman</th>\n",
              "      <td>largo</td>\n",
              "      <td>UberX</td>\n",
              "    </tr>\n",
              "    <tr>\n",
              "      <th>Ahome</th>\n",
              "      <td>largo</td>\n",
              "      <td>Taxi de Sitio</td>\n",
              "    </tr>\n",
              "    <tr>\n",
              "      <th>Atizapán de Zaragoza</th>\n",
              "      <td>[largo, mediano]</td>\n",
              "      <td>[Taxi de Sitio, UberX]</td>\n",
              "    </tr>\n",
              "    <tr>\n",
              "      <th>Azcapotzalco</th>\n",
              "      <td>mediano</td>\n",
              "      <td>[Radio Taxi, Taxi Libre, Taxi de Sitio]</td>\n",
              "    </tr>\n",
              "    <tr>\n",
              "      <th>Benito Juárez</th>\n",
              "      <td>[corto, largo, mediano]</td>\n",
              "      <td>[Radio Taxi, Taxi Libre, Taxi de Sitio, UberX]</td>\n",
              "    </tr>\n",
              "    <tr>\n",
              "      <th>Chalco</th>\n",
              "      <td>largo</td>\n",
              "      <td>[Radio Taxi, Taxi Libre]</td>\n",
              "    </tr>\n",
              "    <tr>\n",
              "      <th>Chimalhuacán</th>\n",
              "      <td>largo</td>\n",
              "      <td>Taxi Libre</td>\n",
              "    </tr>\n",
              "    <tr>\n",
              "      <th>Coacalco de Berriozábal</th>\n",
              "      <td>corto</td>\n",
              "      <td>Taxi Libre</td>\n",
              "    </tr>\n",
              "    <tr>\n",
              "      <th>Coyoacán</th>\n",
              "      <td>largo</td>\n",
              "      <td>[Radio Taxi, Taxi Libre, Taxi de Sitio, UberX]</td>\n",
              "    </tr>\n",
              "    <tr>\n",
              "      <th>Cuajimalpa de Morelos</th>\n",
              "      <td>[corto, mediano]</td>\n",
              "      <td>[Taxi Libre, Taxi de Sitio]</td>\n",
              "    </tr>\n",
              "    <tr>\n",
              "      <th>Cuauhtémoc</th>\n",
              "      <td>largo</td>\n",
              "      <td>[Radio Taxi, Taxi Libre, Taxi de Sitio]</td>\n",
              "    </tr>\n",
              "    <tr>\n",
              "      <th>Cuautitlán</th>\n",
              "      <td>corto</td>\n",
              "      <td>Radio Taxi</td>\n",
              "    </tr>\n",
              "    <tr>\n",
              "      <th>Cuautitlán Izcalli</th>\n",
              "      <td>mediano</td>\n",
              "      <td>UberXL</td>\n",
              "    </tr>\n",
              "    <tr>\n",
              "      <th>Ecatepec de Morelos</th>\n",
              "      <td>[corto, largo]</td>\n",
              "      <td>[Taxi Libre, Taxi de Sitio]</td>\n",
              "    </tr>\n",
              "    <tr>\n",
              "      <th>Gustavo A. Madero</th>\n",
              "      <td>[corto, largo, mediano]</td>\n",
              "      <td>[Radio Taxi, Taxi Libre, Taxi de Sitio, UberX]</td>\n",
              "    </tr>\n",
              "    <tr>\n",
              "      <th>Huixquilucan</th>\n",
              "      <td>largo</td>\n",
              "      <td>Taxi Libre</td>\n",
              "    </tr>\n",
              "    <tr>\n",
              "      <th>Ixtapaluca</th>\n",
              "      <td>corto</td>\n",
              "      <td>[Taxi Libre, Taxi de Sitio, UberX]</td>\n",
              "    </tr>\n",
              "    <tr>\n",
              "      <th>Iztacalco</th>\n",
              "      <td>[largo, mediano]</td>\n",
              "      <td>[Taxi Libre, UberX]</td>\n",
              "    </tr>\n",
              "    <tr>\n",
              "      <th>Iztapalapa</th>\n",
              "      <td>[corto, largo]</td>\n",
              "      <td>[Radio Taxi, Taxi Libre, Taxi de Sitio, UberX]</td>\n",
              "    </tr>\n",
              "    <tr>\n",
              "      <th>La Magdalena Contreras</th>\n",
              "      <td>largo</td>\n",
              "      <td>[Taxi Libre, Taxi de Sitio]</td>\n",
              "    </tr>\n",
              "    <tr>\n",
              "      <th>La Paz</th>\n",
              "      <td>largo</td>\n",
              "      <td>Taxi de Sitio</td>\n",
              "    </tr>\n",
              "    <tr>\n",
              "      <th>Miguel Hidalgo</th>\n",
              "      <td>corto</td>\n",
              "      <td>[Radio Taxi, Taxi Libre, Taxi de Sitio, UberSU...</td>\n",
              "    </tr>\n",
              "    <tr>\n",
              "      <th>Milpa Alta</th>\n",
              "      <td>[corto, largo, mediano]</td>\n",
              "      <td>Taxi Libre</td>\n",
              "    </tr>\n",
              "    <tr>\n",
              "      <th>Mérida</th>\n",
              "      <td>[largo, mediano]</td>\n",
              "      <td>Taxi Libre</td>\n",
              "    </tr>\n",
              "    <tr>\n",
              "      <th>Naucalpan de Juárez</th>\n",
              "      <td>[corto, largo]</td>\n",
              "      <td>Radio Taxi</td>\n",
              "    </tr>\n",
              "    <tr>\n",
              "      <th>Nezahualcóyotl</th>\n",
              "      <td>[corto, mediano]</td>\n",
              "      <td>[Taxi Libre, Taxi de Sitio]</td>\n",
              "    </tr>\n",
              "    <tr>\n",
              "      <th>Querétaro</th>\n",
              "      <td>largo</td>\n",
              "      <td>[Taxi Libre, UberBlack]</td>\n",
              "    </tr>\n",
              "    <tr>\n",
              "      <th>Tecámac</th>\n",
              "      <td>[corto, largo]</td>\n",
              "      <td>Taxi Libre</td>\n",
              "    </tr>\n",
              "    <tr>\n",
              "      <th>Tlalnepantla de Baz</th>\n",
              "      <td>[corto, largo, mediano]</td>\n",
              "      <td>Taxi de Sitio</td>\n",
              "    </tr>\n",
              "    <tr>\n",
              "      <th>Tlalpan</th>\n",
              "      <td>largo</td>\n",
              "      <td>[Taxi Libre, Taxi de Sitio]</td>\n",
              "    </tr>\n",
              "    <tr>\n",
              "      <th>Tláhuac</th>\n",
              "      <td>[corto, largo, mediano]</td>\n",
              "      <td>[Taxi Libre, Taxi de Sitio]</td>\n",
              "    </tr>\n",
              "    <tr>\n",
              "      <th>Tulancingo de Bravo</th>\n",
              "      <td>largo</td>\n",
              "      <td>UberSUV</td>\n",
              "    </tr>\n",
              "    <tr>\n",
              "      <th>Tultepec</th>\n",
              "      <td>largo</td>\n",
              "      <td>Taxi Libre</td>\n",
              "    </tr>\n",
              "    <tr>\n",
              "      <th>Tultitlán</th>\n",
              "      <td>[corto, largo, mediano]</td>\n",
              "      <td>Taxi Libre</td>\n",
              "    </tr>\n",
              "    <tr>\n",
              "      <th>Valle de Chalco Solidaridad</th>\n",
              "      <td>[corto, largo]</td>\n",
              "      <td>UberX</td>\n",
              "    </tr>\n",
              "    <tr>\n",
              "      <th>Venustiano Carranza</th>\n",
              "      <td>largo</td>\n",
              "      <td>[Taxi Libre, Taxi de Sitio]</td>\n",
              "    </tr>\n",
              "    <tr>\n",
              "      <th>Xochimilco</th>\n",
              "      <td>corto</td>\n",
              "      <td>[Taxi Libre, Taxi de Sitio]</td>\n",
              "    </tr>\n",
              "    <tr>\n",
              "      <th>Álvaro Obregón</th>\n",
              "      <td>largo</td>\n",
              "      <td>[Radio Taxi, Taxi Libre, Taxi de Sitio, UberX]</td>\n",
              "    </tr>\n",
              "  </tbody>\n",
              "</table>\n",
              "</div>"
            ],
            "text/plain": [
              "                                               viaje                                    tipo_transporte\n",
              "pickup_location                                                                                        \n",
              "Acolman                                        largo                                              UberX\n",
              "Ahome                                          largo                                      Taxi de Sitio\n",
              "Atizapán de Zaragoza                [largo, mediano]                             [Taxi de Sitio, UberX]\n",
              "Azcapotzalco                                 mediano            [Radio Taxi, Taxi Libre, Taxi de Sitio]\n",
              "Benito Juárez                [corto, largo, mediano]     [Radio Taxi, Taxi Libre, Taxi de Sitio, UberX]\n",
              "Chalco                                         largo                           [Radio Taxi, Taxi Libre]\n",
              "Chimalhuacán                                   largo                                         Taxi Libre\n",
              "Coacalco de Berriozábal                        corto                                         Taxi Libre\n",
              "Coyoacán                                       largo     [Radio Taxi, Taxi Libre, Taxi de Sitio, UberX]\n",
              "Cuajimalpa de Morelos               [corto, mediano]                        [Taxi Libre, Taxi de Sitio]\n",
              "Cuauhtémoc                                     largo            [Radio Taxi, Taxi Libre, Taxi de Sitio]\n",
              "Cuautitlán                                     corto                                         Radio Taxi\n",
              "Cuautitlán Izcalli                           mediano                                             UberXL\n",
              "Ecatepec de Morelos                   [corto, largo]                        [Taxi Libre, Taxi de Sitio]\n",
              "Gustavo A. Madero            [corto, largo, mediano]     [Radio Taxi, Taxi Libre, Taxi de Sitio, UberX]\n",
              "Huixquilucan                                   largo                                         Taxi Libre\n",
              "Ixtapaluca                                     corto                 [Taxi Libre, Taxi de Sitio, UberX]\n",
              "Iztacalco                           [largo, mediano]                                [Taxi Libre, UberX]\n",
              "Iztapalapa                            [corto, largo]     [Radio Taxi, Taxi Libre, Taxi de Sitio, UberX]\n",
              "La Magdalena Contreras                         largo                        [Taxi Libre, Taxi de Sitio]\n",
              "La Paz                                         largo                                      Taxi de Sitio\n",
              "Miguel Hidalgo                                 corto  [Radio Taxi, Taxi Libre, Taxi de Sitio, UberSU...\n",
              "Milpa Alta                   [corto, largo, mediano]                                         Taxi Libre\n",
              "Mérida                              [largo, mediano]                                         Taxi Libre\n",
              "Naucalpan de Juárez                   [corto, largo]                                         Radio Taxi\n",
              "Nezahualcóyotl                      [corto, mediano]                        [Taxi Libre, Taxi de Sitio]\n",
              "Querétaro                                      largo                            [Taxi Libre, UberBlack]\n",
              "Tecámac                               [corto, largo]                                         Taxi Libre\n",
              "Tlalnepantla de Baz          [corto, largo, mediano]                                      Taxi de Sitio\n",
              "Tlalpan                                        largo                        [Taxi Libre, Taxi de Sitio]\n",
              "Tláhuac                      [corto, largo, mediano]                        [Taxi Libre, Taxi de Sitio]\n",
              "Tulancingo de Bravo                            largo                                            UberSUV\n",
              "Tultepec                                       largo                                         Taxi Libre\n",
              "Tultitlán                    [corto, largo, mediano]                                         Taxi Libre\n",
              "Valle de Chalco Solidaridad           [corto, largo]                                              UberX\n",
              "Venustiano Carranza                            largo                        [Taxi Libre, Taxi de Sitio]\n",
              "Xochimilco                                     corto                        [Taxi Libre, Taxi de Sitio]\n",
              "Álvaro Obregón                                 largo     [Radio Taxi, Taxi Libre, Taxi de Sitio, UberX]"
            ]
          },
          "metadata": {
            "tags": []
          },
          "execution_count": 271
        }
      ]
    },
    {
      "cell_type": "markdown",
      "metadata": {
        "id": "BpIbPQOt-QBb"
      },
      "source": [
        "### Viajes por origen y destino"
      ]
    },
    {
      "cell_type": "code",
      "metadata": {
        "colab": {
          "base_uri": "https://localhost:8080/",
          "height": 1000
        },
        "id": "xTv6bRBatcVr",
        "outputId": "610911fd-91f7-4dea-d2f1-339cf4b14a10"
      },
      "source": [
        "viajes = pd.melt(mun[['pickup_location','dropoff_location']])\r\n",
        "viajes = viajes.groupby('variable')['value'].value_counts().rename('conteo')\r\n",
        "viajes = pd.DataFrame(viajes)\r\n",
        "viajes"
      ],
      "execution_count": null,
      "outputs": [
        {
          "output_type": "execute_result",
          "data": {
            "text/html": [
              "<div>\n",
              "<style scoped>\n",
              "    .dataframe tbody tr th:only-of-type {\n",
              "        vertical-align: middle;\n",
              "    }\n",
              "\n",
              "    .dataframe tbody tr th {\n",
              "        vertical-align: top;\n",
              "    }\n",
              "\n",
              "    .dataframe thead th {\n",
              "        text-align: right;\n",
              "    }\n",
              "</style>\n",
              "<table border=\"1\" class=\"dataframe\">\n",
              "  <thead>\n",
              "    <tr style=\"text-align: right;\">\n",
              "      <th></th>\n",
              "      <th></th>\n",
              "      <th>conteo</th>\n",
              "    </tr>\n",
              "    <tr>\n",
              "      <th>variable</th>\n",
              "      <th>value</th>\n",
              "      <th></th>\n",
              "    </tr>\n",
              "  </thead>\n",
              "  <tbody>\n",
              "    <tr>\n",
              "      <th rowspan=\"35\" valign=\"top\">dropoff_location</th>\n",
              "      <th>Iztapalapa</th>\n",
              "      <td>1084</td>\n",
              "    </tr>\n",
              "    <tr>\n",
              "      <th>Miguel Hidalgo</th>\n",
              "      <td>1018</td>\n",
              "    </tr>\n",
              "    <tr>\n",
              "      <th>Álvaro Obregón</th>\n",
              "      <td>995</td>\n",
              "    </tr>\n",
              "    <tr>\n",
              "      <th>Cuauhtémoc</th>\n",
              "      <td>730</td>\n",
              "    </tr>\n",
              "    <tr>\n",
              "      <th>Benito Juárez</th>\n",
              "      <td>658</td>\n",
              "    </tr>\n",
              "    <tr>\n",
              "      <th>Tlalpan</th>\n",
              "      <td>487</td>\n",
              "    </tr>\n",
              "    <tr>\n",
              "      <th>Coyoacán</th>\n",
              "      <td>409</td>\n",
              "    </tr>\n",
              "    <tr>\n",
              "      <th>Gustavo A. Madero</th>\n",
              "      <td>358</td>\n",
              "    </tr>\n",
              "    <tr>\n",
              "      <th>La Magdalena Contreras</th>\n",
              "      <td>346</td>\n",
              "    </tr>\n",
              "    <tr>\n",
              "      <th>Tláhuac</th>\n",
              "      <td>287</td>\n",
              "    </tr>\n",
              "    <tr>\n",
              "      <th>Azcapotzalco</th>\n",
              "      <td>277</td>\n",
              "    </tr>\n",
              "    <tr>\n",
              "      <th>Venustiano Carranza</th>\n",
              "      <td>242</td>\n",
              "    </tr>\n",
              "    <tr>\n",
              "      <th>Xochimilco</th>\n",
              "      <td>229</td>\n",
              "    </tr>\n",
              "    <tr>\n",
              "      <th>Iztacalco</th>\n",
              "      <td>129</td>\n",
              "    </tr>\n",
              "    <tr>\n",
              "      <th>Cuajimalpa de Morelos</th>\n",
              "      <td>101</td>\n",
              "    </tr>\n",
              "    <tr>\n",
              "      <th>Ecatepec de Morelos</th>\n",
              "      <td>86</td>\n",
              "    </tr>\n",
              "    <tr>\n",
              "      <th>Nezahualcóyotl</th>\n",
              "      <td>53</td>\n",
              "    </tr>\n",
              "    <tr>\n",
              "      <th>Milpa Alta</th>\n",
              "      <td>25</td>\n",
              "    </tr>\n",
              "    <tr>\n",
              "      <th>Naucalpan de Juárez</th>\n",
              "      <td>25</td>\n",
              "    </tr>\n",
              "    <tr>\n",
              "      <th>Tlalnepantla de Baz</th>\n",
              "      <td>25</td>\n",
              "    </tr>\n",
              "    <tr>\n",
              "      <th>Coacalco de Berriozábal</th>\n",
              "      <td>20</td>\n",
              "    </tr>\n",
              "    <tr>\n",
              "      <th>Tecámac</th>\n",
              "      <td>14</td>\n",
              "    </tr>\n",
              "    <tr>\n",
              "      <th>Tultitlán</th>\n",
              "      <td>6</td>\n",
              "    </tr>\n",
              "    <tr>\n",
              "      <th>Chalco</th>\n",
              "      <td>5</td>\n",
              "    </tr>\n",
              "    <tr>\n",
              "      <th>Ixtapaluca</th>\n",
              "      <td>5</td>\n",
              "    </tr>\n",
              "    <tr>\n",
              "      <th>Huixquilucan</th>\n",
              "      <td>4</td>\n",
              "    </tr>\n",
              "    <tr>\n",
              "      <th>Mérida</th>\n",
              "      <td>3</td>\n",
              "    </tr>\n",
              "    <tr>\n",
              "      <th>Atizapán de Zaragoza</th>\n",
              "      <td>2</td>\n",
              "    </tr>\n",
              "    <tr>\n",
              "      <th>La Paz</th>\n",
              "      <td>2</td>\n",
              "    </tr>\n",
              "    <tr>\n",
              "      <th>Querétaro</th>\n",
              "      <td>2</td>\n",
              "    </tr>\n",
              "    <tr>\n",
              "      <th>Tultepec</th>\n",
              "      <td>2</td>\n",
              "    </tr>\n",
              "    <tr>\n",
              "      <th>Ahome</th>\n",
              "      <td>1</td>\n",
              "    </tr>\n",
              "    <tr>\n",
              "      <th>Cuautitlán Izcalli</th>\n",
              "      <td>1</td>\n",
              "    </tr>\n",
              "    <tr>\n",
              "      <th>Tulancingo de Bravo</th>\n",
              "      <td>1</td>\n",
              "    </tr>\n",
              "    <tr>\n",
              "      <th>Valle de Chalco Solidaridad</th>\n",
              "      <td>1</td>\n",
              "    </tr>\n",
              "    <tr>\n",
              "      <th rowspan=\"38\" valign=\"top\">pickup_location</th>\n",
              "      <th>Iztapalapa</th>\n",
              "      <td>1362</td>\n",
              "    </tr>\n",
              "    <tr>\n",
              "      <th>Miguel Hidalgo</th>\n",
              "      <td>1241</td>\n",
              "    </tr>\n",
              "    <tr>\n",
              "      <th>Álvaro Obregón</th>\n",
              "      <td>1026</td>\n",
              "    </tr>\n",
              "    <tr>\n",
              "      <th>Benito Juárez</th>\n",
              "      <td>717</td>\n",
              "    </tr>\n",
              "    <tr>\n",
              "      <th>Cuauhtémoc</th>\n",
              "      <td>508</td>\n",
              "    </tr>\n",
              "    <tr>\n",
              "      <th>Tlalpan</th>\n",
              "      <td>483</td>\n",
              "    </tr>\n",
              "    <tr>\n",
              "      <th>Venustiano Carranza</th>\n",
              "      <td>457</td>\n",
              "    </tr>\n",
              "    <tr>\n",
              "      <th>Gustavo A. Madero</th>\n",
              "      <td>388</td>\n",
              "    </tr>\n",
              "    <tr>\n",
              "      <th>Coyoacán</th>\n",
              "      <td>356</td>\n",
              "    </tr>\n",
              "    <tr>\n",
              "      <th>La Magdalena Contreras</th>\n",
              "      <td>356</td>\n",
              "    </tr>\n",
              "    <tr>\n",
              "      <th>Xochimilco</th>\n",
              "      <td>214</td>\n",
              "    </tr>\n",
              "    <tr>\n",
              "      <th>Azcapotzalco</th>\n",
              "      <td>99</td>\n",
              "    </tr>\n",
              "    <tr>\n",
              "      <th>Ecatepec de Morelos</th>\n",
              "      <td>92</td>\n",
              "    </tr>\n",
              "    <tr>\n",
              "      <th>Cuajimalpa de Morelos</th>\n",
              "      <td>76</td>\n",
              "    </tr>\n",
              "    <tr>\n",
              "      <th>Iztacalco</th>\n",
              "      <td>58</td>\n",
              "    </tr>\n",
              "    <tr>\n",
              "      <th>Tláhuac</th>\n",
              "      <td>47</td>\n",
              "    </tr>\n",
              "    <tr>\n",
              "      <th>Nezahualcóyotl</th>\n",
              "      <td>39</td>\n",
              "    </tr>\n",
              "    <tr>\n",
              "      <th>Milpa Alta</th>\n",
              "      <td>23</td>\n",
              "    </tr>\n",
              "    <tr>\n",
              "      <th>Tlalnepantla de Baz</th>\n",
              "      <td>22</td>\n",
              "    </tr>\n",
              "    <tr>\n",
              "      <th>Coacalco de Berriozábal</th>\n",
              "      <td>18</td>\n",
              "    </tr>\n",
              "    <tr>\n",
              "      <th>Tecámac</th>\n",
              "      <td>13</td>\n",
              "    </tr>\n",
              "    <tr>\n",
              "      <th>Naucalpan de Juárez</th>\n",
              "      <td>7</td>\n",
              "    </tr>\n",
              "    <tr>\n",
              "      <th>Tultitlán</th>\n",
              "      <td>5</td>\n",
              "    </tr>\n",
              "    <tr>\n",
              "      <th>Chalco</th>\n",
              "      <td>4</td>\n",
              "    </tr>\n",
              "    <tr>\n",
              "      <th>Ixtapaluca</th>\n",
              "      <td>3</td>\n",
              "    </tr>\n",
              "    <tr>\n",
              "      <th>Mérida</th>\n",
              "      <td>3</td>\n",
              "    </tr>\n",
              "    <tr>\n",
              "      <th>Atizapán de Zaragoza</th>\n",
              "      <td>2</td>\n",
              "    </tr>\n",
              "    <tr>\n",
              "      <th>La Paz</th>\n",
              "      <td>2</td>\n",
              "    </tr>\n",
              "    <tr>\n",
              "      <th>Querétaro</th>\n",
              "      <td>2</td>\n",
              "    </tr>\n",
              "    <tr>\n",
              "      <th>Valle de Chalco Solidaridad</th>\n",
              "      <td>2</td>\n",
              "    </tr>\n",
              "    <tr>\n",
              "      <th>Acolman</th>\n",
              "      <td>1</td>\n",
              "    </tr>\n",
              "    <tr>\n",
              "      <th>Ahome</th>\n",
              "      <td>1</td>\n",
              "    </tr>\n",
              "    <tr>\n",
              "      <th>Chimalhuacán</th>\n",
              "      <td>1</td>\n",
              "    </tr>\n",
              "    <tr>\n",
              "      <th>Cuautitlán</th>\n",
              "      <td>1</td>\n",
              "    </tr>\n",
              "    <tr>\n",
              "      <th>Cuautitlán Izcalli</th>\n",
              "      <td>1</td>\n",
              "    </tr>\n",
              "    <tr>\n",
              "      <th>Huixquilucan</th>\n",
              "      <td>1</td>\n",
              "    </tr>\n",
              "    <tr>\n",
              "      <th>Tulancingo de Bravo</th>\n",
              "      <td>1</td>\n",
              "    </tr>\n",
              "    <tr>\n",
              "      <th>Tultepec</th>\n",
              "      <td>1</td>\n",
              "    </tr>\n",
              "  </tbody>\n",
              "</table>\n",
              "</div>"
            ],
            "text/plain": [
              "                                              conteo\n",
              "variable         value                              \n",
              "dropoff_location Iztapalapa                     1084\n",
              "                 Miguel Hidalgo                 1018\n",
              "                 Álvaro Obregón                  995\n",
              "                 Cuauhtémoc                      730\n",
              "                 Benito Juárez                   658\n",
              "                 Tlalpan                         487\n",
              "                 Coyoacán                        409\n",
              "                 Gustavo A. Madero               358\n",
              "                 La Magdalena Contreras          346\n",
              "                 Tláhuac                         287\n",
              "                 Azcapotzalco                    277\n",
              "                 Venustiano Carranza             242\n",
              "                 Xochimilco                      229\n",
              "                 Iztacalco                       129\n",
              "                 Cuajimalpa de Morelos           101\n",
              "                 Ecatepec de Morelos              86\n",
              "                 Nezahualcóyotl                   53\n",
              "                 Milpa Alta                       25\n",
              "                 Naucalpan de Juárez              25\n",
              "                 Tlalnepantla de Baz              25\n",
              "                 Coacalco de Berriozábal          20\n",
              "                 Tecámac                          14\n",
              "                 Tultitlán                         6\n",
              "                 Chalco                            5\n",
              "                 Ixtapaluca                        5\n",
              "                 Huixquilucan                      4\n",
              "                 Mérida                            3\n",
              "                 Atizapán de Zaragoza              2\n",
              "                 La Paz                            2\n",
              "                 Querétaro                         2\n",
              "                 Tultepec                          2\n",
              "                 Ahome                             1\n",
              "                 Cuautitlán Izcalli                1\n",
              "                 Tulancingo de Bravo               1\n",
              "                 Valle de Chalco Solidaridad       1\n",
              "pickup_location  Iztapalapa                     1362\n",
              "                 Miguel Hidalgo                 1241\n",
              "                 Álvaro Obregón                 1026\n",
              "                 Benito Juárez                   717\n",
              "                 Cuauhtémoc                      508\n",
              "                 Tlalpan                         483\n",
              "                 Venustiano Carranza             457\n",
              "                 Gustavo A. Madero               388\n",
              "                 Coyoacán                        356\n",
              "                 La Magdalena Contreras          356\n",
              "                 Xochimilco                      214\n",
              "                 Azcapotzalco                     99\n",
              "                 Ecatepec de Morelos              92\n",
              "                 Cuajimalpa de Morelos            76\n",
              "                 Iztacalco                        58\n",
              "                 Tláhuac                          47\n",
              "                 Nezahualcóyotl                   39\n",
              "                 Milpa Alta                       23\n",
              "                 Tlalnepantla de Baz              22\n",
              "                 Coacalco de Berriozábal          18\n",
              "                 Tecámac                          13\n",
              "                 Naucalpan de Juárez               7\n",
              "                 Tultitlán                         5\n",
              "                 Chalco                            4\n",
              "                 Ixtapaluca                        3\n",
              "                 Mérida                            3\n",
              "                 Atizapán de Zaragoza              2\n",
              "                 La Paz                            2\n",
              "                 Querétaro                         2\n",
              "                 Valle de Chalco Solidaridad       2\n",
              "                 Acolman                           1\n",
              "                 Ahome                             1\n",
              "                 Chimalhuacán                      1\n",
              "                 Cuautitlán                        1\n",
              "                 Cuautitlán Izcalli                1\n",
              "                 Huixquilucan                      1\n",
              "                 Tulancingo de Bravo               1\n",
              "                 Tultepec                          1"
            ]
          },
          "metadata": {
            "tags": []
          },
          "execution_count": 272
        }
      ]
    },
    {
      "cell_type": "markdown",
      "metadata": {
        "id": "Xaf_dhhyIU2R"
      },
      "source": [
        "### Tiempo de espera la misma alcaldia"
      ]
    },
    {
      "cell_type": "code",
      "metadata": {
        "colab": {
          "base_uri": "https://localhost:8080/",
          "height": 286
        },
        "id": "pIeALHQC-kNe",
        "outputId": "bb19c363-52e9-4470-ee67-99fd7fdbda6d"
      },
      "source": [
        "mun_wait = mun[['pickup_location','pickup_longitude','pickup_latitude','dropoff_location','dropoff_longitude','dropoff_latitude','wait_sec']]\r\n",
        "mun_wait.head()"
      ],
      "execution_count": null,
      "outputs": [
        {
          "output_type": "execute_result",
          "data": {
            "text/html": [
              "<div>\n",
              "<style scoped>\n",
              "    .dataframe tbody tr th:only-of-type {\n",
              "        vertical-align: middle;\n",
              "    }\n",
              "\n",
              "    .dataframe tbody tr th {\n",
              "        vertical-align: top;\n",
              "    }\n",
              "\n",
              "    .dataframe thead th {\n",
              "        text-align: right;\n",
              "    }\n",
              "</style>\n",
              "<table border=\"1\" class=\"dataframe\">\n",
              "  <thead>\n",
              "    <tr style=\"text-align: right;\">\n",
              "      <th></th>\n",
              "      <th>pickup_location</th>\n",
              "      <th>pickup_longitude</th>\n",
              "      <th>pickup_latitude</th>\n",
              "      <th>dropoff_location</th>\n",
              "      <th>dropoff_longitude</th>\n",
              "      <th>dropoff_latitude</th>\n",
              "      <th>wait_sec</th>\n",
              "    </tr>\n",
              "    <tr>\n",
              "      <th>id</th>\n",
              "      <th></th>\n",
              "      <th></th>\n",
              "      <th></th>\n",
              "      <th></th>\n",
              "      <th></th>\n",
              "      <th></th>\n",
              "      <th></th>\n",
              "    </tr>\n",
              "  </thead>\n",
              "  <tbody>\n",
              "    <tr>\n",
              "      <th>3</th>\n",
              "      <td>Cuajimalpa de Morelos</td>\n",
              "      <td>-99.289603</td>\n",
              "      <td>19.326263</td>\n",
              "      <td>Álvaro Obregón</td>\n",
              "      <td>-99.271874</td>\n",
              "      <td>19.328530</td>\n",
              "      <td>129</td>\n",
              "    </tr>\n",
              "    <tr>\n",
              "      <th>4</th>\n",
              "      <td>Álvaro Obregón</td>\n",
              "      <td>-99.271161</td>\n",
              "      <td>19.328875</td>\n",
              "      <td>Álvaro Obregón</td>\n",
              "      <td>-99.279900</td>\n",
              "      <td>19.326256</td>\n",
              "      <td>106</td>\n",
              "    </tr>\n",
              "    <tr>\n",
              "      <th>5</th>\n",
              "      <td>Álvaro Obregón</td>\n",
              "      <td>-99.282761</td>\n",
              "      <td>19.326944</td>\n",
              "      <td>Cuajimalpa de Morelos</td>\n",
              "      <td>-99.291705</td>\n",
              "      <td>19.322754</td>\n",
              "      <td>85</td>\n",
              "    </tr>\n",
              "    <tr>\n",
              "      <th>6</th>\n",
              "      <td>Cuajimalpa de Morelos</td>\n",
              "      <td>-99.289712</td>\n",
              "      <td>19.322929</td>\n",
              "      <td>Cuajimalpa de Morelos</td>\n",
              "      <td>-99.289280</td>\n",
              "      <td>19.325978</td>\n",
              "      <td>19</td>\n",
              "    </tr>\n",
              "    <tr>\n",
              "      <th>7</th>\n",
              "      <td>Álvaro Obregón</td>\n",
              "      <td>-99.285391</td>\n",
              "      <td>19.326247</td>\n",
              "      <td>Álvaro Obregón</td>\n",
              "      <td>-99.282549</td>\n",
              "      <td>19.328117</td>\n",
              "      <td>169</td>\n",
              "    </tr>\n",
              "  </tbody>\n",
              "</table>\n",
              "</div>"
            ],
            "text/plain": [
              "          pickup_location  pickup_longitude  ...  dropoff_latitude wait_sec\n",
              "id                                           ...                           \n",
              "3   Cuajimalpa de Morelos        -99.289603  ...         19.328530      129\n",
              "4          Álvaro Obregón        -99.271161  ...         19.326256      106\n",
              "5          Álvaro Obregón        -99.282761  ...         19.322754       85\n",
              "6   Cuajimalpa de Morelos        -99.289712  ...         19.325978       19\n",
              "7          Álvaro Obregón        -99.285391  ...         19.328117      169\n",
              "\n",
              "[5 rows x 7 columns]"
            ]
          },
          "metadata": {
            "tags": []
          },
          "execution_count": 273
        }
      ]
    },
    {
      "cell_type": "code",
      "metadata": {
        "id": "HHPin2NaIfyJ",
        "colab": {
          "base_uri": "https://localhost:8080/"
        },
        "outputId": "b878d40e-03b2-45db-f05b-0e2bb060f6b0"
      },
      "source": [
        "mun_wait.shape"
      ],
      "execution_count": null,
      "outputs": [
        {
          "output_type": "execute_result",
          "data": {
            "text/plain": [
              "(7633, 7)"
            ]
          },
          "metadata": {
            "tags": []
          },
          "execution_count": 274
        }
      ]
    },
    {
      "cell_type": "code",
      "metadata": {
        "id": "ENACjYOVIb9M",
        "colab": {
          "base_uri": "https://localhost:8080/",
          "height": 269
        },
        "outputId": "9ef979ce-34d6-4a4b-b075-b90c94b8b825"
      },
      "source": [
        "mun_same = mun_wait[mun_wait['pickup_location'] == mun_wait['dropoff_location']]\r\n",
        "mun_same.head()"
      ],
      "execution_count": null,
      "outputs": [
        {
          "output_type": "execute_result",
          "data": {
            "text/html": [
              "<div>\n",
              "<style scoped>\n",
              "    .dataframe tbody tr th:only-of-type {\n",
              "        vertical-align: middle;\n",
              "    }\n",
              "\n",
              "    .dataframe tbody tr th {\n",
              "        vertical-align: top;\n",
              "    }\n",
              "\n",
              "    .dataframe thead th {\n",
              "        text-align: right;\n",
              "    }\n",
              "</style>\n",
              "<table border=\"1\" class=\"dataframe\">\n",
              "  <thead>\n",
              "    <tr style=\"text-align: right;\">\n",
              "      <th></th>\n",
              "      <th>pickup_location</th>\n",
              "      <th>pickup_longitude</th>\n",
              "      <th>pickup_latitude</th>\n",
              "      <th>dropoff_location</th>\n",
              "      <th>dropoff_longitude</th>\n",
              "      <th>dropoff_latitude</th>\n",
              "      <th>wait_sec</th>\n",
              "    </tr>\n",
              "    <tr>\n",
              "      <th>id</th>\n",
              "      <th></th>\n",
              "      <th></th>\n",
              "      <th></th>\n",
              "      <th></th>\n",
              "      <th></th>\n",
              "      <th></th>\n",
              "      <th></th>\n",
              "    </tr>\n",
              "  </thead>\n",
              "  <tbody>\n",
              "    <tr>\n",
              "      <th>4</th>\n",
              "      <td>Álvaro Obregón</td>\n",
              "      <td>-99.271161</td>\n",
              "      <td>19.328875</td>\n",
              "      <td>Álvaro Obregón</td>\n",
              "      <td>-99.279900</td>\n",
              "      <td>19.326256</td>\n",
              "      <td>106</td>\n",
              "    </tr>\n",
              "    <tr>\n",
              "      <th>6</th>\n",
              "      <td>Cuajimalpa de Morelos</td>\n",
              "      <td>-99.289712</td>\n",
              "      <td>19.322929</td>\n",
              "      <td>Cuajimalpa de Morelos</td>\n",
              "      <td>-99.289280</td>\n",
              "      <td>19.325978</td>\n",
              "      <td>19</td>\n",
              "    </tr>\n",
              "    <tr>\n",
              "      <th>7</th>\n",
              "      <td>Álvaro Obregón</td>\n",
              "      <td>-99.285391</td>\n",
              "      <td>19.326247</td>\n",
              "      <td>Álvaro Obregón</td>\n",
              "      <td>-99.282549</td>\n",
              "      <td>19.328117</td>\n",
              "      <td>169</td>\n",
              "    </tr>\n",
              "    <tr>\n",
              "      <th>12</th>\n",
              "      <td>Cuajimalpa de Morelos</td>\n",
              "      <td>-99.290340</td>\n",
              "      <td>19.331214</td>\n",
              "      <td>Cuajimalpa de Morelos</td>\n",
              "      <td>-99.294896</td>\n",
              "      <td>19.320687</td>\n",
              "      <td>33</td>\n",
              "    </tr>\n",
              "    <tr>\n",
              "      <th>13</th>\n",
              "      <td>Miguel Hidalgo</td>\n",
              "      <td>-99.179629</td>\n",
              "      <td>19.438589</td>\n",
              "      <td>Miguel Hidalgo</td>\n",
              "      <td>-99.179107</td>\n",
              "      <td>19.438777</td>\n",
              "      <td>181</td>\n",
              "    </tr>\n",
              "  </tbody>\n",
              "</table>\n",
              "</div>"
            ],
            "text/plain": [
              "          pickup_location  pickup_longitude  ...  dropoff_latitude wait_sec\n",
              "id                                           ...                           \n",
              "4          Álvaro Obregón        -99.271161  ...         19.326256      106\n",
              "6   Cuajimalpa de Morelos        -99.289712  ...         19.325978       19\n",
              "7          Álvaro Obregón        -99.285391  ...         19.328117      169\n",
              "12  Cuajimalpa de Morelos        -99.290340  ...         19.320687       33\n",
              "13         Miguel Hidalgo        -99.179629  ...         19.438777      181\n",
              "\n",
              "[5 rows x 7 columns]"
            ]
          },
          "metadata": {
            "tags": []
          },
          "execution_count": 275
        }
      ]
    },
    {
      "cell_type": "code",
      "metadata": {
        "id": "m4hEVGedIkEA",
        "colab": {
          "base_uri": "https://localhost:8080/"
        },
        "outputId": "0bb6f98c-1524-43e6-b38f-a5a7d9bc0ce2"
      },
      "source": [
        "mun_same.shape"
      ],
      "execution_count": null,
      "outputs": [
        {
          "output_type": "execute_result",
          "data": {
            "text/plain": [
              "(4808, 7)"
            ]
          },
          "metadata": {
            "tags": []
          },
          "execution_count": 276
        }
      ]
    },
    {
      "cell_type": "code",
      "metadata": {
        "id": "IBP93Fwjf5L7"
      },
      "source": [
        "viajes_mean_wait_sec = mun_same.groupby('pickup_location')['wait_sec'].agg(['mean']).sort_values('pickup_location')\r\n",
        "viajes_misma_locacion = pd.DataFrame(mun_same.value_counts('pickup_location').rename('conteo')).sort_values('pickup_location')"
      ],
      "execution_count": null,
      "outputs": []
    },
    {
      "cell_type": "markdown",
      "metadata": {
        "id": "Qk_u8QTeke0W"
      },
      "source": [
        "Tiempo de espera promedio dentro de la misma localidad "
      ]
    },
    {
      "cell_type": "code",
      "metadata": {
        "colab": {
          "base_uri": "https://localhost:8080/",
          "height": 731
        },
        "id": "VA6UrIn0jpY6",
        "outputId": "fde1d900-97c7-460f-a800-98a198d0f8bc"
      },
      "source": [
        "viajes_mean_wait_sec['conteo'] = viajes_misma_locacion\r\n",
        "viajes_mean_wait_sec_2 = viajes_mean_wait_sec.rename(columns={'mean':'tiempo_de_espera_promedio_sec'})\r\n",
        "viajes_mean_wait_sec_2 = viajes_mean_wait_sec_2.sort_values('tiempo_de_espera_promedio_sec', ascending=False)\r\n",
        "viajes_mean_wait_sec_2[viajes_mean_wait_sec_2['conteo'] > 4]"
      ],
      "execution_count": null,
      "outputs": [
        {
          "output_type": "execute_result",
          "data": {
            "text/html": [
              "<div>\n",
              "<style scoped>\n",
              "    .dataframe tbody tr th:only-of-type {\n",
              "        vertical-align: middle;\n",
              "    }\n",
              "\n",
              "    .dataframe tbody tr th {\n",
              "        vertical-align: top;\n",
              "    }\n",
              "\n",
              "    .dataframe thead th {\n",
              "        text-align: right;\n",
              "    }\n",
              "</style>\n",
              "<table border=\"1\" class=\"dataframe\">\n",
              "  <thead>\n",
              "    <tr style=\"text-align: right;\">\n",
              "      <th></th>\n",
              "      <th>tiempo_de_espera_promedio_sec</th>\n",
              "      <th>conteo</th>\n",
              "    </tr>\n",
              "    <tr>\n",
              "      <th>pickup_location</th>\n",
              "      <th></th>\n",
              "      <th></th>\n",
              "    </tr>\n",
              "  </thead>\n",
              "  <tbody>\n",
              "    <tr>\n",
              "      <th>Benito Juárez</th>\n",
              "      <td>333.196581</td>\n",
              "      <td>351</td>\n",
              "    </tr>\n",
              "    <tr>\n",
              "      <th>Cuauhtémoc</th>\n",
              "      <td>277.897436</td>\n",
              "      <td>273</td>\n",
              "    </tr>\n",
              "    <tr>\n",
              "      <th>Azcapotzalco</th>\n",
              "      <td>277.759259</td>\n",
              "      <td>54</td>\n",
              "    </tr>\n",
              "    <tr>\n",
              "      <th>Coyoacán</th>\n",
              "      <td>252.660494</td>\n",
              "      <td>162</td>\n",
              "    </tr>\n",
              "    <tr>\n",
              "      <th>Miguel Hidalgo</th>\n",
              "      <td>246.290012</td>\n",
              "      <td>831</td>\n",
              "    </tr>\n",
              "    <tr>\n",
              "      <th>Iztacalco</th>\n",
              "      <td>242.217391</td>\n",
              "      <td>23</td>\n",
              "    </tr>\n",
              "    <tr>\n",
              "      <th>Venustiano Carranza</th>\n",
              "      <td>236.719178</td>\n",
              "      <td>146</td>\n",
              "    </tr>\n",
              "    <tr>\n",
              "      <th>Tlalnepantla de Baz</th>\n",
              "      <td>231.700000</td>\n",
              "      <td>10</td>\n",
              "    </tr>\n",
              "    <tr>\n",
              "      <th>La Magdalena Contreras</th>\n",
              "      <td>221.992308</td>\n",
              "      <td>260</td>\n",
              "    </tr>\n",
              "    <tr>\n",
              "      <th>Álvaro Obregón</th>\n",
              "      <td>213.222720</td>\n",
              "      <td>669</td>\n",
              "    </tr>\n",
              "    <tr>\n",
              "      <th>Iztapalapa</th>\n",
              "      <td>209.826132</td>\n",
              "      <td>972</td>\n",
              "    </tr>\n",
              "    <tr>\n",
              "      <th>Tlalpan</th>\n",
              "      <td>205.024316</td>\n",
              "      <td>329</td>\n",
              "    </tr>\n",
              "    <tr>\n",
              "      <th>Gustavo A. Madero</th>\n",
              "      <td>200.484099</td>\n",
              "      <td>283</td>\n",
              "    </tr>\n",
              "    <tr>\n",
              "      <th>Tláhuac</th>\n",
              "      <td>193.600000</td>\n",
              "      <td>30</td>\n",
              "    </tr>\n",
              "    <tr>\n",
              "      <th>Xochimilco</th>\n",
              "      <td>182.370166</td>\n",
              "      <td>181</td>\n",
              "    </tr>\n",
              "    <tr>\n",
              "      <th>Cuajimalpa de Morelos</th>\n",
              "      <td>171.017241</td>\n",
              "      <td>58</td>\n",
              "    </tr>\n",
              "    <tr>\n",
              "      <th>Ecatepec de Morelos</th>\n",
              "      <td>142.300000</td>\n",
              "      <td>80</td>\n",
              "    </tr>\n",
              "    <tr>\n",
              "      <th>Coacalco de Berriozábal</th>\n",
              "      <td>136.176471</td>\n",
              "      <td>17</td>\n",
              "    </tr>\n",
              "    <tr>\n",
              "      <th>Tecámac</th>\n",
              "      <td>135.727273</td>\n",
              "      <td>11</td>\n",
              "    </tr>\n",
              "    <tr>\n",
              "      <th>Nezahualcóyotl</th>\n",
              "      <td>125.520000</td>\n",
              "      <td>25</td>\n",
              "    </tr>\n",
              "    <tr>\n",
              "      <th>Milpa Alta</th>\n",
              "      <td>117.809524</td>\n",
              "      <td>21</td>\n",
              "    </tr>\n",
              "  </tbody>\n",
              "</table>\n",
              "</div>"
            ],
            "text/plain": [
              "                         tiempo_de_espera_promedio_sec  conteo\n",
              "pickup_location                                               \n",
              "Benito Juárez                               333.196581     351\n",
              "Cuauhtémoc                                  277.897436     273\n",
              "Azcapotzalco                                277.759259      54\n",
              "Coyoacán                                    252.660494     162\n",
              "Miguel Hidalgo                              246.290012     831\n",
              "Iztacalco                                   242.217391      23\n",
              "Venustiano Carranza                         236.719178     146\n",
              "Tlalnepantla de Baz                         231.700000      10\n",
              "La Magdalena Contreras                      221.992308     260\n",
              "Álvaro Obregón                              213.222720     669\n",
              "Iztapalapa                                  209.826132     972\n",
              "Tlalpan                                     205.024316     329\n",
              "Gustavo A. Madero                           200.484099     283\n",
              "Tláhuac                                     193.600000      30\n",
              "Xochimilco                                  182.370166     181\n",
              "Cuajimalpa de Morelos                       171.017241      58\n",
              "Ecatepec de Morelos                         142.300000      80\n",
              "Coacalco de Berriozábal                     136.176471      17\n",
              "Tecámac                                     135.727273      11\n",
              "Nezahualcóyotl                              125.520000      25\n",
              "Milpa Alta                                  117.809524      21"
            ]
          },
          "metadata": {
            "tags": []
          },
          "execution_count": 278
        }
      ]
    },
    {
      "cell_type": "markdown",
      "metadata": {
        "id": "cLaPKZi8mbRZ"
      },
      "source": [
        "Mayor cantidad de viajes dentro de la misma localidad"
      ]
    },
    {
      "cell_type": "code",
      "metadata": {
        "colab": {
          "base_uri": "https://localhost:8080/",
          "height": 1000
        },
        "id": "uFsSt9flmY_k",
        "outputId": "3500923b-0ea8-499f-c6e0-8b39dfa35b52"
      },
      "source": [
        "viajes_mean_wait_sec_2.sort_values('conteo', ascending=False)"
      ],
      "execution_count": null,
      "outputs": [
        {
          "output_type": "execute_result",
          "data": {
            "text/html": [
              "<div>\n",
              "<style scoped>\n",
              "    .dataframe tbody tr th:only-of-type {\n",
              "        vertical-align: middle;\n",
              "    }\n",
              "\n",
              "    .dataframe tbody tr th {\n",
              "        vertical-align: top;\n",
              "    }\n",
              "\n",
              "    .dataframe thead th {\n",
              "        text-align: right;\n",
              "    }\n",
              "</style>\n",
              "<table border=\"1\" class=\"dataframe\">\n",
              "  <thead>\n",
              "    <tr style=\"text-align: right;\">\n",
              "      <th></th>\n",
              "      <th>tiempo_de_espera_promedio_sec</th>\n",
              "      <th>conteo</th>\n",
              "    </tr>\n",
              "    <tr>\n",
              "      <th>pickup_location</th>\n",
              "      <th></th>\n",
              "      <th></th>\n",
              "    </tr>\n",
              "  </thead>\n",
              "  <tbody>\n",
              "    <tr>\n",
              "      <th>Iztapalapa</th>\n",
              "      <td>209.826132</td>\n",
              "      <td>972</td>\n",
              "    </tr>\n",
              "    <tr>\n",
              "      <th>Miguel Hidalgo</th>\n",
              "      <td>246.290012</td>\n",
              "      <td>831</td>\n",
              "    </tr>\n",
              "    <tr>\n",
              "      <th>Álvaro Obregón</th>\n",
              "      <td>213.222720</td>\n",
              "      <td>669</td>\n",
              "    </tr>\n",
              "    <tr>\n",
              "      <th>Benito Juárez</th>\n",
              "      <td>333.196581</td>\n",
              "      <td>351</td>\n",
              "    </tr>\n",
              "    <tr>\n",
              "      <th>Tlalpan</th>\n",
              "      <td>205.024316</td>\n",
              "      <td>329</td>\n",
              "    </tr>\n",
              "    <tr>\n",
              "      <th>Gustavo A. Madero</th>\n",
              "      <td>200.484099</td>\n",
              "      <td>283</td>\n",
              "    </tr>\n",
              "    <tr>\n",
              "      <th>Cuauhtémoc</th>\n",
              "      <td>277.897436</td>\n",
              "      <td>273</td>\n",
              "    </tr>\n",
              "    <tr>\n",
              "      <th>La Magdalena Contreras</th>\n",
              "      <td>221.992308</td>\n",
              "      <td>260</td>\n",
              "    </tr>\n",
              "    <tr>\n",
              "      <th>Xochimilco</th>\n",
              "      <td>182.370166</td>\n",
              "      <td>181</td>\n",
              "    </tr>\n",
              "    <tr>\n",
              "      <th>Coyoacán</th>\n",
              "      <td>252.660494</td>\n",
              "      <td>162</td>\n",
              "    </tr>\n",
              "    <tr>\n",
              "      <th>Venustiano Carranza</th>\n",
              "      <td>236.719178</td>\n",
              "      <td>146</td>\n",
              "    </tr>\n",
              "    <tr>\n",
              "      <th>Ecatepec de Morelos</th>\n",
              "      <td>142.300000</td>\n",
              "      <td>80</td>\n",
              "    </tr>\n",
              "    <tr>\n",
              "      <th>Cuajimalpa de Morelos</th>\n",
              "      <td>171.017241</td>\n",
              "      <td>58</td>\n",
              "    </tr>\n",
              "    <tr>\n",
              "      <th>Azcapotzalco</th>\n",
              "      <td>277.759259</td>\n",
              "      <td>54</td>\n",
              "    </tr>\n",
              "    <tr>\n",
              "      <th>Tláhuac</th>\n",
              "      <td>193.600000</td>\n",
              "      <td>30</td>\n",
              "    </tr>\n",
              "    <tr>\n",
              "      <th>Nezahualcóyotl</th>\n",
              "      <td>125.520000</td>\n",
              "      <td>25</td>\n",
              "    </tr>\n",
              "    <tr>\n",
              "      <th>Iztacalco</th>\n",
              "      <td>242.217391</td>\n",
              "      <td>23</td>\n",
              "    </tr>\n",
              "    <tr>\n",
              "      <th>Milpa Alta</th>\n",
              "      <td>117.809524</td>\n",
              "      <td>21</td>\n",
              "    </tr>\n",
              "    <tr>\n",
              "      <th>Coacalco de Berriozábal</th>\n",
              "      <td>136.176471</td>\n",
              "      <td>17</td>\n",
              "    </tr>\n",
              "    <tr>\n",
              "      <th>Tecámac</th>\n",
              "      <td>135.727273</td>\n",
              "      <td>11</td>\n",
              "    </tr>\n",
              "    <tr>\n",
              "      <th>Tlalnepantla de Baz</th>\n",
              "      <td>231.700000</td>\n",
              "      <td>10</td>\n",
              "    </tr>\n",
              "    <tr>\n",
              "      <th>Tultitlán</th>\n",
              "      <td>21.750000</td>\n",
              "      <td>4</td>\n",
              "    </tr>\n",
              "    <tr>\n",
              "      <th>Ixtapaluca</th>\n",
              "      <td>447.333333</td>\n",
              "      <td>3</td>\n",
              "    </tr>\n",
              "    <tr>\n",
              "      <th>Chalco</th>\n",
              "      <td>103.000000</td>\n",
              "      <td>3</td>\n",
              "    </tr>\n",
              "    <tr>\n",
              "      <th>Mérida</th>\n",
              "      <td>160.000000</td>\n",
              "      <td>3</td>\n",
              "    </tr>\n",
              "    <tr>\n",
              "      <th>Querétaro</th>\n",
              "      <td>56.000000</td>\n",
              "      <td>2</td>\n",
              "    </tr>\n",
              "    <tr>\n",
              "      <th>Valle de Chalco Solidaridad</th>\n",
              "      <td>10.000000</td>\n",
              "      <td>1</td>\n",
              "    </tr>\n",
              "    <tr>\n",
              "      <th>Tultepec</th>\n",
              "      <td>503.000000</td>\n",
              "      <td>1</td>\n",
              "    </tr>\n",
              "    <tr>\n",
              "      <th>Atizapán de Zaragoza</th>\n",
              "      <td>103.000000</td>\n",
              "      <td>1</td>\n",
              "    </tr>\n",
              "    <tr>\n",
              "      <th>Cuautitlán Izcalli</th>\n",
              "      <td>222.000000</td>\n",
              "      <td>1</td>\n",
              "    </tr>\n",
              "    <tr>\n",
              "      <th>Tulancingo de Bravo</th>\n",
              "      <td>401.000000</td>\n",
              "      <td>1</td>\n",
              "    </tr>\n",
              "    <tr>\n",
              "      <th>La Paz</th>\n",
              "      <td>444.000000</td>\n",
              "      <td>1</td>\n",
              "    </tr>\n",
              "    <tr>\n",
              "      <th>Ahome</th>\n",
              "      <td>0.000000</td>\n",
              "      <td>1</td>\n",
              "    </tr>\n",
              "  </tbody>\n",
              "</table>\n",
              "</div>"
            ],
            "text/plain": [
              "                             tiempo_de_espera_promedio_sec  conteo\n",
              "pickup_location                                                   \n",
              "Iztapalapa                                      209.826132     972\n",
              "Miguel Hidalgo                                  246.290012     831\n",
              "Álvaro Obregón                                  213.222720     669\n",
              "Benito Juárez                                   333.196581     351\n",
              "Tlalpan                                         205.024316     329\n",
              "Gustavo A. Madero                               200.484099     283\n",
              "Cuauhtémoc                                      277.897436     273\n",
              "La Magdalena Contreras                          221.992308     260\n",
              "Xochimilco                                      182.370166     181\n",
              "Coyoacán                                        252.660494     162\n",
              "Venustiano Carranza                             236.719178     146\n",
              "Ecatepec de Morelos                             142.300000      80\n",
              "Cuajimalpa de Morelos                           171.017241      58\n",
              "Azcapotzalco                                    277.759259      54\n",
              "Tláhuac                                         193.600000      30\n",
              "Nezahualcóyotl                                  125.520000      25\n",
              "Iztacalco                                       242.217391      23\n",
              "Milpa Alta                                      117.809524      21\n",
              "Coacalco de Berriozábal                         136.176471      17\n",
              "Tecámac                                         135.727273      11\n",
              "Tlalnepantla de Baz                             231.700000      10\n",
              "Tultitlán                                        21.750000       4\n",
              "Ixtapaluca                                      447.333333       3\n",
              "Chalco                                          103.000000       3\n",
              "Mérida                                          160.000000       3\n",
              "Querétaro                                        56.000000       2\n",
              "Valle de Chalco Solidaridad                      10.000000       1\n",
              "Tultepec                                        503.000000       1\n",
              "Atizapán de Zaragoza                            103.000000       1\n",
              "Cuautitlán Izcalli                              222.000000       1\n",
              "Tulancingo de Bravo                             401.000000       1\n",
              "La Paz                                          444.000000       1\n",
              "Ahome                                             0.000000       1"
            ]
          },
          "metadata": {
            "tags": []
          },
          "execution_count": 279
        }
      ]
    },
    {
      "cell_type": "code",
      "metadata": {
        "id": "qfuVUtnfpPNL"
      },
      "source": [
        "### Mi función summary\r\n",
        "def summary_taxis(nombre):\r\n",
        "  minimo = all_taxis[nombre].min()\r\n",
        "  Q1 = all_taxis[nombre].quantile(0.25)\r\n",
        "  median = all_taxis[nombre].median()\r\n",
        "  mean = all_taxis[nombre].mean()\r\n",
        "  Q2 = all_taxis[nombre].quantile(0.5)\r\n",
        "  Q3 = all_taxis[nombre].quantile(0.75)\r\n",
        "  maximo = all_taxis[nombre].max()\r\n",
        "  IQR = Q3 - Q1\r\n",
        "  resumen = {'minimo': minimo, 'Q1': Q1, 'mediana':median,'Q2':Q2,'Q3':Q3,'max':maximo,'IQR':IQR, 'mean':mean}\r\n",
        "  return resumen"
      ],
      "execution_count": null,
      "outputs": []
    },
    {
      "cell_type": "code",
      "metadata": {
        "id": "94e289Ygpthd"
      },
      "source": [
        "### Mi función summary\r\n",
        "def summary_uber(nombre):\r\n",
        "  minimo = all_uber[nombre].min()\r\n",
        "  Q1 = all_uber[nombre].quantile(0.25)\r\n",
        "  median = all_uber[nombre].median()\r\n",
        "  mean = all_uber[nombre].mean()\r\n",
        "  Q2 = all_uber[nombre].quantile(0.5)\r\n",
        "  Q3 = all_uber[nombre].quantile(0.75)\r\n",
        "  maximo = all_uber[nombre].max()\r\n",
        "  IQR = Q3 - Q1\r\n",
        "  resumen = {'minimo': minimo, 'Q1': Q1, 'mediana':median,'Q2':Q2,'Q3':Q3,'max':maximo,'IQR':IQR, 'mean':mean}\r\n",
        "  return resumen"
      ],
      "execution_count": null,
      "outputs": []
    },
    {
      "cell_type": "markdown",
      "metadata": {
        "id": "WSyD0jhvkVLW"
      },
      "source": [
        "### Viajes solo por Taxis"
      ]
    },
    {
      "cell_type": "code",
      "metadata": {
        "colab": {
          "base_uri": "https://localhost:8080/",
          "height": 374
        },
        "id": "ZsQbX0vNkhHG",
        "outputId": "3e20a5d1-ec21-4b76-a983-650ef12dd7bb"
      },
      "source": [
        "all_taxis = mun[mun['tipo_transporte'].str.startswith('R')+mun['tipo_transporte'].str.startswith('T')]\r\n",
        "all_taxis.head()"
      ],
      "execution_count": null,
      "outputs": [
        {
          "output_type": "stream",
          "text": [
            "/usr/local/lib/python3.7/dist-packages/pandas/core/computation/expressions.py:204: UserWarning: evaluating in Python space because the '+' operator is not supported by numexpr for the bool dtype, use '|' instead\n",
            "  f\"evaluating in Python space because the {repr(op_str)} \"\n"
          ],
          "name": "stderr"
        },
        {
          "output_type": "execute_result",
          "data": {
            "text/html": [
              "<div>\n",
              "<style scoped>\n",
              "    .dataframe tbody tr th:only-of-type {\n",
              "        vertical-align: middle;\n",
              "    }\n",
              "\n",
              "    .dataframe tbody tr th {\n",
              "        vertical-align: top;\n",
              "    }\n",
              "\n",
              "    .dataframe thead th {\n",
              "        text-align: right;\n",
              "    }\n",
              "</style>\n",
              "<table border=\"1\" class=\"dataframe\">\n",
              "  <thead>\n",
              "    <tr style=\"text-align: right;\">\n",
              "      <th></th>\n",
              "      <th>tipo_transporte</th>\n",
              "      <th>pickup_datetime</th>\n",
              "      <th>dropoff_datetime</th>\n",
              "      <th>pickup_longitude</th>\n",
              "      <th>pickup_latitude</th>\n",
              "      <th>dropoff_longitude</th>\n",
              "      <th>dropoff_latitude</th>\n",
              "      <th>trip_duration</th>\n",
              "      <th>dist_meters</th>\n",
              "      <th>wait_sec</th>\n",
              "      <th>dist_km</th>\n",
              "      <th>speed_km</th>\n",
              "      <th>pickup_location</th>\n",
              "      <th>dropoff_location</th>\n",
              "      <th>banderazo</th>\n",
              "      <th>tarifa_dist</th>\n",
              "      <th>tarifa_tiempo</th>\n",
              "      <th>tarifa_min</th>\n",
              "      <th>costo_viaje_sin_min</th>\n",
              "      <th>costo_viaje_sobre_min</th>\n",
              "      <th>viaje</th>\n",
              "    </tr>\n",
              "    <tr>\n",
              "      <th>id</th>\n",
              "      <th></th>\n",
              "      <th></th>\n",
              "      <th></th>\n",
              "      <th></th>\n",
              "      <th></th>\n",
              "      <th></th>\n",
              "      <th></th>\n",
              "      <th></th>\n",
              "      <th></th>\n",
              "      <th></th>\n",
              "      <th></th>\n",
              "      <th></th>\n",
              "      <th></th>\n",
              "      <th></th>\n",
              "      <th></th>\n",
              "      <th></th>\n",
              "      <th></th>\n",
              "      <th></th>\n",
              "      <th></th>\n",
              "      <th></th>\n",
              "      <th></th>\n",
              "    </tr>\n",
              "  </thead>\n",
              "  <tbody>\n",
              "    <tr>\n",
              "      <th>3</th>\n",
              "      <td>Taxi Libre</td>\n",
              "      <td>2016-09-18 10:11:50</td>\n",
              "      <td>2016-09-18 10:23:11</td>\n",
              "      <td>-99.289603</td>\n",
              "      <td>19.326263</td>\n",
              "      <td>-99.271874</td>\n",
              "      <td>19.328530</td>\n",
              "      <td>0.189167</td>\n",
              "      <td>2848</td>\n",
              "      <td>129</td>\n",
              "      <td>2.848</td>\n",
              "      <td>15.055507</td>\n",
              "      <td>Cuajimalpa de Morelos</td>\n",
              "      <td>Álvaro Obregón</td>\n",
              "      <td>8.74</td>\n",
              "      <td>1.07</td>\n",
              "      <td>1.07</td>\n",
              "      <td>8.74</td>\n",
              "      <td>23.996773</td>\n",
              "      <td>23.996773</td>\n",
              "      <td>mediano</td>\n",
              "    </tr>\n",
              "    <tr>\n",
              "      <th>4</th>\n",
              "      <td>Taxi Libre</td>\n",
              "      <td>2016-09-18 10:23:38</td>\n",
              "      <td>2016-09-18 10:30:53</td>\n",
              "      <td>-99.271161</td>\n",
              "      <td>19.328875</td>\n",
              "      <td>-99.279900</td>\n",
              "      <td>19.326256</td>\n",
              "      <td>0.121111</td>\n",
              "      <td>1409</td>\n",
              "      <td>106</td>\n",
              "      <td>1.409</td>\n",
              "      <td>11.633945</td>\n",
              "      <td>Álvaro Obregón</td>\n",
              "      <td>Álvaro Obregón</td>\n",
              "      <td>8.74</td>\n",
              "      <td>1.07</td>\n",
              "      <td>1.07</td>\n",
              "      <td>8.74</td>\n",
              "      <td>17.290964</td>\n",
              "      <td>17.290964</td>\n",
              "      <td>corto</td>\n",
              "    </tr>\n",
              "    <tr>\n",
              "      <th>5</th>\n",
              "      <td>Taxi Libre</td>\n",
              "      <td>2016-09-18 10:44:18</td>\n",
              "      <td>2016-09-18 10:51:40</td>\n",
              "      <td>-99.282761</td>\n",
              "      <td>19.326944</td>\n",
              "      <td>-99.291705</td>\n",
              "      <td>19.322754</td>\n",
              "      <td>0.122778</td>\n",
              "      <td>1567</td>\n",
              "      <td>85</td>\n",
              "      <td>1.567</td>\n",
              "      <td>12.762896</td>\n",
              "      <td>Álvaro Obregón</td>\n",
              "      <td>Cuajimalpa de Morelos</td>\n",
              "      <td>8.74</td>\n",
              "      <td>1.07</td>\n",
              "      <td>1.07</td>\n",
              "      <td>8.74</td>\n",
              "      <td>17.467871</td>\n",
              "      <td>17.467871</td>\n",
              "      <td>corto</td>\n",
              "    </tr>\n",
              "    <tr>\n",
              "      <th>6</th>\n",
              "      <td>Taxi Libre</td>\n",
              "      <td>2016-09-18 10:58:07</td>\n",
              "      <td>2016-09-18 10:59:46</td>\n",
              "      <td>-99.289712</td>\n",
              "      <td>19.322929</td>\n",
              "      <td>-99.289280</td>\n",
              "      <td>19.325978</td>\n",
              "      <td>0.027778</td>\n",
              "      <td>797</td>\n",
              "      <td>19</td>\n",
              "      <td>0.797</td>\n",
              "      <td>28.692000</td>\n",
              "      <td>Cuajimalpa de Morelos</td>\n",
              "      <td>Cuajimalpa de Morelos</td>\n",
              "      <td>8.74</td>\n",
              "      <td>1.07</td>\n",
              "      <td>1.07</td>\n",
              "      <td>8.74</td>\n",
              "      <td>12.602938</td>\n",
              "      <td>12.602938</td>\n",
              "      <td>corto</td>\n",
              "    </tr>\n",
              "    <tr>\n",
              "      <th>7</th>\n",
              "      <td>Taxi Libre</td>\n",
              "      <td>2016-09-18 11:00:00</td>\n",
              "      <td>2016-09-18 11:05:45</td>\n",
              "      <td>-99.285391</td>\n",
              "      <td>19.326247</td>\n",
              "      <td>-99.282549</td>\n",
              "      <td>19.328117</td>\n",
              "      <td>0.095833</td>\n",
              "      <td>676</td>\n",
              "      <td>169</td>\n",
              "      <td>0.676</td>\n",
              "      <td>7.053913</td>\n",
              "      <td>Álvaro Obregón</td>\n",
              "      <td>Álvaro Obregón</td>\n",
              "      <td>8.74</td>\n",
              "      <td>1.07</td>\n",
              "      <td>1.07</td>\n",
              "      <td>8.74</td>\n",
              "      <td>15.651724</td>\n",
              "      <td>15.651724</td>\n",
              "      <td>corto</td>\n",
              "    </tr>\n",
              "  </tbody>\n",
              "</table>\n",
              "</div>"
            ],
            "text/plain": [
              "   tipo_transporte      pickup_datetime  ... costo_viaje_sobre_min    viaje\n",
              "id                                       ...                               \n",
              "3       Taxi Libre  2016-09-18 10:11:50  ...             23.996773  mediano\n",
              "4       Taxi Libre  2016-09-18 10:23:38  ...             17.290964    corto\n",
              "5       Taxi Libre  2016-09-18 10:44:18  ...             17.467871    corto\n",
              "6       Taxi Libre  2016-09-18 10:58:07  ...             12.602938    corto\n",
              "7       Taxi Libre  2016-09-18 11:00:00  ...             15.651724    corto\n",
              "\n",
              "[5 rows x 21 columns]"
            ]
          },
          "metadata": {
            "tags": []
          },
          "execution_count": 280
        }
      ]
    },
    {
      "cell_type": "code",
      "metadata": {
        "colab": {
          "base_uri": "https://localhost:8080/"
        },
        "id": "keIVScEKpOYd",
        "outputId": "466648ef-3ca7-452b-f300-24987b215567"
      },
      "source": [
        "summary_taxis('speed_km')"
      ],
      "execution_count": null,
      "outputs": [
        {
          "output_type": "execute_result",
          "data": {
            "text/plain": [
              "{'IQR': 8.567702928610888,\n",
              " 'Q1': 12.982099378881987,\n",
              " 'Q2': 17.039049247156292,\n",
              " 'Q3': 21.549802307492875,\n",
              " 'max': 38.12604501607717,\n",
              " 'mean': 17.61106477443831,\n",
              " 'mediana': 17.039049247156292,\n",
              " 'minimo': 0.7368340360291299}"
            ]
          },
          "metadata": {
            "tags": []
          },
          "execution_count": 312
        }
      ]
    },
    {
      "cell_type": "code",
      "metadata": {
        "colab": {
          "base_uri": "https://localhost:8080/"
        },
        "id": "GWu8sGuSrqOS",
        "outputId": "6c2dae73-5955-4674-f098-f182c794f7cb"
      },
      "source": [
        "summary_taxis('wait_sec')"
      ],
      "execution_count": null,
      "outputs": [
        {
          "output_type": "execute_result",
          "data": {
            "text/plain": [
              "{'IQR': 277.25,\n",
              " 'Q1': 86.0,\n",
              " 'Q2': 190.0,\n",
              " 'Q3': 363.25,\n",
              " 'max': 901,\n",
              " 'mean': 253.16160809371672,\n",
              " 'mediana': 190.0,\n",
              " 'minimo': 0}"
            ]
          },
          "metadata": {
            "tags": []
          },
          "execution_count": 313
        }
      ]
    },
    {
      "cell_type": "markdown",
      "metadata": {
        "id": "ClVtiC1RkUk9"
      },
      "source": [
        "### Viajes solo por Ubers"
      ]
    },
    {
      "cell_type": "code",
      "metadata": {
        "colab": {
          "base_uri": "https://localhost:8080/",
          "height": 340
        },
        "id": "H7xOypHLkhj0",
        "outputId": "93eb27f1-25bc-4ba0-cd78-4bd759192c30"
      },
      "source": [
        "all_uber = mun[mun['tipo_transporte'].str.startswith('U')]  \r\n",
        "all_uber.head()"
      ],
      "execution_count": null,
      "outputs": [
        {
          "output_type": "execute_result",
          "data": {
            "text/html": [
              "<div>\n",
              "<style scoped>\n",
              "    .dataframe tbody tr th:only-of-type {\n",
              "        vertical-align: middle;\n",
              "    }\n",
              "\n",
              "    .dataframe tbody tr th {\n",
              "        vertical-align: top;\n",
              "    }\n",
              "\n",
              "    .dataframe thead th {\n",
              "        text-align: right;\n",
              "    }\n",
              "</style>\n",
              "<table border=\"1\" class=\"dataframe\">\n",
              "  <thead>\n",
              "    <tr style=\"text-align: right;\">\n",
              "      <th></th>\n",
              "      <th>tipo_transporte</th>\n",
              "      <th>pickup_datetime</th>\n",
              "      <th>dropoff_datetime</th>\n",
              "      <th>pickup_longitude</th>\n",
              "      <th>pickup_latitude</th>\n",
              "      <th>dropoff_longitude</th>\n",
              "      <th>dropoff_latitude</th>\n",
              "      <th>trip_duration</th>\n",
              "      <th>dist_meters</th>\n",
              "      <th>wait_sec</th>\n",
              "      <th>dist_km</th>\n",
              "      <th>speed_km</th>\n",
              "      <th>pickup_location</th>\n",
              "      <th>dropoff_location</th>\n",
              "      <th>banderazo</th>\n",
              "      <th>tarifa_dist</th>\n",
              "      <th>tarifa_tiempo</th>\n",
              "      <th>tarifa_min</th>\n",
              "      <th>costo_viaje_sin_min</th>\n",
              "      <th>costo_viaje_sobre_min</th>\n",
              "      <th>viaje</th>\n",
              "    </tr>\n",
              "    <tr>\n",
              "      <th>id</th>\n",
              "      <th></th>\n",
              "      <th></th>\n",
              "      <th></th>\n",
              "      <th></th>\n",
              "      <th></th>\n",
              "      <th></th>\n",
              "      <th></th>\n",
              "      <th></th>\n",
              "      <th></th>\n",
              "      <th></th>\n",
              "      <th></th>\n",
              "      <th></th>\n",
              "      <th></th>\n",
              "      <th></th>\n",
              "      <th></th>\n",
              "      <th></th>\n",
              "      <th></th>\n",
              "      <th></th>\n",
              "      <th></th>\n",
              "      <th></th>\n",
              "      <th></th>\n",
              "    </tr>\n",
              "  </thead>\n",
              "  <tbody>\n",
              "    <tr>\n",
              "      <th>34</th>\n",
              "      <td>UberX</td>\n",
              "      <td>2016-09-19 02:04:43</td>\n",
              "      <td>2016-09-19 02:12:08</td>\n",
              "      <td>-99.162252</td>\n",
              "      <td>19.386298</td>\n",
              "      <td>-99.173536</td>\n",
              "      <td>19.389859</td>\n",
              "      <td>0.123889</td>\n",
              "      <td>2692</td>\n",
              "      <td>49</td>\n",
              "      <td>2.692</td>\n",
              "      <td>21.729148</td>\n",
              "      <td>Benito Juárez</td>\n",
              "      <td>Benito Juárez</td>\n",
              "      <td>7.00</td>\n",
              "      <td>3.57</td>\n",
              "      <td>1.80</td>\n",
              "      <td>35.0</td>\n",
              "      <td>18.080440</td>\n",
              "      <td>35.000000</td>\n",
              "      <td>mediano</td>\n",
              "    </tr>\n",
              "    <tr>\n",
              "      <th>139</th>\n",
              "      <td>UberBlack</td>\n",
              "      <td>2017-04-22 04:15:40</td>\n",
              "      <td>2017-04-22 04:30:05</td>\n",
              "      <td>-99.114205</td>\n",
              "      <td>19.292217</td>\n",
              "      <td>-99.069020</td>\n",
              "      <td>19.292230</td>\n",
              "      <td>0.240556</td>\n",
              "      <td>9061</td>\n",
              "      <td>40</td>\n",
              "      <td>9.061</td>\n",
              "      <td>37.666975</td>\n",
              "      <td>Tlalpan</td>\n",
              "      <td>Iztapalapa</td>\n",
              "      <td>30.00</td>\n",
              "      <td>9.46</td>\n",
              "      <td>3.50</td>\n",
              "      <td>77.0</td>\n",
              "      <td>118.050393</td>\n",
              "      <td>118.050393</td>\n",
              "      <td>largo</td>\n",
              "    </tr>\n",
              "    <tr>\n",
              "      <th>369</th>\n",
              "      <td>UberX</td>\n",
              "      <td>2017-04-30 02:32:13</td>\n",
              "      <td>2017-04-30 02:36:19</td>\n",
              "      <td>-99.212802</td>\n",
              "      <td>19.540852</td>\n",
              "      <td>-99.207274</td>\n",
              "      <td>19.543209</td>\n",
              "      <td>0.068333</td>\n",
              "      <td>2179</td>\n",
              "      <td>57</td>\n",
              "      <td>2.179</td>\n",
              "      <td>31.887805</td>\n",
              "      <td>Tlalnepantla de Baz</td>\n",
              "      <td>Tlalnepantla de Baz</td>\n",
              "      <td>7.00</td>\n",
              "      <td>3.57</td>\n",
              "      <td>1.80</td>\n",
              "      <td>35.0</td>\n",
              "      <td>16.489030</td>\n",
              "      <td>35.000000</td>\n",
              "      <td>mediano</td>\n",
              "    </tr>\n",
              "    <tr>\n",
              "      <th>609</th>\n",
              "      <td>UberXL</td>\n",
              "      <td>2017-03-31 10:46:26</td>\n",
              "      <td>2017-03-31 11:15:16</td>\n",
              "      <td>-99.098478</td>\n",
              "      <td>19.434810</td>\n",
              "      <td>-99.119207</td>\n",
              "      <td>19.382328</td>\n",
              "      <td>0.480556</td>\n",
              "      <td>12235</td>\n",
              "      <td>402</td>\n",
              "      <td>12.235</td>\n",
              "      <td>25.460116</td>\n",
              "      <td>Venustiano Carranza</td>\n",
              "      <td>Iztacalco</td>\n",
              "      <td>12.15</td>\n",
              "      <td>6.28</td>\n",
              "      <td>3.15</td>\n",
              "      <td>45.5</td>\n",
              "      <td>110.090800</td>\n",
              "      <td>110.090800</td>\n",
              "      <td>largo</td>\n",
              "    </tr>\n",
              "    <tr>\n",
              "      <th>707</th>\n",
              "      <td>UberSUV</td>\n",
              "      <td>2017-04-02 10:45:03</td>\n",
              "      <td>2017-04-02 10:49:34</td>\n",
              "      <td>-98.993944</td>\n",
              "      <td>19.267859</td>\n",
              "      <td>-98.993944</td>\n",
              "      <td>19.267859</td>\n",
              "      <td>0.075556</td>\n",
              "      <td>1468</td>\n",
              "      <td>119</td>\n",
              "      <td>1.468</td>\n",
              "      <td>19.429412</td>\n",
              "      <td>Tláhuac</td>\n",
              "      <td>Tláhuac</td>\n",
              "      <td>40.00</td>\n",
              "      <td>15.00</td>\n",
              "      <td>4.00</td>\n",
              "      <td>150.0</td>\n",
              "      <td>69.953333</td>\n",
              "      <td>150.000000</td>\n",
              "      <td>corto</td>\n",
              "    </tr>\n",
              "  </tbody>\n",
              "</table>\n",
              "</div>"
            ],
            "text/plain": [
              "    tipo_transporte      pickup_datetime  ... costo_viaje_sobre_min    viaje\n",
              "id                                        ...                               \n",
              "34            UberX  2016-09-19 02:04:43  ...             35.000000  mediano\n",
              "139       UberBlack  2017-04-22 04:15:40  ...            118.050393    largo\n",
              "369           UberX  2017-04-30 02:32:13  ...             35.000000  mediano\n",
              "609          UberXL  2017-03-31 10:46:26  ...            110.090800    largo\n",
              "707         UberSUV  2017-04-02 10:45:03  ...            150.000000    corto\n",
              "\n",
              "[5 rows x 21 columns]"
            ]
          },
          "metadata": {
            "tags": []
          },
          "execution_count": 281
        }
      ]
    },
    {
      "cell_type": "code",
      "metadata": {
        "colab": {
          "base_uri": "https://localhost:8080/"
        },
        "id": "Igem9lUMr4Yv",
        "outputId": "c9dedefa-5e82-43a6-985d-e6a996ec80dd"
      },
      "source": [
        "summary_uber('speed_km')"
      ],
      "execution_count": null,
      "outputs": [
        {
          "output_type": "execute_result",
          "data": {
            "text/plain": [
              "{'IQR': 12.306096256684496,\n",
              " 'Q1': 11.072727272727272,\n",
              " 'Q2': 18.39103869653768,\n",
              " 'Q3': 23.37882352941177,\n",
              " 'max': 37.86897810218978,\n",
              " 'mean': 17.975000514458515,\n",
              " 'mediana': 18.39103869653768,\n",
              " 'minimo': 2.286999297259311}"
            ]
          },
          "metadata": {
            "tags": []
          },
          "execution_count": 314
        }
      ]
    },
    {
      "cell_type": "code",
      "metadata": {
        "colab": {
          "base_uri": "https://localhost:8080/"
        },
        "id": "JNsH9BrKpgqS",
        "outputId": "923ec91a-83e7-4bca-fc9f-a004bb88a6b1"
      },
      "source": [
        "summary_uber('wait_sec')"
      ],
      "execution_count": null,
      "outputs": [
        {
          "output_type": "execute_result",
          "data": {
            "text/plain": [
              "{'IQR': 242.0,\n",
              " 'Q1': 66.0,\n",
              " 'Q2': 155.0,\n",
              " 'Q3': 308.0,\n",
              " 'max': 881,\n",
              " 'mean': 218.48760330578511,\n",
              " 'mediana': 155.0,\n",
              " 'minimo': 0}"
            ]
          },
          "metadata": {
            "tags": []
          },
          "execution_count": 311
        }
      ]
    },
    {
      "cell_type": "markdown",
      "metadata": {
        "id": "MM0NFl3RoUQC"
      },
      "source": [
        "### Origen de los viajes"
      ]
    },
    {
      "cell_type": "markdown",
      "metadata": {
        "id": "4V5SArlWooux"
      },
      "source": [
        "#### Taxis"
      ]
    },
    {
      "cell_type": "code",
      "metadata": {
        "colab": {
          "base_uri": "https://localhost:8080/"
        },
        "id": "FfiZ89TKo-f3",
        "outputId": "4aad65c8-233d-466c-f65f-627246ac0933"
      },
      "source": [
        "groupped_taxis_o = all_taxis.groupby('tipo_transporte')['pickup_location'].value_counts()\r\n",
        "groupped_taxis_o"
      ],
      "execution_count": null,
      "outputs": [
        {
          "output_type": "execute_result",
          "data": {
            "text/plain": [
              "tipo_transporte  pickup_location        \n",
              "Radio Taxi       Benito Juárez               459\n",
              "                 Cuauhtémoc                  130\n",
              "                 Miguel Hidalgo               64\n",
              "                 Álvaro Obregón               37\n",
              "                 Tlalpan                      21\n",
              "                 Coyoacán                     18\n",
              "                 La Magdalena Contreras       17\n",
              "                 Azcapotzalco                 14\n",
              "                 Iztapalapa                   11\n",
              "                 Gustavo A. Madero            10\n",
              "                 Tlalnepantla de Baz           8\n",
              "                 Ecatepec de Morelos           7\n",
              "                 Venustiano Carranza           6\n",
              "                 Naucalpan de Juárez           5\n",
              "                 Chalco                        2\n",
              "                 Cuajimalpa de Morelos         2\n",
              "                 Tecámac                       2\n",
              "                 Cuautitlán                    1\n",
              "                 Iztacalco                     1\n",
              "                 Nezahualcóyotl                1\n",
              "Taxi Libre       Iztapalapa                 1170\n",
              "                 Álvaro Obregón              732\n",
              "                 Miguel Hidalgo              713\n",
              "                 Venustiano Carranza         385\n",
              "                 Tlalpan                     361\n",
              "                 Gustavo A. Madero           289\n",
              "                 La Magdalena Contreras      263\n",
              "                 Coyoacán                    217\n",
              "                 Xochimilco                  198\n",
              "                 Cuauhtémoc                  108\n",
              "                 Benito Juárez                85\n",
              "                 Azcapotzalco                 58\n",
              "                 Cuajimalpa de Morelos        53\n",
              "                 Ecatepec de Morelos          43\n",
              "                 Tláhuac                      38\n",
              "                 Milpa Alta                   23\n",
              "                 Nezahualcóyotl               23\n",
              "                 Iztacalco                    21\n",
              "                 Coacalco de Berriozábal      17\n",
              "                 Tecámac                      10\n",
              "                 Tultitlán                     5\n",
              "                 Mérida                        3\n",
              "                 Tlalnepantla de Baz           3\n",
              "                 Chalco                        2\n",
              "                 Chimalhuacán                  1\n",
              "                 Huixquilucan                  1\n",
              "                 Ixtapaluca                    1\n",
              "                 Naucalpan de Juárez           1\n",
              "                 Querétaro                     1\n",
              "                 Tultepec                      1\n",
              "Taxi de Sitio    Miguel Hidalgo              453\n",
              "                 Cuauhtémoc                  263\n",
              "                 Álvaro Obregón              244\n",
              "                 Iztapalapa                  170\n",
              "                 Benito Juárez               160\n",
              "                 Coyoacán                    110\n",
              "                 Tlalpan                      96\n",
              "                 Gustavo A. Madero            82\n",
              "                 La Magdalena Contreras       75\n",
              "                 Venustiano Carranza          58\n",
              "                 Ecatepec de Morelos          37\n",
              "                 Iztacalco                    31\n",
              "                 Azcapotzalco                 26\n",
              "                 Cuajimalpa de Morelos        20\n",
              "                 Xochimilco                   15\n",
              "                 Nezahualcóyotl               10\n",
              "                 Tlalnepantla de Baz           9\n",
              "                 Tláhuac                       6\n",
              "                 La Paz                        2\n",
              "                 Ahome                         1\n",
              "                 Atizapán de Zaragoza          1\n",
              "                 Ixtapaluca                    1\n",
              "Name: pickup_location, dtype: int64"
            ]
          },
          "metadata": {
            "tags": []
          },
          "execution_count": 282
        }
      ]
    },
    {
      "cell_type": "code",
      "metadata": {
        "id": "KfMYY7sAo68U"
      },
      "source": [
        ""
      ],
      "execution_count": null,
      "outputs": []
    },
    {
      "cell_type": "markdown",
      "metadata": {
        "id": "VpW-bM1notOv"
      },
      "source": [
        "#### Ubers"
      ]
    },
    {
      "cell_type": "code",
      "metadata": {
        "id": "D4zHYYrjo_X3",
        "colab": {
          "base_uri": "https://localhost:8080/"
        },
        "outputId": "950b27b3-5679-4ee8-86ca-8bb62952c57f"
      },
      "source": [
        "groupped_uber_o = all_uber.groupby('tipo_transporte')['pickup_location'].value_counts()\r\n",
        "groupped_uber_o"
      ],
      "execution_count": null,
      "outputs": [
        {
          "output_type": "execute_result",
          "data": {
            "text/plain": [
              "tipo_transporte  pickup_location            \n",
              "UberBlack        Álvaro Obregón                 2\n",
              "                 Benito Juárez                  1\n",
              "                 Miguel Hidalgo                 1\n",
              "                 Nezahualcóyotl                 1\n",
              "                 Querétaro                      1\n",
              "                 Tlalpan                        1\n",
              "                 Venustiano Carranza            1\n",
              "UberSUV          Miguel Hidalgo                 3\n",
              "                 Álvaro Obregón                 3\n",
              "                 Benito Juárez                  2\n",
              "                 Coyoacán                       2\n",
              "                 Cuauhtémoc                     2\n",
              "                 Iztapalapa                     2\n",
              "                 Tláhuac                        2\n",
              "                 Cuajimalpa de Morelos          1\n",
              "                 Tulancingo de Bravo            1\n",
              "UberX            Benito Juárez                  9\n",
              "                 Coyoacán                       8\n",
              "                 Gustavo A. Madero              7\n",
              "                 Iztapalapa                     6\n",
              "                 Álvaro Obregón                 6\n",
              "                 Venustiano Carranza            5\n",
              "                 Ecatepec de Morelos            4\n",
              "                 Iztacalco                      4\n",
              "                 Cuauhtémoc                     3\n",
              "                 Nezahualcóyotl                 3\n",
              "                 Valle de Chalco Solidaridad    2\n",
              "                 Acolman                        1\n",
              "                 Atizapán de Zaragoza           1\n",
              "                 Azcapotzalco                   1\n",
              "                 Coacalco de Berriozábal        1\n",
              "                 Ixtapaluca                     1\n",
              "                 La Magdalena Contreras         1\n",
              "                 Miguel Hidalgo                 1\n",
              "                 Naucalpan de Juárez            1\n",
              "                 Tecámac                        1\n",
              "                 Tlalnepantla de Baz            1\n",
              "                 Tlalpan                        1\n",
              "                 Xochimilco                     1\n",
              "UberXL           Miguel Hidalgo                 6\n",
              "                 Iztapalapa                     3\n",
              "                 Tlalpan                        3\n",
              "                 Cuauhtémoc                     2\n",
              "                 Venustiano Carranza            2\n",
              "                 Álvaro Obregón                 2\n",
              "                 Benito Juárez                  1\n",
              "                 Coyoacán                       1\n",
              "                 Cuautitlán Izcalli             1\n",
              "                 Ecatepec de Morelos            1\n",
              "                 Iztacalco                      1\n",
              "                 Nezahualcóyotl                 1\n",
              "                 Tlalnepantla de Baz            1\n",
              "                 Tláhuac                        1\n",
              "Name: pickup_location, dtype: int64"
            ]
          },
          "metadata": {
            "tags": []
          },
          "execution_count": 283
        }
      ]
    },
    {
      "cell_type": "markdown",
      "metadata": {
        "id": "YeOdk4RVownO"
      },
      "source": [
        "### Destino de los viajes"
      ]
    },
    {
      "cell_type": "markdown",
      "metadata": {
        "id": "fvbHF8gZozvi"
      },
      "source": [
        "#### Taxis"
      ]
    },
    {
      "cell_type": "code",
      "metadata": {
        "id": "nmOmtgJnpPXE",
        "colab": {
          "base_uri": "https://localhost:8080/"
        },
        "outputId": "67b2c1c4-984d-420e-e25c-90a5930fe3a6"
      },
      "source": [
        "groupped_taxis_d = all_uber.groupby('tipo_transporte')['dropoff_location'].value_counts()\r\n",
        "groupped_taxis_d"
      ],
      "execution_count": null,
      "outputs": [
        {
          "output_type": "execute_result",
          "data": {
            "text/plain": [
              "tipo_transporte  dropoff_location           \n",
              "UberBlack        Benito Juárez                  1\n",
              "                 Gustavo A. Madero              1\n",
              "                 Iztapalapa                     1\n",
              "                 Miguel Hidalgo                 1\n",
              "                 Nezahualcóyotl                 1\n",
              "                 Querétaro                      1\n",
              "                 Tlalpan                        1\n",
              "                 Álvaro Obregón                 1\n",
              "UberSUV          Miguel Hidalgo                 4\n",
              "                 Iztapalapa                     2\n",
              "                 Tláhuac                        2\n",
              "                 Álvaro Obregón                 2\n",
              "                 Azcapotzalco                   1\n",
              "                 Benito Juárez                  1\n",
              "                 Coyoacán                       1\n",
              "                 Cuajimalpa de Morelos          1\n",
              "                 Cuauhtémoc                     1\n",
              "                 Tlalpan                        1\n",
              "                 Tulancingo de Bravo            1\n",
              "                 Venustiano Carranza            1\n",
              "UberX            Benito Juárez                  8\n",
              "                 Coyoacán                       8\n",
              "                 Iztapalapa                     8\n",
              "                 Gustavo A. Madero              5\n",
              "                 Nezahualcóyotl                 5\n",
              "                 Álvaro Obregón                 5\n",
              "                 Cuauhtémoc                     4\n",
              "                 Ecatepec de Morelos            4\n",
              "                 Venustiano Carranza            4\n",
              "                 Iztacalco                      3\n",
              "                 Ixtapaluca                     2\n",
              "                 La Magdalena Contreras         2\n",
              "                 Miguel Hidalgo                 2\n",
              "                 Tlalpan                        2\n",
              "                 Atizapán de Zaragoza           1\n",
              "                 Azcapotzalco                   1\n",
              "                 Coacalco de Berriozábal        1\n",
              "                 Tecámac                        1\n",
              "                 Tlalnepantla de Baz            1\n",
              "                 Tláhuac                        1\n",
              "                 Valle de Chalco Solidaridad    1\n",
              "UberXL           Cuauhtémoc                     5\n",
              "                 Iztapalapa                     3\n",
              "                 Benito Juárez                  2\n",
              "                 Iztacalco                      2\n",
              "                 Miguel Hidalgo                 2\n",
              "                 Nezahualcóyotl                 2\n",
              "                 Tlalpan                        2\n",
              "                 Álvaro Obregón                 2\n",
              "                 Coyoacán                       1\n",
              "                 Cuautitlán Izcalli             1\n",
              "                 Ecatepec de Morelos            1\n",
              "                 Gustavo A. Madero              1\n",
              "                 Tlalnepantla de Baz            1\n",
              "                 Tláhuac                        1\n",
              "Name: dropoff_location, dtype: int64"
            ]
          },
          "metadata": {
            "tags": []
          },
          "execution_count": 284
        }
      ]
    },
    {
      "cell_type": "markdown",
      "metadata": {
        "id": "Cw5Tmfc2o5p5"
      },
      "source": [
        "#### Ubers"
      ]
    },
    {
      "cell_type": "code",
      "metadata": {
        "id": "b9o0rFcqoTiw",
        "colab": {
          "base_uri": "https://localhost:8080/"
        },
        "outputId": "c54c2439-e876-4199-f841-4aa45a1e2f5b"
      },
      "source": [
        "groupped_ubers_d = all_uber.groupby('tipo_transporte')['dropoff_location'].value_counts()\r\n",
        "groupped_ubers_d"
      ],
      "execution_count": null,
      "outputs": [
        {
          "output_type": "execute_result",
          "data": {
            "text/plain": [
              "tipo_transporte  dropoff_location           \n",
              "UberBlack        Benito Juárez                  1\n",
              "                 Gustavo A. Madero              1\n",
              "                 Iztapalapa                     1\n",
              "                 Miguel Hidalgo                 1\n",
              "                 Nezahualcóyotl                 1\n",
              "                 Querétaro                      1\n",
              "                 Tlalpan                        1\n",
              "                 Álvaro Obregón                 1\n",
              "UberSUV          Miguel Hidalgo                 4\n",
              "                 Iztapalapa                     2\n",
              "                 Tláhuac                        2\n",
              "                 Álvaro Obregón                 2\n",
              "                 Azcapotzalco                   1\n",
              "                 Benito Juárez                  1\n",
              "                 Coyoacán                       1\n",
              "                 Cuajimalpa de Morelos          1\n",
              "                 Cuauhtémoc                     1\n",
              "                 Tlalpan                        1\n",
              "                 Tulancingo de Bravo            1\n",
              "                 Venustiano Carranza            1\n",
              "UberX            Benito Juárez                  8\n",
              "                 Coyoacán                       8\n",
              "                 Iztapalapa                     8\n",
              "                 Gustavo A. Madero              5\n",
              "                 Nezahualcóyotl                 5\n",
              "                 Álvaro Obregón                 5\n",
              "                 Cuauhtémoc                     4\n",
              "                 Ecatepec de Morelos            4\n",
              "                 Venustiano Carranza            4\n",
              "                 Iztacalco                      3\n",
              "                 Ixtapaluca                     2\n",
              "                 La Magdalena Contreras         2\n",
              "                 Miguel Hidalgo                 2\n",
              "                 Tlalpan                        2\n",
              "                 Atizapán de Zaragoza           1\n",
              "                 Azcapotzalco                   1\n",
              "                 Coacalco de Berriozábal        1\n",
              "                 Tecámac                        1\n",
              "                 Tlalnepantla de Baz            1\n",
              "                 Tláhuac                        1\n",
              "                 Valle de Chalco Solidaridad    1\n",
              "UberXL           Cuauhtémoc                     5\n",
              "                 Iztapalapa                     3\n",
              "                 Benito Juárez                  2\n",
              "                 Iztacalco                      2\n",
              "                 Miguel Hidalgo                 2\n",
              "                 Nezahualcóyotl                 2\n",
              "                 Tlalpan                        2\n",
              "                 Álvaro Obregón                 2\n",
              "                 Coyoacán                       1\n",
              "                 Cuautitlán Izcalli             1\n",
              "                 Ecatepec de Morelos            1\n",
              "                 Gustavo A. Madero              1\n",
              "                 Tlalnepantla de Baz            1\n",
              "                 Tláhuac                        1\n",
              "Name: dropoff_location, dtype: int64"
            ]
          },
          "metadata": {
            "tags": []
          },
          "execution_count": 285
        }
      ]
    },
    {
      "cell_type": "markdown",
      "metadata": {
        "id": "FPtaNrfRIlsF"
      },
      "source": [
        "### Análisis de tiempo de espera promedio en los viajes por día\r\n",
        "La columna de `wait_sec` representa el tiempo en el viaje en el que el transporte estuvo totalmente detenido, esto puede ser usado como una medida del tráfico que se encontró durante el trayecto del viaje. En esta sección se realizará un análisis comparando el tiempo de espera de los viajes promedio por día para observar si cambia dependiendo cuál día de la semana es."
      ]
    },
    {
      "cell_type": "code",
      "metadata": {
        "id": "ofgDVzHnOW8q"
      },
      "source": [
        "data_municipios = data_costos.copy()"
      ],
      "execution_count": null,
      "outputs": []
    },
    {
      "cell_type": "code",
      "metadata": {
        "id": "6LUvEMOyidno"
      },
      "source": [
        "days = {0:'Lunes',1:'Martes',2:'Miercoles',3:'Jueves',4:'Viernes',5:'Sabado',6:'Domingo'}\r\n",
        "data_municipios[\"day_of_trip\"] = data_municipios[\"pickup_datetime\"].dt.dayofweek\r\n",
        "data_municipios[\"day_of_trip\"] = data_municipios[\"day_of_trip\"].apply(lambda x: days[x])"
      ],
      "execution_count": null,
      "outputs": []
    },
    {
      "cell_type": "code",
      "metadata": {
        "id": "b7rvTXlpjM9q",
        "colab": {
          "base_uri": "https://localhost:8080/"
        },
        "outputId": "e19a7e3d-3f9d-4523-b6f0-215f689f94e3"
      },
      "source": [
        "data_municipios[\"day_of_trip\"].sample(5)"
      ],
      "execution_count": null,
      "outputs": [
        {
          "output_type": "execute_result",
          "data": {
            "text/plain": [
              "id\n",
              "11677       Sabado\n",
              "1370     Miercoles\n",
              "6802     Miercoles\n",
              "789         Martes\n",
              "12569       Sabado\n",
              "Name: day_of_trip, dtype: object"
            ]
          },
          "metadata": {
            "tags": []
          },
          "execution_count": 288
        }
      ]
    },
    {
      "cell_type": "code",
      "metadata": {
        "id": "K45s7P-gjQmr",
        "colab": {
          "base_uri": "https://localhost:8080/",
          "height": 297
        },
        "outputId": "ee387625-b352-4e76-9a93-8fcf017409b1"
      },
      "source": [
        "table = data_municipios.groupby([\"day_of_trip\"])[\"wait_sec\"].mean()\r\n",
        "table = table[[0,2,3,4,1,6,5]]\r\n",
        "pd.DataFrame(table)"
      ],
      "execution_count": null,
      "outputs": [
        {
          "output_type": "execute_result",
          "data": {
            "text/html": [
              "<div>\n",
              "<style scoped>\n",
              "    .dataframe tbody tr th:only-of-type {\n",
              "        vertical-align: middle;\n",
              "    }\n",
              "\n",
              "    .dataframe tbody tr th {\n",
              "        vertical-align: top;\n",
              "    }\n",
              "\n",
              "    .dataframe thead th {\n",
              "        text-align: right;\n",
              "    }\n",
              "</style>\n",
              "<table border=\"1\" class=\"dataframe\">\n",
              "  <thead>\n",
              "    <tr style=\"text-align: right;\">\n",
              "      <th></th>\n",
              "      <th>wait_sec</th>\n",
              "    </tr>\n",
              "    <tr>\n",
              "      <th>day_of_trip</th>\n",
              "      <th></th>\n",
              "    </tr>\n",
              "  </thead>\n",
              "  <tbody>\n",
              "    <tr>\n",
              "      <th>Domingo</th>\n",
              "      <td>239.119048</td>\n",
              "    </tr>\n",
              "    <tr>\n",
              "      <th>Lunes</th>\n",
              "      <td>251.316308</td>\n",
              "    </tr>\n",
              "    <tr>\n",
              "      <th>Martes</th>\n",
              "      <td>263.925866</td>\n",
              "    </tr>\n",
              "    <tr>\n",
              "      <th>Miercoles</th>\n",
              "      <td>239.647149</td>\n",
              "    </tr>\n",
              "    <tr>\n",
              "      <th>Jueves</th>\n",
              "      <td>261.868038</td>\n",
              "    </tr>\n",
              "    <tr>\n",
              "      <th>Viernes</th>\n",
              "      <td>264.780423</td>\n",
              "    </tr>\n",
              "    <tr>\n",
              "      <th>Sabado</th>\n",
              "      <td>241.573290</td>\n",
              "    </tr>\n",
              "  </tbody>\n",
              "</table>\n",
              "</div>"
            ],
            "text/plain": [
              "               wait_sec\n",
              "day_of_trip            \n",
              "Domingo      239.119048\n",
              "Lunes        251.316308\n",
              "Martes       263.925866\n",
              "Miercoles    239.647149\n",
              "Jueves       261.868038\n",
              "Viernes      264.780423\n",
              "Sabado       241.573290"
            ]
          },
          "metadata": {
            "tags": []
          },
          "execution_count": 289
        }
      ]
    },
    {
      "cell_type": "markdown",
      "metadata": {
        "id": "MdLaMfmxjas4"
      },
      "source": [
        "Se puede apreciar que el viernes es el día con más tráfico. Sin embargo, para confirmar esto, es necesario un análisis más profundo de los datos."
      ]
    },
    {
      "cell_type": "markdown",
      "metadata": {
        "id": "jL333eZqlSne"
      },
      "source": [
        "### Análisis de cantidad de viajes por cada día de la semana."
      ]
    },
    {
      "cell_type": "code",
      "metadata": {
        "id": "BDOPnJczlSNx",
        "colab": {
          "base_uri": "https://localhost:8080/",
          "height": 297
        },
        "outputId": "b54cb775-9717-404d-e865-7b281ca8b8ef"
      },
      "source": [
        "table = data_municipios.groupby([\"day_of_trip\"])[\"wait_sec\"].count()\r\n",
        "table = table[[0,2,3,4,1,6,5]]\r\n",
        "pd.DataFrame(table)"
      ],
      "execution_count": null,
      "outputs": [
        {
          "output_type": "execute_result",
          "data": {
            "text/html": [
              "<div>\n",
              "<style scoped>\n",
              "    .dataframe tbody tr th:only-of-type {\n",
              "        vertical-align: middle;\n",
              "    }\n",
              "\n",
              "    .dataframe tbody tr th {\n",
              "        vertical-align: top;\n",
              "    }\n",
              "\n",
              "    .dataframe thead th {\n",
              "        text-align: right;\n",
              "    }\n",
              "</style>\n",
              "<table border=\"1\" class=\"dataframe\">\n",
              "  <thead>\n",
              "    <tr style=\"text-align: right;\">\n",
              "      <th></th>\n",
              "      <th>wait_sec</th>\n",
              "    </tr>\n",
              "    <tr>\n",
              "      <th>day_of_trip</th>\n",
              "      <th></th>\n",
              "    </tr>\n",
              "  </thead>\n",
              "  <tbody>\n",
              "    <tr>\n",
              "      <th>Domingo</th>\n",
              "      <td>756</td>\n",
              "    </tr>\n",
              "    <tr>\n",
              "      <th>Lunes</th>\n",
              "      <td>1116</td>\n",
              "    </tr>\n",
              "    <tr>\n",
              "      <th>Martes</th>\n",
              "      <td>1241</td>\n",
              "    </tr>\n",
              "    <tr>\n",
              "      <th>Miercoles</th>\n",
              "      <td>1298</td>\n",
              "    </tr>\n",
              "    <tr>\n",
              "      <th>Jueves</th>\n",
              "      <td>1167</td>\n",
              "    </tr>\n",
              "    <tr>\n",
              "      <th>Viernes</th>\n",
              "      <td>1134</td>\n",
              "    </tr>\n",
              "    <tr>\n",
              "      <th>Sabado</th>\n",
              "      <td>921</td>\n",
              "    </tr>\n",
              "  </tbody>\n",
              "</table>\n",
              "</div>"
            ],
            "text/plain": [
              "             wait_sec\n",
              "day_of_trip          \n",
              "Domingo           756\n",
              "Lunes            1116\n",
              "Martes           1241\n",
              "Miercoles        1298\n",
              "Jueves           1167\n",
              "Viernes          1134\n",
              "Sabado            921"
            ]
          },
          "metadata": {
            "tags": []
          },
          "execution_count": 290
        }
      ]
    },
    {
      "cell_type": "markdown",
      "metadata": {
        "id": "MBXFj6WSlpPl"
      },
      "source": [
        "Se aprecia que el Miercoles es el día que más se tiene demanda de viajes en transporte privado."
      ]
    },
    {
      "cell_type": "markdown",
      "metadata": {
        "id": "CCQfwGVcmQ0D"
      },
      "source": [
        "### Comparación de tiempo detenido en el tráfico por viaje en Taxis y Ubers.\r\n",
        "Se comparará el tiempo de espera promedio por viaje de los transporte tipo Uber y Taxis."
      ]
    },
    {
      "cell_type": "code",
      "metadata": {
        "id": "W70h7uE5mpL4",
        "colab": {
          "base_uri": "https://localhost:8080/"
        },
        "outputId": "946cf5fd-6390-4379-9b54-8a9aae11e84e"
      },
      "source": [
        "data_municipios[\"tipo_transporte\"].unique()"
      ],
      "execution_count": null,
      "outputs": [
        {
          "output_type": "execute_result",
          "data": {
            "text/plain": [
              "array(['Taxi Libre', 'Radio Taxi', 'Taxi de Sitio', 'UberX', 'UberBlack',\n",
              "       'UberXL', 'UberSUV'], dtype=object)"
            ]
          },
          "metadata": {
            "tags": []
          },
          "execution_count": 291
        }
      ]
    },
    {
      "cell_type": "code",
      "metadata": {
        "id": "aLq3REgkrpTi"
      },
      "source": [
        "taxis = ['Taxi Libre', 'Radio Taxi', 'Taxi de Sitio']"
      ],
      "execution_count": null,
      "outputs": []
    },
    {
      "cell_type": "markdown",
      "metadata": {
        "id": "ZzI-t1P2saBG"
      },
      "source": [
        "Se inicializa una lista que contiene los diferentes tipos de transporte taxis para clasificarlos a travez del método `apply` solamente como *Taxi* y *Uber*"
      ]
    },
    {
      "cell_type": "code",
      "metadata": {
        "id": "dp7Oc7n7mtUa"
      },
      "source": [
        "data_transporte = data_municipios.copy()"
      ],
      "execution_count": null,
      "outputs": []
    },
    {
      "cell_type": "code",
      "metadata": {
        "id": "pBGfjh3vrlVf"
      },
      "source": [
        "data_transporte[\"tipo_transporte\"] = data_transporte[\"tipo_transporte\"].apply(lambda x: \"Taxi\" if x in taxis else \"Uber\")"
      ],
      "execution_count": null,
      "outputs": []
    },
    {
      "cell_type": "code",
      "metadata": {
        "id": "q2LFWRzMsLA3",
        "colab": {
          "base_uri": "https://localhost:8080/"
        },
        "outputId": "6231e548-2f7a-4964-901d-d5b849878e1e"
      },
      "source": [
        "data_transporte[\"tipo_transporte\"].unique()"
      ],
      "execution_count": null,
      "outputs": [
        {
          "output_type": "execute_result",
          "data": {
            "text/plain": [
              "array(['Taxi', 'Uber'], dtype=object)"
            ]
          },
          "metadata": {
            "tags": []
          },
          "execution_count": 295
        }
      ]
    },
    {
      "cell_type": "code",
      "metadata": {
        "id": "VpbSV0XKswkP",
        "colab": {
          "base_uri": "https://localhost:8080/",
          "height": 142
        },
        "outputId": "7af7a0e3-628b-4cf8-cfc4-d66e2eecb66f"
      },
      "source": [
        "table = data_transporte.groupby([\"tipo_transporte\"])[\"wait_sec\"].mean()\r\n",
        "pd.DataFrame(table)"
      ],
      "execution_count": null,
      "outputs": [
        {
          "output_type": "execute_result",
          "data": {
            "text/html": [
              "<div>\n",
              "<style scoped>\n",
              "    .dataframe tbody tr th:only-of-type {\n",
              "        vertical-align: middle;\n",
              "    }\n",
              "\n",
              "    .dataframe tbody tr th {\n",
              "        vertical-align: top;\n",
              "    }\n",
              "\n",
              "    .dataframe thead th {\n",
              "        text-align: right;\n",
              "    }\n",
              "</style>\n",
              "<table border=\"1\" class=\"dataframe\">\n",
              "  <thead>\n",
              "    <tr style=\"text-align: right;\">\n",
              "      <th></th>\n",
              "      <th>wait_sec</th>\n",
              "    </tr>\n",
              "    <tr>\n",
              "      <th>tipo_transporte</th>\n",
              "      <th></th>\n",
              "    </tr>\n",
              "  </thead>\n",
              "  <tbody>\n",
              "    <tr>\n",
              "      <th>Taxi</th>\n",
              "      <td>253.161608</td>\n",
              "    </tr>\n",
              "    <tr>\n",
              "      <th>Uber</th>\n",
              "      <td>218.487603</td>\n",
              "    </tr>\n",
              "  </tbody>\n",
              "</table>\n",
              "</div>"
            ],
            "text/plain": [
              "                   wait_sec\n",
              "tipo_transporte            \n",
              "Taxi             253.161608\n",
              "Uber             218.487603"
            ]
          },
          "metadata": {
            "tags": []
          },
          "execution_count": 296
        }
      ]
    },
    {
      "cell_type": "markdown",
      "metadata": {
        "id": "0_0x_67vtSNz"
      },
      "source": [
        "Se puede ver que los transportes tipo *Uber* pasan menos tiempo detenidos en el tráfico que los *Taxis*. Esto posiblemente se debe a que los *Uber* usualmente se utilizan aplicaciones para evitar el tráfico."
      ]
    },
    {
      "cell_type": "markdown",
      "metadata": {
        "id": "3znfeeRluQaX"
      },
      "source": [
        "### Velocidad Promedio por cada tipo de transporte"
      ]
    },
    {
      "cell_type": "code",
      "metadata": {
        "id": "0_g76yg0uWuY",
        "colab": {
          "base_uri": "https://localhost:8080/",
          "height": 142
        },
        "outputId": "8416951a-6aa6-45e9-f106-3f9d0f52c600"
      },
      "source": [
        "table = data_transporte.groupby([\"tipo_transporte\"])[\"speed_km\"].mean()\r\n",
        "pd.DataFrame(table)"
      ],
      "execution_count": null,
      "outputs": [
        {
          "output_type": "execute_result",
          "data": {
            "text/html": [
              "<div>\n",
              "<style scoped>\n",
              "    .dataframe tbody tr th:only-of-type {\n",
              "        vertical-align: middle;\n",
              "    }\n",
              "\n",
              "    .dataframe tbody tr th {\n",
              "        vertical-align: top;\n",
              "    }\n",
              "\n",
              "    .dataframe thead th {\n",
              "        text-align: right;\n",
              "    }\n",
              "</style>\n",
              "<table border=\"1\" class=\"dataframe\">\n",
              "  <thead>\n",
              "    <tr style=\"text-align: right;\">\n",
              "      <th></th>\n",
              "      <th>speed_km</th>\n",
              "    </tr>\n",
              "    <tr>\n",
              "      <th>tipo_transporte</th>\n",
              "      <th></th>\n",
              "    </tr>\n",
              "  </thead>\n",
              "  <tbody>\n",
              "    <tr>\n",
              "      <th>Taxi</th>\n",
              "      <td>17.611065</td>\n",
              "    </tr>\n",
              "    <tr>\n",
              "      <th>Uber</th>\n",
              "      <td>17.975001</td>\n",
              "    </tr>\n",
              "  </tbody>\n",
              "</table>\n",
              "</div>"
            ],
            "text/plain": [
              "                  speed_km\n",
              "tipo_transporte           \n",
              "Taxi             17.611065\n",
              "Uber             17.975001"
            ]
          },
          "metadata": {
            "tags": []
          },
          "execution_count": 297
        }
      ]
    },
    {
      "cell_type": "markdown",
      "metadata": {
        "id": "akyJXQzAuabs"
      },
      "source": [
        "A pesar de que aparentemente los transportes tipo *Uber* son más veloces, es muy pequeña la diferencia como para asumir que es verdad. Se necesita un estudio estadístico más profundo para confirmar esto."
      ]
    },
    {
      "cell_type": "markdown",
      "metadata": {
        "id": "rcJErJrjvOjN"
      },
      "source": [
        "# 7. Conclusión\r\n",
        "A partir del análisis exploratorio que se realizó, se observo que los transportes Uber son más rápidos que los taxis y pasan menos tiempo detenidos en el tráfico, sin embargo también son mas costosos. Los datos presentados en este trabajo son preliminares, por lo tanto se necesita un análisis mas profundo. \r\n",
        "\r\n",
        "Si en algún análisis posterior se necesitara usar métodos de inteligencia artificial o aprendizaje profundo podrán usar el dataset resultante del proceso de limpieza que se realizó en este notebook, el cual está almacenado en un repositorio de [GitHub](https://github.com/CristopherCano/Proyecto_Python_Procesamiento_de_datos/blob/main/Data/cdmx_transporte.csv)."
      ]
    }
  ]
}