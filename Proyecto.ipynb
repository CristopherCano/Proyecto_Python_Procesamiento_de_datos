{
  "nbformat": 4,
  "nbformat_minor": 0,
  "metadata": {
    "colab": {
      "name": "Untitled2.ipynb",
      "provenance": [],
      "authorship_tag": "ABX9TyOt6wA4RxOHtoFiRMDIHyH5",
      "include_colab_link": true
    },
    "kernelspec": {
      "name": "python3",
      "display_name": "Python 3.9.0 64-bit",
      "metadata": {
        "interpreter": {
          "hash": "1f65e174391277f634e70871feaa21300658cb740b5dabfc689c4c43dbc10e3e"
        }
      }
    }
  },
  "cells": [
    {
      "cell_type": "markdown",
      "metadata": {
        "id": "view-in-github",
        "colab_type": "text"
      },
      "source": [
        "<a href=\"https://colab.research.google.com/github/CristopherCano/Proyecto_Python_Procesamiento_de_datos/blob/main/Proyecto.ipynb\" target=\"_parent\"><img src=\"https://colab.research.google.com/assets/colab-badge.svg\" alt=\"Open In Colab\"/></a>"
      ]
    },
    {
      "source": [
        "# Proyecto de Procesamiento de Datos con Python - BEDU - Módulo 3\n",
        "## Viajes en Taxis y Ubers en la Zona Metropolitana del Valle de México 2016 - 2017\n",
        "* Eduardo Alán Hernández Villasana\n",
        "* Crsitopher Arvizu Cano\n",
        "* David Gil Peralta\n",
        "* José Antonio Aguilar Télez"
      ],
      "cell_type": "markdown",
      "metadata": {}
    },
    {
      "source": [
        "## Planteamiento del Problema\n",
        "En los últimos años, desde la llegada de aplicaciones para el transporte privado como Uber o Didi, los gremios taxistas de la Zona Metropolitana del Valle de México han protestado en contra de estas aplicaciones, ellos argumentan una competencia desleal y exigen regulaciones hacia estos transportes. Esto no es de extrañarse ya que, con el aumento de la popularidad de estas aplicaciones de transporte, los taxistas están perdiendo clientes y no pueden o quieren modernizarse para poder competir con los automóviles de Uber o Didi que son más modernos. \n",
        "\n",
        "A raíz de este enfrentamiento, han surgido noticias comparando estos dos modelos de transporte privado, sin embargo, muchas de estas noticias están sesgadas por intereses políticos y económicos. Es por esta razón que decidimos analizar datos recopilados tanto en Taxis y Ubers para hacer una comparación entre los dos modelos y aportar nuestros hallazgos estadísticos a la discusión de este problema."
      ],
      "cell_type": "markdown",
      "metadata": {}
    },
    {
      "source": [
        "## Preguntas Clave\n",
        "Durante el desarrollo de este proyecto, se espera responder las siguientes preguntas.\n",
        "\n",
        "* ¿Qué tipo de transporte pasa menos tiempo en el tráfico?\n",
        "* ¿Cuál es la velocidad promedio de cada tipo de transporte?\n",
        "* ¿Qué día de la semana hay mas demanda para cada tipo de transporte?\n",
        "* ¿En qué tipo de transporte recibe más dinero en promedio por viaje?\n",
        "* ¿Desde qué demsarcación territorial o municipio cada tipo de transporte tiene mayor demanda?\n",
        "* ¿Cuál es el destino mas solicitado para cada tipo de transporte?"
      ],
      "cell_type": "markdown",
      "metadata": {}
    },
    {
      "cell_type": "code",
      "metadata": {
        "id": "PevJNVj4PZTZ"
      },
      "source": [
        "# Librerías a usar\n",
        "import pandas as pd\n",
        "import numpy as np"
      ],
      "execution_count": 1,
      "outputs": []
    },
    {
      "source": [
        "### Extracción de datos\n",
        "Se descargará la base de datos desde GitHub."
      ],
      "cell_type": "markdown",
      "metadata": {}
    },
    {
      "cell_type": "code",
      "metadata": {
        "id": "5G4iMYv7Pgue"
      },
      "source": [
        "url = \"https://raw.githubusercontent.com/CristopherCano/Proyecto_Python_Procesamiento_de_datos/main/Data/cdmx_transporte_raw.csv\""
      ],
      "execution_count": 2,
      "outputs": []
    },
    {
      "cell_type": "code",
      "execution_count": 3,
      "metadata": {},
      "outputs": [
        {
          "output_type": "execute_result",
          "data": {
            "text/plain": [
              "   id                vendor_id      pickup_datetime     dropoff_datetime  \\\n",
              "0   1  México DF Taxi de Sitio  2016-09-16 07:14:12  2016-09-18 04:41:40   \n",
              "1   2     México DF Taxi Libre  2016-09-18 06:16:33  2016-09-18 10:11:43   \n",
              "\n",
              "   pickup_longitude  pickup_latitude  dropoff_longitude  dropoff_latitude  \\\n",
              "0        -99.097369        19.416874         -99.202729         19.430353   \n",
              "1        -99.297148        19.322128         -99.289949         19.326538   \n",
              "\n",
              "  store_and_fwd_flag  trip_duration  dist_meters  wait_sec  \n",
              "0                  N         120449        12373       242  \n",
              "1                  N          14110         1700       461  "
            ],
            "text/html": "<div>\n<style scoped>\n    .dataframe tbody tr th:only-of-type {\n        vertical-align: middle;\n    }\n\n    .dataframe tbody tr th {\n        vertical-align: top;\n    }\n\n    .dataframe thead th {\n        text-align: right;\n    }\n</style>\n<table border=\"1\" class=\"dataframe\">\n  <thead>\n    <tr style=\"text-align: right;\">\n      <th></th>\n      <th>id</th>\n      <th>vendor_id</th>\n      <th>pickup_datetime</th>\n      <th>dropoff_datetime</th>\n      <th>pickup_longitude</th>\n      <th>pickup_latitude</th>\n      <th>dropoff_longitude</th>\n      <th>dropoff_latitude</th>\n      <th>store_and_fwd_flag</th>\n      <th>trip_duration</th>\n      <th>dist_meters</th>\n      <th>wait_sec</th>\n    </tr>\n  </thead>\n  <tbody>\n    <tr>\n      <th>0</th>\n      <td>1</td>\n      <td>México DF Taxi de Sitio</td>\n      <td>2016-09-16 07:14:12</td>\n      <td>2016-09-18 04:41:40</td>\n      <td>-99.097369</td>\n      <td>19.416874</td>\n      <td>-99.202729</td>\n      <td>19.430353</td>\n      <td>N</td>\n      <td>120449</td>\n      <td>12373</td>\n      <td>242</td>\n    </tr>\n    <tr>\n      <th>1</th>\n      <td>2</td>\n      <td>México DF Taxi Libre</td>\n      <td>2016-09-18 06:16:33</td>\n      <td>2016-09-18 10:11:43</td>\n      <td>-99.297148</td>\n      <td>19.322128</td>\n      <td>-99.289949</td>\n      <td>19.326538</td>\n      <td>N</td>\n      <td>14110</td>\n      <td>1700</td>\n      <td>461</td>\n    </tr>\n  </tbody>\n</table>\n</div>"
          },
          "metadata": {},
          "execution_count": 3
        }
      ],
      "source": [
        "data_raw = pd.read_csv(url)\n",
        "data_raw.head(2)"
      ]
    },
    {
      "cell_type": "code",
      "execution_count": 5,
      "metadata": {},
      "outputs": [
        {
          "output_type": "execute_result",
          "data": {
            "text/plain": [
              "id                      int64\n",
              "vendor_id              object\n",
              "pickup_datetime        object\n",
              "dropoff_datetime       object\n",
              "pickup_longitude      float64\n",
              "pickup_latitude       float64\n",
              "dropoff_longitude     float64\n",
              "dropoff_latitude      float64\n",
              "store_and_fwd_flag     object\n",
              "trip_duration           int64\n",
              "dist_meters             int64\n",
              "wait_sec                int64\n",
              "dtype: object"
            ]
          },
          "metadata": {},
          "execution_count": 5
        }
      ],
      "source": [
        "data_raw.dtypes"
      ]
    },
    {
      "source": [
        "### Descripción de las Columnas\n",
        "* **id**: Un identificador único para cada viaje.\n",
        "* **vendor_id**: El tipo de transporte en que se realizó el viaje.\n",
        "* **pickup_datetime**: Fecha y Hora en que el viaje inició.\n",
        "* **dropoff_datetime**: Fecha y Hora en que el viaje finalizó.\n",
        "* **pickup_longitude**: Longitud en la que el viaje inició.\n",
        "* **pickup_latitude**: Latitud en la que el viaje inició.\n",
        "* **dropoff_longitude**: Longitud en la que el viaje finalizó.\n",
        "* **dropoff_latitude**: Latitud en la que el viaje finalizó.\n",
        "* **store_and_fwd_flag**: Indica si la información del viaje se almacenó en una memoria y después se envio al servidor por que no tenía conexión a internet o no. Todas las entradas de datos estan en 'N'.\n",
        "* **trip_duration**: Duración del viaje en segundos.\n",
        "* **dist_meters**: Distancia recorrida en el viaje en metros.\n",
        "* **wait_sec**: Tiempo en segundos en el que el automovil estuvo completamente detenido durante el viaje. (Se usará como medición del tráfico.)"
      ],
      "cell_type": "markdown",
      "metadata": {}
    }
  ]
}