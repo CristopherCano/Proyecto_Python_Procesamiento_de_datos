{
  "nbformat": 4,
  "nbformat_minor": 0,
  "metadata": {
    "colab": {
      "name": "Untitled2.ipynb",
      "provenance": [],
      "authorship_tag": "ABX9TyOt6wA4RxOHtoFiRMDIHyH5",
      "include_colab_link": true
    },
    "kernelspec": {
      "name": "python3",
      "display_name": "Python 3",
      "language": "python"
    }
  },
  "cells": [
    {
      "cell_type": "markdown",
      "metadata": {
        "id": "view-in-github",
        "colab_type": "text"
      },
      "source": [
        "<a href=\"https://colab.research.google.com/github/CristopherCano/Proyecto_Python_Procesamiento_de_datos/blob/main/Proyecto.ipynb\" target=\"_parent\"><img src=\"https://colab.research.google.com/assets/colab-badge.svg\" alt=\"Open In Colab\"/></a>"
      ]
    },
    {
      "source": [
        "# Proyecto de Procesamiento de Datos con Python - BEDU - Módulo 3\n",
        "## Viajes en Taxis y Ubers en la Zona Metropolitana del Valle de México 2016 - 2017\n",
        "* Eduardo Alán Hernández Villasana\n",
        "* Cristopher Arvizu Cano\n",
        "* David Gil Peralta\n",
        "* José Antonio Aguilar Télez"
      ],
      "cell_type": "markdown",
      "metadata": {}
    },
    {
      "source": [
        "## Planteamiento del Problema\n",
        "En los últimos años, desde la llegada de aplicaciones para el transporte privado como Uber o Didi, los gremios taxistas de la Zona Metropolitana del Valle de México han protestado en contra de estas aplicaciones, ellos argumentan una competencia desleal y exigen regulaciones hacia estos transportes. Esto no es de extrañarse ya que, con el aumento de la popularidad de estas aplicaciones de transporte, los taxistas están perdiendo clientes y no pueden o quieren modernizarse para poder competir con los automóviles de Uber o Didi que son más modernos. \n",
        "\n",
        "A raíz de este enfrentamiento, han surgido noticias comparando estos dos modelos de transporte privado, sin embargo, muchas de estas noticias están sesgadas por intereses políticos y económicos. Es por esta razón que decidimos analizar datos recopilados tanto en Taxis y Ubers para hacer una comparación entre los dos modelos y aportar nuestros hallazgos estadísticos a la discusión de este problema."
      ],
      "cell_type": "markdown",
      "metadata": {}
    },
    {
      "source": [
        "## Preguntas Clave\n",
        "Durante el desarrollo de este proyecto, se espera responder las siguientes preguntas.\n",
        "\n",
        "* ¿Qué tipo de transporte pasa menos tiempo en el tráfico?\n",
        "* ¿Cuál es la velocidad promedio de cada tipo de transporte?\n",
        "* ¿Qué día de la semana hay mas demanda para cada tipo de transporte?\n",
        "* ¿En qué tipo de transporte recibe más dinero en promedio por viaje?\n",
        "* ¿Desde qué demsarcación territorial o municipio cada tipo de transporte tiene mayor demanda?\n",
        "* ¿Cuál es el destino mas solicitado para cada tipo de transporte?"
      ],
      "cell_type": "markdown",
      "metadata": {}
    },
    {
      "cell_type": "code",
      "metadata": {
        "id": "PevJNVj4PZTZ"
      },
      "source": [
        "# Librerías a usar\n",
        "import pandas as pd\n",
        "import numpy as np"
      ],
      "execution_count": 1,
      "outputs": []
    },
    {
      "source": [
        "### Extracción de datos\n",
        "Se descargará la base de datos desde GitHub."
      ],
      "cell_type": "markdown",
      "metadata": {}
    },
    {
      "cell_type": "code",
      "metadata": {
        "id": "5G4iMYv7Pgue"
      },
      "source": [
        "url = \"https://raw.githubusercontent.com/CristopherCano/Proyecto_Python_Procesamiento_de_datos/main/Data/cdmx_transporte_raw.csv\""
      ],
      "execution_count": 2,
      "outputs": []
    },
    {
      "cell_type": "code",
      "execution_count": 49,
      "metadata": {},
      "outputs": [
        {
          "output_type": "execute_result",
          "data": {
            "text/plain": [
              "                  vendor_id      pickup_datetime     dropoff_datetime  \\\n",
              "id                                                                      \n",
              "1   México DF Taxi de Sitio  2016-09-16 07:14:12  2016-09-18 04:41:40   \n",
              "2      México DF Taxi Libre  2016-09-18 06:16:33  2016-09-18 10:11:43   \n",
              "\n",
              "    pickup_longitude  pickup_latitude  dropoff_longitude  dropoff_latitude  \\\n",
              "id                                                                           \n",
              "1         -99.097369        19.416874         -99.202729         19.430353   \n",
              "2         -99.297148        19.322128         -99.289949         19.326538   \n",
              "\n",
              "   store_and_fwd_flag  trip_duration  dist_meters  wait_sec  \n",
              "id                                                           \n",
              "1                   N         120449        12373       242  \n",
              "2                   N          14110         1700       461  "
            ],
            "text/html": "<div>\n<style scoped>\n    .dataframe tbody tr th:only-of-type {\n        vertical-align: middle;\n    }\n\n    .dataframe tbody tr th {\n        vertical-align: top;\n    }\n\n    .dataframe thead th {\n        text-align: right;\n    }\n</style>\n<table border=\"1\" class=\"dataframe\">\n  <thead>\n    <tr style=\"text-align: right;\">\n      <th></th>\n      <th>vendor_id</th>\n      <th>pickup_datetime</th>\n      <th>dropoff_datetime</th>\n      <th>pickup_longitude</th>\n      <th>pickup_latitude</th>\n      <th>dropoff_longitude</th>\n      <th>dropoff_latitude</th>\n      <th>store_and_fwd_flag</th>\n      <th>trip_duration</th>\n      <th>dist_meters</th>\n      <th>wait_sec</th>\n    </tr>\n    <tr>\n      <th>id</th>\n      <th></th>\n      <th></th>\n      <th></th>\n      <th></th>\n      <th></th>\n      <th></th>\n      <th></th>\n      <th></th>\n      <th></th>\n      <th></th>\n      <th></th>\n    </tr>\n  </thead>\n  <tbody>\n    <tr>\n      <td>1</td>\n      <td>México DF Taxi de Sitio</td>\n      <td>2016-09-16 07:14:12</td>\n      <td>2016-09-18 04:41:40</td>\n      <td>-99.097369</td>\n      <td>19.416874</td>\n      <td>-99.202729</td>\n      <td>19.430353</td>\n      <td>N</td>\n      <td>120449</td>\n      <td>12373</td>\n      <td>242</td>\n    </tr>\n    <tr>\n      <td>2</td>\n      <td>México DF Taxi Libre</td>\n      <td>2016-09-18 06:16:33</td>\n      <td>2016-09-18 10:11:43</td>\n      <td>-99.297148</td>\n      <td>19.322128</td>\n      <td>-99.289949</td>\n      <td>19.326538</td>\n      <td>N</td>\n      <td>14110</td>\n      <td>1700</td>\n      <td>461</td>\n    </tr>\n  </tbody>\n</table>\n</div>"
          },
          "metadata": {},
          "execution_count": 49
        }
      ],
      "source": [
        "data_raw = pd.read_csv(url, index_col=0)\n",
        "data_raw.head(2)"
      ]
    },
    {
      "source": [
        "### Descripción de las Columnas\n",
        "* **id**: Un identificador único para cada viaje.\n",
        "* **vendor_id**: El tipo de transporte en que se realizó el viaje.\n",
        "* **pickup_datetime**: Fecha y Hora en que el viaje inició.\n",
        "* **dropoff_datetime**: Fecha y Hora en que el viaje finalizó.\n",
        "* **pickup_longitude**: Longitud en la que el viaje inició.\n",
        "* **pickup_latitude**: Latitud en la que el viaje inició.\n",
        "* **dropoff_longitude**: Longitud en la que el viaje finalizó.\n",
        "* **dropoff_latitude**: Latitud en la que el viaje finalizó.\n",
        "* **store_and_fwd_flag**: Indica si la información del viaje se almacenó en una memoria y después se envio al servidor por que no tenía conexión a internet o no. Todas las entradas de datos estan en 'N'.\n",
        "* **trip_duration**: Duración del viaje en segundos.\n",
        "* **dist_meters**: Distancia recorrida en el viaje en metros.\n",
        "* **wait_sec**: Tiempo en segundos en el que el automovil estuvo completamente detenido durante el viaje. (Se usará como medición del tráfico.)"
      ],
      "cell_type": "markdown",
      "metadata": {}
    },
    {
      "source": [
        "## Exploración básica de datos\n",
        "### Hallazgos preliminares encontraros "
      ],
      "cell_type": "markdown",
      "metadata": {}
    },
    {
      "source": [
        "1. ¿El conjunto de datos que tengo realmente me sirve para responder algunas de las preguntas que me planteé?"
      ],
      "cell_type": "markdown",
      "metadata": {}
    },
    {
      "cell_type": "code",
      "execution_count": 50,
      "metadata": {},
      "outputs": [
        {
          "output_type": "stream",
          "name": "stdout",
          "text": [
            "2. ¿Qué tamaño tiene mi conjunto de datos? \n número de filas: 12694 \n número de columnas: 11\n"
          ]
        }
      ],
      "source": [
        "tamaño = data_raw.shape\n",
        "print(f'2. ¿Qué tamaño tiene mi conjunto de datos? \\n número de filas: {tamaño[0]} \\n número de columnas: {tamaño[1]}')"
      ]
    },
    {
      "cell_type": "code",
      "execution_count": 51,
      "metadata": {},
      "outputs": [
        {
          "output_type": "stream",
          "name": "stdout",
          "text": [
            "3. ¿Qué columnas tengo y qué información tengo en cada una de esas columnas? \n \n En total tenemos11 columnas \n \n Index(['vendor_id', 'pickup_datetime', 'dropoff_datetime', 'pickup_longitude',\n       'pickup_latitude', 'dropoff_longitude', 'dropoff_latitude',\n       'store_and_fwd_flag', 'trip_duration', 'dist_meters', 'wait_sec'],\n      dtype='object')\n"
          ]
        }
      ],
      "source": [
        "print(f'3. ¿Qué columnas tengo y qué información tengo en cada una de esas columnas? \\n \\n En total tenemos{tamaño[1]} columnas \\n \\n {data_raw.columns}')"
      ]
    },
    {
      "source": [
        "4. Los nombres que tienen mis columnas, ¿son el nombre más apropiado?\n",
        "\n",
        "Podemos observar que algunos nombres como vendor_id o dist_meters no son los más adecuados por lo que tendremos que usar la conveción apropiada que es snake-case y ajustar sus nombres"
      ],
      "cell_type": "markdown",
      "metadata": {}
    },
    {
      "source": [
        "5. ¿Qué tipos de datos tengo en cada columna? ¿Parecen ser el tipo correcto de datos? ¿O es un tipo de datos \"incorrecto\"?\n",
        "\n"
      ],
      "cell_type": "markdown",
      "metadata": {}
    },
    {
      "cell_type": "code",
      "execution_count": 54,
      "metadata": {},
      "outputs": [
        {
          "output_type": "execute_result",
          "data": {
            "text/plain": [
              "vendor_id              object\n",
              "pickup_datetime        object\n",
              "dropoff_datetime       object\n",
              "pickup_longitude      float64\n",
              "pickup_latitude       float64\n",
              "dropoff_longitude     float64\n",
              "dropoff_latitude      float64\n",
              "store_and_fwd_flag     object\n",
              "trip_duration           int64\n",
              "dist_meters             int64\n",
              "wait_sec                int64\n",
              "dtype: object"
            ]
          },
          "metadata": {},
          "execution_count": 54
        }
      ],
      "source": [
        "data_raw.dtypes"
      ]
    },
    {
      "source": [
        "Las fechas aparecen como object por lo que sera necesario transformar esta variable a un formato de fecha mediante padas"
      ],
      "cell_type": "markdown",
      "metadata": {}
    },
    {
      "source": [
        "6. Si selecciono algunas filas al azar y las observo, ¿estoy obteniendo los datos que debería? ¿O hay datos que parecen estar \"sucios\" o \"incorrectos\"?\n"
      ],
      "cell_type": "markdown",
      "metadata": {}
    },
    {
      "cell_type": "code",
      "execution_count": 58,
      "metadata": {},
      "outputs": [
        {
          "output_type": "execute_result",
          "data": {
            "text/plain": [
              "                     vendor_id      pickup_datetime     dropoff_datetime  \\\n",
              "id                                                                         \n",
              "10013  México DF Taxi de Sitio  2017-06-17 12:54:50  2017-06-17 01:06:10   \n",
              "2162   México DF Taxi de Sitio  2016-11-26 04:18:12  2016-11-27 01:44:36   \n",
              "6102      México DF Taxi Libre  2017-02-23 10:45:49  2017-02-23 11:28:44   \n",
              "11617  México DF Taxi de Sitio  2017-06-18 11:05:49  2017-07-07 09:14:45   \n",
              "2689   México DF Taxi de Sitio  2016-11-02 03:29:32  2016-11-02 03:45:36   \n",
              "\n",
              "       pickup_longitude  pickup_latitude  dropoff_longitude  dropoff_latitude  \\\n",
              "id                                                                              \n",
              "10013        -99.185879        19.433096         -99.203936         19.402451   \n",
              "2162         -99.179558        19.438655         -99.179473         19.438618   \n",
              "6102         -99.236531        19.355038         -99.222888         19.363453   \n",
              "11617        -99.113880        19.324233         -99.100779         19.306939   \n",
              "2689         -99.179585        19.438574         -99.155744         19.418668   \n",
              "\n",
              "      store_and_fwd_flag  trip_duration  dist_meters  wait_sec  \n",
              "id                                                              \n",
              "10013                  N            681         6476       144  \n",
              "2162                   N          77184         2614       321  \n",
              "6102                   N           2575         2473      2174  \n",
              "11617                  N        1591737        32230       189  \n",
              "2689                   N            964         4858       473  "
            ],
            "text/html": "<div>\n<style scoped>\n    .dataframe tbody tr th:only-of-type {\n        vertical-align: middle;\n    }\n\n    .dataframe tbody tr th {\n        vertical-align: top;\n    }\n\n    .dataframe thead th {\n        text-align: right;\n    }\n</style>\n<table border=\"1\" class=\"dataframe\">\n  <thead>\n    <tr style=\"text-align: right;\">\n      <th></th>\n      <th>vendor_id</th>\n      <th>pickup_datetime</th>\n      <th>dropoff_datetime</th>\n      <th>pickup_longitude</th>\n      <th>pickup_latitude</th>\n      <th>dropoff_longitude</th>\n      <th>dropoff_latitude</th>\n      <th>store_and_fwd_flag</th>\n      <th>trip_duration</th>\n      <th>dist_meters</th>\n      <th>wait_sec</th>\n    </tr>\n    <tr>\n      <th>id</th>\n      <th></th>\n      <th></th>\n      <th></th>\n      <th></th>\n      <th></th>\n      <th></th>\n      <th></th>\n      <th></th>\n      <th></th>\n      <th></th>\n      <th></th>\n    </tr>\n  </thead>\n  <tbody>\n    <tr>\n      <td>10013</td>\n      <td>México DF Taxi de Sitio</td>\n      <td>2017-06-17 12:54:50</td>\n      <td>2017-06-17 01:06:10</td>\n      <td>-99.185879</td>\n      <td>19.433096</td>\n      <td>-99.203936</td>\n      <td>19.402451</td>\n      <td>N</td>\n      <td>681</td>\n      <td>6476</td>\n      <td>144</td>\n    </tr>\n    <tr>\n      <td>2162</td>\n      <td>México DF Taxi de Sitio</td>\n      <td>2016-11-26 04:18:12</td>\n      <td>2016-11-27 01:44:36</td>\n      <td>-99.179558</td>\n      <td>19.438655</td>\n      <td>-99.179473</td>\n      <td>19.438618</td>\n      <td>N</td>\n      <td>77184</td>\n      <td>2614</td>\n      <td>321</td>\n    </tr>\n    <tr>\n      <td>6102</td>\n      <td>México DF Taxi Libre</td>\n      <td>2017-02-23 10:45:49</td>\n      <td>2017-02-23 11:28:44</td>\n      <td>-99.236531</td>\n      <td>19.355038</td>\n      <td>-99.222888</td>\n      <td>19.363453</td>\n      <td>N</td>\n      <td>2575</td>\n      <td>2473</td>\n      <td>2174</td>\n    </tr>\n    <tr>\n      <td>11617</td>\n      <td>México DF Taxi de Sitio</td>\n      <td>2017-06-18 11:05:49</td>\n      <td>2017-07-07 09:14:45</td>\n      <td>-99.113880</td>\n      <td>19.324233</td>\n      <td>-99.100779</td>\n      <td>19.306939</td>\n      <td>N</td>\n      <td>1591737</td>\n      <td>32230</td>\n      <td>189</td>\n    </tr>\n    <tr>\n      <td>2689</td>\n      <td>México DF Taxi de Sitio</td>\n      <td>2016-11-02 03:29:32</td>\n      <td>2016-11-02 03:45:36</td>\n      <td>-99.179585</td>\n      <td>19.438574</td>\n      <td>-99.155744</td>\n      <td>19.418668</td>\n      <td>N</td>\n      <td>964</td>\n      <td>4858</td>\n      <td>473</td>\n    </tr>\n  </tbody>\n</table>\n</div>"
          },
          "metadata": {},
          "execution_count": 58
        }
      ],
      "source": [
        "data_raw.sample(5)"
      ]
    },
    {
      "source": [
        "A continuación observamos los siguiente problemas:\n",
        "* **vendor_id**: Se repite el patrón México DF\n",
        "* **store_and_fwd_flag**: No es significativa esta variable ya que siempre marca \"N\" en cada fila\n",
        "* **trip_duration**: Tenemos duraciones de viaje exageradamente grandes\n",
        "* **dist_meters**: Tenemos distacias de viaje exageradamente grandes\n",
        "* **wait_sec**: Tenemos tiempos de espera de viaje exageradamente grandes"
      ],
      "cell_type": "markdown",
      "metadata": {}
    },
    {
      "cell_type": "code",
      "execution_count": null,
      "metadata": {},
      "outputs": [],
      "source": []
    }
  ]
}